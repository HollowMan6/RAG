{
 "cells": [
  {
   "cell_type": "markdown",
   "id": "2dc7f7e7",
   "metadata": {},
   "source": [
    "# Global Search Demo\n",
    "\n",
    "In this demo, we'll step by step analyze MS GraphRAG paper's Graph Index to be persistent into NebulaGraph, and then implement Retrievers over such Graph Index for global and local query tasks."
   ]
  },
  {
   "cell_type": "markdown",
   "id": "a259c8c8",
   "metadata": {},
   "source": [
    "## Graph Data Preparation\n",
    "\n",
    "For this Demo, we leverage the extracted and processed data from the [GraphRAG](https://github.com/microsoft/graphrag) project."
   ]
  },
  {
   "cell_type": "code",
   "execution_count": 1,
   "id": "e5aa8ca5",
   "metadata": {},
   "outputs": [
    {
     "name": "stdout",
     "output_type": "stream",
     "text": [
      "> df_community_reports\n",
      "<class 'pandas.core.frame.DataFrame'>\n",
      "RangeIndex: 6 entries, 0 to 5\n",
      "Data columns (total 10 columns):\n",
      " #   Column             Non-Null Count  Dtype  \n",
      "---  ------             --------------  -----  \n",
      " 0   community          6 non-null      object \n",
      " 1   full_content       6 non-null      object \n",
      " 2   level              6 non-null      int64  \n",
      " 3   rank               6 non-null      float64\n",
      " 4   title              6 non-null      object \n",
      " 5   rank_explanation   6 non-null      object \n",
      " 6   summary            6 non-null      object \n",
      " 7   findings           6 non-null      object \n",
      " 8   full_content_json  6 non-null      object \n",
      " 9   id                 6 non-null      object \n",
      "dtypes: float64(1), int64(1), object(8)\n",
      "memory usage: 612.0+ bytes\n",
      "\n",
      "\n",
      "> df_covariates\n",
      "<class 'pandas.core.frame.DataFrame'>\n",
      "RangeIndex: 89 entries, 0 to 88\n",
      "Data columns (total 16 columns):\n",
      " #   Column             Non-Null Count  Dtype \n",
      "---  ------             --------------  ----- \n",
      " 0   id                 89 non-null     object\n",
      " 1   human_readable_id  89 non-null     object\n",
      " 2   covariate_type     89 non-null     object\n",
      " 3   type               88 non-null     object\n",
      " 4   description        88 non-null     object\n",
      " 5   subject_id         89 non-null     object\n",
      " 6   subject_type       0 non-null      object\n",
      " 7   object_id          88 non-null     object\n",
      " 8   object_type        0 non-null      object\n",
      " 9   status             88 non-null     object\n",
      " 10  start_date         88 non-null     object\n",
      " 11  end_date           88 non-null     object\n",
      " 12  source_text        88 non-null     object\n",
      " 13  text_unit_id       89 non-null     object\n",
      " 14  document_ids       89 non-null     object\n",
      " 15  n_tokens           89 non-null     int64 \n",
      "dtypes: int64(1), object(15)\n",
      "memory usage: 11.3+ KB\n",
      "\n",
      "\n",
      "> df_entities\n",
      "<class 'pandas.core.frame.DataFrame'>\n",
      "RangeIndex: 217 entries, 0 to 216\n",
      "Data columns (total 8 columns):\n",
      " #   Column                 Non-Null Count  Dtype \n",
      "---  ------                 --------------  ----- \n",
      " 0   id                     217 non-null    object\n",
      " 1   name                   217 non-null    object\n",
      " 2   type                   217 non-null    object\n",
      " 3   description            217 non-null    object\n",
      " 4   human_readable_id      217 non-null    int64 \n",
      " 5   graph_embedding        0 non-null      object\n",
      " 6   text_unit_ids          217 non-null    object\n",
      " 7   description_embedding  217 non-null    object\n",
      "dtypes: int64(1), object(7)\n",
      "memory usage: 13.7+ KB\n",
      "\n",
      "\n",
      "> df_nodes\n",
      "<class 'pandas.core.frame.DataFrame'>\n",
      "Index: 434 entries, 0 to 433\n",
      "Data columns (total 15 columns):\n",
      " #   Column             Non-Null Count  Dtype \n",
      "---  ------             --------------  ----- \n",
      " 0   level              434 non-null    int64 \n",
      " 1   title              434 non-null    object\n",
      " 2   type               434 non-null    object\n",
      " 3   description        434 non-null    object\n",
      " 4   source_id          434 non-null    object\n",
      " 5   community          46 non-null     object\n",
      " 6   degree             434 non-null    int64 \n",
      " 7   human_readable_id  434 non-null    int64 \n",
      " 8   id                 434 non-null    object\n",
      " 9   size               434 non-null    int64 \n",
      " 10  graph_embedding    0 non-null      object\n",
      " 11  entity_type        86 non-null     object\n",
      " 12  top_level_node_id  434 non-null    object\n",
      " 13  x                  434 non-null    int64 \n",
      " 14  y                  434 non-null    int64 \n",
      "dtypes: int64(6), object(9)\n",
      "memory usage: 54.2+ KB\n",
      "\n",
      "\n",
      "> df_relationships\n",
      "<class 'pandas.core.frame.DataFrame'>\n",
      "RangeIndex: 276 entries, 0 to 275\n",
      "Data columns (total 10 columns):\n",
      " #   Column             Non-Null Count  Dtype  \n",
      "---  ------             --------------  -----  \n",
      " 0   source             276 non-null    object \n",
      " 1   target             276 non-null    object \n",
      " 2   weight             276 non-null    float64\n",
      " 3   description        276 non-null    object \n",
      " 4   text_unit_ids      276 non-null    object \n",
      " 5   id                 276 non-null    object \n",
      " 6   human_readable_id  276 non-null    object \n",
      " 7   source_degree      276 non-null    int64  \n",
      " 8   target_degree      276 non-null    int64  \n",
      " 9   rank               276 non-null    int64  \n",
      "dtypes: float64(1), int64(3), object(6)\n",
      "memory usage: 21.7+ KB\n",
      "\n",
      "\n",
      "> df_text_units\n",
      "<class 'pandas.core.frame.DataFrame'>\n",
      "RangeIndex: 12 entries, 0 to 11\n",
      "Data columns (total 7 columns):\n",
      " #   Column            Non-Null Count  Dtype \n",
      "---  ------            --------------  ----- \n",
      " 0   id                12 non-null     object\n",
      " 1   text              12 non-null     object\n",
      " 2   n_tokens          12 non-null     int64 \n",
      " 3   document_ids      12 non-null     object\n",
      " 4   entity_ids        12 non-null     object\n",
      " 5   relationship_ids  12 non-null     object\n",
      " 6   covariate_ids     12 non-null     object\n",
      "dtypes: int64(1), object(6)\n",
      "memory usage: 804.0+ bytes\n"
     ]
    }
   ],
   "source": [
    "import pandas as pd\n",
    "\n",
    "df_community_reports = pd.read_parquet(\"https://github.com/microsoft/graphrag/raw/main/examples_notebooks/inputs/operation%20dulce/create_final_community_reports.parquet\")\n",
    "df_covariates = pd.read_parquet(\"https://github.com/microsoft/graphrag/raw/main/examples_notebooks/inputs/operation%20dulce/create_final_covariates.parquet\")\n",
    "df_entities = pd.read_parquet(\"https://github.com/microsoft/graphrag/raw/main/examples_notebooks/inputs/operation%20dulce/create_final_entities.parquet\")\n",
    "df_nodes = pd.read_parquet(\"https://github.com/microsoft/graphrag/raw/main/examples_notebooks/inputs/operation%20dulce/create_final_nodes.parquet\")\n",
    "df_relationships = pd.read_parquet(\"https://github.com/microsoft/graphrag/raw/main/examples_notebooks/inputs/operation%20dulce/create_final_relationships.parquet\")\n",
    "df_text_units = pd.read_parquet(\"https://github.com/microsoft/graphrag/raw/main/examples_notebooks/inputs/operation%20dulce/create_final_text_units.parquet\")\n",
    "\n",
    "print(\"> df_community_reports\")\n",
    "df_community_reports.info()\n",
    "print(\"\\n\\n> df_covariates\")\n",
    "df_covariates.info()\n",
    "print(\"\\n\\n> df_entities\")\n",
    "df_entities.info()\n",
    "print(\"\\n\\n> df_nodes\")\n",
    "df_nodes.info()\n",
    "print(\"\\n\\n> df_relationships\")\n",
    "df_relationships.info()\n",
    "print(\"\\n\\n> df_text_units\")\n",
    "df_text_units.info()"
   ]
  },
  {
   "cell_type": "markdown",
   "id": "9f23a21a",
   "metadata": {},
   "source": [
    "\n",
    "The printout shows the data schema of the extracted data.\n",
    "\n",
    "> df_community_reports\n",
    "\n",
    "```\n",
    "<class 'pandas.core.frame.DataFrame'>\n",
    "RangeIndex: 6 entries, 0 to 5\n",
    "Data columns (total 10 columns):\n",
    " #   Column             Non-Null Count  Dtype  \n",
    "---  ------             --------------  -----  \n",
    " 0   community          6 non-null      object \n",
    " 1   full_content       6 non-null      object \n",
    " 2   level              6 non-null      int64  \n",
    " 3   rank               6 non-null      float64\n",
    " 4   title              6 non-null      object \n",
    " 5   rank_explanation   6 non-null      object \n",
    " 6   summary            6 non-null      object \n",
    " 7   findings           6 non-null      object \n",
    " 8   full_content_json  6 non-null      object \n",
    " 9   id                 6 non-null      object \n",
    "dtypes: float64(1), int64(1), object(8)\n",
    "memory usage: 612.0+ bytes\n",
    "```\n",
    "\n",
    "> df_entities\n",
    "\n",
    "```\n",
    "<class 'pandas.core.frame.DataFrame'>\n",
    "RangeIndex: 217 entries, 0 to 216\n",
    "Data columns (total 8 columns):\n",
    " #   Column                 Non-Null Count  Dtype \n",
    "---  ------                 --------------  ----- \n",
    " 0   id                     217 non-null    object\n",
    " 1   name                   217 non-null    object\n",
    " 2   type                   217 non-null    object\n",
    " 3   description            217 non-null    object\n",
    " 4   human_readable_id      217 non-null    int64 \n",
    " 5   graph_embedding        0 non-null      object\n",
    " 6   text_unit_ids          217 non-null    object\n",
    " 7   description_embedding  217 non-null    object\n",
    "dtypes: int64(1), object(7)\n",
    "memory usage: 13.7+ KB\n",
    "```\n",
    "\n",
    "\n",
    "> df_relationships\n",
    "\n",
    "```\n",
    "<class 'pandas.core.frame.DataFrame'>\n",
    "RangeIndex: 276 entries, 0 to 275\n",
    "Data columns (total 10 columns):\n",
    " #   Column             Non-Null Count  Dtype  \n",
    "---  ------             --------------  -----  \n",
    " 0   source             276 non-null    object \n",
    " 1   target             276 non-null    object \n",
    " 2   weight             276 non-null    float64\n",
    " 3   description        276 non-null    object \n",
    " 4   text_unit_ids      276 non-null    object \n",
    " 5   id                 276 non-null    object \n",
    " 6   human_readable_id  276 non-null    object \n",
    " 7   source_degree      276 non-null    int64  \n",
    " 8   target_degree      276 non-null    int64  \n",
    " 9   rank               276 non-null    int64  \n",
    "dtypes: float64(1), int64(3), object(6)\n",
    "memory usage: 21.7+ KB\n",
    "```\n",
    "\n",
    "> df_text_units\n",
    "\n",
    "```\n",
    "<class 'pandas.core.frame.DataFrame'>\n",
    "RangeIndex: 12 entries, 0 to 11\n",
    "Data columns (total 7 columns):\n",
    " #   Column            Non-Null Count  Dtype \n",
    "---  ------            --------------  ----- \n",
    " 0   id                12 non-null     object\n",
    " 1   text              12 non-null     object\n",
    " 2   n_tokens          12 non-null     int64 \n",
    " 3   document_ids      12 non-null     object\n",
    " 4   entity_ids        12 non-null     object\n",
    " 5   relationship_ids  12 non-null     object\n",
    " 6   covariate_ids     12 non-null     object\n",
    "dtypes: int64(1), object(6)\n",
    "memory usage: 804.0+ bytes\n",
    "```\n"
   ]
  },
  {
   "cell_type": "markdown",
   "id": "60c774f4",
   "metadata": {},
   "source": [
    "### Entity Type Analysis\n",
    "\n",
    "Let's first load the data and see the type distribution."
   ]
  },
  {
   "cell_type": "code",
   "execution_count": 2,
   "id": "adfe206e",
   "metadata": {},
   "outputs": [],
   "source": [
    "import pandas as pd\n",
    "\n",
    "df_entities = pd.read_parquet(\n",
    "    \"https://github.com/microsoft/graphrag/raw/main/examples_notebooks/inputs/operation%20dulce/create_final_entities.parquet\"\n",
    ")"
   ]
  },
  {
   "cell_type": "markdown",
   "id": "8611c536",
   "metadata": {},
   "source": [
    "We can see the data schema of df_entities, and its type distribution, besides the type distribution, we also see the sample data of each type.\n",
    "\n",
    "Then we simply fill the empty type with the guessed type(quite rough)."
   ]
  },
  {
   "cell_type": "code",
   "execution_count": 3,
   "id": "c9ea6335",
   "metadata": {},
   "outputs": [
    {
     "data": {
      "text/markdown": [
       "**Entity Type Distribution**"
      ],
      "text/plain": [
       "<IPython.core.display.Markdown object>"
      ]
     },
     "metadata": {},
     "output_type": "display_data"
    },
    {
     "name": "stdout",
     "output_type": "stream",
     "text": [
      "                          Type  Count                       Sample Name                                    Sample Description  Sample Human Readable ID Sample Text Unit IDs\n",
      "                        PERSON     97                       ALEX MERCER Alex Mercer is a character with a military backgro...                         0               ['0...\n",
      "                       CONCEPT     90         EXTRATERRESTRIAL RESEARCH The study of extraterrestrial life forms and their...                        96               ['2...\n",
      "                                    5    EXTRATERRESTRIAL COMMUNICATION                                                   ...                       101               ['2...\n",
      "                         EVENT      4                  OPERATION: DULCE Operation: Dulce is a secretive mission undertaken...                         5               ['2...\n",
      "                           GEO      4               DULCE MILITARY BASE The Dulce Military Base is a pivotal location in t...                       116               ['6...\n",
      "                     ATTRIBUTE      3                 STRATEGIC MINDSET The approach of carefully considering the broader ...                       172               ['1...\n",
      "                        OBJECT      2                             DRONE A drone is encountered by the team, posing a threa...                       107               ['6...\n",
      "                          ROLE      1               OPERATION OVERSIGHT The responsibility of supervising and directing an...                       176               ['1...\n",
      "EXTRATERRESTRIAL COMMUNICATION      1           OPERATIVE JESS(\"ENTITY\"                                            CONCEPT...                        95               ['2...\n",
      "                          TASK      1            ALIEN CODE DECIPHERING The activity that Dr. Jordan Hayes is focused on w...                       169               ['1...\n",
      "                  ORGANIZATION      1         PARANORMAL MILITARY SQUAD The Paranormal Military Squad is an elite clandest...                         4               ['0...\n",
      "                      STRATEGY      1                 CAUTIOUS APPROACH The strategy employed by Alex Mercer in leading th...                       175               ['1...\n",
      "                         SKILL      1                          ANALYSIS The detailed examination of elements or structure,...                       212               ['e...\n",
      "                      FACILITY      1                    COMMAND CENTER The Command Center is the central hub at Dulce Bas...                       170               ['1...\n",
      "                      ACTIVITY      1 RESPONDING TO ALIEN COMMUNICATION The actions taken by the team to communicate back ...                       198               ['6...\n",
      "                         PLACE      1             SUBTERRANEAN FACILITY An underground complex that houses Dulce Base and ...                       200               ['0...\n",
      "                         TRAIT      1                          AMBITION A strong desire to achieve something, often requir...                       213               ['e...\n",
      "                       PROJECT      1       ALIEN COMMUNICATION PROJECT The collective efforts of the team at Dulce Milita...                       193               ['6...\n",
      "                    PHENOMENON      1                            STORMS Severe weather conditions involving wind, rain, or...                       215               ['e...\n"
     ]
    },
    {
     "data": {
      "text/markdown": [
       "**Visualization of Entity Type Distribution**"
      ],
      "text/plain": [
       "<IPython.core.display.Markdown object>"
      ]
     },
     "metadata": {},
     "output_type": "display_data"
    },
    {
     "data": {
      "image/png": "[encoded data removed]",
      "text/plain": [
       "<Figure size 1200x600 with 1 Axes>"
      ]
     },
     "metadata": {},
     "output_type": "display_data"
    },
    {
     "data": {
      "text/markdown": [
       "**Total Number of Entities**"
      ],
      "text/plain": [
       "<IPython.core.display.Markdown object>"
      ]
     },
     "metadata": {},
     "output_type": "display_data"
    },
    {
     "name": "stdout",
     "output_type": "stream",
     "text": [
      "\n",
      "Total number of entities: 217\n"
     ]
    },
    {
     "data": {
      "text/markdown": [
       "**Entity Type Guessing Function**"
      ],
      "text/plain": [
       "<IPython.core.display.Markdown object>"
      ]
     },
     "metadata": {},
     "output_type": "display_data"
    },
    {
     "data": {
      "text/markdown": [
       "**Applying Entity Type Guessing**"
      ],
      "text/plain": [
       "<IPython.core.display.Markdown object>"
      ]
     },
     "metadata": {},
     "output_type": "display_data"
    },
    {
     "data": {
      "text/markdown": [
       "**Updated Entity Type Distribution**"
      ],
      "text/plain": [
       "<IPython.core.display.Markdown object>"
      ]
     },
     "metadata": {},
     "output_type": "display_data"
    },
    {
     "name": "stdout",
     "output_type": "stream",
     "text": [
      "\n",
      "Updated entity type distribution:\n",
      "type\n",
      "PERSON                            98\n",
      "CONCEPT                           90\n",
      "EVENT                              4\n",
      "MISCELLANEOUS                      4\n",
      "GEO                                4\n",
      "ATTRIBUTE                          3\n",
      "OBJECT                             2\n",
      "PROJECT                            1\n",
      "TRAIT                              1\n",
      "SKILL                              1\n",
      "PLACE                              1\n",
      "ACTIVITY                           1\n",
      "FACILITY                           1\n",
      "ROLE                               1\n",
      "STRATEGY                           1\n",
      "ORGANIZATION                       1\n",
      "TASK                               1\n",
      "EXTRATERRESTRIAL COMMUNICATION     1\n",
      "PHENOMENON                         1\n",
      "Name: count, dtype: int64\n"
     ]
    },
    {
     "data": {
      "text/markdown": [
       "**Visualization of Updated Entity Type Distribution**"
      ],
      "text/plain": [
       "<IPython.core.display.Markdown object>"
      ]
     },
     "metadata": {},
     "output_type": "display_data"
    },
    {
     "data": {
      "image/png": "[encoded data removed]",
      "text/plain": [
       "<Figure size 1200x600 with 1 Axes>"
      ]
     },
     "metadata": {},
     "output_type": "display_data"
    }
   ],
   "source": [
    "## Raw Data Schema\n",
    "\n",
    "#  #   Column                 Non-Null Count  Dtype\n",
    "# ---  ------                 --------------  -----\n",
    "#  0   id                     217 non-null    object\n",
    "#  1   name                   217 non-null    object\n",
    "#  2   type                   217 non-null    object\n",
    "#  3   description            217 non-null    object\n",
    "#  4   human_readable_id      217 non-null    int64\n",
    "#  5   graph_embedding        0 non-null      object\n",
    "#  6   text_unit_ids          217 non-null    object  ----------- For connection to text units\n",
    "#  7   description_embedding  217 non-null    object  ----------- Embedding for description, we don't use it\n",
    "\n",
    "from IPython.display import display, Markdown\n",
    "\n",
    "display(Markdown(\"**Entity Type Distribution**\"))\n",
    "\n",
    "# Get all types of df_entities and their counts\n",
    "type_counts = df_entities[\"type\"].value_counts().sort_values(ascending=False)\n",
    "\n",
    "# Create a DataFrame with type information and sample data\n",
    "type_info = []\n",
    "for entity_type in type_counts.index:\n",
    "    sample = df_entities[df_entities[\"type\"] == entity_type].iloc[0]\n",
    "    type_info.append(\n",
    "        {\n",
    "            \"Type\": entity_type,\n",
    "            \"Count\": type_counts[entity_type],\n",
    "            \"Sample Name\": sample[\"name\"],\n",
    "            \"Sample Description\": sample[\"description\"][:50] + \"...\",\n",
    "            \"Sample Human Readable ID\": sample[\"human_readable_id\"],\n",
    "            \"Sample Text Unit IDs\": str(sample[\"text_unit_ids\"])[:3] + \"...\",\n",
    "        }\n",
    "    )\n",
    "\n",
    "# Create and display the DataFrame\n",
    "df_type_info = pd.DataFrame(type_info)\n",
    "pd.set_option(\"display.max_columns\", None)\n",
    "pd.set_option(\"display.width\", None)\n",
    "print(df_type_info.to_string(index=False))\n",
    "\n",
    "display(Markdown(\"**Visualization of Entity Type Distribution**\"))\n",
    "\n",
    "# Visualize the graph\n",
    "import matplotlib.pyplot as plt\n",
    "import seaborn as sns\n",
    "\n",
    "# Set the seaborn style\n",
    "sns.set_style(\"whitegrid\")\n",
    "\n",
    "# Create a figure and axis\n",
    "fig, ax = plt.subplots(figsize=(12, 6))\n",
    "\n",
    "# Create a bar plot\n",
    "sns.barplot(x=\"Type\", y=\"Count\", data=df_type_info, ax=ax)\n",
    "\n",
    "# Customize the plot\n",
    "ax.set_title(\"Distribution of Entity Types\", fontsize=16)\n",
    "ax.set_xlabel(\"Entity Type\", fontsize=12)\n",
    "ax.set_ylabel(\"Count\", fontsize=12)\n",
    "\n",
    "# Rotate x-axis labels for better readability\n",
    "plt.xticks(rotation=45, ha=\"right\")\n",
    "\n",
    "# Adjust layout to prevent cutting off labels\n",
    "plt.tight_layout()\n",
    "\n",
    "# Show the plot\n",
    "plt.show()\n",
    "\n",
    "display(Markdown(\"**Total Number of Entities**\"))\n",
    "\n",
    "# Print total number of entities\n",
    "total_entities = df_type_info[\"Count\"].sum()\n",
    "print(f\"\\nTotal number of entities: {total_entities}\")\n",
    "\n",
    "display(Markdown(\"**Entity Type Guessing Function**\"))\n",
    "\n",
    "# Function to guess entity type based on name and description\n",
    "def guess_entity_type(row):\n",
    "    name = row[\"name\"].lower()\n",
    "    description = row[\"description\"].lower()\n",
    "\n",
    "    type_keywords = {\n",
    "        \"PERSON\": [\"person\", \"individual\", \"mr\", \"mrs\", \"ms\", \"dr\"],\n",
    "        \"ORGANIZATION\": [\n",
    "            \"company\",\n",
    "            \"organization\",\n",
    "            \"corporation\",\n",
    "            \"agency\",\n",
    "            \"institute\",\n",
    "        ],\n",
    "        \"PLACE\": [\"city\", \"country\", \"place\", \"region\", \"area\"],\n",
    "        \"EVENT\": [\"event\", \"incident\", \"occurrence\", \"happening\"],\n",
    "        \"PRODUCT\": [\"product\", \"item\", \"goods\"],\n",
    "        \"CONCEPT\": [\"concept\", \"idea\", \"theory\", \"principle\"],\n",
    "    }\n",
    "\n",
    "    for entity_type, keywords in type_keywords.items():\n",
    "        # I know, this is a quite rough guess, we will improve it later :-P\n",
    "        if any(keyword in name or keyword in description for keyword in keywords):\n",
    "            return entity_type\n",
    "    return \"MISCELLANEOUS\"  # Default type if no match found\n",
    "\n",
    "\n",
    "display(Markdown(\"**Applying Entity Type Guessing**\"))\n",
    "\n",
    "# Apply the guessing function to rows with empty type or empty string\n",
    "df_entities.loc[\n",
    "    (df_entities[\"type\"].isna()) | (df_entities[\"type\"] == \"\"), \"type\"\n",
    "] = df_entities[(df_entities[\"type\"].isna()) | (df_entities[\"type\"] == \"\")].apply(\n",
    "    guess_entity_type, axis=1\n",
    ")\n",
    "\n",
    "display(Markdown(\"**Updated Entity Type Distribution**\"))\n",
    "\n",
    "# Check the updated type distribution\n",
    "updated_type_counts = df_entities[\"type\"].value_counts()\n",
    "print(\"\\nUpdated entity type distribution:\")\n",
    "print(updated_type_counts)\n",
    "\n",
    "display(Markdown(\"**Visualization of Updated Entity Type Distribution**\"))\n",
    "\n",
    "# Visualize the updated distribution\n",
    "plt.figure(figsize=(12, 6))\n",
    "sns.barplot(x=updated_type_counts.index, y=updated_type_counts.values)\n",
    "plt.title(\"Revised Distribution of Entity Types After Filling Empty Types\")\n",
    "plt.xlabel(\"Entity Type\")\n",
    "plt.ylabel(\"Count\")\n",
    "plt.xticks(rotation=45, ha=\"right\")\n",
    "plt.tight_layout()\n",
    "plt.show()"
   ]
  },
  {
   "cell_type": "code",
   "execution_count": 4,
   "id": "b06fdf49",
   "metadata": {},
   "outputs": [
    {
     "data": {
      "text/html": [
       "<div>\n",
       "<style scoped>\n",
       "    .dataframe tbody tr th:only-of-type {\n",
       "        vertical-align: middle;\n",
       "    }\n",
       "\n",
       "    .dataframe tbody tr th {\n",
       "        vertical-align: top;\n",
       "    }\n",
       "\n",
       "    .dataframe thead th {\n",
       "        text-align: right;\n",
       "    }\n",
       "</style>\n",
       "<table border=\"1\" class=\"dataframe\">\n",
       "  <thead>\n",
       "    <tr style=\"text-align: right;\">\n",
       "      <th></th>\n",
       "      <th>name</th>\n",
       "      <th>description</th>\n",
       "    </tr>\n",
       "  </thead>\n",
       "  <tbody>\n",
       "    <tr>\n",
       "      <th>101</th>\n",
       "      <td>EXTRATERRESTRIAL COMMUNICATION</td>\n",
       "      <td></td>\n",
       "    </tr>\n",
       "    <tr>\n",
       "      <th>102</th>\n",
       "      <td>DULCE BASE</td>\n",
       "      <td>Dulce Base is a top-secret subterranean facili...</td>\n",
       "    </tr>\n",
       "    <tr>\n",
       "      <th>103</th>\n",
       "      <td>PARANORMAL MILITARY SQUAD TEAM</td>\n",
       "      <td>The Paranormal Military Squad Team is a specia...</td>\n",
       "    </tr>\n",
       "    <tr>\n",
       "      <th>159</th>\n",
       "      <td>EXTRATERRESTRIAL SIGNALS</td>\n",
       "      <td></td>\n",
       "    </tr>\n",
       "    <tr>\n",
       "      <th>95</th>\n",
       "      <td>OPERATIVE JESS(\"ENTITY\"</td>\n",
       "      <td>CONCEPT</td>\n",
       "    </tr>\n",
       "  </tbody>\n",
       "</table>\n",
       "</div>"
      ],
      "text/plain": [
       "                               name  \\\n",
       "101  EXTRATERRESTRIAL COMMUNICATION   \n",
       "102                      DULCE BASE   \n",
       "103  PARANORMAL MILITARY SQUAD TEAM   \n",
       "159        EXTRATERRESTRIAL SIGNALS   \n",
       "95          OPERATIVE JESS(\"ENTITY\"   \n",
       "\n",
       "                                           description  \n",
       "101                                                     \n",
       "102  Dulce Base is a top-secret subterranean facili...  \n",
       "103  The Paranormal Military Squad Team is a specia...  \n",
       "159                                                     \n",
       "95                                             CONCEPT  "
      ]
     },
     "execution_count": 4,
     "metadata": {},
     "output_type": "execute_result"
    }
   ],
   "source": [
    "# Let's see all MISCELLANEOUS and EXTRATERRESTRIAL COMMUNICATION items' names and descriptions\n",
    "pd.concat([\n",
    "    df_entities[df_entities['type'] == 'MISCELLANEOUS'][['name', 'description']].head(10),\n",
    "    df_entities[df_entities['type'] == 'EXTRATERRESTRIAL COMMUNICATION'][['name', 'description']].head(10)\n",
    "])\n",
    "\n",
    "# We can see 95: OPERATIVE JESS(\"ENTITY\" CONCEPT... seems like a dirty data, but we will keep it for now.\n",
    "# We will remove it later if it causes trouble."
   ]
  },
  {
   "cell_type": "markdown",
   "id": "ba161fa7",
   "metadata": {},
   "source": [
    "#### Schema Design\n",
    "\n",
    "Now, let's create NebulaGraph DDL to create TAGs per entity type.\n",
    "\n",
    "We just generate the DDL and print it out.\n",
    "\n",
    "```text\n",
    " #   Column                 Non-Null Count  Dtype \n",
    "---  ------                 --------------  ----- \n",
    " 0   id                     217 non-null    object\n",
    " 1   name                   217 non-null    object\n",
    " 2   type                   217 non-null    object\n",
    " 3   description            217 non-null    object\n",
    " 4   human_readable_id      217 non-null    int64 \n",
    " 5   graph_embedding        0 non-null      object\n",
    " 6   text_unit_ids          217 non-null    object\n",
    " 7   description_embedding  217 non-null    object\n",
    "\n",
    "Type       Count  Sample Name             Sample Description                Sample Human Readable ID  Sample Text Unit IDs\n",
    "PERSON        97  ALEX MERCER             Alex Mercer is a character...                            0  ['0...\n",
    "CONCEPT       90  EXTRATERRESTRIAL R...   The study of extraterrestr...                           96  ['2...\n",
    "EVENT          4  OPERATION: DULCE        Operation: Dulce is a secr...                            5  ['2...\n",
    "GEO            4  DULCE MILITARY BASE     The Dulce Military Base is...                          116  ['6...\n",
    "ATTRIBUTE      3  STRATEGIC MINDSET       The approach of carefully ...                          172  ['1...\n",
    "OBJECT         2  DRONE                   A drone is encountered by ...                          107  ['6...\n",
    "ROLE           1  OPERATION OVERSIGHT     The responsibility of supe...                          176  ['1...\n",
    "TASK           1  ALIEN CODE DECIPHERING  The activity that Dr. Jord...                          169  ['1...\n",
    "```\n",
    "\n",
    "We could leverage the multi-tagging feature of NebulaGraph to:\n",
    "\n",
    "- Create TAGs per entity type with its type as TAG name\n",
    "    - properties:\n",
    "        - name\n",
    "        - human_readable_id\n",
    "- Add a meta TAG `__Entity` to all entities to help scope the search namespace, indexing semantic template, etc.\n",
    "    - properties:\n",
    "        - name\n",
    "        - human_readable_id\n",
    "        - type\n",
    "        - description\n",
    "- Vertex ID: `entity_{human_readable_id}`\n",
    "\n",
    "> Also, we could see here the `text_unit_ids` is a list of text unit ids, this will be EDGEs between `entity` and `text_unit`\n",
    ">\n",
    "> Here `text_unit` is no longer a Knowledge-Level Vertex in our Graph Index, but a Meta-Level Vertex, which is the raw Texutal Doc Snippet.\n",
    ">\n",
    "> We will come back to this later.\n",
    "\n",
    "Now, let's create NebulaGraph DDL to create TAGs per entity type."
   ]
  },
  {
   "cell_type": "code",
   "execution_count": 5,
   "id": "272802d8",
   "metadata": {},
   "outputs": [
    {
     "name": "stdout",
     "output_type": "stream",
     "text": [
      "NebulaGraph DDL Statements for Knowledge-Level Graph:\n",
      "CREATE TAG IF NOT EXISTS `__Entity` (name string, human_readable_id int, type string, description string);\n",
      "\n",
      "CREATE TAG IF NOT EXISTS `PERSON` (name string, human_readable_id int);\n",
      "CREATE TAG IF NOT EXISTS `ORGANIZATION` (name string, human_readable_id int);\n",
      "CREATE TAG IF NOT EXISTS `EVENT` (name string, human_readable_id int);\n",
      "CREATE TAG IF NOT EXISTS `EXTRATERRESTRIAL_COMMUNICATION` (name string, human_readable_id int);\n",
      "CREATE TAG IF NOT EXISTS `CONCEPT` (name string, human_readable_id int);\n",
      "CREATE TAG IF NOT EXISTS `MISCELLANEOUS` (name string, human_readable_id int);\n",
      "CREATE TAG IF NOT EXISTS `OBJECT` (name string, human_readable_id int);\n",
      "CREATE TAG IF NOT EXISTS `GEO` (name string, human_readable_id int);\n",
      "CREATE TAG IF NOT EXISTS `TASK` (name string, human_readable_id int);\n",
      "CREATE TAG IF NOT EXISTS `FACILITY` (name string, human_readable_id int);\n",
      "CREATE TAG IF NOT EXISTS `ATTRIBUTE` (name string, human_readable_id int);\n",
      "CREATE TAG IF NOT EXISTS `STRATEGY` (name string, human_readable_id int);\n",
      "CREATE TAG IF NOT EXISTS `ROLE` (name string, human_readable_id int);\n",
      "CREATE TAG IF NOT EXISTS `PROJECT` (name string, human_readable_id int);\n",
      "CREATE TAG IF NOT EXISTS `ACTIVITY` (name string, human_readable_id int);\n",
      "CREATE TAG IF NOT EXISTS `PLACE` (name string, human_readable_id int);\n",
      "CREATE TAG IF NOT EXISTS `SKILL` (name string, human_readable_id int);\n",
      "CREATE TAG IF NOT EXISTS `TRAIT` (name string, human_readable_id int);\n",
      "CREATE TAG IF NOT EXISTS `PHENOMENON` (name string, human_readable_id int);\n",
      "\n"
     ]
    }
   ],
   "source": [
    "# Generate DDL for entity types\n",
    "entity_types = df_entities[\"type\"].unique()\n",
    "\n",
    "ddl_statements = [\n",
    "    \"CREATE TAG IF NOT EXISTS `__Entity` (name string, human_readable_id int, type string, description string);\\n\\n\"\n",
    "]\n",
    "\n",
    "for entity_type in entity_types:\n",
    "    ddl = f\"\"\"CREATE TAG IF NOT EXISTS `{entity_type.replace(' ', '_')}` (name string, human_readable_id int);\n",
    "\"\"\"\n",
    "    ddl_statements.append(ddl)\n",
    "\n",
    "# Print all DDL statements\n",
    "print(\"NebulaGraph DDL Statements for Knowledge-Level Graph:\")\n",
    "print(\"\".join(ddl_statements))"
   ]
  },
  {
   "cell_type": "markdown",
   "id": "3afe2ffe",
   "metadata": {},
   "source": [
    "Before we load the data, we need to persist the data into different tabular ones by TAG, with our desired vertex id and properties fields like:\n",
    "\n",
    "| Vertex ID | Name | Description | Human Readable ID | Type |\n",
    "| --------- | ---- | ----------- | ----------------- | ---- |\n",
    "| entity_0  | ALEX MERCER                    | Alex Mercer is a character with a military backgro... | 0 | PERSON |\n",
    "| entity_1  | EXTRATERRESTRIAL RESEARCH      | The study of extraterrestrial life forms and their... | 1 | CONCEPT |\n",
    "| entity_2  | OPERATION: DULCE               | Operation: Dulce is a secretive mission undertaken... | 2 | EVENT |\n",
    "| entity_3  | DULCE MILITARY BASE            | The Dulce Military Base is a pivotal location in t... | 3 | GEO |\n",
    "| entity_4  | STRATEGIC MINDSET              | The approach of carefully considering the broader ... | 4 | ATTRIBUTE |\n",
    "\n",
    "\n"
   ]
  },
  {
   "cell_type": "code",
   "execution_count": 6,
   "id": "57c61551",
   "metadata": {},
   "outputs": [
    {
     "name": "stdout",
     "output_type": "stream",
     "text": [
      "All TAG CSV files have been created.\n",
      "%ng_load --header --source data/TAG_PERSON.csv --tag __Entity --vid 0 --props 1:name,3:human_readable_id,4:type,2:description --space ms_paper\n",
      "%ng_load --header --source data/TAG_PERSON.csv --tag PERSON --vid 0 --props 1:name,3:human_readable_id --space ms_paper\n",
      "%ng_load --header --source data/TAG_ORGANIZATION.csv --tag __Entity --vid 0 --props 1:name,3:human_readable_id,4:type,2:description --space ms_paper\n",
      "%ng_load --header --source data/TAG_ORGANIZATION.csv --tag ORGANIZATION --vid 0 --props 1:name,3:human_readable_id --space ms_paper\n",
      "%ng_load --header --source data/TAG_EVENT.csv --tag __Entity --vid 0 --props 1:name,3:human_readable_id,4:type,2:description --space ms_paper\n",
      "%ng_load --header --source data/TAG_EVENT.csv --tag EVENT --vid 0 --props 1:name,3:human_readable_id --space ms_paper\n",
      "%ng_load --header --source data/TAG_EXTRATERRESTRIAL_COMMUNICATION.csv --tag __Entity --vid 0 --props 1:name,3:human_readable_id,4:type,2:description --space ms_paper\n",
      "%ng_load --header --source data/TAG_EXTRATERRESTRIAL_COMMUNICATION.csv --tag EXTRATERRESTRIAL_COMMUNICATION --vid 0 --props 1:name,3:human_readable_id --space ms_paper\n",
      "%ng_load --header --source data/TAG_CONCEPT.csv --tag __Entity --vid 0 --props 1:name,3:human_readable_id,4:type,2:description --space ms_paper\n",
      "%ng_load --header --source data/TAG_CONCEPT.csv --tag CONCEPT --vid 0 --props 1:name,3:human_readable_id --space ms_paper\n",
      "%ng_load --header --source data/TAG_MISCELLANEOUS.csv --tag __Entity --vid 0 --props 1:name,3:human_readable_id,4:type,2:description --space ms_paper\n",
      "%ng_load --header --source data/TAG_MISCELLANEOUS.csv --tag MISCELLANEOUS --vid 0 --props 1:name,3:human_readable_id --space ms_paper\n",
      "%ng_load --header --source data/TAG_OBJECT.csv --tag __Entity --vid 0 --props 1:name,3:human_readable_id,4:type,2:description --space ms_paper\n",
      "%ng_load --header --source data/TAG_OBJECT.csv --tag OBJECT --vid 0 --props 1:name,3:human_readable_id --space ms_paper\n",
      "%ng_load --header --source data/TAG_GEO.csv --tag __Entity --vid 0 --props 1:name,3:human_readable_id,4:type,2:description --space ms_paper\n",
      "%ng_load --header --source data/TAG_GEO.csv --tag GEO --vid 0 --props 1:name,3:human_readable_id --space ms_paper\n",
      "%ng_load --header --source data/TAG_TASK.csv --tag __Entity --vid 0 --props 1:name,3:human_readable_id,4:type,2:description --space ms_paper\n",
      "%ng_load --header --source data/TAG_TASK.csv --tag TASK --vid 0 --props 1:name,3:human_readable_id --space ms_paper\n",
      "%ng_load --header --source data/TAG_FACILITY.csv --tag __Entity --vid 0 --props 1:name,3:human_readable_id,4:type,2:description --space ms_paper\n",
      "%ng_load --header --source data/TAG_FACILITY.csv --tag FACILITY --vid 0 --props 1:name,3:human_readable_id --space ms_paper\n",
      "%ng_load --header --source data/TAG_ATTRIBUTE.csv --tag __Entity --vid 0 --props 1:name,3:human_readable_id,4:type,2:description --space ms_paper\n",
      "%ng_load --header --source data/TAG_ATTRIBUTE.csv --tag ATTRIBUTE --vid 0 --props 1:name,3:human_readable_id --space ms_paper\n",
      "%ng_load --header --source data/TAG_STRATEGY.csv --tag __Entity --vid 0 --props 1:name,3:human_readable_id,4:type,2:description --space ms_paper\n",
      "%ng_load --header --source data/TAG_STRATEGY.csv --tag STRATEGY --vid 0 --props 1:name,3:human_readable_id --space ms_paper\n",
      "%ng_load --header --source data/TAG_ROLE.csv --tag __Entity --vid 0 --props 1:name,3:human_readable_id,4:type,2:description --space ms_paper\n",
      "%ng_load --header --source data/TAG_ROLE.csv --tag ROLE --vid 0 --props 1:name,3:human_readable_id --space ms_paper\n",
      "%ng_load --header --source data/TAG_PROJECT.csv --tag __Entity --vid 0 --props 1:name,3:human_readable_id,4:type,2:description --space ms_paper\n",
      "%ng_load --header --source data/TAG_PROJECT.csv --tag PROJECT --vid 0 --props 1:name,3:human_readable_id --space ms_paper\n",
      "%ng_load --header --source data/TAG_ACTIVITY.csv --tag __Entity --vid 0 --props 1:name,3:human_readable_id,4:type,2:description --space ms_paper\n",
      "%ng_load --header --source data/TAG_ACTIVITY.csv --tag ACTIVITY --vid 0 --props 1:name,3:human_readable_id --space ms_paper\n",
      "%ng_load --header --source data/TAG_PLACE.csv --tag __Entity --vid 0 --props 1:name,3:human_readable_id,4:type,2:description --space ms_paper\n",
      "%ng_load --header --source data/TAG_PLACE.csv --tag PLACE --vid 0 --props 1:name,3:human_readable_id --space ms_paper\n",
      "%ng_load --header --source data/TAG_SKILL.csv --tag __Entity --vid 0 --props 1:name,3:human_readable_id,4:type,2:description --space ms_paper\n",
      "%ng_load --header --source data/TAG_SKILL.csv --tag SKILL --vid 0 --props 1:name,3:human_readable_id --space ms_paper\n",
      "%ng_load --header --source data/TAG_TRAIT.csv --tag __Entity --vid 0 --props 1:name,3:human_readable_id,4:type,2:description --space ms_paper\n",
      "%ng_load --header --source data/TAG_TRAIT.csv --tag TRAIT --vid 0 --props 1:name,3:human_readable_id --space ms_paper\n",
      "%ng_load --header --source data/TAG_PHENOMENON.csv --tag __Entity --vid 0 --props 1:name,3:human_readable_id,4:type,2:description --space ms_paper\n",
      "%ng_load --header --source data/TAG_PHENOMENON.csv --tag PHENOMENON --vid 0 --props 1:name,3:human_readable_id --space ms_paper\n"
     ]
    }
   ],
   "source": [
    "# Persist data into multiple csv files named by TAG_{TAG}.csv\n",
    "import pandas as pd\n",
    "import os\n",
    "\n",
    "# Create a directory to store the CSV files\n",
    "os.makedirs(\"data\", exist_ok=True)\n",
    "\n",
    "# Group the dataframe by 'type'\n",
    "grouped = df_entities.groupby(\"type\")\n",
    "\n",
    "# Iterate through each group and save as a separate CSV file\n",
    "for tag, group in grouped:\n",
    "    tag_name = str(tag).replace(\" \", \"_\")\n",
    "\n",
    "    # Create a new dataframe with the desired columns\n",
    "    df_tag = pd.DataFrame(\n",
    "        {\n",
    "            \"Vertex ID\": \"entity_\" + group[\"human_readable_id\"].astype(str),\n",
    "            \"Name\": group[\"name\"].astype(str),\n",
    "            \"Description\": group[\"description\"].astype(str),\n",
    "            \"Human Readable ID\": group[\"human_readable_id\"].astype(int),\n",
    "            \"Type\": tag_name,\n",
    "        }\n",
    "    )\n",
    "\n",
    "    # Save the dataframe as a CSV file\n",
    "    csv_filename = f\"data/TAG_{tag_name}.csv\"\n",
    "    df_tag.to_csv(csv_filename, index=False)\n",
    "    # print(f\"Saved {csv_filename}\")\n",
    "\n",
    "print(\"All TAG CSV files have been created.\")\n",
    "\n",
    "# Print ng_load commands for each TAG file\n",
    "for tag in df_entities[\"type\"].unique():\n",
    "    tag_name = str(tag).replace(\" \", \"_\")\n",
    "    ng_load_command_entity = f\"%ng_load --header --source data/TAG_{tag_name}.csv --tag __Entity --vid 0 --props 1:name,3:human_readable_id,4:type,2:description --space ms_paper\"\n",
    "    ng_load_command_type = f\"%ng_load --header --source data/TAG_{tag_name}.csv --tag {tag_name} --vid 0 --props 1:name,3:human_readable_id --space ms_paper\"\n",
    "    print(ng_load_command_entity)\n",
    "    print(ng_load_command_type)"
   ]
  },
  {
   "cell_type": "markdown",
   "id": "d36c60dc",
   "metadata": {},
   "source": [
    "#### Load Entities Data to NebulaGraph\n",
    "\n",
    "##### Connect to NebulaGraph"
   ]
  },
  {
   "cell_type": "code",
   "execution_count": 7,
   "id": "0310250a",
   "metadata": {},
   "outputs": [
    {
     "name": "stdout",
     "output_type": "stream",
     "text": [
      "Requirement already satisfied: jupyter-nebulagraph in /Users/jiangs5/Documents/RAG/.venv/lib/python3.12/site-packages (0.14.3)\n",
      "Requirement already satisfied: Jinja2 in /Users/jiangs5/Documents/RAG/.venv/lib/python3.12/site-packages (from jupyter-nebulagraph) (3.1.4)\n",
      "Requirement already satisfied: nebula3-python>=3.8.0 in /Users/jiangs5/Documents/RAG/.venv/lib/python3.12/site-packages (from jupyter-nebulagraph) (3.8.2)\n",
      "Requirement already satisfied: pandas in /Users/jiangs5/Documents/RAG/.venv/lib/python3.12/site-packages (from jupyter-nebulagraph) (2.2.2)\n",
      "Requirement already satisfied: tqdm in /Users/jiangs5/Documents/RAG/.venv/lib/python3.12/site-packages (from jupyter-nebulagraph) (4.66.5)\n",
      "Requirement already satisfied: pyvis in /Users/jiangs5/Documents/RAG/.venv/lib/python3.12/site-packages (from jupyter-nebulagraph) (0.3.2)\n",
      "Requirement already satisfied: requests in /Users/jiangs5/Documents/RAG/.venv/lib/python3.12/site-packages (from jupyter-nebulagraph) (2.32.3)\n",
      "Requirement already satisfied: pydantic in /Users/jiangs5/Documents/RAG/.venv/lib/python3.12/site-packages (from jupyter-nebulagraph) (2.9.1)\n",
      "Requirement already satisfied: scipy in /Users/jiangs5/Documents/RAG/.venv/lib/python3.12/site-packages (from jupyter-nebulagraph) (1.14.1)\n",
      "Requirement already satisfied: ipywidgets in /Users/jiangs5/Documents/RAG/.venv/lib/python3.12/site-packages (from jupyter-nebulagraph) (8.1.5)\n",
      "Requirement already satisfied: pyarrow in /Users/jiangs5/Documents/RAG/.venv/lib/python3.12/site-packages (from jupyter-nebulagraph) (17.0.0)\n",
      "Requirement already satisfied: future>=0.18.0 in /Users/jiangs5/Documents/RAG/.venv/lib/python3.12/site-packages (from nebula3-python>=3.8.0->jupyter-nebulagraph) (1.0.0)\n",
      "Requirement already satisfied: httplib2>=0.20.0 in /Users/jiangs5/Documents/RAG/.venv/lib/python3.12/site-packages (from nebula3-python>=3.8.0->jupyter-nebulagraph) (0.22.0)\n",
      "Requirement already satisfied: pytz>=2021.1 in /Users/jiangs5/Documents/RAG/.venv/lib/python3.12/site-packages (from nebula3-python>=3.8.0->jupyter-nebulagraph) (2024.2)\n",
      "Requirement already satisfied: six>=1.16.0 in /Users/jiangs5/Documents/RAG/.venv/lib/python3.12/site-packages (from nebula3-python>=3.8.0->jupyter-nebulagraph) (1.16.0)\n",
      "Requirement already satisfied: httpx>=0.22.0 in /Users/jiangs5/Documents/RAG/.venv/lib/python3.12/site-packages (from httpx[http2]>=0.22.0->nebula3-python>=3.8.0->jupyter-nebulagraph) (0.27.2)\n",
      "Requirement already satisfied: comm>=0.1.3 in /Users/jiangs5/Documents/RAG/.venv/lib/python3.12/site-packages (from ipywidgets->jupyter-nebulagraph) (0.2.2)\n",
      "Requirement already satisfied: ipython>=6.1.0 in /Users/jiangs5/Documents/RAG/.venv/lib/python3.12/site-packages (from ipywidgets->jupyter-nebulagraph) (8.27.0)\n",
      "Requirement already satisfied: traitlets>=4.3.1 in /Users/jiangs5/Documents/RAG/.venv/lib/python3.12/site-packages (from ipywidgets->jupyter-nebulagraph) (5.14.3)\n",
      "Requirement already satisfied: widgetsnbextension~=4.0.12 in /Users/jiangs5/Documents/RAG/.venv/lib/python3.12/site-packages (from ipywidgets->jupyter-nebulagraph) (4.0.13)\n",
      "Requirement already satisfied: jupyterlab-widgets~=3.0.12 in /Users/jiangs5/Documents/RAG/.venv/lib/python3.12/site-packages (from ipywidgets->jupyter-nebulagraph) (3.0.13)\n",
      "Requirement already satisfied: MarkupSafe>=2.0 in /Users/jiangs5/Documents/RAG/.venv/lib/python3.12/site-packages (from Jinja2->jupyter-nebulagraph) (2.1.5)\n",
      "Requirement already satisfied: numpy>=1.26.0 in /Users/jiangs5/Documents/RAG/.venv/lib/python3.12/site-packages (from pandas->jupyter-nebulagraph) (1.26.4)\n",
      "Requirement already satisfied: python-dateutil>=2.8.2 in /Users/jiangs5/Documents/RAG/.venv/lib/python3.12/site-packages (from pandas->jupyter-nebulagraph) (2.9.0.post0)\n",
      "Requirement already satisfied: tzdata>=2022.7 in /Users/jiangs5/Documents/RAG/.venv/lib/python3.12/site-packages (from pandas->jupyter-nebulagraph) (2024.1)\n",
      "Requirement already satisfied: annotated-types>=0.6.0 in /Users/jiangs5/Documents/RAG/.venv/lib/python3.12/site-packages (from pydantic->jupyter-nebulagraph) (0.7.0)\n",
      "Requirement already satisfied: pydantic-core==2.23.3 in /Users/jiangs5/Documents/RAG/.venv/lib/python3.12/site-packages (from pydantic->jupyter-nebulagraph) (2.23.3)\n",
      "Requirement already satisfied: typing-extensions>=4.6.1 in /Users/jiangs5/Documents/RAG/.venv/lib/python3.12/site-packages (from pydantic->jupyter-nebulagraph) (4.12.2)\n",
      "Requirement already satisfied: jsonpickle>=1.4.1 in /Users/jiangs5/Documents/RAG/.venv/lib/python3.12/site-packages (from pyvis->jupyter-nebulagraph) (3.3.0)\n",
      "Requirement already satisfied: networkx>=1.11 in /Users/jiangs5/Documents/RAG/.venv/lib/python3.12/site-packages (from pyvis->jupyter-nebulagraph) (3.3)\n",
      "Requirement already satisfied: charset-normalizer<4,>=2 in /Users/jiangs5/Documents/RAG/.venv/lib/python3.12/site-packages (from requests->jupyter-nebulagraph) (3.3.2)\n",
      "Requirement already satisfied: idna<4,>=2.5 in /Users/jiangs5/Documents/RAG/.venv/lib/python3.12/site-packages (from requests->jupyter-nebulagraph) (3.8)\n",
      "Requirement already satisfied: urllib3<3,>=1.21.1 in /Users/jiangs5/Documents/RAG/.venv/lib/python3.12/site-packages (from requests->jupyter-nebulagraph) (2.2.2)\n",
      "Requirement already satisfied: certifi>=2017.4.17 in /Users/jiangs5/Documents/RAG/.venv/lib/python3.12/site-packages (from requests->jupyter-nebulagraph) (2024.8.30)\n",
      "Requirement already satisfied: pyparsing!=3.0.0,!=3.0.1,!=3.0.2,!=3.0.3,<4,>=2.4.2 in /Users/jiangs5/Documents/RAG/.venv/lib/python3.12/site-packages (from httplib2>=0.20.0->nebula3-python>=3.8.0->jupyter-nebulagraph) (3.1.4)\n",
      "Requirement already satisfied: anyio in /Users/jiangs5/Documents/RAG/.venv/lib/python3.12/site-packages (from httpx>=0.22.0->httpx[http2]>=0.22.0->nebula3-python>=3.8.0->jupyter-nebulagraph) (4.4.0)\n",
      "Requirement already satisfied: httpcore==1.* in /Users/jiangs5/Documents/RAG/.venv/lib/python3.12/site-packages (from httpx>=0.22.0->httpx[http2]>=0.22.0->nebula3-python>=3.8.0->jupyter-nebulagraph) (1.0.5)\n",
      "Requirement already satisfied: sniffio in /Users/jiangs5/Documents/RAG/.venv/lib/python3.12/site-packages (from httpx>=0.22.0->httpx[http2]>=0.22.0->nebula3-python>=3.8.0->jupyter-nebulagraph) (1.3.1)\n",
      "Requirement already satisfied: h11<0.15,>=0.13 in /Users/jiangs5/Documents/RAG/.venv/lib/python3.12/site-packages (from httpcore==1.*->httpx>=0.22.0->httpx[http2]>=0.22.0->nebula3-python>=3.8.0->jupyter-nebulagraph) (0.14.0)\n",
      "Requirement already satisfied: h2<5,>=3 in /Users/jiangs5/Documents/RAG/.venv/lib/python3.12/site-packages (from httpx[http2]>=0.22.0->nebula3-python>=3.8.0->jupyter-nebulagraph) (4.1.0)\n",
      "Requirement already satisfied: decorator in /Users/jiangs5/Documents/RAG/.venv/lib/python3.12/site-packages (from ipython>=6.1.0->ipywidgets->jupyter-nebulagraph) (5.1.1)\n",
      "Requirement already satisfied: jedi>=0.16 in /Users/jiangs5/Documents/RAG/.venv/lib/python3.12/site-packages (from ipython>=6.1.0->ipywidgets->jupyter-nebulagraph) (0.19.1)\n",
      "Requirement already satisfied: matplotlib-inline in /Users/jiangs5/Documents/RAG/.venv/lib/python3.12/site-packages (from ipython>=6.1.0->ipywidgets->jupyter-nebulagraph) (0.1.7)\n",
      "Requirement already satisfied: prompt-toolkit<3.1.0,>=3.0.41 in /Users/jiangs5/Documents/RAG/.venv/lib/python3.12/site-packages (from ipython>=6.1.0->ipywidgets->jupyter-nebulagraph) (3.0.47)\n",
      "Requirement already satisfied: pygments>=2.4.0 in /Users/jiangs5/Documents/RAG/.venv/lib/python3.12/site-packages (from ipython>=6.1.0->ipywidgets->jupyter-nebulagraph) (2.18.0)\n",
      "Requirement already satisfied: stack-data in /Users/jiangs5/Documents/RAG/.venv/lib/python3.12/site-packages (from ipython>=6.1.0->ipywidgets->jupyter-nebulagraph) (0.6.3)\n",
      "Requirement already satisfied: pexpect>4.3 in /Users/jiangs5/Documents/RAG/.venv/lib/python3.12/site-packages (from ipython>=6.1.0->ipywidgets->jupyter-nebulagraph) (4.9.0)\n",
      "Requirement already satisfied: hyperframe<7,>=6.0 in /Users/jiangs5/Documents/RAG/.venv/lib/python3.12/site-packages (from h2<5,>=3->httpx[http2]>=0.22.0->nebula3-python>=3.8.0->jupyter-nebulagraph) (6.0.1)\n",
      "Requirement already satisfied: hpack<5,>=4.0 in /Users/jiangs5/Documents/RAG/.venv/lib/python3.12/site-packages (from h2<5,>=3->httpx[http2]>=0.22.0->nebula3-python>=3.8.0->jupyter-nebulagraph) (4.0.0)\n",
      "Requirement already satisfied: parso<0.9.0,>=0.8.3 in /Users/jiangs5/Documents/RAG/.venv/lib/python3.12/site-packages (from jedi>=0.16->ipython>=6.1.0->ipywidgets->jupyter-nebulagraph) (0.8.4)\n",
      "Requirement already satisfied: ptyprocess>=0.5 in /Users/jiangs5/Documents/RAG/.venv/lib/python3.12/site-packages (from pexpect>4.3->ipython>=6.1.0->ipywidgets->jupyter-nebulagraph) (0.7.0)\n",
      "Requirement already satisfied: wcwidth in /Users/jiangs5/Documents/RAG/.venv/lib/python3.12/site-packages (from prompt-toolkit<3.1.0,>=3.0.41->ipython>=6.1.0->ipywidgets->jupyter-nebulagraph) (0.2.13)\n",
      "Requirement already satisfied: executing>=1.2.0 in /Users/jiangs5/Documents/RAG/.venv/lib/python3.12/site-packages (from stack-data->ipython>=6.1.0->ipywidgets->jupyter-nebulagraph) (2.1.0)\n",
      "Requirement already satisfied: asttokens>=2.1.0 in /Users/jiangs5/Documents/RAG/.venv/lib/python3.12/site-packages (from stack-data->ipython>=6.1.0->ipywidgets->jupyter-nebulagraph) (2.4.1)\n",
      "Requirement already satisfied: pure-eval in /Users/jiangs5/Documents/RAG/.venv/lib/python3.12/site-packages (from stack-data->ipython>=6.1.0->ipywidgets->jupyter-nebulagraph) (0.2.3)\n",
      "Note: you may need to restart the kernel to use updated packages.\n",
      "\u001b[1;3;38;2;0;135;107m[OK] Connection Pool Created\u001b[0m\n"
     ]
    },
    {
     "data": {
      "text/html": [
       "<div>\n",
       "<style scoped>\n",
       "    .dataframe tbody tr th:only-of-type {\n",
       "        vertical-align: middle;\n",
       "    }\n",
       "\n",
       "    .dataframe tbody tr th {\n",
       "        vertical-align: top;\n",
       "    }\n",
       "\n",
       "    .dataframe thead th {\n",
       "        text-align: right;\n",
       "    }\n",
       "</style>\n",
       "<table border=\"1\" class=\"dataframe\">\n",
       "  <thead>\n",
       "    <tr style=\"text-align: right;\">\n",
       "      <th></th>\n",
       "      <th>Name</th>\n",
       "    </tr>\n",
       "  </thead>\n",
       "  <tbody>\n",
       "    <tr>\n",
       "      <th>0</th>\n",
       "      <td>demo_basketballplayer</td>\n",
       "    </tr>\n",
       "    <tr>\n",
       "      <th>1</th>\n",
       "      <td>ms_paper</td>\n",
       "    </tr>\n",
       "  </tbody>\n",
       "</table>\n",
       "</div>"
      ],
      "text/plain": [
       "                    Name\n",
       "0  demo_basketballplayer\n",
       "1               ms_paper"
      ]
     },
     "execution_count": 7,
     "metadata": {},
     "output_type": "execute_result"
    }
   ],
   "source": [
    "%pip install jupyter-nebulagraph\n",
    "%load_ext ngql\n",
    "%ngql --address 127.0.0.1 --port 9669 --user root --password nebula"
   ]
  },
  {
   "cell_type": "markdown",
   "id": "94d463c7",
   "metadata": {},
   "source": [
    "##### Create Space"
   ]
  },
  {
   "cell_type": "code",
   "execution_count": 8,
   "id": "b6a07de4",
   "metadata": {},
   "outputs": [
    {
     "data": {
      "text/html": [
       "<div>\n",
       "<style scoped>\n",
       "    .dataframe tbody tr th:only-of-type {\n",
       "        vertical-align: middle;\n",
       "    }\n",
       "\n",
       "    .dataframe tbody tr th {\n",
       "        vertical-align: top;\n",
       "    }\n",
       "\n",
       "    .dataframe thead th {\n",
       "        text-align: right;\n",
       "    }\n",
       "</style>\n",
       "<table border=\"1\" class=\"dataframe\">\n",
       "  <thead>\n",
       "    <tr style=\"text-align: right;\">\n",
       "      <th></th>\n",
       "    </tr>\n",
       "  </thead>\n",
       "  <tbody>\n",
       "  </tbody>\n",
       "</table>\n",
       "</div>"
      ],
      "text/plain": [
       "Empty DataFrame\n",
       "Columns: []\n",
       "Index: []"
      ]
     },
     "execution_count": 8,
     "metadata": {},
     "output_type": "execute_result"
    }
   ],
   "source": [
    "%ngql CREATE SPACE IF NOT EXISTS ms_paper (partition_num=1, replica_factor=1, vid_type=FIXED_STRING(128));"
   ]
  },
  {
   "cell_type": "code",
   "execution_count": 9,
   "id": "83a32f2a",
   "metadata": {},
   "outputs": [
    {
     "data": {
      "text/html": [
       "<div>\n",
       "<style scoped>\n",
       "    .dataframe tbody tr th:only-of-type {\n",
       "        vertical-align: middle;\n",
       "    }\n",
       "\n",
       "    .dataframe tbody tr th {\n",
       "        vertical-align: top;\n",
       "    }\n",
       "\n",
       "    .dataframe thead th {\n",
       "        text-align: right;\n",
       "    }\n",
       "</style>\n",
       "<table border=\"1\" class=\"dataframe\">\n",
       "  <thead>\n",
       "    <tr style=\"text-align: right;\">\n",
       "      <th></th>\n",
       "    </tr>\n",
       "  </thead>\n",
       "  <tbody>\n",
       "  </tbody>\n",
       "</table>\n",
       "</div>"
      ],
      "text/plain": [
       "Empty DataFrame\n",
       "Columns: []\n",
       "Index: []"
      ]
     },
     "execution_count": 9,
     "metadata": {},
     "output_type": "execute_result"
    }
   ],
   "source": [
    "!sleep 20\n",
    "%ngql USE ms_paper"
   ]
  },
  {
   "cell_type": "markdown",
   "id": "65b4eacb",
   "metadata": {},
   "source": [
    "##### Create TAGs"
   ]
  },
  {
   "cell_type": "code",
   "execution_count": 10,
   "id": "8b14c5eb",
   "metadata": {},
   "outputs": [
    {
     "data": {
      "text/html": [
       "<div>\n",
       "<style scoped>\n",
       "    .dataframe tbody tr th:only-of-type {\n",
       "        vertical-align: middle;\n",
       "    }\n",
       "\n",
       "    .dataframe tbody tr th {\n",
       "        vertical-align: top;\n",
       "    }\n",
       "\n",
       "    .dataframe thead th {\n",
       "        text-align: right;\n",
       "    }\n",
       "</style>\n",
       "<table border=\"1\" class=\"dataframe\">\n",
       "  <thead>\n",
       "    <tr style=\"text-align: right;\">\n",
       "      <th></th>\n",
       "    </tr>\n",
       "  </thead>\n",
       "  <tbody>\n",
       "  </tbody>\n",
       "</table>\n",
       "</div>"
      ],
      "text/plain": [
       "Empty DataFrame\n",
       "Columns: []\n",
       "Index: []"
      ]
     },
     "execution_count": 10,
     "metadata": {},
     "output_type": "execute_result"
    }
   ],
   "source": [
    "%%ngql\n",
    "\n",
    "CREATE TAG IF NOT EXISTS `__Entity` (name string, human_readable_id int, type string, description string);\n",
    "\n",
    "CREATE TAG IF NOT EXISTS `PERSON` (name string, human_readable_id int);\n",
    "CREATE TAG IF NOT EXISTS `ORGANIZATION` (name string, human_readable_id int);\n",
    "CREATE TAG IF NOT EXISTS `EVENT` (name string, human_readable_id int);\n",
    "CREATE TAG IF NOT EXISTS `EXTRATERRESTRIAL_COMMUNICATION` (name string, human_readable_id int);\n",
    "CREATE TAG IF NOT EXISTS `CONCEPT` (name string, human_readable_id int);\n",
    "CREATE TAG IF NOT EXISTS `MISCELLANEOUS` (name string, human_readable_id int);\n",
    "CREATE TAG IF NOT EXISTS `OBJECT` (name string, human_readable_id int);\n",
    "CREATE TAG IF NOT EXISTS `GEO` (name string, human_readable_id int);\n",
    "CREATE TAG IF NOT EXISTS `TASK` (name string, human_readable_id int);\n",
    "CREATE TAG IF NOT EXISTS `FACILITY` (name string, human_readable_id int);\n",
    "CREATE TAG IF NOT EXISTS `ATTRIBUTE` (name string, human_readable_id int);\n",
    "CREATE TAG IF NOT EXISTS `STRATEGY` (name string, human_readable_id int);\n",
    "CREATE TAG IF NOT EXISTS `ROLE` (name string, human_readable_id int);\n",
    "CREATE TAG IF NOT EXISTS `PROJECT` (name string, human_readable_id int);\n",
    "CREATE TAG IF NOT EXISTS `ACTIVITY` (name string, human_readable_id int);\n",
    "CREATE TAG IF NOT EXISTS `PLACE` (name string, human_readable_id int);\n",
    "CREATE TAG IF NOT EXISTS `SKILL` (name string, human_readable_id int);\n",
    "CREATE TAG IF NOT EXISTS `TRAIT` (name string, human_readable_id int);\n",
    "CREATE TAG IF NOT EXISTS `PHENOMENON` (name string, human_readable_id int);\n"
   ]
  },
  {
   "cell_type": "code",
   "execution_count": 11,
   "id": "977134ca",
   "metadata": {},
   "outputs": [
    {
     "data": {
      "text/html": [
       "<div>\n",
       "<style scoped>\n",
       "    .dataframe tbody tr th:only-of-type {\n",
       "        vertical-align: middle;\n",
       "    }\n",
       "\n",
       "    .dataframe tbody tr th {\n",
       "        vertical-align: top;\n",
       "    }\n",
       "\n",
       "    .dataframe thead th {\n",
       "        text-align: right;\n",
       "    }\n",
       "</style>\n",
       "<table border=\"1\" class=\"dataframe\">\n",
       "  <thead>\n",
       "    <tr style=\"text-align: right;\">\n",
       "      <th></th>\n",
       "      <th>Name</th>\n",
       "    </tr>\n",
       "  </thead>\n",
       "  <tbody>\n",
       "    <tr>\n",
       "      <th>0</th>\n",
       "      <td>ACTIVITY</td>\n",
       "    </tr>\n",
       "    <tr>\n",
       "      <th>1</th>\n",
       "      <td>ATTRIBUTE</td>\n",
       "    </tr>\n",
       "    <tr>\n",
       "      <th>2</th>\n",
       "      <td>CONCEPT</td>\n",
       "    </tr>\n",
       "    <tr>\n",
       "      <th>3</th>\n",
       "      <td>EVENT</td>\n",
       "    </tr>\n",
       "    <tr>\n",
       "      <th>4</th>\n",
       "      <td>EXTRATERRESTRIAL_COMMUNICATION</td>\n",
       "    </tr>\n",
       "    <tr>\n",
       "      <th>5</th>\n",
       "      <td>FACILITY</td>\n",
       "    </tr>\n",
       "    <tr>\n",
       "      <th>6</th>\n",
       "      <td>GEO</td>\n",
       "    </tr>\n",
       "    <tr>\n",
       "      <th>7</th>\n",
       "      <td>MISCELLANEOUS</td>\n",
       "    </tr>\n",
       "    <tr>\n",
       "      <th>8</th>\n",
       "      <td>OBJECT</td>\n",
       "    </tr>\n",
       "    <tr>\n",
       "      <th>9</th>\n",
       "      <td>ORGANIZATION</td>\n",
       "    </tr>\n",
       "    <tr>\n",
       "      <th>10</th>\n",
       "      <td>PERSON</td>\n",
       "    </tr>\n",
       "    <tr>\n",
       "      <th>11</th>\n",
       "      <td>PHENOMENON</td>\n",
       "    </tr>\n",
       "    <tr>\n",
       "      <th>12</th>\n",
       "      <td>PLACE</td>\n",
       "    </tr>\n",
       "    <tr>\n",
       "      <th>13</th>\n",
       "      <td>PROJECT</td>\n",
       "    </tr>\n",
       "    <tr>\n",
       "      <th>14</th>\n",
       "      <td>ROLE</td>\n",
       "    </tr>\n",
       "    <tr>\n",
       "      <th>15</th>\n",
       "      <td>SKILL</td>\n",
       "    </tr>\n",
       "    <tr>\n",
       "      <th>16</th>\n",
       "      <td>STRATEGY</td>\n",
       "    </tr>\n",
       "    <tr>\n",
       "      <th>17</th>\n",
       "      <td>TASK</td>\n",
       "    </tr>\n",
       "    <tr>\n",
       "      <th>18</th>\n",
       "      <td>TRAIT</td>\n",
       "    </tr>\n",
       "    <tr>\n",
       "      <th>19</th>\n",
       "      <td>__Entity</td>\n",
       "    </tr>\n",
       "  </tbody>\n",
       "</table>\n",
       "</div>"
      ],
      "text/plain": [
       "                              Name\n",
       "0                         ACTIVITY\n",
       "1                        ATTRIBUTE\n",
       "2                          CONCEPT\n",
       "3                            EVENT\n",
       "4   EXTRATERRESTRIAL_COMMUNICATION\n",
       "5                         FACILITY\n",
       "6                              GEO\n",
       "7                    MISCELLANEOUS\n",
       "8                           OBJECT\n",
       "9                     ORGANIZATION\n",
       "10                          PERSON\n",
       "11                      PHENOMENON\n",
       "12                           PLACE\n",
       "13                         PROJECT\n",
       "14                            ROLE\n",
       "15                           SKILL\n",
       "16                        STRATEGY\n",
       "17                            TASK\n",
       "18                           TRAIT\n",
       "19                        __Entity"
      ]
     },
     "execution_count": 11,
     "metadata": {},
     "output_type": "execute_result"
    }
   ],
   "source": [
    "!sleep 20\n",
    "%ngql SHOW TAGS;"
   ]
  },
  {
   "cell_type": "code",
   "execution_count": 12,
   "id": "d587b59d",
   "metadata": {},
   "outputs": [
    {
     "name": "stdout",
     "output_type": "stream",
     "text": [
      "\u001b[1;3;38;2;0;120;215m[INFO] Parsed 98 vertices 'ms_paper' for tag '__Entity' in memory\u001b[0m\n"
     ]
    },
    {
     "data": {
      "application/vnd.jupyter.widget-view+json": {
       "model_id": "4b8f35ce3b034f63ab64a93339d19e9a",
       "version_major": 2,
       "version_minor": 0
      },
      "text/plain": [
       "Loading Vertices:   0%|          | 0/1 [00:00<?, ?it/s]"
      ]
     },
     "metadata": {},
     "output_type": "display_data"
    },
    {
     "name": "stdout",
     "output_type": "stream",
     "text": [
      "Loaded 98 of 98 vertices\n",
      "\u001b[1;3;38;2;0;135;107m[INFO] Successfully loaded 98 vertices 'ms_paper' for tag '__Entity'\u001b[0m\n",
      "\u001b[1;3;38;2;0;120;215m[INFO] Parsed 98 vertices 'ms_paper' for tag 'PERSON' in memory\u001b[0m\n"
     ]
    },
    {
     "data": {
      "application/vnd.jupyter.widget-view+json": {
       "model_id": "2a1159b1baad4e929080fe0d148c0a05",
       "version_major": 2,
       "version_minor": 0
      },
      "text/plain": [
       "Loading Vertices:   0%|          | 0/1 [00:00<?, ?it/s]"
      ]
     },
     "metadata": {},
     "output_type": "display_data"
    },
    {
     "name": "stdout",
     "output_type": "stream",
     "text": [
      "Loaded 98 of 98 vertices\n",
      "\u001b[1;3;38;2;0;135;107m[INFO] Successfully loaded 98 vertices 'ms_paper' for tag 'PERSON'\u001b[0m\n",
      "\u001b[1;3;38;2;0;120;215m[INFO] Parsed 1 vertices 'ms_paper' for tag '__Entity' in memory\u001b[0m\n"
     ]
    },
    {
     "data": {
      "application/vnd.jupyter.widget-view+json": {
       "model_id": "57d0b6c717c840809b22d0e20e3adfa8",
       "version_major": 2,
       "version_minor": 0
      },
      "text/plain": [
       "Loading Vertices:   0%|          | 0/1 [00:00<?, ?it/s]"
      ]
     },
     "metadata": {},
     "output_type": "display_data"
    },
    {
     "name": "stdout",
     "output_type": "stream",
     "text": [
      "Loaded 1 of 1 vertices\n",
      "\u001b[1;3;38;2;0;135;107m[INFO] Successfully loaded 1 vertices 'ms_paper' for tag '__Entity'\u001b[0m\n",
      "\u001b[1;3;38;2;0;120;215m[INFO] Parsed 1 vertices 'ms_paper' for tag 'ORGANIZATION' in memory\u001b[0m\n"
     ]
    },
    {
     "data": {
      "application/vnd.jupyter.widget-view+json": {
       "model_id": "dc26abfa0b4541e09a5ff445909f9355",
       "version_major": 2,
       "version_minor": 0
      },
      "text/plain": [
       "Loading Vertices:   0%|          | 0/1 [00:00<?, ?it/s]"
      ]
     },
     "metadata": {},
     "output_type": "display_data"
    },
    {
     "name": "stdout",
     "output_type": "stream",
     "text": [
      "Loaded 1 of 1 vertices\n",
      "\u001b[1;3;38;2;0;135;107m[INFO] Successfully loaded 1 vertices 'ms_paper' for tag 'ORGANIZATION'\u001b[0m\n",
      "\u001b[1;3;38;2;0;120;215m[INFO] Parsed 4 vertices 'ms_paper' for tag '__Entity' in memory\u001b[0m\n"
     ]
    },
    {
     "data": {
      "application/vnd.jupyter.widget-view+json": {
       "model_id": "5c876442321b4a4783352a69fe123b4b",
       "version_major": 2,
       "version_minor": 0
      },
      "text/plain": [
       "Loading Vertices:   0%|          | 0/1 [00:00<?, ?it/s]"
      ]
     },
     "metadata": {},
     "output_type": "display_data"
    },
    {
     "name": "stdout",
     "output_type": "stream",
     "text": [
      "Loaded 4 of 4 vertices\n",
      "\u001b[1;3;38;2;0;135;107m[INFO] Successfully loaded 4 vertices 'ms_paper' for tag '__Entity'\u001b[0m\n",
      "\u001b[1;3;38;2;0;120;215m[INFO] Parsed 4 vertices 'ms_paper' for tag 'EVENT' in memory\u001b[0m\n"
     ]
    },
    {
     "data": {
      "application/vnd.jupyter.widget-view+json": {
       "model_id": "603ae1019c7b433b962a08656099f1f2",
       "version_major": 2,
       "version_minor": 0
      },
      "text/plain": [
       "Loading Vertices:   0%|          | 0/1 [00:00<?, ?it/s]"
      ]
     },
     "metadata": {},
     "output_type": "display_data"
    },
    {
     "name": "stdout",
     "output_type": "stream",
     "text": [
      "Loaded 4 of 4 vertices\n",
      "\u001b[1;3;38;2;0;135;107m[INFO] Successfully loaded 4 vertices 'ms_paper' for tag 'EVENT'\u001b[0m\n",
      "\u001b[1;3;38;2;0;120;215m[INFO] Parsed 1 vertices 'ms_paper' for tag '__Entity' in memory\u001b[0m\n"
     ]
    },
    {
     "data": {
      "application/vnd.jupyter.widget-view+json": {
       "model_id": "b3e3214a71ee47ea91dd209f3928db4d",
       "version_major": 2,
       "version_minor": 0
      },
      "text/plain": [
       "Loading Vertices:   0%|          | 0/1 [00:00<?, ?it/s]"
      ]
     },
     "metadata": {},
     "output_type": "display_data"
    },
    {
     "name": "stdout",
     "output_type": "stream",
     "text": [
      "Loaded 1 of 1 vertices\n",
      "\u001b[1;3;38;2;0;135;107m[INFO] Successfully loaded 1 vertices 'ms_paper' for tag '__Entity'\u001b[0m\n",
      "\u001b[1;3;38;2;0;120;215m[INFO] Parsed 1 vertices 'ms_paper' for tag 'EXTRATERRESTRIAL_COMMUNICATION' in memory\u001b[0m\n"
     ]
    },
    {
     "data": {
      "application/vnd.jupyter.widget-view+json": {
       "model_id": "61790d8bdfed4b1a8569a9e5515850e3",
       "version_major": 2,
       "version_minor": 0
      },
      "text/plain": [
       "Loading Vertices:   0%|          | 0/1 [00:00<?, ?it/s]"
      ]
     },
     "metadata": {},
     "output_type": "display_data"
    },
    {
     "name": "stdout",
     "output_type": "stream",
     "text": [
      "Loaded 1 of 1 vertices\n",
      "\u001b[1;3;38;2;0;135;107m[INFO] Successfully loaded 1 vertices 'ms_paper' for tag 'EXTRATERRESTRIAL_COMMUNICATION'\u001b[0m\n",
      "\u001b[1;3;38;2;0;120;215m[INFO] Parsed 90 vertices 'ms_paper' for tag '__Entity' in memory\u001b[0m\n"
     ]
    },
    {
     "data": {
      "application/vnd.jupyter.widget-view+json": {
       "model_id": "0fc9793f76d540caa275010b4dbed9e0",
       "version_major": 2,
       "version_minor": 0
      },
      "text/plain": [
       "Loading Vertices:   0%|          | 0/1 [00:00<?, ?it/s]"
      ]
     },
     "metadata": {},
     "output_type": "display_data"
    },
    {
     "name": "stdout",
     "output_type": "stream",
     "text": [
      "Loaded 90 of 90 vertices\n",
      "\u001b[1;3;38;2;0;135;107m[INFO] Successfully loaded 90 vertices 'ms_paper' for tag '__Entity'\u001b[0m\n",
      "\u001b[1;3;38;2;0;120;215m[INFO] Parsed 90 vertices 'ms_paper' for tag 'CONCEPT' in memory\u001b[0m\n"
     ]
    },
    {
     "data": {
      "application/vnd.jupyter.widget-view+json": {
       "model_id": "045e675d0ab0479e942668f38ab7b51e",
       "version_major": 2,
       "version_minor": 0
      },
      "text/plain": [
       "Loading Vertices:   0%|          | 0/1 [00:00<?, ?it/s]"
      ]
     },
     "metadata": {},
     "output_type": "display_data"
    },
    {
     "name": "stdout",
     "output_type": "stream",
     "text": [
      "Loaded 90 of 90 vertices\n",
      "\u001b[1;3;38;2;0;135;107m[INFO] Successfully loaded 90 vertices 'ms_paper' for tag 'CONCEPT'\u001b[0m\n",
      "\u001b[1;3;38;2;0;120;215m[INFO] Parsed 4 vertices 'ms_paper' for tag '__Entity' in memory\u001b[0m\n"
     ]
    },
    {
     "data": {
      "application/vnd.jupyter.widget-view+json": {
       "model_id": "ad4c44af7c864b34808da9cffb46938d",
       "version_major": 2,
       "version_minor": 0
      },
      "text/plain": [
       "Loading Vertices:   0%|          | 0/1 [00:00<?, ?it/s]"
      ]
     },
     "metadata": {},
     "output_type": "display_data"
    },
    {
     "name": "stdout",
     "output_type": "stream",
     "text": [
      "Loaded 4 of 4 vertices\n",
      "\u001b[1;3;38;2;0;135;107m[INFO] Successfully loaded 4 vertices 'ms_paper' for tag '__Entity'\u001b[0m\n",
      "\u001b[1;3;38;2;0;120;215m[INFO] Parsed 4 vertices 'ms_paper' for tag 'MISCELLANEOUS' in memory\u001b[0m\n"
     ]
    },
    {
     "data": {
      "application/vnd.jupyter.widget-view+json": {
       "model_id": "99c7b14dcd6b41e9b720da5dac16ed42",
       "version_major": 2,
       "version_minor": 0
      },
      "text/plain": [
       "Loading Vertices:   0%|          | 0/1 [00:00<?, ?it/s]"
      ]
     },
     "metadata": {},
     "output_type": "display_data"
    },
    {
     "name": "stdout",
     "output_type": "stream",
     "text": [
      "Loaded 4 of 4 vertices\n",
      "\u001b[1;3;38;2;0;135;107m[INFO] Successfully loaded 4 vertices 'ms_paper' for tag 'MISCELLANEOUS'\u001b[0m\n",
      "\u001b[1;3;38;2;0;120;215m[INFO] Parsed 2 vertices 'ms_paper' for tag '__Entity' in memory\u001b[0m\n"
     ]
    },
    {
     "data": {
      "application/vnd.jupyter.widget-view+json": {
       "model_id": "fe42b46c5de94554966baf8613430a56",
       "version_major": 2,
       "version_minor": 0
      },
      "text/plain": [
       "Loading Vertices:   0%|          | 0/1 [00:00<?, ?it/s]"
      ]
     },
     "metadata": {},
     "output_type": "display_data"
    },
    {
     "name": "stdout",
     "output_type": "stream",
     "text": [
      "Loaded 2 of 2 vertices\n",
      "\u001b[1;3;38;2;0;135;107m[INFO] Successfully loaded 2 vertices 'ms_paper' for tag '__Entity'\u001b[0m\n",
      "\u001b[1;3;38;2;0;120;215m[INFO] Parsed 2 vertices 'ms_paper' for tag 'OBJECT' in memory\u001b[0m\n"
     ]
    },
    {
     "data": {
      "application/vnd.jupyter.widget-view+json": {
       "model_id": "98e0cc82d87543c9a36f48f56c14f463",
       "version_major": 2,
       "version_minor": 0
      },
      "text/plain": [
       "Loading Vertices:   0%|          | 0/1 [00:00<?, ?it/s]"
      ]
     },
     "metadata": {},
     "output_type": "display_data"
    },
    {
     "name": "stdout",
     "output_type": "stream",
     "text": [
      "Loaded 2 of 2 vertices\n",
      "\u001b[1;3;38;2;0;135;107m[INFO] Successfully loaded 2 vertices 'ms_paper' for tag 'OBJECT'\u001b[0m\n",
      "\u001b[1;3;38;2;0;120;215m[INFO] Parsed 4 vertices 'ms_paper' for tag '__Entity' in memory\u001b[0m\n"
     ]
    },
    {
     "data": {
      "application/vnd.jupyter.widget-view+json": {
       "model_id": "656047002e524717ac7d8c87863186af",
       "version_major": 2,
       "version_minor": 0
      },
      "text/plain": [
       "Loading Vertices:   0%|          | 0/1 [00:00<?, ?it/s]"
      ]
     },
     "metadata": {},
     "output_type": "display_data"
    },
    {
     "name": "stdout",
     "output_type": "stream",
     "text": [
      "Loaded 4 of 4 vertices\n",
      "\u001b[1;3;38;2;0;135;107m[INFO] Successfully loaded 4 vertices 'ms_paper' for tag '__Entity'\u001b[0m\n",
      "\u001b[1;3;38;2;0;120;215m[INFO] Parsed 4 vertices 'ms_paper' for tag 'GEO' in memory\u001b[0m\n"
     ]
    },
    {
     "data": {
      "application/vnd.jupyter.widget-view+json": {
       "model_id": "79243dc6df5b44049c5ab355b66a0e46",
       "version_major": 2,
       "version_minor": 0
      },
      "text/plain": [
       "Loading Vertices:   0%|          | 0/1 [00:00<?, ?it/s]"
      ]
     },
     "metadata": {},
     "output_type": "display_data"
    },
    {
     "name": "stdout",
     "output_type": "stream",
     "text": [
      "Loaded 4 of 4 vertices\n",
      "\u001b[1;3;38;2;0;135;107m[INFO] Successfully loaded 4 vertices 'ms_paper' for tag 'GEO'\u001b[0m\n",
      "\u001b[1;3;38;2;0;120;215m[INFO] Parsed 1 vertices 'ms_paper' for tag '__Entity' in memory\u001b[0m\n"
     ]
    },
    {
     "data": {
      "application/vnd.jupyter.widget-view+json": {
       "model_id": "ab332b3c349f4c2daaf3487ab972c8df",
       "version_major": 2,
       "version_minor": 0
      },
      "text/plain": [
       "Loading Vertices:   0%|          | 0/1 [00:00<?, ?it/s]"
      ]
     },
     "metadata": {},
     "output_type": "display_data"
    },
    {
     "name": "stdout",
     "output_type": "stream",
     "text": [
      "Loaded 1 of 1 vertices\n",
      "\u001b[1;3;38;2;0;135;107m[INFO] Successfully loaded 1 vertices 'ms_paper' for tag '__Entity'\u001b[0m\n",
      "\u001b[1;3;38;2;0;120;215m[INFO] Parsed 1 vertices 'ms_paper' for tag 'TASK' in memory\u001b[0m\n"
     ]
    },
    {
     "data": {
      "application/vnd.jupyter.widget-view+json": {
       "model_id": "5db6039b89a544c4bd6dd1381dcae889",
       "version_major": 2,
       "version_minor": 0
      },
      "text/plain": [
       "Loading Vertices:   0%|          | 0/1 [00:00<?, ?it/s]"
      ]
     },
     "metadata": {},
     "output_type": "display_data"
    },
    {
     "name": "stdout",
     "output_type": "stream",
     "text": [
      "Loaded 1 of 1 vertices\n",
      "\u001b[1;3;38;2;0;135;107m[INFO] Successfully loaded 1 vertices 'ms_paper' for tag 'TASK'\u001b[0m\n",
      "\u001b[1;3;38;2;0;120;215m[INFO] Parsed 1 vertices 'ms_paper' for tag '__Entity' in memory\u001b[0m\n"
     ]
    },
    {
     "data": {
      "application/vnd.jupyter.widget-view+json": {
       "model_id": "6fb0abb80486400dab577c3098695ac9",
       "version_major": 2,
       "version_minor": 0
      },
      "text/plain": [
       "Loading Vertices:   0%|          | 0/1 [00:00<?, ?it/s]"
      ]
     },
     "metadata": {},
     "output_type": "display_data"
    },
    {
     "name": "stdout",
     "output_type": "stream",
     "text": [
      "Loaded 1 of 1 vertices\n",
      "\u001b[1;3;38;2;0;135;107m[INFO] Successfully loaded 1 vertices 'ms_paper' for tag '__Entity'\u001b[0m\n",
      "\u001b[1;3;38;2;0;120;215m[INFO] Parsed 1 vertices 'ms_paper' for tag 'FACILITY' in memory\u001b[0m\n"
     ]
    },
    {
     "data": {
      "application/vnd.jupyter.widget-view+json": {
       "model_id": "ac161fda308c490780854ba0e9baec98",
       "version_major": 2,
       "version_minor": 0
      },
      "text/plain": [
       "Loading Vertices:   0%|          | 0/1 [00:00<?, ?it/s]"
      ]
     },
     "metadata": {},
     "output_type": "display_data"
    },
    {
     "name": "stdout",
     "output_type": "stream",
     "text": [
      "Loaded 1 of 1 vertices\n",
      "\u001b[1;3;38;2;0;135;107m[INFO] Successfully loaded 1 vertices 'ms_paper' for tag 'FACILITY'\u001b[0m\n",
      "\u001b[1;3;38;2;0;120;215m[INFO] Parsed 3 vertices 'ms_paper' for tag '__Entity' in memory\u001b[0m\n"
     ]
    },
    {
     "data": {
      "application/vnd.jupyter.widget-view+json": {
       "model_id": "226c91bed6274af89e74689612590b6d",
       "version_major": 2,
       "version_minor": 0
      },
      "text/plain": [
       "Loading Vertices:   0%|          | 0/1 [00:00<?, ?it/s]"
      ]
     },
     "metadata": {},
     "output_type": "display_data"
    },
    {
     "name": "stdout",
     "output_type": "stream",
     "text": [
      "Loaded 3 of 3 vertices\n",
      "\u001b[1;3;38;2;0;135;107m[INFO] Successfully loaded 3 vertices 'ms_paper' for tag '__Entity'\u001b[0m\n",
      "\u001b[1;3;38;2;0;120;215m[INFO] Parsed 3 vertices 'ms_paper' for tag 'ATTRIBUTE' in memory\u001b[0m\n"
     ]
    },
    {
     "data": {
      "application/vnd.jupyter.widget-view+json": {
       "model_id": "f47eb0f73f2147f1b375825e2deb57eb",
       "version_major": 2,
       "version_minor": 0
      },
      "text/plain": [
       "Loading Vertices:   0%|          | 0/1 [00:00<?, ?it/s]"
      ]
     },
     "metadata": {},
     "output_type": "display_data"
    },
    {
     "name": "stdout",
     "output_type": "stream",
     "text": [
      "Loaded 3 of 3 vertices\n",
      "\u001b[1;3;38;2;0;135;107m[INFO] Successfully loaded 3 vertices 'ms_paper' for tag 'ATTRIBUTE'\u001b[0m\n",
      "\u001b[1;3;38;2;0;120;215m[INFO] Parsed 1 vertices 'ms_paper' for tag '__Entity' in memory\u001b[0m\n"
     ]
    },
    {
     "data": {
      "application/vnd.jupyter.widget-view+json": {
       "model_id": "fdb8dd15574f49b2a4fbd5253e3fa222",
       "version_major": 2,
       "version_minor": 0
      },
      "text/plain": [
       "Loading Vertices:   0%|          | 0/1 [00:00<?, ?it/s]"
      ]
     },
     "metadata": {},
     "output_type": "display_data"
    },
    {
     "name": "stdout",
     "output_type": "stream",
     "text": [
      "Loaded 1 of 1 vertices\n",
      "\u001b[1;3;38;2;0;135;107m[INFO] Successfully loaded 1 vertices 'ms_paper' for tag '__Entity'\u001b[0m\n",
      "\u001b[1;3;38;2;0;120;215m[INFO] Parsed 1 vertices 'ms_paper' for tag 'STRATEGY' in memory\u001b[0m\n"
     ]
    },
    {
     "data": {
      "application/vnd.jupyter.widget-view+json": {
       "model_id": "7ee83fd789924e4cbfcedd7d309acf41",
       "version_major": 2,
       "version_minor": 0
      },
      "text/plain": [
       "Loading Vertices:   0%|          | 0/1 [00:00<?, ?it/s]"
      ]
     },
     "metadata": {},
     "output_type": "display_data"
    },
    {
     "name": "stdout",
     "output_type": "stream",
     "text": [
      "Loaded 1 of 1 vertices\n",
      "\u001b[1;3;38;2;0;135;107m[INFO] Successfully loaded 1 vertices 'ms_paper' for tag 'STRATEGY'\u001b[0m\n",
      "\u001b[1;3;38;2;0;120;215m[INFO] Parsed 1 vertices 'ms_paper' for tag '__Entity' in memory\u001b[0m\n"
     ]
    },
    {
     "data": {
      "application/vnd.jupyter.widget-view+json": {
       "model_id": "83c9941ce78e4472885a05c4fc42b86d",
       "version_major": 2,
       "version_minor": 0
      },
      "text/plain": [
       "Loading Vertices:   0%|          | 0/1 [00:00<?, ?it/s]"
      ]
     },
     "metadata": {},
     "output_type": "display_data"
    },
    {
     "name": "stdout",
     "output_type": "stream",
     "text": [
      "Loaded 1 of 1 vertices\n",
      "\u001b[1;3;38;2;0;135;107m[INFO] Successfully loaded 1 vertices 'ms_paper' for tag '__Entity'\u001b[0m\n",
      "\u001b[1;3;38;2;0;120;215m[INFO] Parsed 1 vertices 'ms_paper' for tag 'ROLE' in memory\u001b[0m\n"
     ]
    },
    {
     "data": {
      "application/vnd.jupyter.widget-view+json": {
       "model_id": "accefb8560464fa2aacf821fc2814a6a",
       "version_major": 2,
       "version_minor": 0
      },
      "text/plain": [
       "Loading Vertices:   0%|          | 0/1 [00:00<?, ?it/s]"
      ]
     },
     "metadata": {},
     "output_type": "display_data"
    },
    {
     "name": "stdout",
     "output_type": "stream",
     "text": [
      "Loaded 1 of 1 vertices\n",
      "\u001b[1;3;38;2;0;135;107m[INFO] Successfully loaded 1 vertices 'ms_paper' for tag 'ROLE'\u001b[0m\n",
      "\u001b[1;3;38;2;0;120;215m[INFO] Parsed 1 vertices 'ms_paper' for tag '__Entity' in memory\u001b[0m\n"
     ]
    },
    {
     "data": {
      "application/vnd.jupyter.widget-view+json": {
       "model_id": "aa84fcb4177349f5b27628cc1b9d37dd",
       "version_major": 2,
       "version_minor": 0
      },
      "text/plain": [
       "Loading Vertices:   0%|          | 0/1 [00:00<?, ?it/s]"
      ]
     },
     "metadata": {},
     "output_type": "display_data"
    },
    {
     "name": "stdout",
     "output_type": "stream",
     "text": [
      "Loaded 1 of 1 vertices\n",
      "\u001b[1;3;38;2;0;135;107m[INFO] Successfully loaded 1 vertices 'ms_paper' for tag '__Entity'\u001b[0m\n",
      "\u001b[1;3;38;2;0;120;215m[INFO] Parsed 1 vertices 'ms_paper' for tag 'PROJECT' in memory\u001b[0m\n"
     ]
    },
    {
     "data": {
      "application/vnd.jupyter.widget-view+json": {
       "model_id": "fab8b2ed8839466db50c05875f78ed06",
       "version_major": 2,
       "version_minor": 0
      },
      "text/plain": [
       "Loading Vertices:   0%|          | 0/1 [00:00<?, ?it/s]"
      ]
     },
     "metadata": {},
     "output_type": "display_data"
    },
    {
     "name": "stdout",
     "output_type": "stream",
     "text": [
      "Loaded 1 of 1 vertices\n",
      "\u001b[1;3;38;2;0;135;107m[INFO] Successfully loaded 1 vertices 'ms_paper' for tag 'PROJECT'\u001b[0m\n",
      "\u001b[1;3;38;2;0;120;215m[INFO] Parsed 1 vertices 'ms_paper' for tag '__Entity' in memory\u001b[0m\n"
     ]
    },
    {
     "data": {
      "application/vnd.jupyter.widget-view+json": {
       "model_id": "0c707bd1c91842a2afa3e8aed4314852",
       "version_major": 2,
       "version_minor": 0
      },
      "text/plain": [
       "Loading Vertices:   0%|          | 0/1 [00:00<?, ?it/s]"
      ]
     },
     "metadata": {},
     "output_type": "display_data"
    },
    {
     "name": "stdout",
     "output_type": "stream",
     "text": [
      "Loaded 1 of 1 vertices\n",
      "\u001b[1;3;38;2;0;135;107m[INFO] Successfully loaded 1 vertices 'ms_paper' for tag '__Entity'\u001b[0m\n",
      "\u001b[1;3;38;2;0;120;215m[INFO] Parsed 1 vertices 'ms_paper' for tag 'ACTIVITY' in memory\u001b[0m\n"
     ]
    },
    {
     "data": {
      "application/vnd.jupyter.widget-view+json": {
       "model_id": "5249decac92c40e78792d35e5739c2a0",
       "version_major": 2,
       "version_minor": 0
      },
      "text/plain": [
       "Loading Vertices:   0%|          | 0/1 [00:00<?, ?it/s]"
      ]
     },
     "metadata": {},
     "output_type": "display_data"
    },
    {
     "name": "stdout",
     "output_type": "stream",
     "text": [
      "Loaded 1 of 1 vertices\n",
      "\u001b[1;3;38;2;0;135;107m[INFO] Successfully loaded 1 vertices 'ms_paper' for tag 'ACTIVITY'\u001b[0m\n",
      "\u001b[1;3;38;2;0;120;215m[INFO] Parsed 1 vertices 'ms_paper' for tag '__Entity' in memory\u001b[0m\n"
     ]
    },
    {
     "data": {
      "application/vnd.jupyter.widget-view+json": {
       "model_id": "f1d8cfe29f114ca79805a9de88cfb8dd",
       "version_major": 2,
       "version_minor": 0
      },
      "text/plain": [
       "Loading Vertices:   0%|          | 0/1 [00:00<?, ?it/s]"
      ]
     },
     "metadata": {},
     "output_type": "display_data"
    },
    {
     "name": "stdout",
     "output_type": "stream",
     "text": [
      "Loaded 1 of 1 vertices\n",
      "\u001b[1;3;38;2;0;135;107m[INFO] Successfully loaded 1 vertices 'ms_paper' for tag '__Entity'\u001b[0m\n",
      "\u001b[1;3;38;2;0;120;215m[INFO] Parsed 1 vertices 'ms_paper' for tag 'PLACE' in memory\u001b[0m\n"
     ]
    },
    {
     "data": {
      "application/vnd.jupyter.widget-view+json": {
       "model_id": "167b30c4155740febc03af841cb2ede1",
       "version_major": 2,
       "version_minor": 0
      },
      "text/plain": [
       "Loading Vertices:   0%|          | 0/1 [00:00<?, ?it/s]"
      ]
     },
     "metadata": {},
     "output_type": "display_data"
    },
    {
     "name": "stdout",
     "output_type": "stream",
     "text": [
      "Loaded 1 of 1 vertices\n",
      "\u001b[1;3;38;2;0;135;107m[INFO] Successfully loaded 1 vertices 'ms_paper' for tag 'PLACE'\u001b[0m\n",
      "\u001b[1;3;38;2;0;120;215m[INFO] Parsed 1 vertices 'ms_paper' for tag '__Entity' in memory\u001b[0m\n"
     ]
    },
    {
     "data": {
      "application/vnd.jupyter.widget-view+json": {
       "model_id": "c9eff793f60f44829337202a51833c8e",
       "version_major": 2,
       "version_minor": 0
      },
      "text/plain": [
       "Loading Vertices:   0%|          | 0/1 [00:00<?, ?it/s]"
      ]
     },
     "metadata": {},
     "output_type": "display_data"
    },
    {
     "name": "stdout",
     "output_type": "stream",
     "text": [
      "Loaded 1 of 1 vertices\n",
      "\u001b[1;3;38;2;0;135;107m[INFO] Successfully loaded 1 vertices 'ms_paper' for tag '__Entity'\u001b[0m\n",
      "\u001b[1;3;38;2;0;120;215m[INFO] Parsed 1 vertices 'ms_paper' for tag 'SKILL' in memory\u001b[0m\n"
     ]
    },
    {
     "data": {
      "application/vnd.jupyter.widget-view+json": {
       "model_id": "745142f3d5ea4838ac4d47f5b2f850a1",
       "version_major": 2,
       "version_minor": 0
      },
      "text/plain": [
       "Loading Vertices:   0%|          | 0/1 [00:00<?, ?it/s]"
      ]
     },
     "metadata": {},
     "output_type": "display_data"
    },
    {
     "name": "stdout",
     "output_type": "stream",
     "text": [
      "Loaded 1 of 1 vertices\n",
      "\u001b[1;3;38;2;0;135;107m[INFO] Successfully loaded 1 vertices 'ms_paper' for tag 'SKILL'\u001b[0m\n",
      "\u001b[1;3;38;2;0;120;215m[INFO] Parsed 1 vertices 'ms_paper' for tag '__Entity' in memory\u001b[0m\n"
     ]
    },
    {
     "data": {
      "application/vnd.jupyter.widget-view+json": {
       "model_id": "7394b311572b4d3280e6593be7c2549c",
       "version_major": 2,
       "version_minor": 0
      },
      "text/plain": [
       "Loading Vertices:   0%|          | 0/1 [00:00<?, ?it/s]"
      ]
     },
     "metadata": {},
     "output_type": "display_data"
    },
    {
     "name": "stdout",
     "output_type": "stream",
     "text": [
      "Loaded 1 of 1 vertices\n",
      "\u001b[1;3;38;2;0;135;107m[INFO] Successfully loaded 1 vertices 'ms_paper' for tag '__Entity'\u001b[0m\n",
      "\u001b[1;3;38;2;0;120;215m[INFO] Parsed 1 vertices 'ms_paper' for tag 'TRAIT' in memory\u001b[0m\n"
     ]
    },
    {
     "data": {
      "application/vnd.jupyter.widget-view+json": {
       "model_id": "44713936b1214ee4b6de86f547a7fd12",
       "version_major": 2,
       "version_minor": 0
      },
      "text/plain": [
       "Loading Vertices:   0%|          | 0/1 [00:00<?, ?it/s]"
      ]
     },
     "metadata": {},
     "output_type": "display_data"
    },
    {
     "name": "stdout",
     "output_type": "stream",
     "text": [
      "Loaded 1 of 1 vertices\n",
      "\u001b[1;3;38;2;0;135;107m[INFO] Successfully loaded 1 vertices 'ms_paper' for tag 'TRAIT'\u001b[0m\n",
      "\u001b[1;3;38;2;0;120;215m[INFO] Parsed 1 vertices 'ms_paper' for tag '__Entity' in memory\u001b[0m\n"
     ]
    },
    {
     "data": {
      "application/vnd.jupyter.widget-view+json": {
       "model_id": "3ed0fdc260a74a4ab36a418bbb00b693",
       "version_major": 2,
       "version_minor": 0
      },
      "text/plain": [
       "Loading Vertices:   0%|          | 0/1 [00:00<?, ?it/s]"
      ]
     },
     "metadata": {},
     "output_type": "display_data"
    },
    {
     "name": "stdout",
     "output_type": "stream",
     "text": [
      "Loaded 1 of 1 vertices\n",
      "\u001b[1;3;38;2;0;135;107m[INFO] Successfully loaded 1 vertices 'ms_paper' for tag '__Entity'\u001b[0m\n",
      "\u001b[1;3;38;2;0;120;215m[INFO] Parsed 1 vertices 'ms_paper' for tag 'PHENOMENON' in memory\u001b[0m\n"
     ]
    },
    {
     "data": {
      "application/vnd.jupyter.widget-view+json": {
       "model_id": "5f9994698c174898a41579ce5ed6bf7d",
       "version_major": 2,
       "version_minor": 0
      },
      "text/plain": [
       "Loading Vertices:   0%|          | 0/1 [00:00<?, ?it/s]"
      ]
     },
     "metadata": {},
     "output_type": "display_data"
    },
    {
     "name": "stdout",
     "output_type": "stream",
     "text": [
      "Loaded 1 of 1 vertices\n",
      "\u001b[1;3;38;2;0;135;107m[INFO] Successfully loaded 1 vertices 'ms_paper' for tag 'PHENOMENON'\u001b[0m\n"
     ]
    }
   ],
   "source": [
    "%ng_load --header --source data/TAG_PERSON.csv --tag __Entity --vid 0 --props 1:name,3:human_readable_id,4:type,2:description --space ms_paper\n",
    "%ng_load --header --source data/TAG_PERSON.csv --tag PERSON --vid 0 --props 1:name,3:human_readable_id --space ms_paper\n",
    "%ng_load --header --source data/TAG_ORGANIZATION.csv --tag __Entity --vid 0 --props 1:name,3:human_readable_id,4:type,2:description --space ms_paper\n",
    "%ng_load --header --source data/TAG_ORGANIZATION.csv --tag ORGANIZATION --vid 0 --props 1:name,3:human_readable_id --space ms_paper\n",
    "%ng_load --header --source data/TAG_EVENT.csv --tag __Entity --vid 0 --props 1:name,3:human_readable_id,4:type,2:description --space ms_paper\n",
    "%ng_load --header --source data/TAG_EVENT.csv --tag EVENT --vid 0 --props 1:name,3:human_readable_id --space ms_paper\n",
    "%ng_load --header --source data/TAG_EXTRATERRESTRIAL_COMMUNICATION.csv --tag __Entity --vid 0 --props 1:name,3:human_readable_id,4:type,2:description --space ms_paper\n",
    "%ng_load --header --source data/TAG_EXTRATERRESTRIAL_COMMUNICATION.csv --tag EXTRATERRESTRIAL_COMMUNICATION --vid 0 --props 1:name,3:human_readable_id --space ms_paper\n",
    "%ng_load --header --source data/TAG_CONCEPT.csv --tag __Entity --vid 0 --props 1:name,3:human_readable_id,4:type,2:description --space ms_paper\n",
    "%ng_load --header --source data/TAG_CONCEPT.csv --tag CONCEPT --vid 0 --props 1:name,3:human_readable_id --space ms_paper\n",
    "%ng_load --header --source data/TAG_MISCELLANEOUS.csv --tag __Entity --vid 0 --props 1:name,3:human_readable_id,4:type,2:description --space ms_paper\n",
    "%ng_load --header --source data/TAG_MISCELLANEOUS.csv --tag MISCELLANEOUS --vid 0 --props 1:name,3:human_readable_id --space ms_paper\n",
    "%ng_load --header --source data/TAG_OBJECT.csv --tag __Entity --vid 0 --props 1:name,3:human_readable_id,4:type,2:description --space ms_paper\n",
    "%ng_load --header --source data/TAG_OBJECT.csv --tag OBJECT --vid 0 --props 1:name,3:human_readable_id --space ms_paper\n",
    "%ng_load --header --source data/TAG_GEO.csv --tag __Entity --vid 0 --props 1:name,3:human_readable_id,4:type,2:description --space ms_paper\n",
    "%ng_load --header --source data/TAG_GEO.csv --tag GEO --vid 0 --props 1:name,3:human_readable_id --space ms_paper\n",
    "%ng_load --header --source data/TAG_TASK.csv --tag __Entity --vid 0 --props 1:name,3:human_readable_id,4:type,2:description --space ms_paper\n",
    "%ng_load --header --source data/TAG_TASK.csv --tag TASK --vid 0 --props 1:name,3:human_readable_id --space ms_paper\n",
    "%ng_load --header --source data/TAG_FACILITY.csv --tag __Entity --vid 0 --props 1:name,3:human_readable_id,4:type,2:description --space ms_paper\n",
    "%ng_load --header --source data/TAG_FACILITY.csv --tag FACILITY --vid 0 --props 1:name,3:human_readable_id --space ms_paper\n",
    "%ng_load --header --source data/TAG_ATTRIBUTE.csv --tag __Entity --vid 0 --props 1:name,3:human_readable_id,4:type,2:description --space ms_paper\n",
    "%ng_load --header --source data/TAG_ATTRIBUTE.csv --tag ATTRIBUTE --vid 0 --props 1:name,3:human_readable_id --space ms_paper\n",
    "%ng_load --header --source data/TAG_STRATEGY.csv --tag __Entity --vid 0 --props 1:name,3:human_readable_id,4:type,2:description --space ms_paper\n",
    "%ng_load --header --source data/TAG_STRATEGY.csv --tag STRATEGY --vid 0 --props 1:name,3:human_readable_id --space ms_paper\n",
    "%ng_load --header --source data/TAG_ROLE.csv --tag __Entity --vid 0 --props 1:name,3:human_readable_id,4:type,2:description --space ms_paper\n",
    "%ng_load --header --source data/TAG_ROLE.csv --tag ROLE --vid 0 --props 1:name,3:human_readable_id --space ms_paper\n",
    "%ng_load --header --source data/TAG_PROJECT.csv --tag __Entity --vid 0 --props 1:name,3:human_readable_id,4:type,2:description --space ms_paper\n",
    "%ng_load --header --source data/TAG_PROJECT.csv --tag PROJECT --vid 0 --props 1:name,3:human_readable_id --space ms_paper\n",
    "%ng_load --header --source data/TAG_ACTIVITY.csv --tag __Entity --vid 0 --props 1:name,3:human_readable_id,4:type,2:description --space ms_paper\n",
    "%ng_load --header --source data/TAG_ACTIVITY.csv --tag ACTIVITY --vid 0 --props 1:name,3:human_readable_id --space ms_paper\n",
    "%ng_load --header --source data/TAG_PLACE.csv --tag __Entity --vid 0 --props 1:name,3:human_readable_id,4:type,2:description --space ms_paper\n",
    "%ng_load --header --source data/TAG_PLACE.csv --tag PLACE --vid 0 --props 1:name,3:human_readable_id --space ms_paper\n",
    "%ng_load --header --source data/TAG_SKILL.csv --tag __Entity --vid 0 --props 1:name,3:human_readable_id,4:type,2:description --space ms_paper\n",
    "%ng_load --header --source data/TAG_SKILL.csv --tag SKILL --vid 0 --props 1:name,3:human_readable_id --space ms_paper\n",
    "%ng_load --header --source data/TAG_TRAIT.csv --tag __Entity --vid 0 --props 1:name,3:human_readable_id,4:type,2:description --space ms_paper\n",
    "%ng_load --header --source data/TAG_TRAIT.csv --tag TRAIT --vid 0 --props 1:name,3:human_readable_id --space ms_paper\n",
    "%ng_load --header --source data/TAG_PHENOMENON.csv --tag __Entity --vid 0 --props 1:name,3:human_readable_id,4:type,2:description --space ms_paper\n",
    "%ng_load --header --source data/TAG_PHENOMENON.csv --tag PHENOMENON --vid 0 --props 1:name,3:human_readable_id --space ms_paper"
   ]
  },
  {
   "cell_type": "markdown",
   "id": "94e5a157",
   "metadata": {},
   "source": [
    "### Entity Relationship Analysis\n",
    "\n",
    "> df_relationships\n",
    "\n",
    "```\n",
    "<class 'pandas.core.frame.DataFrame'>\n",
    "RangeIndex: 276 entries, 0 to 275\n",
    "Data columns (total 10 columns):\n",
    " #   Column             Non-Null Count  Dtype  \n",
    "---  ------             --------------  -----  \n",
    " 0   source             276 non-null    object \n",
    " 1   target             276 non-null    object \n",
    " 2   weight             276 non-null    float64\n",
    " 3   description        276 non-null    object \n",
    " 4   text_unit_ids      276 non-null    object \n",
    " 5   id                 276 non-null    object \n",
    " 6   human_readable_id  276 non-null    object \n",
    " 7   source_degree      276 non-null    int64  \n",
    " 8   target_degree      276 non-null    int64  \n",
    " 9   rank               276 non-null    int64  \n",
    "dtypes: float64(1), int64(3), object(6)\n",
    "```"
   ]
  },
  {
   "cell_type": "code",
   "execution_count": 13,
   "id": "af22cd8f",
   "metadata": {},
   "outputs": [],
   "source": [
    "df_relationships = pd.read_parquet(\n",
    "    \"https://github.com/microsoft/graphrag/raw/main/examples_notebooks/inputs/operation%20dulce/create_final_relationships.parquet\"\n",
    ")"
   ]
  },
  {
   "cell_type": "code",
   "execution_count": 14,
   "id": "d83c59a2",
   "metadata": {},
   "outputs": [
    {
     "data": {
      "text/html": [
       "<div>\n",
       "<style scoped>\n",
       "    .dataframe tbody tr th:only-of-type {\n",
       "        vertical-align: middle;\n",
       "    }\n",
       "\n",
       "    .dataframe tbody tr th {\n",
       "        vertical-align: top;\n",
       "    }\n",
       "\n",
       "    .dataframe thead th {\n",
       "        text-align: right;\n",
       "    }\n",
       "</style>\n",
       "<table border=\"1\" class=\"dataframe\">\n",
       "  <thead>\n",
       "    <tr style=\"text-align: right;\">\n",
       "      <th></th>\n",
       "      <th>source</th>\n",
       "      <th>target</th>\n",
       "      <th>weight</th>\n",
       "      <th>description</th>\n",
       "      <th>text_unit_ids</th>\n",
       "      <th>id</th>\n",
       "      <th>human_readable_id</th>\n",
       "      <th>source_degree</th>\n",
       "      <th>target_degree</th>\n",
       "      <th>rank</th>\n",
       "    </tr>\n",
       "  </thead>\n",
       "  <tbody>\n",
       "    <tr>\n",
       "      <th>0</th>\n",
       "      <td>ALEX MERCER</td>\n",
       "      <td>TAYLOR CRUZ</td>\n",
       "      <td>7.0</td>\n",
       "      <td>Alex Mercer and Taylor Cruz are integral members of the Paranormal Military Squad at the Dulce milit...</td>\n",
       "      <td>[00fafabae48948779fee2afe600f5143, 1e433d6b30887893e803d716486b14f0, 2cf7a230c367a2dfaf0fc3c903eb8948, 6ce53dc78770579f3d8369771db6f80c, 6d1255303acb7c9dc951cb0f5fc3042c, e841f178310356740b2ee9101d12c97f, f36d96862b9366d7240b5c7ceb04f12b]</td>\n",
       "      <td>b35c3d1a7daa4924b6bdb58bc69c354d</td>\n",
       "      <td>0</td>\n",
       "      <td>9</td>\n",
       "      <td>12</td>\n",
       "      <td>21</td>\n",
       "    </tr>\n",
       "  </tbody>\n",
       "</table>\n",
       "</div>"
      ],
      "text/plain": [
       "        source       target  weight                                                                                              description                                                                                                                                                                                                                                   text_unit_ids                                id human_readable_id  source_degree  target_degree  rank\n",
       "0  ALEX MERCER  TAYLOR CRUZ     7.0  Alex Mercer and Taylor Cruz are integral members of the Paranormal Military Squad at the Dulce milit...  [00fafabae48948779fee2afe600f5143, 1e433d6b30887893e803d716486b14f0, 2cf7a230c367a2dfaf0fc3c903eb8948, 6ce53dc78770579f3d8369771db6f80c, 6d1255303acb7c9dc951cb0f5fc3042c, e841f178310356740b2ee9101d12c97f, f36d96862b9366d7240b5c7ceb04f12b]  b35c3d1a7daa4924b6bdb58bc69c354d                 0              9             12    21"
      ]
     },
     "execution_count": 14,
     "metadata": {},
     "output_type": "execute_result"
    }
   ],
   "source": [
    "# inspect the data\n",
    "df_relationships.head(1).assign(\n",
    "    description=lambda x: x[\"description\"].str[:100] + \"...\"\n",
    ")"
   ]
  },
  {
   "cell_type": "markdown",
   "id": "87341df4",
   "metadata": {},
   "source": [
    "We can see th source and target are entity names, all relationships are not typed.\n",
    "\n",
    "So we could create one EDGE Type named `related_to` with properties `weight`, `rank` and `description`.\n",
    "\n",
    "```text\n",
    "CREATE EDGE IF NOT EXISTS `RELATED_TO` (weight float, rank int, description string);\n",
    "```\n",
    "\n",
    "And we need to resolve the source and target to entity ids from df_entities, and build a CSV file for `RELATED_TO` EDGE like:\n",
    "\n",
    "```CSV\n",
    "source,target,weight,rank,description\n",
    "entity_0,entity_1,1.0,1,\"ALEX MERCER and EXTRATERRESTRIAL RESEARCH are...\"\n",
    "```\n",
    "\n",
    "##### Create RELATED_TO EDGE and load it to NebulaGraph\n"
   ]
  },
  {
   "cell_type": "code",
   "execution_count": 15,
   "id": "ba139eeb",
   "metadata": {},
   "outputs": [
    {
     "name": "stdout",
     "output_type": "stream",
     "text": [
      "Created 276 RELATED_TO edges\n",
      "     source    target  weight  rank                                                                                                                                                                                                                                                                                                                                                                                                                                                                                                                                                                                                                                                                                                                                                                                                                                                                                     description human_readable_id\n",
      "0  entity_0  entity_1     7.0    21                                                                                                         Alex Mercer and Taylor Cruz are integral members of the Paranormal Military Squad at the Dulce military base, where they focus on interactions with extraterrestrial intelligence. Alex is recognized as the leader of the team, while Taylor provides strategic oversight, although there is a noted tension and authority dynamic between them. Together, they collaborate on developing protocols for responding to alien communication and engage in professional discussions about the mission's hypotheses. Despite initial contradictions about who leads the team, it is clear that Alex Mercer holds the leadership role, with Taylor Cruz playing a significant strategic role in the mission, ensuring a comprehensive approach to their shared objectives within the squad.                 0\n",
      "1  entity_0  entity_1     7.0    21                                                                                                         Alex Mercer and Taylor Cruz are integral members of the Paranormal Military Squad at the Dulce military base, where they focus on interactions with extraterrestrial intelligence. Alex is recognized as the leader of the team, while Taylor provides strategic oversight, although there is a noted tension and authority dynamic between them. Together, they collaborate on developing protocols for responding to alien communication and engage in professional discussions about the mission's hypotheses. Despite initial contradictions about who leads the team, it is clear that Alex Mercer holds the leadership role, with Taylor Cruz playing a significant strategic role in the mission, ensuring a comprehensive approach to their shared objectives within the squad.                 0\n",
      "2  entity_0  entity_1     7.0    21                                                                                                         Alex Mercer and Taylor Cruz are integral members of the Paranormal Military Squad at the Dulce military base, where they focus on interactions with extraterrestrial intelligence. Alex is recognized as the leader of the team, while Taylor provides strategic oversight, although there is a noted tension and authority dynamic between them. Together, they collaborate on developing protocols for responding to alien communication and engage in professional discussions about the mission's hypotheses. Despite initial contradictions about who leads the team, it is clear that Alex Mercer holds the leadership role, with Taylor Cruz playing a significant strategic role in the mission, ensuring a comprehensive approach to their shared objectives within the squad.                 0\n",
      "3  entity_0  entity_1     7.0    21                                                                                                         Alex Mercer and Taylor Cruz are integral members of the Paranormal Military Squad at the Dulce military base, where they focus on interactions with extraterrestrial intelligence. Alex is recognized as the leader of the team, while Taylor provides strategic oversight, although there is a noted tension and authority dynamic between them. Together, they collaborate on developing protocols for responding to alien communication and engage in professional discussions about the mission's hypotheses. Despite initial contradictions about who leads the team, it is clear that Alex Mercer holds the leadership role, with Taylor Cruz playing a significant strategic role in the mission, ensuring a comprehensive approach to their shared objectives within the squad.                 0\n",
      "4  entity_0  entity_2     6.0    18  Alex Mercer and Jordan Hayes are colleagues who work closely together at Dulce Base, where they are deeply involved in the highly specialized task of decrypting and communicating with extraterrestrial intelligence. Their collaboration primarily focuses on understanding alien code and responding to alien messages. Both Mercer and Hayes have a mutual understanding and recognition of each other's analytical skills, which plays a significant role in their successful partnership. Additionally, they share a moment of mutual respect and understanding regarding the significance of their mission, which involves investigating the Dulce military base and its extraterrestrial-related activities. Their combined efforts contribute to the broader objectives of their work at Dulce Base, highlighting the importance of their roles in this unique and challenging field.                 1\n",
      "\u001b[1;3;38;2;0;120;215m[INFO] Parsed 276 edges 'ms_paper' for edge type 'RELATED_TO' in memory\u001b[0m\n"
     ]
    },
    {
     "data": {
      "application/vnd.jupyter.widget-view+json": {
       "model_id": "5c31190448fa4f6f85a7f64f62997007",
       "version_major": 2,
       "version_minor": 0
      },
      "text/plain": [
       "Loading Edges:   0%|          | 0/2 [00:00<?, ?it/s]"
      ]
     },
     "metadata": {},
     "output_type": "display_data"
    },
    {
     "name": "stdout",
     "output_type": "stream",
     "text": [
      "Loaded 256 of 276 edges\n",
      "Loaded 276 of 276 edges\n",
      "\u001b[1;3;38;2;0;135;107m[INFO] Successfully loaded 276 edges 'ms_paper' for edge type 'RELATED_TO'\u001b[0m\n"
     ]
    }
   ],
   "source": [
    "# Create a mapping of entity names to their IDs\n",
    "entity_id_map = dict(zip(df_entities[\"name\"], df_entities[\"human_readable_id\"]))\n",
    "\n",
    "# Function to get entity ID, or return None if not found\n",
    "def get_entity_id(name):\n",
    "    return f\"entity_{entity_id_map.get(name)}\"\n",
    "\n",
    "\n",
    "# Prepare the data for RELATED_TO edges\n",
    "related_to_data = []\n",
    "for _, row in df_relationships.iterrows():\n",
    "    source_id = get_entity_id(row[\"source\"])\n",
    "    target_id = get_entity_id(row[\"target\"])\n",
    "    if source_id and target_id:\n",
    "        related_to_data.append(\n",
    "            {\n",
    "                \"source\": source_id,\n",
    "                \"target\": target_id,\n",
    "                \"weight\": row[\"weight\"],\n",
    "                \"rank\": row[\"rank\"],\n",
    "                \"description\": row[\"description\"],\n",
    "                \"human_readable_id\": row[\"human_readable_id\"],\n",
    "            }\n",
    "        )\n",
    "\n",
    "# Create a DataFrame for RELATED_TO edges\n",
    "df_related_to = pd.DataFrame(related_to_data)\n",
    "\n",
    "# Save to CSV\n",
    "df_related_to.to_csv(\"data/RELATED_TO.csv\", index=False)\n",
    "\n",
    "print(f\"Created {len(df_related_to)} RELATED_TO edges\")\n",
    "print(df_related_to.head())\n",
    "\n",
    "# Create the RELATED_TO edge in the graph\n",
    "%ngql CREATE EDGE IF NOT EXISTS `RELATED_TO` (weight float, rank int, description string, human_readable_id int);\n",
    "\n",
    "# Wait for the Schema to be ready\n",
    "!sleep 20\n",
    "%ngql SHOW CREATE EDGE RELATED_TO;\n",
    "\n",
    "# Load the RELATED_TO edges into the graph\n",
    "%ng_load --header --source data/RELATED_TO.csv --edge RELATED_TO --src 0 --dst 1 --props 2:weight,3:rank,4:description,5:human_readable_id --space ms_paper"
   ]
  },
  {
   "cell_type": "code",
   "execution_count": 16,
   "id": "e6650f9f",
   "metadata": {},
   "outputs": [
    {
     "data": {
      "text/html": [
       "<div>\n",
       "<style scoped>\n",
       "    .dataframe tbody tr th:only-of-type {\n",
       "        vertical-align: middle;\n",
       "    }\n",
       "\n",
       "    .dataframe tbody tr th {\n",
       "        vertical-align: top;\n",
       "    }\n",
       "\n",
       "    .dataframe thead th {\n",
       "        text-align: right;\n",
       "    }\n",
       "</style>\n",
       "<table border=\"1\" class=\"dataframe\">\n",
       "  <thead>\n",
       "    <tr style=\"text-align: right;\">\n",
       "      <th></th>\n",
       "      <th>Type</th>\n",
       "      <th>Name</th>\n",
       "      <th>Count</th>\n",
       "    </tr>\n",
       "  </thead>\n",
       "  <tbody>\n",
       "    <tr>\n",
       "      <th>0</th>\n",
       "      <td>Tag</td>\n",
       "      <td>ACTIVITY</td>\n",
       "      <td>1</td>\n",
       "    </tr>\n",
       "    <tr>\n",
       "      <th>1</th>\n",
       "      <td>Tag</td>\n",
       "      <td>ATTRIBUTE</td>\n",
       "      <td>3</td>\n",
       "    </tr>\n",
       "    <tr>\n",
       "      <th>2</th>\n",
       "      <td>Tag</td>\n",
       "      <td>CONCEPT</td>\n",
       "      <td>90</td>\n",
       "    </tr>\n",
       "    <tr>\n",
       "      <th>3</th>\n",
       "      <td>Tag</td>\n",
       "      <td>EVENT</td>\n",
       "      <td>4</td>\n",
       "    </tr>\n",
       "    <tr>\n",
       "      <th>4</th>\n",
       "      <td>Tag</td>\n",
       "      <td>EXTRATERRESTRIAL_COMMUNICATION</td>\n",
       "      <td>1</td>\n",
       "    </tr>\n",
       "    <tr>\n",
       "      <th>5</th>\n",
       "      <td>Tag</td>\n",
       "      <td>FACILITY</td>\n",
       "      <td>1</td>\n",
       "    </tr>\n",
       "    <tr>\n",
       "      <th>6</th>\n",
       "      <td>Tag</td>\n",
       "      <td>GEO</td>\n",
       "      <td>4</td>\n",
       "    </tr>\n",
       "    <tr>\n",
       "      <th>7</th>\n",
       "      <td>Tag</td>\n",
       "      <td>MISCELLANEOUS</td>\n",
       "      <td>4</td>\n",
       "    </tr>\n",
       "    <tr>\n",
       "      <th>8</th>\n",
       "      <td>Tag</td>\n",
       "      <td>OBJECT</td>\n",
       "      <td>2</td>\n",
       "    </tr>\n",
       "    <tr>\n",
       "      <th>9</th>\n",
       "      <td>Tag</td>\n",
       "      <td>ORGANIZATION</td>\n",
       "      <td>1</td>\n",
       "    </tr>\n",
       "    <tr>\n",
       "      <th>10</th>\n",
       "      <td>Tag</td>\n",
       "      <td>PERSON</td>\n",
       "      <td>98</td>\n",
       "    </tr>\n",
       "    <tr>\n",
       "      <th>11</th>\n",
       "      <td>Tag</td>\n",
       "      <td>PHENOMENON</td>\n",
       "      <td>1</td>\n",
       "    </tr>\n",
       "    <tr>\n",
       "      <th>12</th>\n",
       "      <td>Tag</td>\n",
       "      <td>PLACE</td>\n",
       "      <td>1</td>\n",
       "    </tr>\n",
       "    <tr>\n",
       "      <th>13</th>\n",
       "      <td>Tag</td>\n",
       "      <td>PROJECT</td>\n",
       "      <td>1</td>\n",
       "    </tr>\n",
       "    <tr>\n",
       "      <th>14</th>\n",
       "      <td>Tag</td>\n",
       "      <td>ROLE</td>\n",
       "      <td>1</td>\n",
       "    </tr>\n",
       "    <tr>\n",
       "      <th>15</th>\n",
       "      <td>Tag</td>\n",
       "      <td>SKILL</td>\n",
       "      <td>1</td>\n",
       "    </tr>\n",
       "    <tr>\n",
       "      <th>16</th>\n",
       "      <td>Tag</td>\n",
       "      <td>STRATEGY</td>\n",
       "      <td>1</td>\n",
       "    </tr>\n",
       "    <tr>\n",
       "      <th>17</th>\n",
       "      <td>Tag</td>\n",
       "      <td>TASK</td>\n",
       "      <td>1</td>\n",
       "    </tr>\n",
       "    <tr>\n",
       "      <th>18</th>\n",
       "      <td>Tag</td>\n",
       "      <td>TRAIT</td>\n",
       "      <td>1</td>\n",
       "    </tr>\n",
       "    <tr>\n",
       "      <th>19</th>\n",
       "      <td>Tag</td>\n",
       "      <td>__Entity</td>\n",
       "      <td>217</td>\n",
       "    </tr>\n",
       "    <tr>\n",
       "      <th>20</th>\n",
       "      <td>Edge</td>\n",
       "      <td>RELATED_TO</td>\n",
       "      <td>69</td>\n",
       "    </tr>\n",
       "    <tr>\n",
       "      <th>21</th>\n",
       "      <td>Space</td>\n",
       "      <td>vertices</td>\n",
       "      <td>217</td>\n",
       "    </tr>\n",
       "    <tr>\n",
       "      <th>22</th>\n",
       "      <td>Space</td>\n",
       "      <td>edges</td>\n",
       "      <td>69</td>\n",
       "    </tr>\n",
       "  </tbody>\n",
       "</table>\n",
       "</div>"
      ],
      "text/plain": [
       "     Type                            Name  Count\n",
       "0     Tag                        ACTIVITY      1\n",
       "1     Tag                       ATTRIBUTE      3\n",
       "2     Tag                         CONCEPT     90\n",
       "3     Tag                           EVENT      4\n",
       "4     Tag  EXTRATERRESTRIAL_COMMUNICATION      1\n",
       "5     Tag                        FACILITY      1\n",
       "6     Tag                             GEO      4\n",
       "7     Tag                   MISCELLANEOUS      4\n",
       "8     Tag                          OBJECT      2\n",
       "9     Tag                    ORGANIZATION      1\n",
       "10    Tag                          PERSON     98\n",
       "11    Tag                      PHENOMENON      1\n",
       "12    Tag                           PLACE      1\n",
       "13    Tag                         PROJECT      1\n",
       "14    Tag                            ROLE      1\n",
       "15    Tag                           SKILL      1\n",
       "16    Tag                        STRATEGY      1\n",
       "17    Tag                            TASK      1\n",
       "18    Tag                           TRAIT      1\n",
       "19    Tag                        __Entity    217\n",
       "20   Edge                      RELATED_TO     69\n",
       "21  Space                        vertices    217\n",
       "22  Space                           edges     69"
      ]
     },
     "execution_count": 16,
     "metadata": {},
     "output_type": "execute_result"
    }
   ],
   "source": [
    "# Let's see the stats on the graph\n",
    "\n",
    "%ngql SUBMIT JOB STATS;\n",
    "\n",
    "!sleep 5\n",
    "%ngql SHOW STATS;"
   ]
  },
  {
   "cell_type": "markdown",
   "id": "f7cb9333",
   "metadata": {},
   "source": [
    "Let's inspect the RELATED_TO EDGE:"
   ]
  },
  {
   "cell_type": "code",
   "execution_count": 17,
   "id": "29d0b863",
   "metadata": {},
   "outputs": [
    {
     "data": {
      "text/html": [
       "<div>\n",
       "<style scoped>\n",
       "    .dataframe tbody tr th:only-of-type {\n",
       "        vertical-align: middle;\n",
       "    }\n",
       "\n",
       "    .dataframe tbody tr th {\n",
       "        vertical-align: top;\n",
       "    }\n",
       "\n",
       "    .dataframe thead th {\n",
       "        text-align: right;\n",
       "    }\n",
       "</style>\n",
       "<table border=\"1\" class=\"dataframe\">\n",
       "  <thead>\n",
       "    <tr style=\"text-align: right;\">\n",
       "      <th></th>\n",
       "      <th>Entity_Name</th>\n",
       "      <th>TAGS_of_Source</th>\n",
       "      <th>TAGS_of_Target</th>\n",
       "      <th>Description</th>\n",
       "      <th>Human_Readable_ID</th>\n",
       "    </tr>\n",
       "  </thead>\n",
       "  <tbody>\n",
       "    <tr>\n",
       "      <th>0</th>\n",
       "      <td>DR. JORDAN HAYES</td>\n",
       "      <td>[__Entity, CONCEPT]</td>\n",
       "      <td>[__Entity, PERSON]</td>\n",
       "      <td>Dr. Jordan Hayes is a specialist in the study and deciphering of extraterrestrial patterns, working at Dulce Base. His expertise is focused on understanding the complex signals and structures that may originate from extraterrestrial sources. Dr. Hayes's work at Dulce Base involves analyzing these patterns to gain insights into potential extraterrestrial communications or activities.</td>\n",
       "      <td>53</td>\n",
       "    </tr>\n",
       "    <tr>\n",
       "      <th>1</th>\n",
       "      <td>DULCE BASE</td>\n",
       "      <td>[__Entity, CONCEPT]</td>\n",
       "      <td>[__Entity, MISCELLANEOUS]</td>\n",
       "      <td>Dulce Base is a facility dedicated to the advancement of extraterrestrial research. It serves as a center for conducting studies and activities related to extraterrestrial entities and phenomena.</td>\n",
       "      <td>51</td>\n",
       "    </tr>\n",
       "    <tr>\n",
       "      <th>2</th>\n",
       "      <td>DULCE BASE</td>\n",
       "      <td>[__Entity, EVENT]</td>\n",
       "      <td>[__Entity, MISCELLANEOUS]</td>\n",
       "      <td>Dulce Base is the location where Operation: Dulce is taking place</td>\n",
       "      <td>49</td>\n",
       "    </tr>\n",
       "    <tr>\n",
       "      <th>3</th>\n",
       "      <td>DULCE MILITARY BASE</td>\n",
       "      <td>[__Entity, EVENT]</td>\n",
       "      <td>[__Entity, GEO]</td>\n",
       "      <td>The Dulce military base is the location where Operation: Dulce takes place</td>\n",
       "      <td>50</td>\n",
       "    </tr>\n",
       "    <tr>\n",
       "      <th>4</th>\n",
       "      <td>DULCE BASE</td>\n",
       "      <td>[__Entity, ORGANIZATION]</td>\n",
       "      <td>[__Entity, MISCELLANEOUS]</td>\n",
       "      <td>The Paranormal Military Squad is a specialized team that operates out of Dulce Base. This unit is not only stationed within the confines of Dulce Base but is also actively involved in interstellar communication. Dulce Base serves as the central hub for the squad's operations, where they carry out their unique and covert activities.</td>\n",
       "      <td>46</td>\n",
       "    </tr>\n",
       "    <tr>\n",
       "      <th>5</th>\n",
       "      <td>DR. JORDAN HAYES</td>\n",
       "      <td>[__Entity, ORGANIZATION]</td>\n",
       "      <td>[__Entity, PERSON]</td>\n",
       "      <td>Dr. Jordan Hayes is a key member of the Paranormal Military Squad, contributing their expertise to the mission, particularly working on the alien code deciphering project.</td>\n",
       "      <td>40</td>\n",
       "    </tr>\n",
       "    <tr>\n",
       "      <th>6</th>\n",
       "      <td>DULCE MILITARY BASE</td>\n",
       "      <td>[__Entity, ORGANIZATION]</td>\n",
       "      <td>[__Entity, GEO]</td>\n",
       "      <td>The Paranormal Military Squad is a specialized unit that operates within the confines of the Dulce Military Base. This squad is dedicated to activities and missions that pertain to the paranormal, utilizing the facilities and resources of the Dulce Military Base as their operational headquarters. Both descriptions emphasize the integral relationship between the squad and the base, highlighting that the base serves as the home and primary location for the squad's operations.</td>\n",
       "      <td>45</td>\n",
       "    </tr>\n",
       "    <tr>\n",
       "      <th>7</th>\n",
       "      <td>WASHINGTON</td>\n",
       "      <td>[__Entity, ORGANIZATION]</td>\n",
       "      <td>[__Entity, GEO]</td>\n",
       "      <td>The Paranormal Military Squad team is in communication with Washington, suggesting a command structure</td>\n",
       "      <td>41</td>\n",
       "    </tr>\n",
       "    <tr>\n",
       "      <th>8</th>\n",
       "      <td>NEW MEXICO</td>\n",
       "      <td>[__Entity, ORGANIZATION]</td>\n",
       "      <td>[__Entity, GEO]</td>\n",
       "      <td>The Paranormal Military Squad team is convened in the heart of the Dulce military complex in New Mexico</td>\n",
       "      <td>42</td>\n",
       "    </tr>\n",
       "    <tr>\n",
       "      <th>9</th>\n",
       "      <td>INTERSTELLAR COMMUNICATION</td>\n",
       "      <td>[__Entity, ORGANIZATION]</td>\n",
       "      <td>[__Entity, CONCEPT]</td>\n",
       "      <td>The Paranormal Military Squad team engages in interstellar communication</td>\n",
       "      <td>44</td>\n",
       "    </tr>\n",
       "    <tr>\n",
       "      <th>10</th>\n",
       "      <td>CLANDESTINE OPERATIONS</td>\n",
       "      <td>[__Entity, ORGANIZATION]</td>\n",
       "      <td>[__Entity, CONCEPT]</td>\n",
       "      <td>The Paranormal Military Squad team is involved in clandestine operations</td>\n",
       "      <td>43</td>\n",
       "    </tr>\n",
       "    <tr>\n",
       "      <th>11</th>\n",
       "      <td>COVERT OPERATIONS</td>\n",
       "      <td>[__Entity, ORGANIZATION]</td>\n",
       "      <td>[__Entity, CONCEPT]</td>\n",
       "      <td>The Paranormal Military Squad is involved in covert operations related to extraterrestrial activity at Dulce Base</td>\n",
       "      <td>47</td>\n",
       "    </tr>\n",
       "    <tr>\n",
       "      <th>12</th>\n",
       "      <td>AGENT ALEX MERCER</td>\n",
       "      <td>[__Entity, ORGANIZATION]</td>\n",
       "      <td>[__Entity, PERSON]</td>\n",
       "      <td>Alex Mercer is a member of the Paranormal Military Squad</td>\n",
       "      <td>48</td>\n",
       "    </tr>\n",
       "    <tr>\n",
       "      <th>13</th>\n",
       "      <td>OPERATION: DULCE</td>\n",
       "      <td>[__Entity, ORGANIZATION]</td>\n",
       "      <td>[__Entity, EVENT]</td>\n",
       "      <td>The Paranormal Military Squad is a specialized team that has been assigned to carry out Operation: Dulce. This mission involves the squad engaging in activities that pertain to the paranormal or supernatural realm. The comprehensive description of the entity and the operation is that Operation: Dulce is a specific mission executed by the Paranormal Military Squad, with both terms referring to the same coordinated effort between the team and their assigned task.</td>\n",
       "      <td>39</td>\n",
       "    </tr>\n",
       "    <tr>\n",
       "      <th>14</th>\n",
       "      <td>OPTIMISM AND INTRIGUE</td>\n",
       "      <td>[__Entity, PERSON]</td>\n",
       "      <td>[__Entity, CONCEPT]</td>\n",
       "      <td>Sam Rivera's approach to extraterrestrial contact is characterized by optimism and intrigue</td>\n",
       "      <td>27</td>\n",
       "    </tr>\n",
       "    <tr>\n",
       "      <th>15</th>\n",
       "      <td>DULCE BASE</td>\n",
       "      <td>[__Entity, PERSON]</td>\n",
       "      <td>[__Entity, MISCELLANEOUS]</td>\n",
       "      <td>Sam Rivera is part of the Dulce Base team, contributing to the dialogue with extraterrestrial intelligence</td>\n",
       "      <td>35</td>\n",
       "    </tr>\n",
       "    <tr>\n",
       "      <th>16</th>\n",
       "      <td>PARANORMAL MILITARY SQUAD TEAM</td>\n",
       "      <td>[__Entity, PERSON]</td>\n",
       "      <td>[__Entity, MISCELLANEOUS]</td>\n",
       "      <td>Sam Rivera is a member of the Paranormal Military Squad team, enthusiastic about the potential of first contact</td>\n",
       "      <td>38</td>\n",
       "    </tr>\n",
       "    <tr>\n",
       "      <th>17</th>\n",
       "      <td>DR. JORDAN HAYES</td>\n",
       "      <td>[__Entity, PERSON]</td>\n",
       "      <td>[__Entity, PERSON]</td>\n",
       "      <td>Dr. Jordan Hayes and Sam Rivera are colleagues in Paranormal Military Squad, each playing a role in the alien code deciphering</td>\n",
       "      <td>34</td>\n",
       "    </tr>\n",
       "    <tr>\n",
       "      <th>18</th>\n",
       "      <td>CRUZ</td>\n",
       "      <td>[__Entity, PERSON]</td>\n",
       "      <td>[__Entity, PERSON]</td>\n",
       "      <td>Cruz and Sam Rivera are both part of the same team, with Cruz commanding and Sam providing technical expertise</td>\n",
       "      <td>28</td>\n",
       "    </tr>\n",
       "    <tr>\n",
       "      <th>19</th>\n",
       "      <td>TAYLOR</td>\n",
       "      <td>[__Entity, PERSON]</td>\n",
       "      <td>[__Entity, PERSON]</td>\n",
       "      <td>Taylor seeks counsel from Sam Rivera, indicating a working relationship and trust</td>\n",
       "      <td>29</td>\n",
       "    </tr>\n",
       "  </tbody>\n",
       "</table>\n",
       "</div>"
      ],
      "text/plain": [
       "                       Entity_Name            TAGS_of_Source             TAGS_of_Target                                                                                                                                                                                                                                                                                                                                                                                                                                                                                     Description  Human_Readable_ID\n",
       "0                 DR. JORDAN HAYES       [__Entity, CONCEPT]         [__Entity, PERSON]                                                                                               Dr. Jordan Hayes is a specialist in the study and deciphering of extraterrestrial patterns, working at Dulce Base. His expertise is focused on understanding the complex signals and structures that may originate from extraterrestrial sources. Dr. Hayes's work at Dulce Base involves analyzing these patterns to gain insights into potential extraterrestrial communications or activities.                 53\n",
       "1                       DULCE BASE       [__Entity, CONCEPT]  [__Entity, MISCELLANEOUS]                                                                                                                                                                                                                                                                                             Dulce Base is a facility dedicated to the advancement of extraterrestrial research. It serves as a center for conducting studies and activities related to extraterrestrial entities and phenomena.                 51\n",
       "2                       DULCE BASE         [__Entity, EVENT]  [__Entity, MISCELLANEOUS]                                                                                                                                                                                                                                                                                                                                                                                                                               Dulce Base is the location where Operation: Dulce is taking place                 49\n",
       "3              DULCE MILITARY BASE         [__Entity, EVENT]            [__Entity, GEO]                                                                                                                                                                                                                                                                                                                                                                                                                      The Dulce military base is the location where Operation: Dulce takes place                 50\n",
       "4                       DULCE BASE  [__Entity, ORGANIZATION]  [__Entity, MISCELLANEOUS]                                                                                                                                                   The Paranormal Military Squad is a specialized team that operates out of Dulce Base. This unit is not only stationed within the confines of Dulce Base but is also actively involved in interstellar communication. Dulce Base serves as the central hub for the squad's operations, where they carry out their unique and covert activities.                 46\n",
       "5                 DR. JORDAN HAYES  [__Entity, ORGANIZATION]         [__Entity, PERSON]                                                                                                                                                                                                                                                                                                                     Dr. Jordan Hayes is a key member of the Paranormal Military Squad, contributing their expertise to the mission, particularly working on the alien code deciphering project.                 40\n",
       "6              DULCE MILITARY BASE  [__Entity, ORGANIZATION]            [__Entity, GEO]  The Paranormal Military Squad is a specialized unit that operates within the confines of the Dulce Military Base. This squad is dedicated to activities and missions that pertain to the paranormal, utilizing the facilities and resources of the Dulce Military Base as their operational headquarters. Both descriptions emphasize the integral relationship between the squad and the base, highlighting that the base serves as the home and primary location for the squad's operations.                 45\n",
       "7                       WASHINGTON  [__Entity, ORGANIZATION]            [__Entity, GEO]                                                                                                                                                                                                                                                                                                                                                                                          The Paranormal Military Squad team is in communication with Washington, suggesting a command structure                 41\n",
       "8                       NEW MEXICO  [__Entity, ORGANIZATION]            [__Entity, GEO]                                                                                                                                                                                                                                                                                                                                                                                         The Paranormal Military Squad team is convened in the heart of the Dulce military complex in New Mexico                 42\n",
       "9       INTERSTELLAR COMMUNICATION  [__Entity, ORGANIZATION]        [__Entity, CONCEPT]                                                                                                                                                                                                                                                                                                                                                                                                                        The Paranormal Military Squad team engages in interstellar communication                 44\n",
       "10          CLANDESTINE OPERATIONS  [__Entity, ORGANIZATION]        [__Entity, CONCEPT]                                                                                                                                                                                                                                                                                                                                                                                                                        The Paranormal Military Squad team is involved in clandestine operations                 43\n",
       "11               COVERT OPERATIONS  [__Entity, ORGANIZATION]        [__Entity, CONCEPT]                                                                                                                                                                                                                                                                                                                                                                               The Paranormal Military Squad is involved in covert operations related to extraterrestrial activity at Dulce Base                 47\n",
       "12               AGENT ALEX MERCER  [__Entity, ORGANIZATION]         [__Entity, PERSON]                                                                                                                                                                                                                                                                                                                                                                                                                                        Alex Mercer is a member of the Paranormal Military Squad                 48\n",
       "13                OPERATION: DULCE  [__Entity, ORGANIZATION]          [__Entity, EVENT]               The Paranormal Military Squad is a specialized team that has been assigned to carry out Operation: Dulce. This mission involves the squad engaging in activities that pertain to the paranormal or supernatural realm. The comprehensive description of the entity and the operation is that Operation: Dulce is a specific mission executed by the Paranormal Military Squad, with both terms referring to the same coordinated effort between the team and their assigned task.                 39\n",
       "14           OPTIMISM AND INTRIGUE        [__Entity, PERSON]        [__Entity, CONCEPT]                                                                                                                                                                                                                                                                                                                                                                                                     Sam Rivera's approach to extraterrestrial contact is characterized by optimism and intrigue                 27\n",
       "15                      DULCE BASE        [__Entity, PERSON]  [__Entity, MISCELLANEOUS]                                                                                                                                                                                                                                                                                                                                                                                      Sam Rivera is part of the Dulce Base team, contributing to the dialogue with extraterrestrial intelligence                 35\n",
       "16  PARANORMAL MILITARY SQUAD TEAM        [__Entity, PERSON]  [__Entity, MISCELLANEOUS]                                                                                                                                                                                                                                                                                                                                                                                 Sam Rivera is a member of the Paranormal Military Squad team, enthusiastic about the potential of first contact                 38\n",
       "17                DR. JORDAN HAYES        [__Entity, PERSON]         [__Entity, PERSON]                                                                                                                                                                                                                                                                                                                                                                  Dr. Jordan Hayes and Sam Rivera are colleagues in Paranormal Military Squad, each playing a role in the alien code deciphering                 34\n",
       "18                            CRUZ        [__Entity, PERSON]         [__Entity, PERSON]                                                                                                                                                                                                                                                                                                                                                                                  Cruz and Sam Rivera are both part of the same team, with Cruz commanding and Sam providing technical expertise                 28\n",
       "19                          TAYLOR        [__Entity, PERSON]         [__Entity, PERSON]                                                                                                                                                                                                                                                                                                                                                                                                               Taylor seeks counsel from Sam Rivera, indicating a working relationship and trust                 29"
      ]
     },
     "execution_count": 17,
     "metadata": {},
     "output_type": "execute_result"
    }
   ],
   "source": [
    "%%ngql \n",
    "\n",
    "MATCH (m)-[e:RELATED_TO]->(n)\n",
    "RETURN \n",
    "    properties(m).name AS Entity_Name,\n",
    "    tags(m) AS TAGS_of_Source,\n",
    "    properties(n).name AS Entity_Name,\n",
    "    tags(n) AS TAGS_of_Target,\n",
    "    e.description AS Description,\n",
    "    e.human_readable_id AS Human_Readable_ID\n",
    "LIMIT 20"
   ]
  },
  {
   "cell_type": "code",
   "execution_count": 22,
   "id": "58017a5c",
   "metadata": {},
   "outputs": [
    {
     "ename": "SyntaxError",
     "evalue": "invalid syntax (1814284400.py, line 5)",
     "output_type": "error",
     "traceback": [
      "\u001b[0;36m  Cell \u001b[0;32mIn[22], line 5\u001b[0;36m\u001b[0m\n\u001b[0;31m    MATCH p=(m)-[e:RELATED_TO]->(n)\u001b[0m\n\u001b[0m          ^\u001b[0m\n\u001b[0;31mSyntaxError\u001b[0m\u001b[0;31m:\u001b[0m invalid syntax\n"
     ]
    }
   ],
   "source": [
    "# You could also use %ng_draw to visualize the graph\n",
    "%load_ext ng_draw\n",
    "%%ng_draw\n",
    "\n",
    "MATCH p=(m)-[e:RELATED_TO]->(n)\n",
    "RETURN\n",
    "    p\n",
    "    LIMIT 20"
   ]
  },
  {
   "cell_type": "markdown",
   "id": "fba9fe42",
   "metadata": {},
   "source": [
    "### Raw Documents\n",
    "\n",
    "The single document is [here](https://github.com/microsoft/graphrag/blob/main/examples_notebooks/inputs/operation%20dulce/Operation%20Dulce%20v2%201%201.md), and during the Graph Indexing, it's splitted into text units/chunks.\n",
    "\n",
    "\n",
    "Below is the data schema of the processed df_text_units table:\n",
    "\n",
    "> df_text_units\n",
    "\n",
    "```\n",
    "<class 'pandas.core.frame.DataFrame'>\n",
    "RangeIndex: 12 entries, 0 to 11\n",
    "Data columns (total 7 columns):\n",
    " #   Column            Non-Null Count  Dtype \n",
    "---  ------            --------------  ----- \n",
    " 0   id                12 non-null     object\n",
    " 1   text              12 non-null     object\n",
    " 2   n_tokens          12 non-null     int64 \n",
    " 3   document_ids      12 non-null     object\n",
    " 4   entity_ids        12 non-null     object\n",
    " 5   relationship_ids  12 non-null     object\n",
    " 6   covariate_ids     12 non-null     object\n",
    "dtypes: int64(1), object(6)\n",
    "memory usage: 804.0+ bytes\n",
    "```"
   ]
  },
  {
   "cell_type": "code",
   "execution_count": 23,
   "id": "596fa533",
   "metadata": {},
   "outputs": [],
   "source": [
    "df_text_units = pd.read_parquet(\n",
    "    \"https://github.com/microsoft/graphrag/raw/main/examples_notebooks/inputs/operation%20dulce/create_final_text_units.parquet\"\n",
    ")"
   ]
  },
  {
   "cell_type": "code",
   "execution_count": 24,
   "id": "bede0e6c",
   "metadata": {},
   "outputs": [
    {
     "data": {
      "text/html": [
       "<div>\n",
       "<style scoped>\n",
       "    .dataframe tbody tr th:only-of-type {\n",
       "        vertical-align: middle;\n",
       "    }\n",
       "\n",
       "    .dataframe tbody tr th {\n",
       "        vertical-align: top;\n",
       "    }\n",
       "\n",
       "    .dataframe thead th {\n",
       "        text-align: right;\n",
       "    }\n",
       "</style>\n",
       "<table border=\"1\" class=\"dataframe\">\n",
       "  <thead>\n",
       "    <tr style=\"text-align: right;\">\n",
       "      <th></th>\n",
       "      <th>id</th>\n",
       "      <th>n_tokens</th>\n",
       "      <th>entity_ids</th>\n",
       "      <th>relationship_ids</th>\n",
       "    </tr>\n",
       "  </thead>\n",
       "  <tbody>\n",
       "    <tr>\n",
       "      <th>10</th>\n",
       "      <td>58227f6b1cad4bf95bb4a004db391c9e</td>\n",
       "      <td>2500</td>\n",
       "      <td>['b45241d70f0e43fca764df95b2b81f77' '4119fd06010c494caa07f439b333f4c5', ...]</td>\n",
       "      <td>['e02be3e37ca0454883a4c1fd859c24bb' '6e0c81bef5364c988b21bf9b709d9861', ...]</td>\n",
       "    </tr>\n",
       "    <tr>\n",
       "      <th>9</th>\n",
       "      <td>e74e58b69ef0036197960aec2bab84da</td>\n",
       "      <td>2500</td>\n",
       "      <td>['4119fd06010c494caa07f439b333f4c5' 'd3835bf3dda84ead99deadbeac5d0d7d', ...]</td>\n",
       "      <td>['27505f6ade4b4e5f9316ffe9c34821f7' '0ee7db2c6bea4630ba9f0c25e8a967ad', ...]</td>\n",
       "    </tr>\n",
       "    <tr>\n",
       "      <th>0</th>\n",
       "      <td>2cf7a230c367a2dfaf0fc3c903eb8948</td>\n",
       "      <td>2500</td>\n",
       "      <td>['b45241d70f0e43fca764df95b2b81f77' '4119fd06010c494caa07f439b333f4c5', ...]</td>\n",
       "      <td>['b35c3d1a7daa4924b6bdb58bc69c354d' 'a97e2ecd870944cfbe71c79bc0fcc752', ...]</td>\n",
       "    </tr>\n",
       "  </tbody>\n",
       "</table>\n",
       "</div>"
      ],
      "text/plain": [
       "                                  id  n_tokens                                                                    entity_ids                                                              relationship_ids\n",
       "10  58227f6b1cad4bf95bb4a004db391c9e      2500  ['b45241d70f0e43fca764df95b2b81f77' '4119fd06010c494caa07f439b333f4c5', ...]  ['e02be3e37ca0454883a4c1fd859c24bb' '6e0c81bef5364c988b21bf9b709d9861', ...]\n",
       "9   e74e58b69ef0036197960aec2bab84da      2500  ['4119fd06010c494caa07f439b333f4c5' 'd3835bf3dda84ead99deadbeac5d0d7d', ...]  ['27505f6ade4b4e5f9316ffe9c34821f7' '0ee7db2c6bea4630ba9f0c25e8a967ad', ...]\n",
       "0   2cf7a230c367a2dfaf0fc3c903eb8948      2500  ['b45241d70f0e43fca764df95b2b81f77' '4119fd06010c494caa07f439b333f4c5', ...]  ['b35c3d1a7daa4924b6bdb58bc69c354d' 'a97e2ecd870944cfbe71c79bc0fcc752', ...]"
      ]
     },
     "metadata": {},
     "output_type": "display_data"
    }
   ],
   "source": [
    "# Sample 3 rows from df_text_units for specified columns\n",
    "sampled_df = df_text_units[[\"id\", \"n_tokens\", \"entity_ids\", \"relationship_ids\"]].sample(\n",
    "    n=3, random_state=42\n",
    ")\n",
    "\n",
    "# Function to truncate array items\n",
    "def truncate_array(arr):\n",
    "    if len(arr) > 2:\n",
    "        return str(arr[:2])[:-1] + \", ...]\"\n",
    "    return str(arr)\n",
    "\n",
    "\n",
    "# Apply truncation to entity_ids and relationship_ids\n",
    "sampled_df[\"entity_ids\"] = sampled_df[\"entity_ids\"].apply(truncate_array)\n",
    "sampled_df[\"relationship_ids\"] = sampled_df[\"relationship_ids\"].apply(truncate_array)\n",
    "\n",
    "# Display the sampled rows in a table format\n",
    "display(sampled_df)"
   ]
  },
  {
   "cell_type": "markdown",
   "id": "89135489",
   "metadata": {},
   "source": [
    "As we know this dataset comes from one single long document, so we don't introduce the document content in the graph in this demo.\n",
    "\n",
    "Let's verify the document ids:"
   ]
  },
  {
   "cell_type": "code",
   "execution_count": 25,
   "id": "68fad9b5",
   "metadata": {},
   "outputs": [
    {
     "name": "stdout",
     "output_type": "stream",
     "text": [
      "Unique document IDs:\n",
      "958fdd043f17ade63cb13570b59df295\n",
      "\n",
      "Total number of unique documents: 1\n"
     ]
    }
   ],
   "source": [
    "# Get unique document IDs from df_text_units\n",
    "unique_document_ids = set()\n",
    "for doc_ids in df_text_units[\"document_ids\"]:\n",
    "    unique_document_ids.update(doc_ids.tolist())  # Convert numpy array to list\n",
    "\n",
    "# Convert to a list and sort for better readability\n",
    "unique_document_ids = sorted(list(unique_document_ids))\n",
    "\n",
    "print(\"Unique document IDs:\")\n",
    "for doc_id in unique_document_ids:\n",
    "    print(doc_id)\n",
    "\n",
    "print(f\"\\nTotal number of unique documents: {len(unique_document_ids)}\")"
   ]
  },
  {
   "cell_type": "markdown",
   "id": "9b2dd8fc",
   "metadata": {},
   "source": [
    "#### Add Text Unit to Graph\n",
    "\n",
    "- The text units are the raw textual chunks, we will add them as TAG `__Chunk` with properties `text`, `n_tokens`\n",
    "- For document_ids, we should introduce a new TAG `__Document` with properties `text`, `n_tokens`, but we omit it in this demo as only one document, thus the EDGE between `__Document` and `__Chunk` as `DOC_WITH_CHUNK` is not needed.\n",
    "- For entity_ids, we should introduce a new EDGE `CHUNK_WITH_ENTITY` to connect `__CHUNK` Vertex and all vertices' Vertex ID in `entity_ids`."
   ]
  },
  {
   "cell_type": "code",
   "execution_count": 26,
   "id": "c83dff1e",
   "metadata": {},
   "outputs": [
    {
     "data": {
      "text/html": [
       "<div>\n",
       "<style scoped>\n",
       "    .dataframe tbody tr th:only-of-type {\n",
       "        vertical-align: middle;\n",
       "    }\n",
       "\n",
       "    .dataframe tbody tr th {\n",
       "        vertical-align: top;\n",
       "    }\n",
       "\n",
       "    .dataframe thead th {\n",
       "        text-align: right;\n",
       "    }\n",
       "</style>\n",
       "<table border=\"1\" class=\"dataframe\">\n",
       "  <thead>\n",
       "    <tr style=\"text-align: right;\">\n",
       "      <th></th>\n",
       "    </tr>\n",
       "  </thead>\n",
       "  <tbody>\n",
       "  </tbody>\n",
       "</table>\n",
       "</div>"
      ],
      "text/plain": [
       "Empty DataFrame\n",
       "Columns: []\n",
       "Index: []"
      ]
     },
     "execution_count": 26,
     "metadata": {},
     "output_type": "execute_result"
    }
   ],
   "source": [
    "%ngql CREATE TAG IF NOT EXISTS `__Chunk` (text string, n_tokens int);\n",
    "%ngql CREATE EDGE IF NOT EXISTS `CHUNK_WITH_ENTITY` ();"
   ]
  },
  {
   "cell_type": "markdown",
   "id": "088d4540",
   "metadata": {},
   "source": [
    "The `__Chunk` TAG could be loaded from `df_text_units` directly.\n",
    "\n",
    "Let's prepare for `CHUNK_WITH_ENTITY` EDGE data in CSV file."
   ]
  },
  {
   "cell_type": "code",
   "execution_count": 27,
   "id": "6eff7cf9",
   "metadata": {},
   "outputs": [
    {
     "name": "stdout",
     "output_type": "stream",
     "text": [
      "CHUNK_WITH_ENTITY edge data saved to data/CHUNK_WITH_ENTITY.csv\n",
      "Total edges: 307\n"
     ]
    }
   ],
   "source": [
    "# Prepare CHUNK_WITH_ENTITY edge data\n",
    "chunk_entity_edges = []\n",
    "\n",
    "for _, row in df_text_units.iterrows():\n",
    "    chunk_id = row[\"id\"]\n",
    "    entity_ids = row[\"entity_ids\"]\n",
    "\n",
    "    for entity_id in entity_ids:\n",
    "        # Find the corresponding human_readable_id and name from df_entities\n",
    "        entity_row = df_entities[df_entities[\"id\"] == entity_id]\n",
    "        if not entity_row.empty:\n",
    "            human_readable_id = entity_row[\"human_readable_id\"].values[0]\n",
    "            entity_name = entity_row[\"name\"].values[0]\n",
    "            entity_vertex_id = f\"entity_{human_readable_id}\"\n",
    "\n",
    "            # Append the edge data with entity name\n",
    "            chunk_entity_edges.append([chunk_id, entity_vertex_id, entity_name])\n",
    "\n",
    "# Create a DataFrame for the edges\n",
    "df_chunk_entity_edges = pd.DataFrame(\n",
    "    chunk_entity_edges, columns=[\"chunk_id\", \"entity_id\", \"entity_name\"]\n",
    ")\n",
    "\n",
    "# Save to CSV\n",
    "csv_path = \"data/CHUNK_WITH_ENTITY.csv\"\n",
    "df_chunk_entity_edges.to_csv(csv_path, index=False)\n",
    "\n",
    "print(f\"CHUNK_WITH_ENTITY edge data saved to {csv_path}\")\n",
    "print(f\"Total edges: {len(df_chunk_entity_edges)}\")"
   ]
  },
  {
   "cell_type": "code",
   "execution_count": 28,
   "id": "2470e599",
   "metadata": {},
   "outputs": [
    {
     "name": "stdout",
     "output_type": "stream",
     "text": [
      "==> data/CHUNK_WITH_ENTITY.csv <==\n",
      "chunk_id,entity_id,entity_name\n",
      "2cf7a230c367a2dfaf0fc3c903eb8948,entity_0,ALEX MERCER\n",
      "2cf7a230c367a2dfaf0fc3c903eb8948,entity_1,TAYLOR CRUZ\n",
      "2cf7a230c367a2dfaf0fc3c903eb8948,entity_2,JORDAN HAYES\n",
      "2cf7a230c367a2dfaf0fc3c903eb8948,entity_3,SAM RIVERA\n",
      "2cf7a230c367a2dfaf0fc3c903eb8948,entity_4,PARANORMAL MILITARY SQUAD\n",
      "2cf7a230c367a2dfaf0fc3c903eb8948,entity_5,OPERATION: DULCE\n",
      "2cf7a230c367a2dfaf0fc3c903eb8948,entity_6,DR. ELENA SANTOS\n",
      "2cf7a230c367a2dfaf0fc3c903eb8948,entity_7,AGENT KYLE BRADLEY\n",
      "2cf7a230c367a2dfaf0fc3c903eb8948,entity_8,LIEUTENANT MIA CHEN\n",
      "head: -n: No such file or directory\n",
      "head: 3: No such file or directory\n"
     ]
    }
   ],
   "source": [
    "!head data/CHUNK_WITH_ENTITY.csv -n 3"
   ]
  },
  {
   "cell_type": "markdown",
   "id": "b5733cd1",
   "metadata": {},
   "source": [
    "Load the data into NebulaGraph:"
   ]
  },
  {
   "cell_type": "code",
   "execution_count": 29,
   "id": "73e874a0",
   "metadata": {},
   "outputs": [
    {
     "name": "stdout",
     "output_type": "stream",
     "text": [
      "\u001b[1;3;38;2;0;120;215m[INFO] Parsed 307 edges 'ms_paper' for edge type 'CHUNK_WITH_ENTITY' in memory\u001b[0m\n"
     ]
    },
    {
     "data": {
      "application/vnd.jupyter.widget-view+json": {
       "model_id": "5ac8befc93b04d6f811f4bc0271657de",
       "version_major": 2,
       "version_minor": 0
      },
      "text/plain": [
       "Loading Edges:   0%|          | 0/2 [00:00<?, ?it/s]"
      ]
     },
     "metadata": {},
     "output_type": "display_data"
    },
    {
     "name": "stdout",
     "output_type": "stream",
     "text": [
      "\u001b[1;3;38;2;249;93;106m[ERROR]:\n",
      " Query Failed:\n",
      " EdgeNotFound: EdgeName `CHUNK_WITH_ENTITY`\n",
      " Query:\n",
      " INSERT EDGE `CHUNK_WITH_ENTITY` () VALUES \"2cf7a230c367a2dfaf0fc3c903eb8948\" -> \"entity_0\":(), \"2cf7a230c367a2dfaf0fc3c903eb8948\" -> \"entity_1\":(), \"2cf7a230c367a2dfaf0fc3c903eb8948\" -> \"entity_2\":(), \"2cf7a230c367a2dfaf0fc3c903eb8948\" -> \"entity_3\":(), \"2cf7a230c367a2dfaf0fc3c903eb8948\" -> \"entity_4\":(), \"2cf7a230c367a2dfaf0fc3c903eb8948\" -> \"entity_5\":(), \"2cf7a230c367a2dfaf0fc3c903eb8948\" -> \"entity_6\":(), \"2cf7a230c367a2dfaf0fc3c903eb8948\" -> \"entity_7\":(), \"2cf7a230c367a2dfaf0fc3c903eb8948\" -> \"entity_8\":(), \"2cf7a230c367a2dfaf0fc3c903eb8948\" -> \"entity_9\":(), \"2cf7a230c367a2dfaf0fc3c903eb8948\" -> \"entity_10\":(), \"2cf7a230c367a2dfaf0fc3c903eb8948\" -> \"entity_11\":(), \"2cf7a230c367a2dfaf0fc3c903eb8948\" -> \"entity_12\":(), \"2cf7a230c367a2dfaf0fc3c903eb8948\" -> \"entity_13\":(), \"2cf7a230c367a2dfaf0fc3c903eb8948\" -> \"entity_14\":(), \"2cf7a230c367a2dfaf0fc3c903eb8948\" -> \"entity_15\":(), \"2cf7a230c367a2dfaf0fc3c903eb8948\" -> \"entity_16\":(), \"2cf7a230c367a2dfaf0fc3c903eb8948\" -> \"entity_17\":(), \"2cf7a230c367a2dfaf0fc3c903eb8948\" -> \"entity_18\":(), \"2cf7a230c367a2dfaf0fc3c903eb8948\" -> \"entity_19\":(), \"2cf7a230c367a2dfaf0fc3c903eb8948\" -> \"entity_20\":(), \"2cf7a230c367a2dfaf0fc3c903eb8948\" -> \"entity_21\":(), \"2cf7a230c367a2dfaf0fc3c903eb8948\" -> \"entity_22\":(), \"2cf7a230c367a2dfaf0fc3c903eb8948\" -> \"entity_23\":(), \"2cf7a230c367a2dfaf0fc3c903eb8948\" -> \"entity_24\":(), \"2cf7a230c367a2dfaf0fc3c903eb8948\" -> \"entity_25\":(), \"2cf7a230c367a2dfaf0fc3c903eb8948\" -> \"entity_26\":(), \"2cf7a230c367a2dfaf0fc3c903eb8948\" -> \"entity_27\":(), \"2cf7a230c367a2dfaf0fc3c903eb8948\" -> \"entity_28\":(), \"2cf7a230c367a2dfaf0fc3c903eb8948\" -> \"entity_29\":(), \"2cf7a230c367a2dfaf0fc3c903eb8948\" -> \"entity_30\":(), \"2cf7a230c367a2dfaf0fc3c903eb8948\" -> \"entity_31\":(), \"2cf7a230c367a2dfaf0fc3c903eb8948\" -> \"entity_32\":(), \"2cf7a230c367a2dfaf0fc3c903eb8948\" -> \"entity_33\":(), \"2cf7a230c367a2dfaf0fc3c903eb8948\" -> \"entity_34\":(), \"2cf7a230c367a2dfaf0fc3c903eb8948\" -> \"entity_35\":(), \"2cf7a230c367a2dfaf0fc3c903eb8948\" -> \"entity_36\":(), \"2cf7a230c367a2dfaf0fc3c903eb8948\" -> \"entity_37\":(), \"2cf7a230c367a2dfaf0fc3c903eb8948\" -> \"entity_38\":(), \"2cf7a230c367a2dfaf0fc3c903eb8948\" -> \"entity_39\":(), \"2cf7a230c367a2dfaf0fc3c903eb8948\" -> \"entity_40\":(), \"2cf7a230c367a2dfaf0fc3c903eb8948\" -> \"entity_41\":(), \"2cf7a230c367a2dfaf0fc3c903eb8948\" -> \"entity_42\":(), \"2cf7a230c367a2dfaf0fc3c903eb8948\" -> \"entity_43\":(), \"2cf7a230c367a2dfaf0fc3c903eb8948\" -> \"entity_44\":(), \"2cf7a230c367a2dfaf0fc3c903eb8948\" -> \"entity_45\":(), \"2cf7a230c367a2dfaf0fc3c903eb8948\" -> \"entity_46\":(), \"2cf7a230c367a2dfaf0fc3c903eb8948\" -> \"entity_47\":(), \"2cf7a230c367a2dfaf0fc3c903eb8948\" -> \"entity_48\":(), \"2cf7a230c367a2dfaf0fc3c903eb8948\" -> \"entity_49\":(), \"2cf7a230c367a2dfaf0fc3c903eb8948\" -> \"entity_50\":(), \"2cf7a230c367a2dfaf0fc3c903eb8948\" -> \"entity_51\":(), \"2cf7a230c367a2dfaf0fc3c903eb8948\" -> \"entity_52\":(), \"2cf7a230c367a2dfaf0fc3c903eb8948\" -> \"entity_53\":(), \"2cf7a230c367a2dfaf0fc3c903eb8948\" -> \"entity_54\":(), \"2cf7a230c367a2dfaf0fc3c903eb8948\" -> \"entity_55\":(), \"2cf7a230c367a2dfaf0fc3c903eb8948\" -> \"entity_56\":(), \"2cf7a230c367a2dfaf0fc3c903eb8948\" -> \"entity_57\":(), \"2cf7a230c367a2dfaf0fc3c903eb8948\" -> \"entity_58\":(), \"2cf7a230c367a2dfaf0fc3c903eb8948\" -> \"entity_59\":(), \"2cf7a230c367a2dfaf0fc3c903eb8948\" -> \"entity_60\":(), \"2cf7a230c367a2dfaf0fc3c903eb8948\" -> \"entity_61\":(), \"2cf7a230c367a2dfaf0fc3c903eb8948\" -> \"entity_62\":(), \"2cf7a230c367a2dfaf0fc3c903eb8948\" -> \"entity_63\":(), \"2cf7a230c367a2dfaf0fc3c903eb8948\" -> \"entity_64\":(), \"2cf7a230c367a2dfaf0fc3c903eb8948\" -> \"entity_65\":(), \"2cf7a230c367a2dfaf0fc3c903eb8948\" -> \"entity_66\":(), \"2cf7a230c367a2dfaf0fc3c903eb8948\" -> \"entity_67\":(), \"2cf7a230c367a2dfaf0fc3c903eb8948\" -> \"entity_68\":(), \"2cf7a230c367a2dfaf0fc3c903eb8948\" -> \"entity_69\":(), \"2cf7a230c367a2dfaf0fc3c903eb8948\" -> \"entity_70\":(), \"2cf7a230c367a2dfaf0fc3c903eb8948\" -> \"entity_71\":(), \"2cf7a230c367a2dfaf0fc3c903eb8948\" -> \"entity_72\":(), \"2cf7a230c367a2dfaf0fc3c903eb8948\" -> \"entity_73\":(), \"2cf7a230c367a2dfaf0fc3c903eb8948\" -> \"entity_74\":(), \"2cf7a230c367a2dfaf0fc3c903eb8948\" -> \"entity_75\":(), \"2cf7a230c367a2dfaf0fc3c903eb8948\" -> \"entity_76\":(), \"2cf7a230c367a2dfaf0fc3c903eb8948\" -> \"entity_77\":(), \"2cf7a230c367a2dfaf0fc3c903eb8948\" -> \"entity_78\":(), \"2cf7a230c367a2dfaf0fc3c903eb8948\" -> \"entity_79\":(), \"2cf7a230c367a2dfaf0fc3c903eb8948\" -> \"entity_80\":(), \"2cf7a230c367a2dfaf0fc3c903eb8948\" -> \"entity_81\":(), \"2cf7a230c367a2dfaf0fc3c903eb8948\" -> \"entity_82\":(), \"2cf7a230c367a2dfaf0fc3c903eb8948\" -> \"entity_83\":(), \"2cf7a230c367a2dfaf0fc3c903eb8948\" -> \"entity_84\":(), \"2cf7a230c367a2dfaf0fc3c903eb8948\" -> \"entity_85\":(), \"2cf7a230c367a2dfaf0fc3c903eb8948\" -> \"entity_86\":(), \"2cf7a230c367a2dfaf0fc3c903eb8948\" -> \"entity_87\":(), \"2cf7a230c367a2dfaf0fc3c903eb8948\" -> \"entity_88\":(), \"2cf7a230c367a2dfaf0fc3c903eb8948\" -> \"entity_89\":(), \"2cf7a230c367a2dfaf0fc3c903eb8948\" -> \"entity_90\":(), \"2cf7a230c367a2dfaf0fc3c903eb8948\" -> \"entity_91\":(), \"2cf7a230c367a2dfaf0fc3c903eb8948\" -> \"entity_92\":(), \"2cf7a230c367a2dfaf0fc3c903eb8948\" -> \"entity_93\":(), \"2cf7a230c367a2dfaf0fc3c903eb8948\" -> \"entity_94\":(), \"2cf7a230c367a2dfaf0fc3c903eb8948\" -> \"entity_95\":(), \"2cf7a230c367a2dfaf0fc3c903eb8948\" -> \"entity_96\":(), \"2cf7a230c367a2dfaf0fc3c903eb8948\" -> \"entity_97\":(), \"2cf7a230c367a2dfaf0fc3c903eb8948\" -> \"entity_98\":(), \"2cf7a230c367a2dfaf0fc3c903eb8948\" -> \"entity_99\":(), \"2cf7a230c367a2dfaf0fc3c903eb8948\" -> \"entity_100\":(), \"2cf7a230c367a2dfaf0fc3c903eb8948\" -> \"entity_101\":(), \"2cf7a230c367a2dfaf0fc3c903eb8948\" -> \"entity_102\":(), \"2cf7a230c367a2dfaf0fc3c903eb8948\" -> \"entity_103\":(), \"2cf7a230c367a2dfaf0fc3c903eb8948\" -> \"entity_104\":(), \"6d1255303acb7c9dc951cb0f5fc3042c\" -> \"entity_0\":(), \"6d1255303acb7c9dc951cb0f5fc3042c\" -> \"entity_1\":(), \"6d1255303acb7c9dc951cb0f5fc3042c\" -> \"entity_2\":(), \"6d1255303acb7c9dc951cb0f5fc3042c\" -> \"entity_3\":(), \"6d1255303acb7c9dc951cb0f5fc3042c\" -> \"entity_5\":(), \"6d1255303acb7c9dc951cb0f5fc3042c\" -> \"entity_102\":(), \"6d1255303acb7c9dc951cb0f5fc3042c\" -> \"entity_105\":(), \"6d1255303acb7c9dc951cb0f5fc3042c\" -> \"entity_106\":(), \"6d1255303acb7c9dc951cb0f5fc3042c\" -> \"entity_107\":(), \"6d1255303acb7c9dc951cb0f5fc3042c\" -> \"entity_108\":(), \"6d1255303acb7c9dc951cb0f5fc3042c\" -> \"entity_109\":(), \"6d1255303acb7c9dc951cb0f5fc3042c\" -> \"entity_110\":(), \"6d1255303acb7c9dc951cb0f5fc3042c\" -> \"entity_111\":(), \"6d1255303acb7c9dc951cb0f5fc3042c\" -> \"entity_112\":(), \"6d1255303acb7c9dc951cb0f5fc3042c\" -> \"entity_113\":(), \"6d1255303acb7c9dc951cb0f5fc3042c\" -> \"entity_114\":(), \"6d1255303acb7c9dc951cb0f5fc3042c\" -> \"entity_115\":(), \"e841f178310356740b2ee9101d12c97f\" -> \"entity_0\":(), \"e841f178310356740b2ee9101d12c97f\" -> \"entity_1\":(), \"e841f178310356740b2ee9101d12c97f\" -> \"entity_2\":(), \"e841f178310356740b2ee9101d12c97f\" -> \"entity_3\":(), \"e841f178310356740b2ee9101d12c97f\" -> \"entity_5\":(), \"e841f178310356740b2ee9101d12c97f\" -> \"entity_116\":(), \"e841f178310356740b2ee9101d12c97f\" -> \"entity_117\":(), \"e841f178310356740b2ee9101d12c97f\" -> \"entity_118\":(), \"e841f178310356740b2ee9101d12c97f\" -> \"entity_119\":(), \"e841f178310356740b2ee9101d12c97f\" -> \"entity_120\":(), \"e841f178310356740b2ee9101d12c97f\" -> \"entity_121\":(), \"e841f178310356740b2ee9101d12c97f\" -> \"entity_122\":(), \"e841f178310356740b2ee9101d12c97f\" -> \"entity_123\":(), \"e841f178310356740b2ee9101d12c97f\" -> \"entity_124\":(), \"e841f178310356740b2ee9101d12c97f\" -> \"entity_125\":(), \"e841f178310356740b2ee9101d12c97f\" -> \"entity_126\":(), \"e841f178310356740b2ee9101d12c97f\" -> \"entity_127\":(), \"e841f178310356740b2ee9101d12c97f\" -> \"entity_128\":(), \"e841f178310356740b2ee9101d12c97f\" -> \"entity_129\":(), \"e841f178310356740b2ee9101d12c97f\" -> \"entity_130\":(), \"e841f178310356740b2ee9101d12c97f\" -> \"entity_131\":(), \"e841f178310356740b2ee9101d12c97f\" -> \"entity_132\":(), \"e841f178310356740b2ee9101d12c97f\" -> \"entity_133\":(), \"f36d96862b9366d7240b5c7ceb04f12b\" -> \"entity_0\":(), \"f36d96862b9366d7240b5c7ceb04f12b\" -> \"entity_1\":(), \"f36d96862b9366d7240b5c7ceb04f12b\" -> \"entity_3\":(), \"f36d96862b9366d7240b5c7ceb04f12b\" -> \"entity_4\":(), \"f36d96862b9366d7240b5c7ceb04f12b\" -> \"entity_104\":(), \"f36d96862b9366d7240b5c7ceb04f12b\" -> \"entity_118\":(), \"f36d96862b9366d7240b5c7ceb04f12b\" -> \"entity_127\":(), \"f36d96862b9366d7240b5c7ceb04f12b\" -> \"entity_134\":(), \"f36d96862b9366d7240b5c7ceb04f12b\" -> \"entity_135\":(), \"f36d96862b9366d7240b5c7ceb04f12b\" -> \"entity_136\":(), \"f36d96862b9366d7240b5c7ceb04f12b\" -> \"entity_137\":(), \"f36d96862b9366d7240b5c7ceb04f12b\" -> \"entity_138\":(), \"f36d96862b9366d7240b5c7ceb04f12b\" -> \"entity_139\":(), \"f36d96862b9366d7240b5c7ceb04f12b\" -> \"entity_140\":(), \"f36d96862b9366d7240b5c7ceb04f12b\" -> \"entity_141\":(), \"f36d96862b9366d7240b5c7ceb04f12b\" -> \"entity_142\":(), \"f36d96862b9366d7240b5c7ceb04f12b\" -> \"entity_143\":(), \"f36d96862b9366d7240b5c7ceb04f12b\" -> \"entity_144\":(), \"f36d96862b9366d7240b5c7ceb04f12b\" -> \"entity_145\":(), \"f36d96862b9366d7240b5c7ceb04f12b\" -> \"entity_146\":(), \"f36d96862b9366d7240b5c7ceb04f12b\" -> \"entity_147\":(), \"f36d96862b9366d7240b5c7ceb04f12b\" -> \"entity_148\":(), \"f36d96862b9366d7240b5c7ceb04f12b\" -> \"entity_149\":(), \"f36d96862b9366d7240b5c7ceb04f12b\" -> \"entity_150\":(), \"f36d96862b9366d7240b5c7ceb04f12b\" -> \"entity_151\":(), \"f36d96862b9366d7240b5c7ceb04f12b\" -> \"entity_152\":(), \"f36d96862b9366d7240b5c7ceb04f12b\" -> \"entity_153\":(), \"f36d96862b9366d7240b5c7ceb04f12b\" -> \"entity_154\":(), \"f36d96862b9366d7240b5c7ceb04f12b\" -> \"entity_155\":(), \"f36d96862b9366d7240b5c7ceb04f12b\" -> \"entity_156\":(), \"f36d96862b9366d7240b5c7ceb04f12b\" -> \"entity_157\":(), \"f36d96862b9366d7240b5c7ceb04f12b\" -> \"entity_158\":(), \"f36d96862b9366d7240b5c7ceb04f12b\" -> \"entity_159\":(), \"f7d43808d2fb452cd953bf50c6de6bd4\" -> \"entity_0\":(), \"f7d43808d2fb452cd953bf50c6de6bd4\" -> \"entity_1\":(), \"f7d43808d2fb452cd953bf50c6de6bd4\" -> \"entity_2\":(), \"f7d43808d2fb452cd953bf50c6de6bd4\" -> \"entity_3\":(), \"f7d43808d2fb452cd953bf50c6de6bd4\" -> \"entity_4\":(), \"f7d43808d2fb452cd953bf50c6de6bd4\" -> \"entity_5\":(), \"f7d43808d2fb452cd953bf50c6de6bd4\" -> \"entity_116\":(), \"f7d43808d2fb452cd953bf50c6de6bd4\" -> \"entity_138\":(), \"f7d43808d2fb452cd953bf50c6de6bd4\" -> \"entity_158\":(), \"f7d43808d2fb452cd953bf50c6de6bd4\" -> \"entity_160\":(), \"f7d43808d2fb452cd953bf50c6de6bd4\" -> \"entity_161\":(), \"f7d43808d2fb452cd953bf50c6de6bd4\" -> \"entity_162\":(), \"f7d43808d2fb452cd953bf50c6de6bd4\" -> \"entity_163\":(), \"f7d43808d2fb452cd953bf50c6de6bd4\" -> \"entity_164\":(), \"f7d43808d2fb452cd953bf50c6de6bd4\" -> \"entity_165\":(), \"f7d43808d2fb452cd953bf50c6de6bd4\" -> \"entity_166\":(), \"f7d43808d2fb452cd953bf50c6de6bd4\" -> \"entity_167\":(), \"1e433d6b30887893e803d716486b14f0\" -> \"entity_0\":(), \"1e433d6b30887893e803d716486b14f0\" -> \"entity_1\":(), \"1e433d6b30887893e803d716486b14f0\" -> \"entity_3\":(), \"1e433d6b30887893e803d716486b14f0\" -> \"entity_4\":(), \"1e433d6b30887893e803d716486b14f0\" -> \"entity_104\":(), \"1e433d6b30887893e803d716486b14f0\" -> \"entity_136\":(), \"1e433d6b30887893e803d716486b14f0\" -> \"entity_168\":(), \"1e433d6b30887893e803d716486b14f0\" -> \"entity_169\":(), \"1e433d6b30887893e803d716486b14f0\" -> \"entity_170\":(), \"1e433d6b30887893e803d716486b14f0\" -> \"entity_171\":(), \"1e433d6b30887893e803d716486b14f0\" -> \"entity_172\":(), \"1e433d6b30887893e803d716486b14f0\" -> \"entity_173\":(), \"1e433d6b30887893e803d716486b14f0\" -> \"entity_174\":(), \"1e433d6b30887893e803d716486b14f0\" -> \"entity_175\":(), \"1e433d6b30887893e803d716486b14f0\" -> \"entity_176\":(), \"1e433d6b30887893e803d716486b14f0\" -> \"entity_177\":(), \"1e433d6b30887893e803d716486b14f0\" -> \"entity_178\":(), \"1e433d6b30887893e803d716486b14f0\" -> \"entity_179\":(), \"fd770b8888123872162a66dcd19c96d8\" -> \"entity_0\":(), \"fd770b8888123872162a66dcd19c96d8\" -> \"entity_1\":(), \"fd770b8888123872162a66dcd19c96d8\" -> \"entity_2\":(), \"fd770b8888123872162a66dcd19c96d8\" -> \"entity_3\":(), \"fd770b8888123872162a66dcd19c96d8\" -> \"entity_4\":(), \"fd770b8888123872162a66dcd19c96d8\" -> \"entity_102\":(), \"fd770b8888123872162a66dcd19c96d8\" -> \"entity_157\":(), \"fd770b8888123872162a66dcd19c96d8\" -> \"entity_168\":(), \"fd770b8888123872162a66dcd19c96d8\" -> \"entity_178\":(), \"fd770b8888123872162a66dcd19c96d8\" -> \"entity_180\":(), \"fd770b8888123872162a66dcd19c96d8\" -> \"entity_181\":(), \"fd770b8888123872162a66dcd19c96d8\" -> \"entity_182\":(), \"fd770b8888123872162a66dcd19c96d8\" -> \"entity_183\":(), \"fd770b8888123872162a66dcd19c96d8\" -> \"entity_184\":(), \"fd770b8888123872162a66dcd19c96d8\" -> \"entity_185\":(), \"fd770b8888123872162a66dcd19c96d8\" -> \"entity_186\":(), \"fd770b8888123872162a66dcd19c96d8\" -> \"entity_187\":(), \"fd770b8888123872162a66dcd19c96d8\" -> \"entity_188\":(), \"6ce53dc78770579f3d8369771db6f80c\" -> \"entity_0\":(), \"6ce53dc78770579f3d8369771db6f80c\" -> \"entity_1\":(), \"6ce53dc78770579f3d8369771db6f80c\" -> \"entity_2\":(), \"6ce53dc78770579f3d8369771db6f80c\" -> \"entity_3\":(), \"6ce53dc78770579f3d8369771db6f80c\" -> \"entity_4\":(), \"6ce53dc78770579f3d8369771db6f80c\" -> \"entity_116\":(), \"6ce53dc78770579f3d8369771db6f80c\" -> \"entity_189\":(), \"6ce53dc78770579f3d8369771db6f80c\" -> \"entity_190\":(), \"6ce53dc78770579f3d8369771db6f80c\" -> \"entity_191\":(), \"6ce53dc78770579f3d8369771db6f80c\" -> \"entity_192\":(), \"6ce53dc78770579f3d8369771db6f80c\" -> \"entity_193\":(), \"6ce53dc78770579f3d8369771db6f80c\" -> \"entity_194\":(), \"6ce53dc78770579f3d8369771db6f80c\" -> \"entity_195\":(), \"6ce53dc78770579f3d8369771db6f80c\" -> \"entity_196\":(), \"6ce53dc78770579f3d8369771db6f80c\" -> \"entity_197\":(), \"6ce53dc78770579f3d8369771db6f80c\" -> \"entity_198\":(), \"00fafabae48948779fee2afe600f5143\" -> \"entity_0\":(), \"00fafabae48948779fee2afe600f5143\" -> \"entity_1\":(), \"00fafabae48948779fee2afe600f5143\" -> \"entity_2\":(), \"00fafabae48948779fee2afe600f5143\" -> \"entity_3\":(), \"00fafabae48948779fee2afe600f5143\" -> \"entity_4\":(), \"00fafabae48948779fee2afe600f5143\" -> \"entity_102\":(), \"00fafabae48948779fee2afe600f5143\" -> \"entity_156\":(), \"00fafabae48948779fee2afe600f5143\" -> \"entity_158\":(), \"00fafabae48948779fee2afe600f5143\" -> \"entity_162\":();\u001b[0m\n",
      "Loaded 256 of 307 edges\n",
      "\u001b[1;3;38;2;249;93;106m[ERROR]:\n",
      " Query Failed:\n",
      " EdgeNotFound: EdgeName `CHUNK_WITH_ENTITY`\n",
      " Query:\n",
      " INSERT EDGE `CHUNK_WITH_ENTITY` () VALUES \"00fafabae48948779fee2afe600f5143\" -> \"entity_199\":(), \"00fafabae48948779fee2afe600f5143\" -> \"entity_200\":(), \"00fafabae48948779fee2afe600f5143\" -> \"entity_201\":(), \"00fafabae48948779fee2afe600f5143\" -> \"entity_202\":(), \"00fafabae48948779fee2afe600f5143\" -> \"entity_203\":(), \"00fafabae48948779fee2afe600f5143\" -> \"entity_204\":(), \"00fafabae48948779fee2afe600f5143\" -> \"entity_205\":(), \"00fafabae48948779fee2afe600f5143\" -> \"entity_206\":(), \"00fafabae48948779fee2afe600f5143\" -> \"entity_207\":(), \"00fafabae48948779fee2afe600f5143\" -> \"entity_208\":(), \"e74e58b69ef0036197960aec2bab84da\" -> \"entity_1\":(), \"e74e58b69ef0036197960aec2bab84da\" -> \"entity_2\":(), \"e74e58b69ef0036197960aec2bab84da\" -> \"entity_3\":(), \"e74e58b69ef0036197960aec2bab84da\" -> \"entity_4\":(), \"e74e58b69ef0036197960aec2bab84da\" -> \"entity_5\":(), \"e74e58b69ef0036197960aec2bab84da\" -> \"entity_102\":(), \"e74e58b69ef0036197960aec2bab84da\" -> \"entity_126\":(), \"e74e58b69ef0036197960aec2bab84da\" -> \"entity_138\":(), \"e74e58b69ef0036197960aec2bab84da\" -> \"entity_199\":(), \"e74e58b69ef0036197960aec2bab84da\" -> \"entity_201\":(), \"e74e58b69ef0036197960aec2bab84da\" -> \"entity_209\":(), \"e74e58b69ef0036197960aec2bab84da\" -> \"entity_210\":(), \"e74e58b69ef0036197960aec2bab84da\" -> \"entity_211\":(), \"e74e58b69ef0036197960aec2bab84da\" -> \"entity_212\":(), \"e74e58b69ef0036197960aec2bab84da\" -> \"entity_213\":(), \"e74e58b69ef0036197960aec2bab84da\" -> \"entity_214\":(), \"e74e58b69ef0036197960aec2bab84da\" -> \"entity_215\":(), \"58227f6b1cad4bf95bb4a004db391c9e\" -> \"entity_0\":(), \"58227f6b1cad4bf95bb4a004db391c9e\" -> \"entity_1\":(), \"58227f6b1cad4bf95bb4a004db391c9e\" -> \"entity_2\":(), \"58227f6b1cad4bf95bb4a004db391c9e\" -> \"entity_3\":(), \"58227f6b1cad4bf95bb4a004db391c9e\" -> \"entity_4\":(), \"58227f6b1cad4bf95bb4a004db391c9e\" -> \"entity_102\":(), \"58227f6b1cad4bf95bb4a004db391c9e\" -> \"entity_156\":(), \"58227f6b1cad4bf95bb4a004db391c9e\" -> \"entity_157\":(), \"58227f6b1cad4bf95bb4a004db391c9e\" -> \"entity_158\":(), \"58227f6b1cad4bf95bb4a004db391c9e\" -> \"entity_159\":(), \"58227f6b1cad4bf95bb4a004db391c9e\" -> \"entity_170\":(), \"73011d975a4700a15ab8e3a0df2c50ca\" -> \"entity_1\":(), \"73011d975a4700a15ab8e3a0df2c50ca\" -> \"entity_3\":(), \"73011d975a4700a15ab8e3a0df2c50ca\" -> \"entity_96\":(), \"73011d975a4700a15ab8e3a0df2c50ca\" -> \"entity_97\":(), \"73011d975a4700a15ab8e3a0df2c50ca\" -> \"entity_98\":(), \"73011d975a4700a15ab8e3a0df2c50ca\" -> \"entity_99\":(), \"73011d975a4700a15ab8e3a0df2c50ca\" -> \"entity_100\":(), \"73011d975a4700a15ab8e3a0df2c50ca\" -> \"entity_101\":(), \"73011d975a4700a15ab8e3a0df2c50ca\" -> \"entity_102\":(), \"73011d975a4700a15ab8e3a0df2c50ca\" -> \"entity_103\":(), \"73011d975a4700a15ab8e3a0df2c50ca\" -> \"entity_104\":(), \"73011d975a4700a15ab8e3a0df2c50ca\" -> \"entity_209\":(), \"73011d975a4700a15ab8e3a0df2c50ca\" -> \"entity_216\":();\u001b[0m\n",
      "Loaded 307 of 307 edges\n",
      "\u001b[1;3;38;2;0;135;107m[INFO] Successfully loaded 307 edges 'ms_paper' for edge type 'CHUNK_WITH_ENTITY'\u001b[0m\n",
      "\u001b[1;3;38;2;0;120;215m[INFO] Parsed 12 vertices 'ms_paper' for tag '__Chunk' in memory\u001b[0m\n"
     ]
    },
    {
     "data": {
      "application/vnd.jupyter.widget-view+json": {
       "model_id": "b707f66246d54899bd58322b9afd7fd6",
       "version_major": 2,
       "version_minor": 0
      },
      "text/plain": [
       "Loading Vertices:   0%|          | 0/1 [00:00<?, ?it/s]"
      ]
     },
     "metadata": {},
     "output_type": "display_data"
    },
    {
     "name": "stdout",
     "output_type": "stream",
     "text": [
      "\u001b[1;3;38;2;249;93;106m[ERROR]:\n",
      " Query Failed:\n",
      " SemanticError: No schema found for `__Chunk'\n",
      " Query:\n",
      " INSERT VERTEX `__Chunk` (`text`, `n_tokens`) VALUES \"2cf7a230c367a2dfaf0fc3c903eb8948\":(\"# Operation: Dulce\\n\\n## Chapter 1\\n\\nThe thrumming of monitors cast a stark contrast to the rigid silence enveloping the group. Agent Alex Mercer, unfailingly determined on paper, seemed dwarfed by the enormity of the sterile briefing room where Paranormal Military Squad's elite convened. With dulled eyes, he scanned the projectors outlining their impending odyssey into Operation: Dulce.\\n\\n“I assume, Agent Mercer, you’re not having second thoughts?” It was Taylor Cruz’s voice, laced with an edge that demanded attention.\\n\\nAlex flickered a strained smile, still thumbing his folder's corner. \\\"Of course not, Agent Cruz. Just trying to soak in all the details.\\\" The compliance in his tone was unsettling, even to himself.\\n\\nJordan Hayes, perched on the opposite side of the table, narrowed their eyes but offered a supportive nod. \\\"Details are imperative. We’ll need your clear-headedness down there, Mercer.\\\"\\n\\nA comfortable silence, the kind that threaded between veterans of shared secrets, lingered briefly before Sam Rivera, never one to submit to quiet, added, \\\"I’ve combed through the last transmission logs. If anyone can make sense of the anomalies, it’s going to be the two of you.\\\"\\n\\nTaylor snorted dismissively. “Focus, people. We have protocols for a reason. Speculation is counter-productive.” The words 'counter-productive' seemed to hang in the air, a tacit reprimand directed at Alex.\\n\\nFeeling the weight of his compliance conflicting with his natural inclination to leave no stone unturned, Alex straightened in his seat. \\\"I agree, Agent Cruz. Protocol is paramount,\\\" he said, meeting Taylor's steely gaze. It was an affirmation, but beneath it lay layers of unspoken complexities that would undoubtedly unwind with time.\\n\\nAlex's submission, though seemingly complete, didn't escape Jordan, who tilted their head ever so slightly, their eyes revealing a spark of understanding. They knew well enough the struggle of aligning personal convictions with overarching missions. As everyone began to collect their binders and prepare for departure, a quiet resolve took form within Alex, galvanized by the groundwork laid by their interactions. He may have spoken in compliance, but his determination had merely taken a subtler form — one that wouldn't surrender so easily to the forthcoming shadows.\\n\\n\\*\\n\\nDr. Jordan Hayes shuffled a stack of papers, their eyes revealing a tinge of skepticism at Taylor Cruz's authoritarian performance. _Protocols_, Jordan thought, _are just the framework, the true challenges we're about to face lie well beyond the boundaries of any protocol._ They cleared their throat before speaking, tone cautious yet firm, \\\"Let's remember, the unknown variables exceed the known. We should remain adaptive.\\\"\\n\\nA murmur of agreement echoed from Sam Rivera, who leaned forward, lacing their fingers together as if weaving a digital framework in the air before them, \\\"Exactly, adaptability could be the key to interpreting the signal distortions and system malfunctions. We shouldn't discount the… erratic.\\\"\\n\\nTheir words hung like an electric charge in the room, challenging Taylor's position with an inherent truth. Cruz’s jaw tightened almost imperceptibly, but the agent masked it with a small nod, conceding to the omnipresent threat of the unpredictable. \\n\\nAlex glanced at Jordan, who never looked back, their gaze fixed instead on a distant point, as if envisioning the immense dark corridors they were soon to navigate in Dulce. Jordan was not one to embrace fantastical theories, but the air of cautious calculation betrayed a mind bracing for confrontation with the inexplicable, an internal battle between the evidence of their research and the calculating skepticism that kept them alive in their field.\\n\\nThe meeting adjourned with no further comments, the team members quietly retreading the paths to their personal preparations. Alex, trailing slightly behind, observed the others. _The cautious reserve Jordan wears like armor doesn't fool me_, he thought, _their analytical mind sees the patterns I do. And that's worth more than protocol. That's the connection we need to survive this._\\n\\nAs the agents dispersed into the labyrinth of the facility, lost in their thoughts and preparations, the base's halogen lights flickered, a brief and unnoticed harbingers of the darkness to come.\\n\\n\\*\\n\\nA deserted corridor inside the facility stretched before Taylor Cruz, each footstep rhythmic and precise. Cruz, ambitious and meticulous, eyed the troops passing by with a sardonic tilt of the lips. Obedience—it was as much a tool as any weapon in the arsenal, and Cruz wielded it masterfully. To them, it was another step toward unfettered power within the dark bowels of the military complex.\\n\\nInside a secluded equipment bay, Cruz began checking over gear with mechanical efficiency. They traced fingers over the sleek surface of an encrypted radio transmitter. \\\"If protocols are maintained,\\\" said Cruz aloud, rehearsing the speech for their subordinates, \\\"not only will we re-establish a line of communication with Dulce, but we shall also illuminate the darkest secrets it conceals.\\\"\\n\\nAgent Hayes appeared in the doorway, arms crossed and a knowing glint in their eyes. \\\"You do understand,\\\" Jordan began, the words measured and probing, \\\"that once we're in the depths, rank gives way to survival instincts. It's not about commands—it's empowerment through trust.\\\"\\n\\nThe sentiment snagged on Cruz's armor of confidence, probing at the insecurities festering beneath. Taylor offered a brief nod, perhaps too curt, but enough to acknowledge Jordan's point without yielding ground. \\\"Trust,\\\" Cruz mused, \\\"or the illusion thereof, is just as potent.\\\"\\n\\nSilence claimed the space between them, steeped in the reality of the unknown dangers lurking in the shadows of the mission. Cruz diligently returned to the equipment, the act a clear dismissal.\\n\\nNot much later, Cruz stood alone, the hollow echo of the bay a stark reminder of the isolation that power often wrought. With each checked box, their resolve steeled further, a silent vow to usher their team through the abyss—whatever it might hold—and emerge enshrined in the respect they so deeply craved.\\n\\n## Chapter 2\\n\\nSam Rivera sat alone in a cramped office, the hum of a dozen servers murmuring a digital lullaby in the background. Surrounded by the glow of multiple screens, their eyes danced across lines of code and intercepted comm signals from Dulce — a kaleidoscope of data that their curious and isolated mind hungered to decrypt.\\n\\nTo an outsider, it might have looked like obsession, this fervent quest for answers. But to Sam, it was a dance — a give and take with the mysteries of the universe. Their fingers paused over the keyboard as they leaned back in the chair, whispering to thin air, \\\"What secrets are you hiding from us?\\\"\\n\\nThe stillness of the room broke with the unexpected arrival of Alex Mercer, whose encroaching shadow loomed over Sam's workspace. The cybersecurity expert craned their neck upwards, met by the ever-so-slight furrow in Alex's brow. \\\"Got a minute, Rivera?\\\"\\n\\n\\\"Always,\\\" Sam said, a smile surfacing as they swiveled to face their mentor more directly. _He has that look — like something's not sitting right with him,_ they noted inwardly.\\n\\nAlex hesitated, weighing his words carefully. \\\"Our tech is top-tier, but the silence from Dulce... It's not just technology that will see us through, it's intuition and... trust.\\\" His gaze pierced through the digital haze, trying to instill something more profound than advice.\\n\\nSam regarded Alex for a moment, the sincerity in his voice resonating with their own unspoken desire to prove their worth. \\\"Intuition,\\\" they mirrored thoughtfully. \\\"I guess sometimes the numbers don't have all the answers.\\\"\\n\\nTheir shared silence held a newfound understanding, a recognition that between the ones and zeros, it was their combined human insights that might prevail against the impossible. As Alex turned to leave, Sam's eyes drifted back to the screens, now seeing them not as barriers to isolate behind, but as windows into the vast and enigmatic challenge that awaited their team.\\n\\nOutside the office, the persistent buzz of activity in the facility belied the unease that gripped its inhabitants. A restlessness that nibbled on the edges of reality, as though forewarning of the threshold they were soon to cross — from the known into the realm of cosmic secrets and silent threats.\\n\\n\\*\\n\\nShadows played against the walls of the cramped underground meeting room, where Alex Mercer stood gazing at the concealed elevator that would deliver them into the bowels of Dulce base. The air was thick, every breath laced with the weight of impending confrontation, the kind one feels when stepping into a legend. Though armed with an array of advanced weaponry and gear, there was an unshakeable sense that they were delving into a conflict where the physical might be of little consequence.\\n\\n\\\"I know what you're thinking,\\\" Jordan Hayes remarked, approaching Mercer. Their voice was low, a blend of confidence and hidden apprehension. \\\"This feels like more than a rescue or reconnaissance mission, doesn't it?\\\"\\n\\nAlex turned, his features a mask of uneasy resolve. \\\"It's like we're being pulled into someone else’s game. Not just observers or participants, but... pawns.\\\"\\n\\nJordan gave a short nod, their analytical mind colliding with the uncertain dynamics of this operation. \\\"I've felt that way since the briefing. Like there's a layer we’re not seeing. And yet, we have no choice but to play along.\\\" Their eyes locked with Alex's, silently exchanging a vow to remain vigilant.\\n\\n\\\"You two need to cut the philosophical chatter. We have positions to secure,\\\" Taylor Cruz interjected sharply, stepping into their exchange. The authority in Taylor's voice brooked no argument; it was their way of pulling everyone back to the now.\\n\\nAlex's response was measured, more assertive than moments ago. \\\"Acknowledged, Agent Cruz,\\\" he replied, his voice steadier, mirroring the transformation brewing within. He gripped his rifle with a newfound firmness. \\\"Let's proceed.\\\"\\n\\nAs they congregated at the elevator, a tension palpable, Sam Rivera piped in with a tone of balanced levity, \\\"Hope everyone’s brought their good luck charms. Something tells me we’re going to need all the help we can get.\\\"\\n\\nTheir laughter served as a brief respite from the gravity of their mission, a shared moment that reinforced their common humanity amidst the unknowable. Then, as one, they stepped into the elevator. The doors closed with a silent hiss, and they descended into the darkness together, aware that when they returned, if they returned, none of them would be the same.\\n\\n\\*\\n\\nThe sense of foreboding hung heavier than the darkness that the artificial lights of the elevator shaft failed to fully penetrate. The team was descending into the earth, carrying with them not only the weight of their equipment but also the silent pressure of the invisible war they were about to fight—a war that seemed to edge away from physicality and into the unnervingly psychological.\\n\\nAs they descended, Dr. Jordan Hayes couldn't help but muse over the layers of data that could wait below, now almost longing for the comfort of empirical evidence. _To think that this reluctance to accept other possibilities may have been my biggest blind spot,_ Jordan contemplated, feeling the hard shell of skepticism begin to crack.\\n\\nAlex caught Jordan's reflective gaze and leaned in, his voice barely a murmur over the hum of the elevator. \\\"Once we're down there, keep that analytical edge sharp. You see through the mazes of the unexplained better than anyone.\\\"\\n\\nThe compliment was unexpected and weighed differently than praise from others. This was an acknowledgment from someone who stood on the front lines of the unknown with eyes wide open. \\\"Thank you, Alex,\\\" Jordan said, the words carrying a trace of newfound assertiveness. \\\"You can count on me.\\\"\\n\\nThe exchange was cut short by a shudder that ran through the elevator, subtle, but enough to make them instinctively hold their breaths. It wasn't the mechanical stutter of old gears but a vibration that seemed to emanate from the\", 2500), \"6d1255303acb7c9dc951cb0f5fc3042c\":(\" be the same.\\n\\n\\*\\n\\nThe sense of foreboding hung heavier than the darkness that the artificial lights of the elevator shaft failed to fully penetrate. The team was descending into the earth, carrying with them not only the weight of their equipment but also the silent pressure of the invisible war they were about to fight—a war that seemed to edge away from physicality and into the unnervingly psychological.\\n\\nAs they descended, Dr. Jordan Hayes couldn't help but muse over the layers of data that could wait below, now almost longing for the comfort of empirical evidence. _To think that this reluctance to accept other possibilities may have been my biggest blind spot,_ Jordan contemplated, feeling the hard shell of skepticism begin to crack.\\n\\nAlex caught Jordan's reflective gaze and leaned in, his voice barely a murmur over the hum of the elevator. \\\"Once we're down there, keep that analytical edge sharp. You see through the mazes of the unexplained better than anyone.\\\"\\n\\nThe compliment was unexpected and weighed differently than praise from others. This was an acknowledgment from someone who stood on the front lines of the unknown with eyes wide open. \\\"Thank you, Alex,\\\" Jordan said, the words carrying a trace of newfound assertiveness. \\\"You can count on me.\\\"\\n\\nThe exchange was cut short by a shudder that ran through the elevator, subtle, but enough to make them instinctively hold their breaths. It wasn't the mechanical stutter of old gears but a vibration that seemed to emanate from the very walls of the shaft—a whisper of something that defied natural explanation.\\n\\nCruz was the first to react, all business despite the shadow that crossed their expression. \\\"Systems check. Now,\\\" they barked out, masking the moment of disquiet with swift command.\\n\\nEvery agent checked their gear, sending confirmation signals through their comms, creating a chorus of electronic beeps that promised readiness. But there was an unspoken question among them: was their technology, their weaponry, their protocols sufficient for what awaited them or merely a fragile comfort?\\n\\nAgainst the gravity of the silence that was once again closing in, Sam's voice crackled through, only half-jest. \\\"I'd laugh if we run into Martians playing poker down there—just to lighten the mood, you know?\\\"\\n\\nDespite—or perhaps because of—the oddity of the moment, this elicited a round of chuckles, an audible release of tension that ran counterpoint to the undercurrent of anxiety coursing through the team.\\n\\nAs the elevator came to a halting, eerie calm at the sub-level, the group stepped off, finding themselves at the threshold of Dulce's mysterious halls. They stood in a tight pack, sharing a cautious glance before fanning out into the unknown, each one acutely aware that the truth was inevitably intertwined with danger.\\n\\nInto the depths of Dulce, the team advanced, their silence now a shared testament to the camaraderie born of facing the abyss together—and the steel resolve to uncover whatever horrors lay hidden in its shadows.\\n\\n\\*\\n\\nThe weight of the thick metal door closing behind them reverberated through the concrete hallway, marking the final threshold between the familiar world above and the strangeness that lay beneath. Dulce base, a name that had been whispered in the wind-blown deserts above and in the shadowed corners of conspiracy forums, now a tangible cold reality that they could touch — and that touched them back with a chill.\\n\\nLike lambs led to an altar of alien deities, so did Agents Alex Mercer, Jordan Hayes, Taylor Cruz, and Sam Rivera proceed, their movements measured, their senses heightened. The air was still, almost respectful of the gravity of their presence. Their torch beams sliced through the darkness, uncovering steel doors with warnings that spoke of top secrets and mortal dangers.\\n\\nTaylor Cruz, stepping firmly into the role of de facto leader, set a brisk pace. \\\"Eyes sharp, people. Comms check, every thirty seconds,\\\" Taylor ordered, their voice echoing slightly before being swallowed by the surrounding silence.\\n\\nSam, fiddling with a handheld device aimed at detecting electronic anomalies, offered a murmured \\\"Copy that,\\\" their usual buoyancy dimmed by the oppressive atmosphere.\\n\\nIt was Jordan Hayes who paused at an innocuous looking panel, nondescript amongst the gauntlet of secured doorways. \\\"Mercer, Rivera, come see this,\\\" Jordan’s voice was marked with a rare hint of urgency.\\n\\nAlex joined Jordan's side, examining the panel which, at a mere glance, seemed just another part of the base's infrastructure. Yet, to the trained eye, it appeared out of place—a facade.\\n\\nJordan explained their reasoning as Sam approached, instinctively understanding the significance of what lay beneath, \\\"This panel is a recent addition — covering something they didn't want found.\\\"\\n\\nBefore Alex could respond, the soft whir of an approaching drone cut through their muffled exchange. Taylor had looped back upon hearing the commotion. \\\"Explanations later. We can't afford to attract...\\\" Cruz’s voice trailed off as the small airborne device came into view, its sensors locked onto the group.\\n\\nSam was the first to react, their tech-savvy mind already steps ahead. \\\"I've got this,\\\" they declared, fingers flying over the controls of their own gadgetry to ward off the impending threat.\\n\\nThe drone lingered, its scan seeming more curious than hostile. But within moments, courtesy of Sam's interference, the little sentinel drifted away, retreating into the shadows as if accepting a silent truce. The crew exhaled, a moment of collective relief palpable in the air.\\n\\nCruz squared their shoulders, clearly ruffled but not conceding any ground. \\\"Move out,\\\" they directed, a hint more forceful than before. \\\"And Rivera, keep that trick handy.\\\"\\n\\nThe team pressed onward, the quiet now filled with the soft beeps of regular comms checks, their pace undeterred by the confrontation. Yet, every agent held a renewed sense of wariness, their trust in one another deepening with the knowledge that the base—its technology, its secrets—was alive in a way they hadn't fully anticipated.\\n\\nAs they converged upon a central hub, the imposing doors to the mainframe room stood ajar — an invitation or a trap, neither option comforting. Without a word, they fortified their resolve and stepped through the threshold, where the dim glow of operational LED lights and the distant hum of machinery hinted at Dulce’s still-beating heart.\\n\\nSolemnly, yet unmistakably together, they moved deeper into the heart of the enigma, ready to unmask the lifeforce of Dulce base or confront whatever existential threat lay in wait. It was in that unwavering march towards the unknown that their destinies were forever cemented to the legacy of Operation: Dulce.\\n\\n## Chapter 3\\n\\nThe thrumming of monitors cast a stark contrast to the rigid silence enveloping the group. Agent Alex Mercer, unfailingly determined on paper, seemed dwarfed by the enormity of the sterile briefing room where Paranormal Military Squad's elite convened. With dulled eyes, he scanned the projectors outlining their impending odyssey into Operation: Dulce.\\n\\n\\*\\n\\nThe cooling vents hummed in a monotonous drone, but it was the crackle of the comms system coming to life that cut through the lab’s tension. Dr. Jordan Hayes hovered over a table arrayed with alien technology, their fingers delicately probing the enigmatic circuitry retrieved from the crash site. Agent Alex Mercer watched, admiration blooming in silent solidarity for Jordan's deft touch and unspoken drive.\\n\\nJordan, always composed, only allowed the faintest furrow of concentration to mar their brow. \\\"What we understand about physics...\\\" they muttered, trailing off as they realigned a translucent component. The device emitted a low pulse, causing Jordan to still. \\\"Could be fundamentally changed by this.\\\"\\n\\nA calculated risk—that's what this was. And for a person of science, a gamble was worth the potential paradigm shift.\\n\\n\\\"I’ve been thinking,\\\" Alex started, his eyes still fixed on the immediately tangible mystery before them. \\\"About what’s at stake here. Not the mission parameters, but what this means for us—humanity.\\\"\\n\\nJordan glanced up, meeting his eyes just long enough to convey the shared enormity of their situation; the career-defining glory and existential dread entwined. \\\"The quest for understanding always comes at a price. We're standing on the precipice of knowledge that could either elevate us or condemn us.\\\"\\n\\nThe charged air between them spiked as Taylor Cruz’s brusque tones sliced through their reverie. \\\"Hayes, Mercer, this isn't philosophy hour. Focus on the task. We need actionable intel, not daydreams.\\\"\\n\\nWith a sound of restrained acknowledgment, Jordan returned their gaze to the device, while Alex clenched his jaw, the buzz of frustration dull against the backdrop of Taylor's authoritarian certainty. It was this competitive undercurrent that kept him alert, the sense that his and Jordan's shared commitment to discovery was an unspoken rebellion against Cruz's narrowing vision of control and order.\\n\\nThen Taylor did something unexpected. They paused beside Jordan and, for a moment, observed the device with something akin to reverence. “If this tech can be understood...\\\" Taylor said, their voice quieter, \\\"It could change the game for us. For all of us.”\\n\\nThe underlying dismissal earlier seemed to falter, replaced by a glimpse of reluctant respect for the gravity of what lay in their hands. Jordan looked up, and for a fleeting heartbeat, their eyes locked with Taylor's, a wordless clash of wills softening into an uneasy truce.\\n\\nIt was a small transformation, barely perceptible, but one that Alex noted with an inward nod. They had all been brought here by different paths and for different reasons. Yet, beneath the veneer of duty, the enticement of the vast unknown pulled them inexorably together, coalescing their distinct desires into a shared pulse of anticipation.\\n\\nMarshaled back to the moment by the blink of lights and whir of machinery, they refocused their efforts, each movement sharpened by the knowledge that beyond understanding the unearthly artifacts, they might be piecing together the future of their species.\\n\\n\\*\\n\\nAmidst the sterility of the briefing room, the liminal space between the facts laid out and the hidden truths, sat Sam Rivera, his demeanor an artful balance of focus and a casual disguise of his razor-sharp talent with technology. Across from him, Alex Mercer lingered in thought, the mental cogs turning as each file on Dulce stirred more than curiosity—it beckoned to a past both honored and burdensome.\\n\\n\\\"You've been quiet, Sam,\\\" Alex noted, catching the younger man's contemplative gaze. \\\"Your take on these signal inconsistencies?\\\"\\n\\nThere was a respect in Alex's tone, though a respectful distance remained—a gulf of experience and a hint of protective mentorship that stood between them. Sam nodded, recognizing the space afforded to him, and he couldn't help but feel the weight of expectation pressing upon his shoulders. It wasn't just the mission that was immense, it was the trust being placed in him.\\n\\n\\\"The patterns are... off,\\\" Sam admitted, hesitant but driven. \\\"If I'm right, what we're looking at isn't random—it's a structured anomaly. We need to be ready for anything.\\\" \\n\\nAlex's eyes brightened with a subtle approval that crossed the distance like a silent nod. \\\"Good. Keen eyes will keep us ahead—or at least not blindsided,\\\" he said, affirming the belief that inscribed Sam's role as more than the tech personnel—he was to be a guiding intellect in the heart of uncertainty.\\n\\nTheir exchange was cut short by Taylor Cruz's abrupt arrival, his gait brimming with a robust confidence that veiled the sharp undercurrents of his striving nature. \\\"Time to gear up. Dulce waits for no one,\\\" Taylor announced, his voice carrying an iron resolve that knew the costs of hesitation—though whether the cost was calculated in human or career terms was an ambiguity he wore like a badge of honor.\\n\\nAs Sam and Alex nodded in unison, the icy chasm of hierarchy and cryptic protocols seemed momentarily\", 2500), \"e841f178310356740b2ee9101d12c97f\":(\". \\\"Your take on these signal inconsistencies?\\\"\\n\\nThere was a respect in Alex's tone, though a respectful distance remained—a gulf of experience and a hint of protective mentorship that stood between them. Sam nodded, recognizing the space afforded to him, and he couldn't help but feel the weight of expectation pressing upon his shoulders. It wasn't just the mission that was immense, it was the trust being placed in him.\\n\\n\\\"The patterns are... off,\\\" Sam admitted, hesitant but driven. \\\"If I'm right, what we're looking at isn't random—it's a structured anomaly. We need to be ready for anything.\\\" \\n\\nAlex's eyes brightened with a subtle approval that crossed the distance like a silent nod. \\\"Good. Keen eyes will keep us ahead—or at least not blindsided,\\\" he said, affirming the belief that inscribed Sam's role as more than the tech personnel—he was to be a guiding intellect in the heart of uncertainty.\\n\\nTheir exchange was cut short by Taylor Cruz's abrupt arrival, his gait brimming with a robust confidence that veiled the sharp undercurrents of his striving nature. \\\"Time to gear up. Dulce waits for no one,\\\" Taylor announced, his voice carrying an iron resolve that knew the costs of hesitation—though whether the cost was calculated in human or career terms was an ambiguity he wore like a badge of honor.\\n\\nAs Sam and Alex nodded in unison, the icy chasm of hierarchy and cryptic protocols seemed momentarily to bridge over with an understanding—this mission was convergence, a nexus point that would challenge each of their motives and strength.\\n\\nThey filed out of the briefing room, their footsteps synchronized, a rhythm that spoke volumes of the unknown cadence they would soon march to within the base's veins. For Alex Mercer, the link with Sam Rivera, though distant, was now poised with a mutuality ready to be tested; for Taylor Cruz, the initiative pulsed like a heartbeat, anticipation thinly veiled behind a mask of duty.\\n\\nIn the midst of the descent, they were each alone yet irrevocably joined, stepping closer towards the volatile embrace of Operation: Dulce.\\n\\n## Chapter 4\\n\\nThe corridors of the Dulce military base were as silent as a tomb and twice as chilling. Alex Mercer walked with a surety that belied his bubbling undercurrents of doubt. The briefing had been definitive, sturdy pillars of facts and protocols, yet as he ventured deeper, the ominous atmosphere gnawed at him—a stark reminder of how much remained unknown.\\n\\nJordan Hayes trailed a few steps behind, their detached exterior breaking for a moment as they caught up to Alex. \\\"What's on your mind?\\\" Jordan asked, their astuteness cutting through the unspoken tension.\\n\\nAlex glanced back at them. This place was a puzzle, a treacherous labyrinth where the walls whispered secrets, and among them, he sensed a call to question, to challenge the narrative they'd been sold. \\\"The silence here... It's almost as if the base is waiting for something—or someone.\\\"\\n\\n\\\"Just stay sharp, Mercer,\\\" Jordan cautioned, yet their eyes lingered on the quietude around them, conceiving the same shadow of doubt that unsettled Alex.\\n\\nBefore they could delve into further discussion, the distinctive click of a safety catch echoed in the hollow space. Both agents turned to find Taylor Cruz standing resolute, primed for combat. Taylor's gaze was scrutinizing and cold, a stark contrast to the growing unease that smoldered silently amongst the rest.\\n\\n\\\"Chatter is a liability,\\\" Taylor snapped, with a commanding flair that bordered on tyrannical. \\\"We move forward, eyes open, mouths shut.\\\"\\n\\nAlex felt the tight grip of compliance strangle his gut, a lesson learned under the hard tutelage of rank and order. But here, in the bowels of Dulce, those instincts began to wane, the imperative to adhere now conflicting with the pressing urgency to confront the shadows they were enmeshed in.\\n\\nThen, unexpectedly, the lights flickered, a power fluctuation—or a sign? Alex's hand instinctively went to his sidearm, his mindset shifting from soldier to skeptic. The base, with its unyielding coldness, had just given them their first nudge into the realm of the speculative, an invitation to peel back the veneer of reality.\\n\\n\\\"We should consider all possibilities,\\\" Alex murmured, more to himself than the others, his voice a barely audible breath against the sterile air of the complex.\\n\\nTaylor's posture stiffened at the challenge, yet their response was uncharacteristically reserved, notable in its lack of rebuke. \\\"Agreed. For now, keep moving. But stay vigilant.\\\"\\n\\nA surprise—an echo of agreement from the last person Alex expected it from. And there it was, the glimpse of a wrinkle in the unyielding fabric of command, a hint that perhaps they were all starting to sense the strangeness that permeated this place.\\n\\nProgressing with determined steps, the trio moved deeper, silently acknowledging the evolution of their predicament. It was a small yet transformative concession to the unknown forces at play, an acknowledgment from each agent that, despite their disparate goals and ideals, the true nature of the Dulce base was an enigma that would forge new paths through their convictions.\\n\\nAs they reached the central communications hub, the truth that awaited them lurked in the shadows, its eyes unseen but felt by all. The walls didn't just whisper now; they spoke in tones only the brave—or the foolish—would dare to listen to.\\n\\n\\*\\n\\nThe subterranean silence of Dulce was an oppressive entity of its own, wrapping the team in a cloak of uneasiness as they pressed on through the dimly lit corridor. Jordan Hayes found themselves contemplating the ramifications of each step taken into this suspended world, where the sterile air seemed to mock the gravity of their predicament. The closer they got to the communication hub, the more Jordan's mind wandered toward the realm of the inexplicable.\\n\\nBeside Jordan, Alex Mercer moved forward with deliberation, his gaze scanning the heavy utility doors they passed—one of which was partially ajar, beckoning them with its darkness. \\\"After you, Dr. Hayes,\\\" Alex said, gesturing toward the mysterious opening. A hint of shared understanding passed between them; knowledge was the guiding star of this mission as much as confrontation or recovery.\\n\\nJordan peered inside, the beam from their flashlight slicing through the obscurity. The room beyond was a chaotic cascade of papers, overturned furniture, and the particular kind of disorder born from hasty evacuation—or something far more sinister.\\n\\n\\\"It's like they vanished in the middle of something urgent,\\\" Alex murmured, his voice tight with a mix of concern and anticipation. He began to sift through the scattered reports, each page a potential clue to the enigmatic silence that shrouded Dulce.\\n\\nBehind them, Taylor watched with a disciplined patience, their authority the foundation upon which the operation was built. Their voice cut into the stillness, a reminder of their presence, \\\"Time is not our ally here.\\\"\\n\\nDrawing back from momentary distraction, Jordan acknowledged the wisdom in Taylor's words, yet could feel the shift in their stance—from skeptical, reserved analyst, to a proactive agent within the narrative. \\\"You're right; these documents may hold critical insights. Let's collect what we can and analyze them properly.\\\"\\n\\nFrom the darkened hollows of the room, shadows seemed to cast subtle judgment as Alex and Jordan worked together with heightened urgency. Taylor, for once, didn't intervene but instead surveyed the entrance, their mind anticipating the unknown variables that lay ahead.\\n\\nUnexpectedly, a soft hiss emanated from a neglected terminal on the desk. Jordan's head snapped up, their heart rate accelerating at the potential ramifications. Without a word, they moved to the machine, hands driven by the newfound conviction that knowledge was more than power—it was survival.\\n\\nAs Jordan began to extract what data they could from the terminal, the first comprehensible communication from the depths of Dulce in far too long crackled through: an automated distress marker, looping endlessly without further context. It was a revelation, one that reverberated through the group, confirming their fears and igniting an even greater need to press on.\\n\\nWatching Jordan's dogged determination, Alex witnessed the minor transformation in his colleague unfold—a shift from doubt to action, a sliver of belief in the possibilities beyond their rational understanding. This forge of resolve amidst the alien echoes of Dulce not only bonded them closer as a team but compelled them forward with a sharpened edge of responsibility to the truth, wherever it would lead.\\n\\nAs they collected their findings and regrouped, the base around them imperceptibly changed, the air charged with the vibration of secrets poised on the brink of revelation. And in that charged silence, the group moved on, each now carrying pieces of a puzzle that would soon converge into a picture of galactic significance.\\n\\n\\*\\n\\nIn the chill of the cramped server room, the hum of machinery was the backbone to a symphony of data streams coursing through the air. Dr. Jordan Hayes, nerves alight with the mission's mounting unknowns, patched into the last known coordinates of the unsent distress broadcast they had uncovered. They were so close to the core now – to the truth behind the blackout – it was almost tangible.\\n\\nBeside them stood Agent Alex Mercer, ever the soldier, yet with eyes that betrayed an intellect craving to understand the murk beneath the surface. \\\"Any progress, Dr. Hayes?\\\" Alex queried, his voice betraying a subtle urgency.\\n\\n\\\"Getting there,\\\" Jordan replied, fingers dancing across the keyboard. \\\"Whoever sent this was cut off mid-transmission. It's as if Dulce itself swallowed the message whole.\\\"\\n\\nTaylor Cruz closed in, their frame casting a long shadow over the duo, evoking an almost palpable wall between them and the forward momentum of their mission. \\\"Time is against us,\\\" Taylor intoned, more statement than threat. \\\"What we uncover here determines our next course of action.\\\"\\n\\nAlex acknowledged Taylor with a brisk nod, his stance firm. Yet inwardly, the tightening grip he felt from Taylor's words couldn't throttle the swell of his own investigative instinct. His soldier's obedience had begun to war with the advocate's zeal for unveiling the dark heart of Dulce's secrets. \\n\\nAnd then, the unexpected occurred. The screens flashed in unison, spilling a discordant stream of symbols and images that defied immediate analysis. Jordan's breath caught – this was the response they had been fishing for, an alien communication protocol resonating just at the edge of human comprehension.\\n\\nEach member of the team felt it: a shift in the room’s very atmosphere, like a veil being drawn from their perception. Alex and Jordan stood still, absorbed in the bewilderment of contact, while Taylor, despite their authority, hesitated – a minor betrayal that unease was creeping into even their disciplined heart.\\n\\n\\\"Thoughts, Rivera?\\\" Taylor rallied, seeking the counsel of Sam Rivera, whose eyes were wide with exhilaration.\\n\\nSam stepped forward, breaking the spell of stillness. \\\"It's like nothing I've ever seen before, but I think I can bridge our systems to communicate,\\\" they declared, a wisp of optimism braiding their voice. They set about adapting their gear to transmute the foreign signals into something the team could dissect, their actions a testament to the mentorship and belief instilled in them by Mercer and the team.\\n\\nTaylor observed them, a cold calculation behind their facade, as they weighed the worth of this anomaly. It was a crossroad that potentially led to either monumental breakthrough or unprecedented catastrophe. \\\"Once you've established a line, document everything. We can't afford to miss any detail,\\\" Taylor ordered, the words sharper than intended.\\n\\nThe connection was made, and with trembling anticipation, the team listened as the first garbled outputs began to emerge, their very essence promising insights that could alter the course of history. It was an enigmatic dance with the unknown, the pulse of Dulce no longer just a place, but a herald to an alien register the team had yet to decipher.\\n\\nTogether, they stood at the precipice of understanding, where the faint glow of their monitors cast more than\", 2500), \"f36d96862b9366d7240b5c7ceb04f12b\":(\", absorbed in the bewilderment of contact, while Taylor, despite their authority, hesitated – a minor betrayal that unease was creeping into even their disciplined heart.\\n\\n\\\"Thoughts, Rivera?\\\" Taylor rallied, seeking the counsel of Sam Rivera, whose eyes were wide with exhilaration.\\n\\nSam stepped forward, breaking the spell of stillness. \\\"It's like nothing I've ever seen before, but I think I can bridge our systems to communicate,\\\" they declared, a wisp of optimism braiding their voice. They set about adapting their gear to transmute the foreign signals into something the team could dissect, their actions a testament to the mentorship and belief instilled in them by Mercer and the team.\\n\\nTaylor observed them, a cold calculation behind their facade, as they weighed the worth of this anomaly. It was a crossroad that potentially led to either monumental breakthrough or unprecedented catastrophe. \\\"Once you've established a line, document everything. We can't afford to miss any detail,\\\" Taylor ordered, the words sharper than intended.\\n\\nThe connection was made, and with trembling anticipation, the team listened as the first garbled outputs began to emerge, their very essence promising insights that could alter the course of history. It was an enigmatic dance with the unknown, the pulse of Dulce no longer just a place, but a herald to an alien register the team had yet to decipher.\\n\\nTogether, they stood at the precipice of understanding, where the faint glow of their monitors cast more than just light – it cast the shadow of burgeoning transformation. It was in this moment, in the grasp of an extraterrestrial tongue, that the team, bound by a hunger for knowledge and the raw edge of survival, found their mission reframed from a search for answers to the articulation of a question humankind had yet to fully ask.\\n\\nSilent in their commune with the inexplicable frequency, they realized they were not merely investigators; they had become liaisons on behalf of Earth, interpreters of a cosmic message that could redefine their very existence. The implications loomed large, but now, they would not face them alone – they would face them as a united front, wrought together by the very mysteries that once drove them apart.\\n\\n## Chapter 5\\n\\nDr. Jordan Hayes clutched the edge of the briefing room table, their fingers white-knuckled against the laminate surface, as an array of constellations rotated on the projector—charts and graphs bleeding across the stars. In the dim room, nebulas and dark matter seemed within arm's reach, tangible yet unfathomable. \\n\\nSam Rivera leaned back against the wall, arms crossed, gaze darting between the swirling cosmos and the faces of their companions. A taut line of concentration etched their young features, a mingling of fervent curiosity with the nascent understanding of the high stakes for which they played.\\n\\nJordan's voice broke the profound silence. \\\"The patterns in the signal disruptions sync with none other than zenithal star alignments. It's as if... as if these 'meet and greets' were scheduled, predestined by celestial mechanics.\\\"\\n\\nThe statement hung heavy, daring the occupants of the room to unravel its implications. Alex Mercer, his prior military resolve momentarily suspended, absorbed the hypothesis with a visible hunger. \\\"It's like we're adhering to an appointment we never knew we had,\\\" he murmured, his heart a drumbeat in his chest.\\n\\nTaylor Cruz snorted—a sound that clattered against the high concepts like a tumbledown shack in a futurist cityscape. Folding their arms, they glanced between the agents, their apprehension clad in the contempt of practicality. \\\"What we need are facts, not mystic conjecture.\\\"\\n\\nAlex pivoted on his heel, facing Taylor squarely, and his voice found its edge of steel. \\\"This isn't mysticism, Cruz. It's a hypothesis based on observed phenomena as unpredictable as the place we're standing in.\\\"\\n\\nTaylor's gaze never wavered, yet the slight twitch at the corner of their mouth belied their taut composure. \\\"If there's a semblance of truth to it, then it's critical intel. But remember, we're not astrologers—we're soldiers and scientists.\\\"\\n\\nJordan met Taylor’s gaze with a curt nod, accepting the caution even as the crucible of their intellect smoldered with the fervor of cosmic discovery. Their eyes flicked to Sam, whose steady presence and ready tech affirmed a burgeoning dynamic—the makings of a sentinel, standing guard over the threshold of human understanding and cosmic reality.\\n\\nWith the projector casting pallid light over their features, each agent became a silhouette of purpose, shadows pillared against the backdrop of an endless universe. The story they were embroiled in would soon demand they plunge into darkness to retrieve the light of knowledge—a light that could very well redraw the shape of their world.\\n\\nThey left the briefing room with a shared silence, each pondering the vast weave of celestial intent and terrestrial response, sensing that the galactic appointment to which they'd unwittingly RSVP’d was more insistent—and more threatening—than any operation they’d faced before.\\n\\n\\*\\n\\nAs the Paranormal Military Squad team convened in the heart of the Dulce military complex, an air of bristling expectation clung to the walls of the underground sanctum. Alex Mercer’s brow furrowed while watching his companions—Jordan Hayes, diligently setting up their makeshift lab station, and Sam Rivera meticulously checking the communication relays they had restored. Taylor Cruz observed with hawk-like focus, yet to betray the strain that their command posed on them.\\n\\nThe gravity of the mission had shifted, deepened; each member of the team felt its pull, tethered to the understanding that they were now part of a larger narrative—a cosmic play with Earth as a stage and the human race unwitting actors. \\n\\nJordan paused, a tension creeping across their shoulders as they aligned the satellite data with the alien message that had been decoded. \\\"The instructions in this message,\\\" Jordan started, the timbre of their voice betraying their usual composure. \\\"They're coordinates and... a warning.\\\"\\n\\nSam leaned in, their eyes widening behind the glow of their laptop screen. \\\"A warning? Like, ‘stay away from’, or ‘beware of’...?\\\" Their words trailed off, uncertainty a new companion in their lexicon.\\n\\nAlex exhaled slowly, his mind racing to connect the dots. \\\"It doesn't matter which,\\\" he said, decisive yet contemplative. \\\"What matters is we understand intent. Are we being warned out of concern, or are we stumbling upon a threat?\\\"\\n\\nCruz’s iron-clad facade momentarily cracked, a fleeting glimpse of vulnerability flashing through their eyes. \\\"We need to know if this entails additional risk to the operation,\\\" they said, directing their gaze specifically at Alex. \\\"Mercer, I rely on you to keep the team grounded. No one goes off-course.\\\"\\n\\nTheir reminder seemed both a command and a plea—rooted in an understanding that each member of the team now faced the duality of their roles, protectors of earthly secrets and heralds of potentially devastating revelations.\\n\\nSam's fingers stilled mid-type, their task forgotten as they absorbed the weight of the unfolding reality. \\\"We're the first line of defense... or detection,\\\" they mused half to themselves, a growing sense of agency within the larger play they were cast into.\\n\\nJordan returned to the data, more resolute in their actions. The warning, whether cautionary or dire, was a beacon they no longer could ignore; its light casting aside shadows of doubt and igniting a collective purpose within the team.\\n\\nAlex watched Jordan and Sam, feeling a brotherhood in their shared quest. As Cruz paced, poised on the cusp of decisions that would mark their career and perhaps the fate of many, Alex knew the narrative had changed. They were no longer mere operatives; they had become guardians of a threshold, keepers of a message from a realm beyond stars and stripes. This elevation in their mission could not be shackled by regulations and established protocols—it demanded a new perspective, a new resolve.\\n\\nTension threaded through the dialogue of beeps and static as communications with Washington buzzed in the background. The team stood, a portentous air enveloping them. It was clear that the decisions they made in the ensuing hours could redefine humanity's place in the cosmos or condemn them to ignorance and potential peril.\\n\\nTheir connection to the stars solidified, the group moved to address the crystallizing warning, shifting from passive recipients to active participants. Mercer’s latter instincts gained precedence— the team’s mandate had evolved, no longer solely to observe and report but to interact and prepare. A metamorphosis had begun, and Operation: Dulce hummed with the newfound frequency of their daring, a tone set not by the earthly hierarchies but by the pulsing symphony of the universe itself.\\n\\n\\*\\n\\nThe desert night loomed eerily still as echoes of hidden activity reverberated deep beneath the bleak sands of New Mexico. Diverting his gaze from the array of sensors before him, Jordan Hayes allowed a rare breath, deep and anxious. Turning to Alex Mercer's focused silhouette, the nocturnal landscape illuminated softly by makeshift floodlights, Jordan felt the syncopated tempo of apprehension and exhilaration jockey for primacy within.\\n\\n\\\"The closer we get to unlocking these messages, the more I feel like we're peeling back layers of reality itself,\\\" Jordan confided, eyes not leaving the monitors that presented a constellation of data points.\\n\\n\\\"Yes,\\\" Alex replied, his voice steady as he considered the implications of their discovery. \\\"And we have to be ready for whatever we find beneath those layers. Whether it's a breakthrough or a Pandora's Box.\\\"\\n\\nSilence settled between them, broken only by the occasional buzz of communications equipment attempting to bridge terrestrial and extraterrestrial intelligences. Tense moments drifted by, laden with the expectant weight of near breakthrough, when a soft chime signaled an incoming transmission -- a rare sound that set every agent on high alert.\\n\\nAbsent was the voice of Washington or Paranormal Military Squad command. Instead, a rhythmic series of pulses and tones filled the air, deliberately patterned, unmistakably non-human.\\n\\nSam Rivera adjusted the sensitivity of the decoding equipment, their hands shaking with anticipation as much as focus. \\\"I have it!\\\" they announced, the signal transforming under their expertise into a sequence of visual symbols on the screen before them.\\n\\nTheir shared excitement was palpable, a kinetic force resonating between the team members as they crowded around the display. \\n\\n\\\"What does it say?\\\" Taylor Cruz demanded, the urgency in his tone scraping against the newfound wonderment.\\n\\nInterpreting the alien syntax required not only decoding but intuition and empathy. The words that emerged upon the screen were at once coherent and enigmatic: \\\"*Voyage. Convergence. Peril.*\\\"\\n\\nThe stark simplicity of the message struck them collectively, a chill breeze wafting through their resolve.\\n\\nAlex stepped forward, piecing together the cryptic communication with a growing sense of obligation. \\\"It’s a call to action,\\\" he deduced, \\\"or possibly a summons.\\\"\\n\\nJordan's gaze met Alex’s, both understanding that this was no longer an investigation or mere extraction of hidden truths. This was humanity's unwitting enlistment into a galactic dialogue that defied boundaries of nation, creed, or protocol.\\n\\nSam's eyes were aglow, not with fear, but with the profound acceptance of inevitability that comes with groundbreaking revelation. Moreover, within Taylor's stern exterior churned the seed of reluctant admiration for the unclassified, the uncharted realms they were approaching.\\n\\nTogether, they accepted the pivot in their mission, readjusting their objectives from exploration to engagement, and from isolation to a communal outreach beyond the stars. As dawn's first light threatened the horizon, it became clear that they were no longer merely operatives of a clandestine governmental faction—they were delegates on behalf of Earth, embarking on a voyage orchestrated by destinies unrelated to the mere geopolitics of their world.\\n\\nTurning to each other, their silhouettes sketched against the coming dawn, the agents recognized the transformation within and amongst them. They were bound by more than duty—they were intricately woven into the fabric\", 2500), \"f7d43808d2fb452cd953bf50c6de6bd4\":(\" were at once coherent and enigmatic: \\\"*Voyage. Convergence. Peril.*\\\"\\n\\nThe stark simplicity of the message struck them collectively, a chill breeze wafting through their resolve.\\n\\nAlex stepped forward, piecing together the cryptic communication with a growing sense of obligation. \\\"It’s a call to action,\\\" he deduced, \\\"or possibly a summons.\\\"\\n\\nJordan's gaze met Alex’s, both understanding that this was no longer an investigation or mere extraction of hidden truths. This was humanity's unwitting enlistment into a galactic dialogue that defied boundaries of nation, creed, or protocol.\\n\\nSam's eyes were aglow, not with fear, but with the profound acceptance of inevitability that comes with groundbreaking revelation. Moreover, within Taylor's stern exterior churned the seed of reluctant admiration for the unclassified, the uncharted realms they were approaching.\\n\\nTogether, they accepted the pivot in their mission, readjusting their objectives from exploration to engagement, and from isolation to a communal outreach beyond the stars. As dawn's first light threatened the horizon, it became clear that they were no longer merely operatives of a clandestine governmental faction—they were delegates on behalf of Earth, embarking on a voyage orchestrated by destinies unrelated to the mere geopolitics of their world.\\n\\nTurning to each other, their silhouettes sketched against the coming dawn, the agents recognized the transformation within and amongst them. They were bound by more than duty—they were intricately woven into the fabric of an unfolding cosmic opera, one in which they had been granted an undeniable role. And as they set course for the coordinates that beckoned them like a distant siren's call, it was with a solemn dedication to not only uncover the mysteries ahead but to navigate the convergence, and the peril, as unified emissaries of a world on the cusp of a broader understanding.\\n\\n\\*\\n\\nBeneath the hum of the fluorescent lights and the vigilance of silent monitors, Alex Mercer stood with his team in the threshold of the base's command center, their faces etched with the fatigue of hours spent unraveling galactic mysteries. Jordan Hayes broke the stillness with a delicate fusion of disbelief and resolve. \\\"The signal...\\\" they began, their tone deliberate, \\\"it’s evolving. It’s not just sending a message—it’s responding to us.\\\"\\n\\nTaylor Cruz leaned over the console, their eyes narrowing with intrigue and a flicker of unease, studying the alternating patterns on the screen. \\\"Responding? Like it’s alive?\\\" Taylor asked, a question that bordered on the edge of wonder and alarm.\\n\\nSam Rivera’s gaze was locked onto their interface, a digital orchestra at their fingertips. \\\"It could be some form of advanced AI. Or something else entirely,\\\" they contributed, a note of exhilaration betraying the gravity of the situation.\\n\\nAlex paced before the terminal, absorbing the enormity of their predicament. Their mission—once rooted in the solid ground of military discipline and covert operations—had transcended into an encounter of unprecedented import. \\\"We need to be cautious,\\\" he advised, his voice a low rumble of cautious strategy. \\\"If this signal is intelligent, how we interact with it could dictate the outcome of this entire operation.\\\"\\n\\nJordan met Alex's gaze with a nod, the weight of the responsibility shared and accepted. \\\"We have protocols for first contact, but nothing for... this,\\\" Jordan admitted. The room was gripped with tension, each breath seemingly louder than the last.\\n\\nThen, with a sudden burst that filled the command center, the signal coalesced into a clear and distinct pattern which replicated and expanded, its complexity revealing the hand—or mind—of an intelligent architect.\\n\\nTaylor's instinct for command surged forth. \\\"Prepare to record and analyze. Whatever it is, we need to understand it—\\\" But their words were cut short as the signal surged, enveloping the room in a brief, blinding cascade of light.\\n\\nIn that pulse of brilliance, a shared revelation coursed through the team. The signal had become a bridge, an extension of unknown consciousness reaching towards them, testing, communicating, searching. \\n\\nAlex stepped back from the light, feeling a profound change unravelling within him. The path forward would not be one of confrontation or conquest, but of connection and comprehension.\\n\\nJordan turned to Alex and Taylor, seeing in their faces a reflection of the same metamorphosis taking place within themselves—a movement from observers to participants, from agents to ambassadors.\\n\\nWith a collective breath, the team faced the kaleidoscope of lights. The alien signal, once a harbinger of enigma, was now a catalyst for transformation—a symphony of light and sound that echoed the beginnings of a new relationship between humanity and the alien unknown.\\n\\nAnd so, with deliberate steps, Alex Mercer led his team into the luminous fray. Science, protocol, and survival instinct harmonized within them, each member poised on the cusp of a new chapter in human history.\\n\\nThey were no longer merely the instruments of Paranormal Military Squad's will—they were the vanguard of humankind’s first definitive leap into the cosmic community. \\n\\nWith the last echoes of the signal resonating in the control room, they each embraced the sequencing of the transmission, the dance of extraterrestrial light that now wrote itself into their story. The chapter of Operation: Dulce drew to a close, but the narrative of their destiny had only just begun.\\n\\n## Chapter 6\\n\\n\\*\\n\\nThe cool darkness of the command center at Dulce base was a stark contrast to the brewing storm outside, where the unforgiving New Mexico desert winds whispered of the hidden truths that lay buried deep beneath its surface. Dr. Jordan Hayes sat, their eyes fixed on the readout, the frenetic dance of symbols and numbers reflecting off their determined face. They were on the cusp of an epiphany, teetering between the widely accepted laws of physics and the promise of a new cosmic paradigm.\\n\\nAlex Mercer watched from across the room, noting the subtle shifts in Jordan’s posture that belied a developing readiness to embrace the unbelievable. “Find something?” Alex’s question, asked with a blend of curiosity and solidarity, bridged the gap between a command and a genuine query among equals.\\n\\nJordan's response was slow, measured against the magnitude of their analysis. “This isn’t random static. It’s a pattern - a repeated sequence phasing in and out but distinctly artificial.” Jordan turned away from the screen, locking eyes with Alex. “This could change everything.”\\n\\nSam Rivera leaned in, their eyes alight with the fires of revelation and a quenchless thirst for understanding. “A pattern means intention. Could it be a message?”\\n\\nA figure emerged from the doorway, casting a long shadow into the room - Taylor Cruz. “Intentions can be friendly, or hostile. We shouldn’t forget that,” said Taylor, bringing a dose of their usual pragmatism into the heart of discovery.\\n\\nAlex acknowledged Taylor’s caution with a nod, understanding the need to keep their feet grounded even as their spirits soared toward the unknown. “Then let’s be the first to find out which it is.\\\"\\n\\nThe team gathered around the monitors, the soft tapping of Jordan's keystrokes now punctuated by the occasional crackle of Sam's radio equipment. The sound was almost ritualistic, a prelude to humanity’s potential first, knowing foray into a larger universe.\\n\\nJordan’s fingers paused, suspended in mid-air. The signal had evolved, becoming a beacon that somehow felt less alien and more familiar. It was as if the complexities of their message were unfolding into something more accessible, more terrestrial.\\n\\nA hushed excitement swept through the room. The transformation suggested an awareness on the part of the unknown senders; a finesse that spoke volumes about their capabilities and perhaps their intentions.\\n\\nWith the growing realization that they were engaging with an intelligence far exceeding their previous understanding, the team prepared to reach back across the cosmic divide. Prepared or not, they were no longer bystanders in this galactic narrative. They were active correspondents in an exchange that transcended galaxies and welcomed them into an expansive, possibly fraught, interstellar conversation.\\n\\n\\*\\n\\nInside the cavernous central hub of Dulce military base, Dr. Jordan Hayes stood in near-darkness, surrounded by a nest of cables and monitors that buzzed with silent, cryptic life. Jordan's eyes narrowed to focus on the sequences that danced across the screen—patterns that could unravel the cosmic enigma surrounding them.\\n\\nAlex Mercer approached with his characteristic stride, a signal of reliability in the chaos. \\\"Status report, Dr. Hayes?\\\" he inquired, his voice low, almost blending into the soundscape of beeping consoles and swirling fans.\\n\\n\\\"We're on the brink of unravelling the signal's origin,\\\" Jordan replied, the weight of implications heavy in their tone. \\\"There's intelligence behind it, a thought process alien to our own.\\\"\\n\\nAs if summoned by their analysis, Taylor Cruz approached with authority radiating from every pore. \\\"Understand this, we need to know if it's friend or foe. Don't get wrapped up in the existential—our lives may depend on the answers you provide.\\\"\\n\\nSam Rivera, their hands adroitly adjusting a device to fine-tune the signal, chimed in with optimism undercut by anxious anticipation. \\\"We're deciphering the comm encryption. Soon, we'll have a channel open—not just listening in, but speaking back.\\\"\\n\\nAlex nodded his understanding, his strategic mind processing the tactical implications while grappling with the more profound humanistic impact. \\\"When we do, we'll tread carefully, communicate with purpose,\\\" he reassured the team.\\n\\nThe operation had evolved rapidly, from a stealthy incursion into a clandestine labyrinth to an exchange with an extraterrestrial intellect. Their earlier trepidation transformed into determined focus, as they prepared to extend humanity’s hand into the vast unknown.\\n\\nAn alert on one of the monitor stations snapped the team into alarm. The signal had not simply been waiting—it had been calculating. Now, it reached its crescendo, demanding their attention with a provocative urgency.\\n\\nJordan's fingers raced over the keyboard, their eyes simultaneously interpreting data and sharing directives. \\\"It’s a linguistic lock, a test of comprehension. We crack this, we establish dialogue.\\\"\\n\\nTaylor's presence was a beacon of steely resolve. \\\"Then let’s solve it. This is what we trained for—the unknown.\\\"\\n\\nAlex and Sam exchanged a look that telegraphed their shared determination—this was not only the mission they had trained for; it was the mission they had been destined for.\\n\\nTogether, the Paranormal Military Squad team leaned into the challenge, their minds honing in on the complex patterns with a singular goal: to unlock the conversation with an intelligence that had already begun to shift the foundations of what they knew, or thought they knew, about the universe.\\n\\nIn a symphony of clicks and murmurs, they worked, knowing they were about to make a giant leap not just for themselves or Paranormal Military Squad, but for all of humanity. As the final pieces fell into place, Dulce's militaristic silence was shattered by the sound of intergalactic contact—by the sound of history being made.\\n\\n## Chapter 7\\n\\nIn the enclosed space of Dulce’s command center, the air was thick with anticipation, each team member poised to tread the razor's edge between scientific breakthrough and galactic peril. Dr. Jordan Hayes focused intently on the screen, their fingers tapping a staccato rhythm against the keyboard as lines of alien code cascaded down the monitor.\\n\\nAlex Mercer's steely gaze surveyed the room, stopping on each member of his team. \\\"Thoughts?\\\" he asked, echoing the unspoken tension. His question, while directed at the group, lingered on Jordan—acknowledging their expertise and inviting collaboration rather than dictating orders.\\n\\nJordan’s brow furrowed, an indicator of the mental gymnastics being performed. \\\"It's unprecedented,\\\" they finally said, their voice a testament to the gravity of the moment. \\\"Behavioral algorithms... if we're right, this code could reveal extraterrestrial thought patterns.\\\"\\n\\nBefore anyone could react, Taylor Cruz interjected with the assertiveness of someone accustomed to commandeering the discourse. \\\"Then let’s ensure we’re deciphering it correctly,\\\" Taylor stated\", 2500), \"1e433d6b30887893e803d716486b14f0\":(\" the universe.\\n\\nIn a symphony of clicks and murmurs, they worked, knowing they were about to make a giant leap not just for themselves or Paranormal Military Squad, but for all of humanity. As the final pieces fell into place, Dulce's militaristic silence was shattered by the sound of intergalactic contact—by the sound of history being made.\\n\\n## Chapter 7\\n\\nIn the enclosed space of Dulce’s command center, the air was thick with anticipation, each team member poised to tread the razor's edge between scientific breakthrough and galactic peril. Dr. Jordan Hayes focused intently on the screen, their fingers tapping a staccato rhythm against the keyboard as lines of alien code cascaded down the monitor.\\n\\nAlex Mercer's steely gaze surveyed the room, stopping on each member of his team. \\\"Thoughts?\\\" he asked, echoing the unspoken tension. His question, while directed at the group, lingered on Jordan—acknowledging their expertise and inviting collaboration rather than dictating orders.\\n\\nJordan’s brow furrowed, an indicator of the mental gymnastics being performed. \\\"It's unprecedented,\\\" they finally said, their voice a testament to the gravity of the moment. \\\"Behavioral algorithms... if we're right, this code could reveal extraterrestrial thought patterns.\\\"\\n\\nBefore anyone could react, Taylor Cruz interjected with the assertiveness of someone accustomed to commandeering the discourse. \\\"Then let’s ensure we’re deciphering it correctly,\\\" Taylor stated, their tone suggesting they were still battling to maintain control over an increasingly alien situation.\\n\\nSam Rivera hovered near the mainframe, youthful energy barely contained under the surface. \\\"What if it’s more than just a message? What if they’re trying to extend consciousness across the stars?\\\"\\n\\nThe room fell into a contemplative silence, broken only by the hum of electronic equipment and the distant thud of secured doors locking in rhythm. The weight of responsibility rested on each agent's shoulders—a heaviness palpable in the air they shared.\\n\\nAlex stepped forward, reaching a subtle decision, one dictated by foresight and the humanity nestled at the core of their mission. \\\"We approach with the aim to understand, not to confront,\\\" he said, softening his military bearing into a more diplomatic stance.\\n\\nJordan nodded, appreciating the leadership that Alex displayed in the face of the unknown, and turned back to the cryptic data. Here, before them all, was a tangible piece of evidence—proof of an extraterrestrial sentience that had outreached the bounds of their expectations.\\n\\nTaylor took a breath, simultaneously exuding a sense of preparedness and venturing into the unknown alongside their peers. \\\"Then let’s do what Paranormal Military Squad does best—investigate and adapt,\\\" Taylor added, finding comfort in the familiar even as they stood on the cusp of an unprecedented alchemy of science and mystery.\\n\\nThe team leaned into their respective roles, driven by the urgency of the assignment and the pull of an insatiable curiosity. Sam offered a grin that belied the tension, a youthfulness that reminded them all of the profound excitement nested within the terror of the unknown.\\n\\nQuietly but resolutely, they turned back to their instruments, each of them a sentinel on the threshold of a new reality. The once implicit lines of command were now woven into a shared tapestry of hierarchy and camaraderie. As they danced with the unknown, they were beacons of sentient endeavor, casting the light of human consciousness into the vast darkness that called to them.\\n\\n\\*\\n\\n\\*\\n\\nDulce Base's cavernous darkness was pierced by the sharp luminescence of monitors, casting an electric glow onto the faces of those who dared to unearth its secrets. Dr. Jordan Hayes stood motionless, eyes glazed in concentration, their mind a nexus where terrestrial science battled with celestial unknowns.\\n\\nAlex Mercer watched from a slight distance, the weight of command tangible upon his shoulders, though lightened by the shared burden now held amongst them. \\\"We could be on the frontier of a new kind of diplomacy,\\\" he mused aloud, giving voice to the moment's gravity.\\n\\nAt those words, Jordan's trance broke. \\\"If that's the case, then these communications,\\\" Jordan motioned to the stream of data, \\\"are our olive branch across the cosmos.\\\"\\n\\nTaylor Cruz, who paced with restless energy, halted and faced the team—his stoicism marred by the erratic dance of lights reflected in his eyes. \\\"An olive branch, or an invitation to a battlefield?\\\" he posed, ever the strategist, his words laced with a hint of cynicism.\\n\\nSam Rivera, nestled amongst an array of equipment, licked their lips—a mixture of nerves and anticipation palpable. \\\"We're mapping out something incredible here. Whether it's peace or war, we're the cartographers.\\\"\\n\\nSilence enveloped them like the expanse of space itself, each member contemplating the chasms they might bridge—or the abysses into which they might unwittingly descend.\\n\\nAlex's demeanor assumed a quiet resolve—the profound knowledge that this mission was as much about navigating uncharted philosophical territories as it was about ensuring survival. \\\"Whichever it proves to be, we'll face it. Prepared, unified.\\\"\\n\\nA nod passed between Jordan and Alex, a silent exchange of mutual respect and shared mission. Sam, buoyed by the weighty encounters of the mind and machinery, entered keystrokes with a fervor that seemed to bring them ever closer to the alien mind.\\n\\nThey stood there, the Paranormal Military Squad team, not just as guardians of homeworld secrets or as soldiers of clandestine wars, but as humankind's chosen few at the fulcrum of history—a history that was now unfolding to the rhythm of otherworldly codes.\\n\\nEach revelation, each parsed symbol, inched them toward the line between the earthly and otherworldly. And as they stood on this precipice of cosmic negotiations, it was clear the ensuing dialogue would not just shape the future of Paranormal Military Squad—it could very well redefine the parameters of human existence.\\n\\n\\*\\n\\nThe hum of advanced computational systems tingling with cryptic transmissions framed the ambiance of Dulce's mainframe chamber. Jordan Hayes, fingers hovering over a console dense with blinking lights, furrowed their brow as sequences of alien data streamed across the screen. \\n\\nAlex materialized behind them, his presence a stable beacon amidst the technological whirlwind. \\\"Look for patterns, anomalies. Anything that might resemble a handshake protocol in their communications,\\\" he directed, his voice a low thrum, reverberating with cautious optimism.\\n\\nJordan cast a glance over their shoulder, acknowledging Alex's contribution with the shared understanding of colleagues who had transcended mere professional acquaintance. \\\"I’m isolating sequences that seem to recur with more intention than static. If these are their ‘handshakes,’ then we might just be making first contact,\\\" they remarked, their focus returning to the screen with renewed vigor.\\n\\nFrom the other end of the room, where shadows married the artificial light, Sam's voice crackled through the static of nearby speakers, \\\"Don't forget the anomalies we detected earlier. Each one could be a word, a sentence, or even a concept untranslatable to our current understandings.\\\"\\n\\nResolute, Taylor Cruz stood at Jordan's other side, a stoic figure wrestling with the implications of their mission. \\\"Keep pursuing this line,\\\" Taylor instructed, an undercurrent of intensity carried forth in their otherwise composed demeanor. \\\"And remember, this isn't just about making contact; it's about securing knowledge for humanity.\\\"\\n\\nAlex offered a nod that spoke volumes, conveying his understanding of the stakes at play. Here, in this chamber of possibility, the team's actions would determine if humanity stood at the brink of a new age of understanding or the onset of an unprecedented threat.\\n\\nEvery second thrummed with significance as Jordan and Sam worked in tandem, each keystroke a foray into the unknown. Taylor observed with a commander's scrutiny, the gravity of their role sustaining them against the waves of ambiguity breaking against their resolve.\\n\\nPivotal moments come rarely in the course of human events but here, amidst the electronic symphony of a stalwart command center, lay the incepting notes of a cosmic overture. The harmony between human and alien, between Paranormal Military Squad and the vast reaches of space, began its first tentative measures, with each member of the team a vital instrument in a celestial ensemble yet to be fully heard.\\n\\n\\*\\n\\nThe crisp air within the mainframe room of Dulce base seemed to hum with unspoken possibilities. Jordan Hayes was the centerpiece of focus, their hands dancing methodically over the console as streams of otherworldly code cascaded down monitors, each flicker a potential key to the cosmic doors they were inching open.\\n\\nAlex Mercer watched, posture relaxed but eyes sharp. \\\"Remember, this could be our first introduction, maybe even our first impression,\\\" he said, mindful of the gravity carried by each action they made henceforth.\\n\\nA hint of a smile touched Jordan's face, a small acknowledgment of the monumental task at hand. \\\"Understood. I'm balancing the signal's syntax with our algorithms. If we're interpreting this correctly, it could be... well, an invitation.\\\"\\n\\nInto the electric tension of the chamber walked Taylor Cruz, their silhouette a sharp contrast against the cool lighting, radiating a presence that spoke of command and chilly tenacity. \\\"An invitation, or a challenge?” Taylor questioned, the weight of their suspicion casting a different tint on the cascading data.\\n\\nSam Rivera, in a corner arrayed with sophisticated equipment, piped up, their voice a buoyant note amidst the tentative atmosphere. \\\"Either way, it's a connection. One that we're uniquely positioned to navigate,\\\" they remarked with an air of optimism threading through the uncertainty.\\n\\nAlex channeled the strengths of his team into the core of their approach, his leadership adapting to the contours of an unprecedented scenario. \\\"Cautious and curious,\\\" he reflected aloud, shaping a strategy that balanced their thirst for comprehension with the prudence required in addressing the unknown.\\n\\nJordan, hands momentarily at rest, looked up. The signal was more than a sequence of bits and commands—it was a riddle wrapped in the depths of space-time, and they were on the cusp of parsing its meaning.\\n\\nTaylor, hardly a step away, nodded in silent agreement. The implications of their findings might very well direct the course of human destiny from this point onward.\\n\\nFinding a tempo among themselves, the Dulce team was a confluence of ambition and acumen, each member intuitive to the beats of discovery. The chamber around them held untold stories, secrets coaxed from the stars, that now, led by Paranormal Military Squad's finest, began to unravel.\\n\\nThe future in those moments was unwritten, a narrative scribed not in the dust of desert confines, but in the potential for interstellar diplomacy and understanding. As they prepared to script humanity's next chapter, the room seemed to pulse with the heartbeat of a story far greater than the sum of its parts.\\n\\n## Chapter 8\\n\\nThe grit of an earthbound dust storm contrasted sharply with the pristine sterility of the underground command center. Alex Mercer, eyes set with fervent determination, stood over Jordan Hayes, whose fingers danced across the keyboard with rapid purpose. Monitoring the progression of alien code unraveling before them, Mercer spoke with a tempered urgency, \\\"Keep it steady, Jordan. We might be initiating the first true interspecies communication bridge here. It's all about finesse now.\\\"\\n\\nTaylor Cruz, the embodiment of military precision, surveyed the room with a calculated gaze from their vigil beside an array of glimmering screens. \\\"Remember, these could be delicate negotiations -- or coded threats. Stay sharp,\\\" Cruz added, their voice cool as polished steel.\\n\\nJordan, with a silent nod, recognized the gravity of both stances. Gravitating between scientific acuity and diplomatic caution, they replied, \\\"The sequence is aligning—syncing with our comms. It's looking more and more like direct engagement.\\\"\\n\\nAmid the banks of electronic machinery, the thrumming pulse of an impending interspecies signal exchange, Sam Rivera interjected with a youthful zeal that cut through the weighty atmosphere, \\\"It's not just an exchange.\", 2500), \"fd770b8888123872162a66dcd19c96d8\":(\"cribed not in the dust of desert confines, but in the potential for interstellar diplomacy and understanding. As they prepared to script humanity's next chapter, the room seemed to pulse with the heartbeat of a story far greater than the sum of its parts.\\n\\n## Chapter 8\\n\\nThe grit of an earthbound dust storm contrasted sharply with the pristine sterility of the underground command center. Alex Mercer, eyes set with fervent determination, stood over Jordan Hayes, whose fingers danced across the keyboard with rapid purpose. Monitoring the progression of alien code unraveling before them, Mercer spoke with a tempered urgency, \\\"Keep it steady, Jordan. We might be initiating the first true interspecies communication bridge here. It's all about finesse now.\\\"\\n\\nTaylor Cruz, the embodiment of military precision, surveyed the room with a calculated gaze from their vigil beside an array of glimmering screens. \\\"Remember, these could be delicate negotiations -- or coded threats. Stay sharp,\\\" Cruz added, their voice cool as polished steel.\\n\\nJordan, with a silent nod, recognized the gravity of both stances. Gravitating between scientific acuity and diplomatic caution, they replied, \\\"The sequence is aligning—syncing with our comms. It's looking more and more like direct engagement.\\\"\\n\\nAmid the banks of electronic machinery, the thrumming pulse of an impending interspecies signal exchange, Sam Rivera interjected with a youthful zeal that cut through the weighty atmosphere, \\\"It's not just an exchange. It's a... symphony. It's as if they're teaching us their language through modulation.\\\"\\n\\nA moment of profound silence swept over the team. The isolation of their location, deep within the top-secret labyrinth of Dulce, became suffused with an almost palpable sense of historical significance.\\n\\n\\\"Then our response needs to be equally symphonic,\\\" Alex uttered, contemplating the awe-inspiring transmutation of their task from a simple recovery mission to a full-blown cosmic concerto.\\n\\nWith a renewed sense of wonder tempered by caution, the Paranormal Military Squad team found themselves harmonizing a delicate balance between envoys and interpreters. The long shadow cast by their duty was now illuminated by the brilliant glow of otherworldly dialogue.\\n\\nIn this carefully orchestrated march towards the unknown, each individual's expertise became critical notes in a larger melody. The narrative of human achievement, so often defined by solitary pursuits, now emerged as a collaborative opus, each member of the team a maestro in their right.\\n\\nThe protocols of encounters, the mathematics of languages, and the poetics of connection all fused into a singular moment of convergence. The echo of their efforts reverberated back to them, not through the cavernous base's concrete walls, but from light-years away, in the form of a reply, intangible yet infinitely profound.\\n\\n\\*\\n\\nAmidst the hum of the supercomputers and the faint static from the scrambled transmissions, Alex Mercer cast a thoughtful glance across the dimly lit room toward where Dr. Jordan Hayes was methodically adjusting the archaic dials of the decryption machine. \\\"Any progress?\\\" he asked, his tone conveying both impatience and the deep-seated respect born from countless shared challenges.\\n\\nJordan did not look up, their gaze remained locked on the flickering lights that represented a dialogue suspended between worlds. Their fingers ceased their dance, hovering meditatively over the controls. \\\"We might be on the cusp of a breakthrough,\\\" Jordan suggested. \\\"The signal... it's evolved. It's reflexive now, responsive in a way that suggests sentience.\\\"\\n\\nTaylor Cruz's familiar sharp strides approached the two, breaking the rhythm of soft beeps. \\\"Responsive is good, if it means understanding,\\\" Taylor said, head tilted as they peered at the encryption data scrolling by. \\\"But remember, comprehension can bring revelation or conflict.\\\"\\n\\nSam Rivera’s youthful voice permeated the tension, brimming with an excitement edged by the enormity of what they faced. \\\"If it's truly sentient, we're not just cracking a code; we're learning how to converse with an entirely new form of consciousness,\\\" they chimed in, the weight of history not lost on the zealous astrotechnician.\\n\\nAlex nodded, his thoughts alighting on potential strategies for navigating the conversation they were cultivating with the unfathomable. \\\"We need to keep that conversation going, echo its patterns, and speak its language,\\\" he resolved, knowing the delicate nature of their work merited every ounce of their collective acumen.\\n\\nThe chamber now was a crucible, forging within it the future narrative of human contact with the unknown. Every signal pulse they sent out was an invitation for understanding, and every echo back a step closer to bridging the cosmic divide. And so, together, they stood - agents in Paranormal Military Squad's clandestine ranks, united by purpose, sculpting humanity’s first sonnets into the void.\\n\\n\\*\\n\\n#### Knowledge graph updates\\n\\n- (Jordan Hayes, Interprets, Communications as cosmic diplomacy, Moderate)\\n\\n- (Taylor Cruz, Questions, Potential aggressiveness of alien intent, Minor)\\n\\n- (Sam Rivera, Expresses, Optimism about forming a connection, Minor)\\n\\n- (Alex Mercer, Adopts, Balanced strategy for contact, Moderate)\\n\\n- (Paranormal Military Squad team, Navigates, Beats of cosmic discovery, Moderate)\\n\\n- (Paranormal Military Squad team, Prepares, To script humanity's interstellar narrative, Major)\\n\\n## Chapter 9\\n\\nThe sterile silence of Dulce Base's command center was thick with concentration as Alex Mercer surveyed his team, hunched over their respective technological battle stations. Each agent was a weapon against ignorance, their adversary a code from beyond the stars that held secrets to alien thought.\\n\\nDr. Jordan Hayes, whose hands had been steadfastly working the decryption algorithms, paused and looked up at Alex. \\\"We're through the next layer of encryption,\\\" Jordan announced, a mixture of pride and gravitas in their tone. \\\"It's communicating. It's... aware.\\\"\\n\\nA shadow momentarily clouded Alex's determined features—awareness implied so much more than mere intelligence. \\\"Aware and reactive or aware and proactive?\\\" he queried, his experience anticipating the pivotal importance of intention.\\n\\n\\\"Unknown at this stage,\\\" Taylor Cruz interjected, looking up from a datasheet. \\\"But I urge caution. We tread the line between breakthrough and disaster with each keystroke.\\\"\\n\\nSam Rivera, ever the source of technological acumen, added their voice to the conversation. \\\"The signal's adapting every time we interact with it. Like a conversation where both parties are learning each other's language in real time.\\\"\\n\\nAlex leaned in, rested a hand on Jordan's shoulder—a sign of companionship and an affirmation of trust. \\\"Keep the communication channels open. But let no message, no pulse go unchecked. This could be our Rosetta Stone or our Tower of Babel.\\\"\\n\\nSilence fell over them, a momentary lull as each member of the team contemplated the historic weight of their task. Yet, it was impregnated with a tangible sense of excitement—a collective energy that thrummed through the air just as palpably as the electric current through the banks of machines surrounding them.\\n\\nThey continued their work, squaring shoulders against the magnitude of their undertaking. The agents were standing not just at the precipice of a new chapter for Paranormal Military Squad but for all of humanity. For now, they communicated with powerful unknowns, but with each exchange, they were etching the first words of a dialogue that might forever alter humanity's place in the cosmos.\\n\\n\\*\\n\\n\\*\\n\\nThe sterile silence of Dulce Base's command center was thick with concentration as Alex Mercer surveyed his team, hunched over their respective technological battle stations. Each agent was a weapon against ignorance, their adversary a code from beyond the stars that held secrets to alien thought.\\n\\nDr. Jordan Hayes, whose hands had been steadfastly working the decryption algorithms, paused and looked up at Alex. \\\"We're through the next layer of encryption,\\\" Jordan announced, a mixture of pride and gravitas in their tone. \\\"It's communicating. It's... aware.\\\"\\n\\nA shadow momentarily clouded Alex's determined features—awareness implied so much more than mere intelligence. \\\"Aware and reactive or aware and proactive?\\\" he queried, his experience anticipating the pivotal importance of intention.\\n\\n\\\"Unknown at this stage,\\\" Taylor Cruz interjected, looking up from a datasheet. \\\"But I urge caution. We tread the line between breakthrough and disaster with each keystroke.\\\"\\n\\nSam Rivera, ever the source of technological acumen, added their voice to the conversation. \\\"The signal's adapting every time we interact with it. Like a conversation where both parties are learning each other's language in real time.\\\"\\n\\nAlex leaned in, rested a hand on Jordan's shoulder—a sign of companionship and an affirmation of trust. \\\"Keep the communication channels open. But let no message, no pulse go unchecked. This could be our Rosetta Stone or our Tower of Babel.\\\"\\n\\nSilence fell over them, a momentary lull as each member of the team contemplated the historic weight of their task. Yet, it was impregnated with a tangible sense of excitement—a collective energy that thrummed through the air just as palpably as the electric current through the banks of machines surrounding them.\\n\\nThey continued their work, squaring shoulders against the magnitude of their undertaking. The agents were standing not just at the precipice of a new chapter for Paranormal Military Squad but for all of humanity. For now, they communicated with powerful unknowns, but with each exchange, they were etching the first words of a dialogue that might forever alter humanity's place in the cosmos.\\n\\n\\*\\n\\nAlex Mercer's eyes were fixed on the monitors, the reflected light casting an ethereal glow across his stoic face. The room buzzed with tension, a cacophony of low hums and electronic beeps that underscored the historic nature of their actions. He moved to where Dr. Jordan Hayes was immersed in their work, scrutinizing the alien code streaming rapidly down the terminal.\\n\\n\\\"Find anything that might look like an entry point or a... digital handshake?\\\" Alex asked, his voice steady, betraying none of the tension gripping his chest.\\n\\nJordan looked up briefly, their expression weary yet intense, \\\"Potentially. It's as if the code is anticipating our input, modifying itself in real-time. I've never seen anything like it.\\\"\\n\\nFrom across the room, Taylor Cruz's sharp voice cut through the hum. \\\"Then it's learning or, possibly worse, baiting us. Proceed with extreme caution,\\\" they commanded, their firm stance reinforcing the gravity of the situation.\\n\\nSam Rivera, surrounded by a cascade of screens and interfaces, added, \\\"It's almost organic in its complexity. Any minute now, and I might have a way in.\\\"\\n\\nA slight nod was Alex's immediate response, his mind racing through the potential scenarios. \\\"Everyone, stay alert. This could be the beginning of something profound.\\\" His seasoned eyes never left the unfolding drama on the monitors.\\n\\nThe room fell silent, the air heavy with unspoken questions. Were they mere moments away from unlocking an otherworldly dialogue? Or was it a Pandora's box that, once opened, could not be closed?\\n\\nAlex moved closer to the main console, his fingers hovering over the command keys. With the precision of a maestro orchestrating a symphony, he communicated silently with Jordan – respectful of their expertise, aware that the next move could alter the course of human history.\\n\\nJordan met his gaze, nodding sharply, and refocused on the task. The signal seemed to pulse with sentient curiosity, drawing them further into its intricate web. \\n\\nA sudden flurry of alerts and the intensifying glow of monitors heralded that they had bridged a technological chasm. The alien intelligence on the other end was no longer a distant enigma – it was an active participant, responding to their digital overtures with an unknown agenda.\\n\\nThe team's meticulous efforts had led them to a momentous threshold. Beyond lay unprecedented contact – a nexus of curiosity and potential peril. Within the confines of the base, against the backdrop of a silent desert night, the Paranormal Military Squad operatives became mediators of Earth's bid for cosmic relevance, their every action now a\", 2500), \"6ce53dc78770579f3d8369771db6f80c\":(\" have a way in.\\\"\\n\\nA slight nod was Alex's immediate response, his mind racing through the potential scenarios. \\\"Everyone, stay alert. This could be the beginning of something profound.\\\" His seasoned eyes never left the unfolding drama on the monitors.\\n\\nThe room fell silent, the air heavy with unspoken questions. Were they mere moments away from unlocking an otherworldly dialogue? Or was it a Pandora's box that, once opened, could not be closed?\\n\\nAlex moved closer to the main console, his fingers hovering over the command keys. With the precision of a maestro orchestrating a symphony, he communicated silently with Jordan – respectful of their expertise, aware that the next move could alter the course of human history.\\n\\nJordan met his gaze, nodding sharply, and refocused on the task. The signal seemed to pulse with sentient curiosity, drawing them further into its intricate web. \\n\\nA sudden flurry of alerts and the intensifying glow of monitors heralded that they had bridged a technological chasm. The alien intelligence on the other end was no longer a distant enigma – it was an active participant, responding to their digital overtures with an unknown agenda.\\n\\nThe team's meticulous efforts had led them to a momentous threshold. Beyond lay unprecedented contact – a nexus of curiosity and potential peril. Within the confines of the base, against the backdrop of a silent desert night, the Paranormal Military Squad operatives became mediators of Earth's bid for cosmic relevance, their every action now a gesture in the grand dance of intergalactic relations.\\n\\n## Chapter 10\\n\\nThe corridors of the Dulce military base, now silent, echoed with a history of whispered conspiracies and furtive movements. But in the command center, a delicate tapestry of light and sound was being woven as the echoes of cosmic dialogue resonated through the high-tech enclave. Dr. Jordan Hayes, now leading the efforts, called out from their workstation, \\\"I’ve isolated the signal's harmonics. It's more than a call; it's a song, an interstellar siren’s call.\\\"\\n\\nAlex Mercer, steady and resilient in the face of the incomprehensible, acknowledged with a quiet nod, \\\"A song that we need to learn—quickly.\\\" His eyes, heavy with responsibility, scanned the room, watching his team work tirelessly at the intersection of science and speculation.\\n\\nSam Rivera, dulled by fatigue yet driven by unshakeable resolve, manipulated a complex array of audio interfaces. \\\"There's a pattern, a repeating motif. It's structured, intentional,\\\" they muttered, their revelation a bridge between the known and the unimaginable.\\n\\nTaylor Cruz, a figure of central authority, paced the length of the room, their usual unflappable demeanor betraying a rare flicker of apprehension. \\\"We should be wary of the sirens’ call,\\\" Taylor interjected, invoking myths of old as a cautionary metaphor. \\\"We don't want to crash upon unseen shores.\\\"\\n\\nUndeterred, Jordan cast a determined glance at the team. \\\"We navigate by starlight now, not by the limited light of our previous understanding.\\\" Their voice was a beacon, charting a course through unchartered realities.\\n\\nEvery individual was acutely aware that each moment in that room was a conduit to an epochal shift for civilization. The mysterious signals, once distant and alien, had coalesced into complex and harmonious oscillations—beacons of an extraterrestrial intellect inviting Earth to join in a cosmic consortium.\\n\\nSilently, Alex approached the mainframe, his trained fingers aligning with the console’s mechanisms. The room watched in collective breathlessness as he set the frequency in motion, an introductory phrase to an otherworldly melody—a symphony that could bind worlds or spell devastation for all they knew.\\n\\nIn the control room of Dulce, amongst whispered legends and the quiet hum of machines, humanity's ambassadors now stood, stretching their hands into the void, reaching for the hand that would either pull them into the light of new stars or into the maw of darkness between them.\\n\\n\\*\\n\\nUnderground, the Dulce facility's command center was awash with frenetic energy, a stark juxtaposition against the silent, decrepit corridors that enveloped them. The air hummed with anticipation as Dr. Jordan Hayes and Alex Mercer hunched over a console. The sterile light from the monitors cast an otherworldly glow upon their faces, now reflecting a mosaic of alien characters rapidly translating across the screen.\\n\\n\\\"The patterns are evolving,\\\" Jordan murmured, concentration etched into their every feature. \\\"It’s as if our attempts to decrypt have accelerated its learning. It’s adapting to us.\\\"\\n\\nAlex, who stood steadfast behind Jordan, felt a tinge of uncharted fear quickly quelled by the fire of discovery raging within him. \\\"Keep it up,\\\" he urged. \\\"But whatever this is becoming, we need to ensure it remains within our control.\\\"\\n\\nTaylor Cruz interjected, their voice slicing through the buzz of activity. \\\"Control may be an illusion when facing an intelligence that literally writes its own rules,\\\" they stated stoically, casting a watchful eye over the flurry of data.\\n\\n\\\"It's like it's learning to communicate,\\\" offered Sam Rivera from a nearby interface, their youthful energy boding a mix of awe and anxiety. \\\"This gives ‘talking to strangers’ a whole new meaning.\\\"\\n\\nAlex surveyed his team—each face a study in concentration, determination, and not a small measure of trepidation. \\\"This might well be our first contact,\\\" he acknowledged, \\\"And we need to be ready for whatever answers back.\\\"\\n\\nTogether, they stood on the edge of the unknown, forging humanity’s response to a message from the heavens. The ensuing silence was palpable—a collective introspection about their role in this grand cosmic play, one that could rewrite human history.\\n\\nThe encrypted dialogue continued to unfold, its intricate patterns showing an almost uncanny anticipation of their investigative strategies. The air turned heavy with the scent of electricity and ambition as they closed in on a pivotal response.\\n\\nAs the signal’s intelligence—whether artificial or biological—grew more profound, so too did the realization that their mission had morphed from passive observation to active engagement. There was no turning back now. Each agent embraced their part in the delicate dance of an interstellar exchange that could change everything they thought they knew about life, intelligence, and the dark void beyond Earth's atmosphere.\\n\\n\\*\\n\\nThe underground halls of Dulce Base, usually buzzing with covert operations, now thrummed with a different kind of energy, an electric mix of fear and fascination. At the heart of the base, in a room shielded from the world’s eyes, Alex Mercer, Jordan Hayes, Taylor Cruz, and Sam Rivera huddled around a bank of monitors. Each screen flickered erratically with the alien script that had become the center of their lives—and perhaps the pivot on which humanity’s future would turn.\\n\\nJordan's eyes never wavered from the displays, their expression was one of rapt concentration, interspersed with flashes of revelation. \\\"We're conversing with the stars,\\\" they whispered, almost to themselves. The words hung in the air, a testament to the awe-inspiring strangeness of the situation.\\n\\n\\\"The language is morphing; changing its structure with every exchange we have,\\\" Sam chimed in, enthusiasm tinged with the solemnity of the occasion. \\\"It's like witnessing the birth of a new form of dialogue—one that spans galaxies.\\\"\\n\\nTaylor, despite the situation's precariousness, maintained an appearance of ironclad composure. \\\"Keep the communication stream secured and monitored. We don't know what we're dealing with yet,\\\" they reminded the team, a bastion of protocol amidst uncertainty.\\n\\nAlex watched his team expand the parameters of human achievement; their work here would possibly define an era. \\\"This is untrodden territory,\\\" he acknowledged, \\\"and in every word we script, in every response we decode, we're drawing a map that others will follow.\\\"\\n\\nJordan turned to Alex, a nod acknowledging the shared responsibility of this moment. They had embarked on a new voyage, an odyssey not of the body, but of the intellect and spirit. No longer explorers of the Earthly realm, they had been promoted by circumstance to ambassadors of humanity in a silent and boundless ocean.\\n\\nA sudden pulse of energy from the monitors signaled a breakthrough; the language had not only adapted but it seemed to resonate, to harmonize with their attempts at making contact. The alien script now sprawled across the screens didn't just ask to be understood—it invited interpretation, collaboration, maybe even companionship across the cold distances of space.\\n\\nAs they stood before the precipice of first contact, Paranormal Military Squad's finest became the architects of a symphony meant to echo through the cosmos. But more than architects, they were the first to play the notes of this cosmic composition, daring to believe that on the other end, someone—or something—might be listening, ready to join the chorus.\\n\\n\\*\\n\\nThe underground command center of Dulce Base, once pulsing with clandestine operations, now resonated with the charge of an impending cosmic threshold. Encircled by banks of whirring machinery, each monitor flickered erratically with alien script that had occupied center stage in the lives of Alex Mercer, Jordan Hayes, Taylor Cruz, and Sam Rivera.\\n\\nJordan's gaze didn’t flit for even a moment from the screens, where indiscernible alien messages ebbed and flowed like the tide. The ciphers and symbols cascaded down as they tweaked the algorithmic sliders. \\\"This sequence here,\\\" Jordan began, voice both hushed and heavy, \\\"it’s not just transmitting; it resonates—it's designed to be felt.\\\"\\n\\nThe room took a collective breath, the remarkable implication hanging in the air like a careful revelation. Sam Rivera was the first to respond, their voice alive with ingenuity: \\\"It's a form of communication stretching well beyond words. We need to respond in kind—the whole array of human expression might be at play here.\\\"\\n\\nTaylor's eyes remained fixed on the figures playing across the data sheets. \\\"If that's the case,\\\" Taylor intoned pragmatically, \\\"we must tread carefully. This is no longer just about being heard—it's about being understood.\\\"\\n\\nAlex watched his team, each a fulcrum of insight and expertise, and felt the solemnity of the role they were about to assume. \\\"Then we'll ensure our message is clear and full. Our humanity is our strength in this dialogue,\\\" he declared, the depths of his experience fueling a commanding reassurance.\\n\\nThe anticipation was palpable as the agents contemplated the vastness of their endeavor. They were not merely probing at the secrets of the planar cosmos—they were negotiating across the starry expanse, extending to distant intelligences the full spectrum of human curiosity and compassion.\\n\\nA symphony of beeping consoles orchestrated their next steps as they prepared to articulate their interplanetary overture. The rhythmic tapping of Jordan's keystrokes set the tempo for an undertaking that traversed beyond algorithms and encryption.\\n\\nThe base withstood time and whispered secrets of its own, but none so grand as this moment of creation—an invitation to the universe that promised to echo through both the echoes of space and the annals of human history.\\n\\n## Chapter 11\\n\\nThe sterile silence of Dulce Base's command center was thick with concentration as Alex Mercer surveyed his team, hunched over their respective technological battle stations. Each agent was a weapon against ignorance, their adversary a code from beyond the stars that held secrets to alien thought.\\n\\n\\*\\n\\nThe thrum of the colossal machinery vibrated through the subterranean facility as Alex Mercer stood amidst the whispers of technology, each carrying voices from worlds apart. He watched as Sam Rivera adjusted a complex array of cosmic translators, their expression a mixture of anticipation and awe.\\n\\n\\\"Are we ready, Mercer?\\\" Taylor Cruz asked, the soft glow of the command center consoles reflecting upon their stern face.\\n\\nAlex turned towards Taylor, his eyes holding a depth that betrayed the enormity of the threshold they were about to cross. \\\"This is it,\\\" he said. \\\"Initiate the protocol. It's time we answer the cosmos.\\\"\\n\\nJordan Hayes, stationed at the mainframe, typed rhythmically, a blue\", 2500), \"00fafabae48948779fee2afe600f5143\":(\"ences the full spectrum of human curiosity and compassion.\\n\\nA symphony of beeping consoles orchestrated their next steps as they prepared to articulate their interplanetary overture. The rhythmic tapping of Jordan's keystrokes set the tempo for an undertaking that traversed beyond algorithms and encryption.\\n\\nThe base withstood time and whispered secrets of its own, but none so grand as this moment of creation—an invitation to the universe that promised to echo through both the echoes of space and the annals of human history.\\n\\n## Chapter 11\\n\\nThe sterile silence of Dulce Base's command center was thick with concentration as Alex Mercer surveyed his team, hunched over their respective technological battle stations. Each agent was a weapon against ignorance, their adversary a code from beyond the stars that held secrets to alien thought.\\n\\n\\*\\n\\nThe thrum of the colossal machinery vibrated through the subterranean facility as Alex Mercer stood amidst the whispers of technology, each carrying voices from worlds apart. He watched as Sam Rivera adjusted a complex array of cosmic translators, their expression a mixture of anticipation and awe.\\n\\n\\\"Are we ready, Mercer?\\\" Taylor Cruz asked, the soft glow of the command center consoles reflecting upon their stern face.\\n\\nAlex turned towards Taylor, his eyes holding a depth that betrayed the enormity of the threshold they were about to cross. \\\"This is it,\\\" he said. \\\"Initiate the protocol. It's time we answer the cosmos.\\\"\\n\\nJordan Hayes, stationed at the mainframe, typed rhythmically, a blue hue painting their focused features. The eerie silence that had settled over the team was interrupted by a visceral sound—humankind's response to the alien dialogue, now streaming into the abyss.\\n\\nThe control room, once a fortress of solitude, erupted into an oasis of life. Lights flickered in tandem, echoing the symphony of interstellar communication. They stood together at the edge of discovery, facing the symmetry and discord of a universe unknown.\\n\\n\\\"If we're right, we've just become Earth's first emissaries to a celestial congress we're only beginning to comprehend,\\\" Jordan's voice was somber, resonating with a mix of trepidation and honor. \\n\\nThe room filled with the resonance of human and alien minds converging, creating a new narrative within the fathomless expanse of existence. Paranormal Military Squad, once protectors of Earth's clandestine secrets, had now become the tether linking humanity to the cosmic fold.\\n\\n\\*\\n\\nThe underground command center of Dulce Base, once pulsing with covert operations, now resonated with the charge of an impending cosmic threshold. Encircled by banks of whirring machinery, each monitor flickered erratically with alien script that had occupied center stage in the lives of Alex Mercer, Jordan Hayes, Taylor Cruz, and Sam Rivera.\\n\\nJordan's gaze didn’t flit for even a moment from the screens, where indiscernible alien messages ebbed and flowed like the tide. The ciphers and symbols cascaded down as they tweaked the algorithmic sliders. \\\"This sequence here,\\\" Jordan began, voice both hushed and heavy, \\\"it’s not just transmitting; it resonates—it's designed to be felt.\\\"\\n\\nThe room took a collective breath, the remarkable implication hanging in the air like a careful revelation. Sam Rivera was the first to respond, their voice alive with ingenuity: \\\"It's a form of communication stretching well beyond words. We need to respond in kind—the whole array of human expression might be at play here.\\\"\\n\\nTaylor's eyes remained fixed on the figures playing across the data sheets. \\\"If that's the case,\\\" Taylor intoned pragmatically, \\\"we must tread carefully. This is no longer just about being heard—it's about being understood.\\\"\\n\\nAlex watched his team, each a fulcrum of insight and expertise, and felt the solemnity of the role they were about to assume. \\\"Then we'll ensure our message is clear and full. Our humanity is our strength in this dialogue,\\\" he declared, the depths of his experience fueling a commanding reassurance.\\n\\nThe anticipation was palpable as the agents contemplated the vastness of their endeavor. They were not merely probing at the secrets of the planar cosmos—they were negotiating across the starry expanse, extending to distant intelligences the full spectrum of human curiosity and compassion.\\n\\nA symphony of beeping consoles orchestrated their next steps as they prepared to articulate their interplanetary overture. The rhythmic tapping of Jordan's keystrokes set the tempo for an undertaking that traversed beyond algorithms and encryption.\\n\\nThe base withstood time and whispered secrets of its own, but none so grand as this moment of creation—an invitation to the universe that promised to echo through both the echoes of space and the annals of human history.\\n\\n## Chapter 12\\n\\nThe underground facility of Dulce Base, once shrouded in silence and operational secrecy, now hummed with an energy that cradled the promise of cosmic revelation. Alex Mercer stood pensively by the central terminal, flanked by Dr. Jordan Hayes, Taylor Cruz, and Sam Rivera, each poised at the edge of a history-defining moment.\\n\\nJordan's fingers ghosted across the console, tracing patterns of otherworldly origin. \\\"The signal’s architecture is becoming more complex, resembling aspects of human cognition—recognition, learning, even... empathy?\\\" they postulated with furrowed concern.\\n\\nAlex turned his gaze upon Jordan, his voice quiet but resolute, \\\"Empathy could bridge galaxies. Let's harness this connection and proceed with cautious optimism.\\\"\\n\\nTaylor, ever the sober sentinel, projected a more pragmatic standpoint. \\\"Empathy or not, we are duty-bound to assess the risk to humanity. Every new discovery warrants a measured response.\\\"\\n\\nThe static hiss of communications equipment filled the air, its purpose now transformed into a dialogue with an intelligence beyond the stars. It was Sam, wide-eyed amid the myriad lights and switches, who broke the silence, \\\"We have provisional confirmation of the signal’s intent—initiation. We’re being brought into a broader spectrum of cognizance.\\\"\\n\\nThe chamber lay still for a heartbeat, the Paranormal Military Squad agents steeped in contemplation of the path unfurling before them—a path paved with possibilities of diplomacy or disruption, each step a venture further into the cosmic unknown.\\n\\nAlex stepped closer to the viewing monitors, each depicting alien symbols seemingly reaching out from the void. \\\"Initiate the broadcast,\\\" he spoke with quiet command. \\\"Our response will mark humanity’s readiness to partake in the wider conversation of conscious beings.\\\"\\n\\nAmidst the crackling air of expectation, the team wordlessly returned to their stations. They had transcended their roles as protectors of Earth's clandestine lore to become the harbingers of an interstellar parley that could change the existential course of life on their pale blue dot.\\n\\nThe deep hum of the terminal emitted a signal—a testament to the uncanny reality that Earth was now actively partaking in an exchange not bound by gravity nor the limits of the solar wind.\\n\\nHere, in the depths of Dulce, a message from humanity woven from understanding and uncertainty was cast into the firmament, an epitheg of their desire to join the universal dialogue and discover their place among the constellations.\\n\\n\\*\\n\\nThe somber depths of the Dulce Base command center stood in stark counterpoint to the animated flurry of activity around the central comms array. Alex Mercer's silhouette loomed behind Dr. Jordan Hayes, who sat with a posture indicating laser focus on the decryption process. A quiet murmur of digital soundscape filled the space, subtly heightened by the anticipation of contact with an intelligence beyond the Earth.\\n\\nJordan's voice was steady, betraying none of the extraordinary nature of their work, \\\"Looking through the signal's pattern, it's evident we’re dealing with a form of intelligence—calculating, mirroring, possibly even understanding.\\\"\\n\\nAlex's reflection bounced off the darkened screens, his head nodding in silent affirmation. \\\"We’re walking a delicate line. Our response should be thoughtful, measured. We’re ambassadors, not merely explorers.\\\"\\n\\nTaylor Cruz approached, arms folded, their words slicing through the din of careful keystrokes and soft whirrs, \\\"If there’s even the slightest chance it understands, we can’t afford missteps. The language of the stars might be more absolute than ours.\\\"\\n\\nFrom another terminal, Sam Rivera brought youthful vigor to the conversation, \\\"There’s rhythm in these patterns. If this is their way of reaching out, our reply should encapsulate all that we are—all that humanity stands for.\\\"\\n\\nLooking around at his team, Alex saw resolve etched on every face. The chamber, usually somber and echoing with the quiet steps of covert agents, now felt alive with the heartbeat of discovery. They were not just professionals operating in the gloom; they were a collective standing at the helm of a momentous journey.\\n\\n\\\"Let’s begin,\\\" he said, returned by the resolve in his voice. \\\"Every second counts.\\\" With that, they pressed forward, setting in motion a reply to a conversation billions of years in the making.\\n\\nThe dance with an unseen partner commenced, each pulse they sent out a step taken with caution and hope. And as those digital pulses journeyed through the black sea of infinity, Earth, for perhaps the first time, joined a pan-galactic dialogue that whispered secrets of the cosmos—secrets that, until now, had been lost in the silent vastness of space.\\n\\n\\*\\n\\nAs the team stood in the centralized nerve center of Dulce's underground fortress, the solemn atmosphere was reverent, overseeing systems that engaged with an intelligence from the void. Alex's stance was contemplative as he gazed at Jordan Hayes, who presided over the console, the tension of the moment reaching a tactile fervor. Each rhythmic tap of Hayes's fingers on the keys was a foray into uncharted symphonies of contact.\\n\\nObserving Hayes unravel the dense alien encryption, Alex spoke, a diplomatic tenor underpinning his words, \\\"Keep focused on the syntax, dissect its nuances. We're not just decoding signals; we're translating intentions.\\\"\\n\\nWithout diverting from their task, Jordan acknowledged the insight. \\\"Indeed, if their understanding of us is as deep as we hope, we're paving the way for dialogue far beyond our current realm.\\\"\\n\\nTaylor Cruz, near the rear of the room, provided a steady oversight. \\\"As horizonless as our prospects may seem,\\\" Taylor intoned, \\\"remain diligent. Complacency before alien cognition could spell catastrophe.\\\"\\n\\nSam's youthful voice resonated with optimism, \\\"Imagine—forming a rapport with a consciousness separate from our reality; we're drafting the bridge to stars alive with minds!\\\"\\n\\nThe sentiment hung for a moment before Alex gathered his conviction. \\\"Dialogue is our vessel. We are not just agents of enigma; we are the threads that may weave a new cosmic relationship.\\\" His words seemed to reflect off the walls, reaching beyond the room's confines, a quiet yet resilient vow.\\n\\nTheir task was titanic, stepping stones laid delicately into new territories of existence. The signal, once an esoteric strand in the echo of the universe, beckoned now with a clarity rocketing the complexity of thoughts from a distant order.\\n\\nAction by action, the Paranormal Military Squad team bridged the vast interstellar distances, their expertise and empathy casting a beacon of unity into frontiers of intelligence and knowledge. Their work, a partnership struck with an unseen cosmic congregation, each pulse sent and received a line in Earth's novitiate envoi to the cosmic shores.\\n\\n\\*\\n\\nUnder the stark, unforgiving lights of Dulce Base's underground command center, tension buzzed harder than the banks of supercomputers that lined the walls. Agent Alex Mercer leaned over the shoulder of Jordan Hayes, whose eyes were locked onto the display screen, where an incomprehensible series of alien symbols streamed past incessantly.\\n\\n“Any progress on the decryption?” Alex's voice was steady, a controlled presence necessary in the gravity of their undertaking. \\n\\nJordan tapped a key, pausing the flow of code, and leaned back with a deep sigh. \\\"We've broken through another subset of the cipher. It's revealing... well, indications of a complex society, not unlike our own.\\\" His eyes met Alex's with\", 2500), \"e74e58b69ef0036197960aec2bab84da\":(\"; we are the threads that may weave a new cosmic relationship.\\\" His words seemed to reflect off the walls, reaching beyond the room's confines, a quiet yet resilient vow.\\n\\nTheir task was titanic, stepping stones laid delicately into new territories of existence. The signal, once an esoteric strand in the echo of the universe, beckoned now with a clarity rocketing the complexity of thoughts from a distant order.\\n\\nAction by action, the Paranormal Military Squad team bridged the vast interstellar distances, their expertise and empathy casting a beacon of unity into frontiers of intelligence and knowledge. Their work, a partnership struck with an unseen cosmic congregation, each pulse sent and received a line in Earth's novitiate envoi to the cosmic shores.\\n\\n\\*\\n\\nUnder the stark, unforgiving lights of Dulce Base's underground command center, tension buzzed harder than the banks of supercomputers that lined the walls. Agent Alex Mercer leaned over the shoulder of Jordan Hayes, whose eyes were locked onto the display screen, where an incomprehensible series of alien symbols streamed past incessantly.\\n\\n“Any progress on the decryption?” Alex's voice was steady, a controlled presence necessary in the gravity of their undertaking. \\n\\nJordan tapped a key, pausing the flow of code, and leaned back with a deep sigh. \\\"We've broken through another subset of the cipher. It's revealing... well, indications of a complex society, not unlike our own.\\\" His eyes met Alex's with an unspoken question that hung heavily between them—were they truly prepared for what they might find?\\n\\nTaylor Cruz strode into the room, a tightly coiled spring of ambition and authority, and peered at the screen. \\\"Understand their society, and we may predict behavior. Remain expedient—we don't know how much time we have before the situation shifts.\\\" There was an edge of stark realism to Taylor's words, the underlying message clear: every revelation bore its own set of risks.\\n\\nAlex nodded thoughtfully, recognizing the validity of Cruz's caution. Turning to Sam, who was tinkering with a device that buzzed quietly on the table, he asked, “Sam, can your contraption get us any further?”\\n\\nSam looked up with a smirk, a twinkle of mischief in their eye. “It’s not just any contraption, it’s potentially a direct line to their thoughts. Give me a moment more, and I'll have something for you.”\\n\\nThe air ticked with electronic beeps and the rustling sound of the Paranormal Military Squad team at work. They were so close to peering into the intelligence of an alien race—a reality on the brink of dramatically expanding their understanding of the universe.\\n\\nThe machinery whirred in response to Sam’s precise touches, and suddenly, the room filled with a low hum—something had changed, a signal had been successfully sent. The team held their breath as they listened. The sound that filled the room was unmistakable: a response, an alien voice filtered through the static of space and time.\\n\\nAlex exchanged a look of quiet triumph with Jordan. The breakthrough was monumental; they were no longer casting messages into the void but engaged in a dialogue—an exchange that marked the beginning of Operation: Dulce’s true unfolding. This was it, the first steps into an interstellar odyssey that demanded every ounce of their courage and wit.\\n\\n## Chapter 13\\n\\nDr. Jordan Hayes shuffled a stack of papers, their eyes revealing a tinge of skepticism at Taylor Cruz's authoritarian performance. _Protocols_, Jordan thought, _are just the framework, the true challenges we're about to face lie well beyond the boundaries of any protocol._ They cleared their throat before speaking, tone cautious yet firm, \\\"Let's remember, the unknown variables exceed the known. We should remain adaptive.\\\"\\n\\nA murmur of agreement echoed from Sam Rivera, who leaned forward, lacing their fingers together as if weaving a digital framework in the air before them, \\\"Exactly, adaptability could be the key to interpreting the signal distortions and system malfunctions. We shouldn't discount the… erratic.\\\"\\n\\nTheir words hung like an electric charge in the room, challenging Taylor's position with an inherent truth. Cruz’s jaw tightened almost imperceptibly, but the agent masked it with a small nod, conceding to the omnipresent threat of the unpredictable. \\n\\nAlex glanced at Jordan, who never looked back, their gaze fixed instead on a distant point, as if envisioning the immense dark corridors they were soon to navigate in Dulce. Jordan was not one to embrace fantastical theories, but the air of cautious calculation betrayed a mind bracing for confrontation with the inexplicable, an internal battle between the evidence of their research and the calculating skepticism that kept them alive in their field.\\n\\nThe meeting adjourned with no further comments, the team members quietly retreading the paths to their personal preparations. Alex, trailing slightly behind, observed the others. _The cautious reserve Jordan wears like armor doesn't fool me_, he thought, _their analytical mind sees the patterns I do. And that's worth more than protocol. That's the connection we need to survive this._\\n\\nAs the agents dispersed into the labyrinth of the facility, lost in their thoughts and preparations, the base's halogen lights flickered, a brief and unnoticed harbingers of the darkness to come. \\n\\n\\*\\n\\nThe gritty, wind-tossed surface of New Mexico, just above the cavernous domain of Dulce Base, offered no shelter from the burgeoning storm—the scouring sands an earthly reminder of chaos theories in motion. Far beneath, a similar maelstrom brewed within the confines of the command center, as Paranormal Military Squad's handpicked squad stood poised for potential enormities of contact.\\n\\nRuffling through printed transmission logs, Jordan Hayes dialed the focus of their analytical prowess onto the emerging pattern of signals crisscrossing between Earth and the unfathomable. \\\"Our responses so far have echoed their complexity, but the real divergence is yet to come,\\\" Jordan remarked stoically, the calm belying the mounting surge of adrenaline for the revelation ahead.\\n\\nAlex Mercer's figure, a silhouette sharpened by the purpose, loomed at the periphery of the monitors' sickly glow. \\\"Indeed,\\\" he assented, \\\"The echoes are the easy part. It will be the introduction of our own, human variable that truly begins our dialogue.\\\"\\n\\nTaylor Cruz, windowless command center notwithstanding, appeared as though they could feel the tempest above. Their eyes never left the monitors as they unspooled their hard wisdom. \\\"For all our advances, we find ourselves deciphering the swings and nuances of an interstellar pendulum. Predict its arc, and we may preempt the gravity of its message.\\\"\\n\\nAmidst a chorus of bleeps and static, Sam Rivera's tech-clad hands moved rhythmically, their spirited approach to unruly streams of data bordering an intimate dance with entropy. \\\"Entropy that leads to discovery,\\\" Sam mused, responding to Taylor's metaphor. \\\"Each step into the unknown is a step away from precedent.\\\"\\n\\nAlex, drawing near Jordan, spoke again, his voice now a thread woven through the very fabric of their operations. \\\"Let's be the cartographers of this new territory. Our initial shades of understanding could color the cosmos for generations to come.\\\"\\n\\nTheir gazes fell upon a screen as the latest transmission painted its digital blooms of alien script across the black. This time, the pattern wavered in an almost imperceptible fashion, a modification that whispered of active, alien thought awaiting their next move. A hush enveloped the Paranormal Military Squad ensemble, the gravity of the pathogen undeniable. They were about to issue a reply, one poised to reshape the very concept of humanity's outreach into the cosmos.\\n\\nThe New Mexico desert's secrets were infamous, its storms a mere prelude to the revelations that the team—united in purpose—would unleash upon the world. The howling winds outside found their counterpart in the newfound resolve within, as Dulce's stalwart guardians readied themselves to send forth humanity's retort to the echoes from beyond.\\n\\n\\*\\n\\nThe cavernous control room, deeply entrenched beneath the desolate New Mexico terrain, held the Paranormal Military Squad team in intense focus; an island of calm amid the storm of cosmic dialectics. Dr. Jordan Hayes worked methodically, every keystroke an intricate step in their tenuous cosmic ballet. Suddenly, they paused, a signal pattern resonating from the screen. \\\"This is new; it's...inviting. It’s as if the signal is not just calling to us but weaving its intelligence through ours.\\\"\\n\\nAlex Mercer scrutinized the shift in data. \\\"A confluence of minds, then. If we're to meet them halfway, Jordan, our reply must be both innovative and discerning,\\\" he proposed, a glimmer of profound curiosity behind his authoritative demeanor.\\n\\nTaylor Cruz, whose sharp eyes missed nothing, nodded from beside a secondary panel. \\\"Innovative, yes, but also defensive. This interaction is a razor’s edge, and we cannot afford to bleed before the unknown,\\\" Taylor reminded them, the metaphor a stark warning of potential dangers.\\n\\nAgainst the backdrop of their conversation, Sam Rivera’s youthful optimism cut through the tension. \\\"If they’re weaving through our intellect, then we've achieved something beyond first contact—we're at the genesis of interstellar symbiosis,\\\" they posited with a mix of reverence and excitement.\\n\\nAlex returned Sam’s smile with his own, tempered and faint, as he turned back to the task at hand. The magnitude of their mission extended beyond the fabric of the universe, an exploration into the threads that connected sentient beings across the vast expanse. “Let’s reply with our own woven tapestry of thought—delicate, but deliberate.”\\n\\nWith renewed determination, the room came alive with an undercurrent of anticipation, its occupants charged with the potential of forging an alliance with the cosmos. Paranormal Military Squad's finest were no longer merely soldiers and scientists; they had become pioneers on the vanguard of humanity’s greatest odyssey.\\n\\nThe New Mexican sands above, impassive to the change brewing underneath, stood as silent sentinels as Earth's emissaries crafted their response. A response that, composed with care and imbued with humanity's essence, reached into the void, connecting with an otherworldly intelligence that awaited their harmony in the cosmic conversation.\\n\\n## Chapter 14\\n\\nThe command center of Dulce Base lay shrouded in shadows that seemed to claw at the edges of the dimly lit array of screens and consoles. Alex Mercer, focused and unwavering, watched as Dr. Jordan Hayes parsed the latest string of alien signals—a symphony of otherworldly communications that threatened to either enlighten or confound.\\n\\n\\\"We’re encountering a paradigm shift with every transmission,\\\" Jordan Hayes murmured, the pulsing glow of the monitor painting their features with an almost spectral hue. \\\"This signal... it’s evolving, becoming denser, more sophisticated. As if it's growing alongside us—tandem evolution.\\\"\\n\\nThe air was electric, charged with the raw potential of uncharted discovery and laden with the gravity of existential risk. Taylor Cruz, who always seemed here to mold such gravity into actionable strategies, stepped forward. \\\"We must contain this evolution within parameters we can manage. We cannot be bystanders to an uncontrolled ascent of intelligence.\\\"\\n\\nSam Rivera, the youngest of the cohort, worked feverishly at their station. \\\"It's not just intelligence—these signals have rhythm, a kind of music suggesting not just evolution, but a dance! We're being invited to partake in the cosmos's ballet!\\\" they exclaimed, a touch of youthful exuberance breaking through the solemnity.\\n\\nAlex turned, facing his team, the stoic mask of command tempered by the perceptible flicker of awe in his gaze. \\\"Let this dance then be our dialogue. We will match their steps with prudent but daring measures—our humanity as our guide.\\\"\\n\\nIn the ensuing hours, the Paranormal Military Squad team forged a rhythm of their own, their collective expertise a beacon piercing through the fog of the unknown. The signal, increasingly intricate and seemingly conscious, now demanded not just observation but participation, an interstellar pas de deux that hummed with the promise\", 2500), \"58227f6b1cad4bf95bb4a004db391c9e\":(\" every transmission,\\\" Jordan Hayes murmured, the pulsing glow of the monitor painting their features with an almost spectral hue. \\\"This signal... it’s evolving, becoming denser, more sophisticated. As if it's growing alongside us—tandem evolution.\\\"\\n\\nThe air was electric, charged with the raw potential of uncharted discovery and laden with the gravity of existential risk. Taylor Cruz, who always seemed here to mold such gravity into actionable strategies, stepped forward. \\\"We must contain this evolution within parameters we can manage. We cannot be bystanders to an uncontrolled ascent of intelligence.\\\"\\n\\nSam Rivera, the youngest of the cohort, worked feverishly at their station. \\\"It's not just intelligence—these signals have rhythm, a kind of music suggesting not just evolution, but a dance! We're being invited to partake in the cosmos's ballet!\\\" they exclaimed, a touch of youthful exuberance breaking through the solemnity.\\n\\nAlex turned, facing his team, the stoic mask of command tempered by the perceptible flicker of awe in his gaze. \\\"Let this dance then be our dialogue. We will match their steps with prudent but daring measures—our humanity as our guide.\\\"\\n\\nIn the ensuing hours, the Paranormal Military Squad team forged a rhythm of their own, their collective expertise a beacon piercing through the fog of the unknown. The signal, increasingly intricate and seemingly conscious, now demanded not just observation but participation, an interstellar pas de deux that hummed with the promise and peril of first contact.\\n\\nBefore them, the communications interface flickered to life with a received transmission—a resonant hum that seemed to vibrate through the very foundations of the base. They had successfully established a back-and-forth with whatever intelligence lay hidden among the stars. Every subsequent note they struck within the cosmic ether would come to define humanity's place within the galactic community—heralds of Earth's grand entrance into a universe far less silent than once perceived. \\n\\n\\*\\n\\nIn the concrete belly of Dulce Base, dimly lit by the jagged dance of fluorescent lights above, Sam Rivera perched on the edge of their seat, their eager fingers fluttering across an ancient keyboard. The stark, cold room—reminiscent of a time when covert operations and unspoken dread ruled supreme—now housed a peculiar blend of old-world machinery and sleek, modern interfaces.\\n\\nAlex Mercer, standing steadfast like a bridge between the enigmatic past and the unfathomable present, watched on. In his eyes flashed the foreboding excitement of change. \\\"Sam,\\\" he started, his voice steadfast, \\\"the patterns in these signals, what do they tell us about the nature of our... guest?\\\"\\n\\nSam's eyes glimmered with something akin to thrill—or was it trepidation? \\\"It's like we're mirroring each other, evolving together through this.. dialogue. Like it knows us, understands us, and it's… learning.\\\"\\n\\nJordan Hayes, preoccupied at a nearby console, chimed in without lifting their gaze. \\\"It's a dialogue that transcends mere words, Alex. We're being woven into a narrative far grander than the sum of our known sciences.\\\" \\n\\nTaylor Cruz, arms crossed, wore the heavy mantle of their skepticism comfortably. \\\"Keep theorizing,\\\" they interjected crisply, \\\"but remember the grounding reality of what we are part of here. This contact is a blade that cuts both ways.\\\"\\n\\nIn this cavern of history, voices both human and inhuman whispered secrets to those brave enough to listen. Each member present understood the gravity that pulled at their feet; no longer were they mere mortals shackled to their terrestrial plane. The digital pings and encrypted calls resonated with an implication of a cosmic agenda that would not be ignored.\\n\\nJordan's fingers paused, hovering in hesitation. What ripple might the next keystroke send through the fabric of known existence? It was a step into the ballet of the infinite, where the Paranormal Military Squad team played their part in the waltz of wonders with an audience of stars.\\n\\n\\*\\n\\n## Chapter 15\\n\\nIn the clandestine hush of Dulce Base's subterranean command center, the Paranormal Military Squad team had become a crucible for interstellar communication. Dr. Jordan Hayes' gaze lingered on the screen as they navigated through the convolution of alien code. Each character held the potential to unravel a new dimension of contact, and with Sam Rivera's keen interjection, they were crafting humanity's inaugural cosmological discourse.\\n\\nAlex Mercer peered over Jordan's shoulder, calculating the implications of every visual nuance that cascaded across the monitor. \\\"Look for consistency—any repeating motifs could signal a willingness to engage. We're drafting history with each exchange,\\\" he remarked, aware of the delicate balance between forging a bond and exposing vulnerabilities.\\n\\nTaylor Cruz, stoic and enigmatic, observed the interplay from the threshold, a silhouette against the machinery's luminescence. \\\"Remember, while we seek common ground, the foundation we stand upon remains Terra firma. Caution must temper our curiosity,\\\" they stated, their voice an anchor amidst the current of excitement.\\n\\nThe command center buzzed with energy, rivaled only by the tempest overhead that concealed their operation. Sam, with swift dexterity, navigated the communications relay. \\\"Their signals resonate almost musically. It's as if they're composing a symphony, and we've been handed the baton to conduct the next movement,\\\" they offered, imbuing the scenario with a blend of scientific adventurism and poetic license.\\n\\nAmidst the whirring servers and the occasional flicker of emergency lighting, the essence of their mission transcended mere reconnaissance. They were humanity's elected envoys at the brink of a celestial alliance—or confrontation—with an audience as vast as the universe itself.\\n\\nAlex stepped back, his profile etched by the chamber's artificial day. \\\"Then let's ensure our contribution to this symphony harmonizes with theirs. It's time for humanity's voice to rise and be counted among the cosmic ensemble.\\\"\\n\\nUnder his directive, the Paranormal Military Squad team initiated their calculated response, weaving thoughts and theories into a digital overture aimed at the heart of alien intellect. As the digital stream punctured the endless night, each member of this clandestine group was acutely aware of the irrevocable step they undertook—bringing Earth into the pantheon of galactic entities designed to converse among the stars.\\n\\n\\*\\n\\nClusters of high-tech equipment bathed the Dulce underground command center in an eerie blue light. Sam Rivera's fingers flew across the keyboard, navigating an elaborate network of alien patterns. The very air seemed to pulse with the ebb and flow of cryptic communications reaching across the stars. \\\"I've got something!\\\" Sam's announcement tore through the focus in the room, drawing every pair of eyes to the torrent of symbols unraveling on the screen.\\n\\nWith the pacing of a seasoned officer gauging the moment before action, Alex Mercer approached, his calm demeanor belying an acute awareness of the precipice on which they now stood. \\\"Define 'something,\\\" Alex prompted, reinforcing the need for clarity amidst the extraordinary.\\n\\n\\\"It's repeating—a sequence that’s evolved with each interaction, almost as if it's... singing,\\\" Sam theorized, the awe in their voice reflecting the potential magnitude of their discovery.\\n\\nJordan Hayes interjected from across the console, their eyes not leaving the display as they absorbed the new data. \\\"A cosmic vocalization, then,\\\" they mused, intrigued. \\\"A singularity in the signal that might represent a point of reference for both parties.\\\"\\n\\nTaylor Cruz, hands clasped behind their back, regarded the unfolding scene, their own calculations etching lines of concern onto their stern visage. \\\"Or a beacon—a homing tune, calling out to something we might not be ready to greet,\\\" Taylor offered, voicing the group's unspoken apprehension.\\n\\nAlex's eyes locked on the screen, taking in the scope of what they were attempting to interpret. Drawing a deep breath, Alex gave a slight nod. \\\"If this is their song, then let us respond with ours. We've come this far by mirroring their signals, now let's engage in an interstellar duet, and see where the music leads us.\\\"\\n\\nWith the expectation of the significant achieving a crescendo, the members of Paranormal Military Squad huddled over their equipment—sages at the threshold of a potentially world-altering communion. The strange harmonies that reverberated through the command center suggested that their interlocutors were poised, waiting, perhaps even eager, for Earth's chorus to join the symphony.\\n\\nAs the team initiated their reply, weaving humanity's own intricate melody into the vast cosmic dialogue, they each felt a profound change within—an evolution of purpose. They were not just messengers or investigators; they had become co-composers in a galactic orchestra, with the universe itself as their witness and concert hall.\\n\\nWith the exchange of harmonious signals crawling through the vacuum of space, the Paranormal Military Squad operatives found themselves part of a bridging of minds—a realization that out there, among the vast arrays of stars and planets, harmony was the true universal language.\\n\\n\\*\\n\\nThe dim glow of monitors cast an otherworldly ambiance upon Dulce Base's command center, where Paranormal Military Squad's chosen stood huddled over their instruments, suspended at history's threshold. Codes—alien in origin and nature—were being deciphered by Dr. Jordan Hayes, whose countenance bore the marks of deep concentration.\\n\\nAlex Mercer, the bedrock upon which their team's resolve was founded, leaned in with an eagerness tempered by his chain of command. \\\"Jordan, we've invested our expertise into comprehending their patterns, but now we must also endeavor to understand their intent,\\\" he urged, his voice bearing the gravitas of their mission's potential consequences.\\n\\nAt another console, Sam Rivera's youth did not betray their crucial role in the operation. With eyes alight, they mirrored the rapid computing before them. \\\"There's emotion here—complex, profound even. This isn't just the output of a cold machine; it's...sentience,\\\" Sam whispered, nearly drowned by the mechanical chorus around them.\\n\\nJordan, without shifting focus from their work, replied, \\\"It's a sentience that—should we succeed here—ushers us into a new era of existence. The cadence of these signals,\\\" they tapped the screen with a flourish, \\\"could well be the heartbeat of this new dawn.\\\"\\n\\nTaylor Cruz paused beside Mercer, their expression unreadable beneath the sterile light. \\\"And as it beats, we must gauge whether its rhythm bodes well for us, or spells our missteps. Courage must not blind us to the hazards intrinsic to such contact,\\\" Taylor cautioned, the sentinel within them ever alert.\\n\\nAlex nodded, a gesture that carried the weight of responsibility and a silent command: proceed, but with circumspection. They were not merely decoding a message; they were interpreting a dialogue across the celestial divide.\\n\\nThe room fell into a rhythm akin to a well-conducted ensemble. Each member's expertise proved a critical note in the unfolding symphony. Their actions were now more than mere research or defense; they were the tentative overtures of humankind reaching out to grasp the vast unknown.\\n\\nTextures of sound meshed with the light from countless computations, the palpable anticipation of the agents at the edge of discovery cresting with an awareness that their work would reshape future chronicles. And when the response finally came—a signal piercing the deafening silence of uncertainty—all within Dulce's confines understood: the dawn of an interstellar continuum had just begun to break.\\n\\n\\*\\n\\nIn the sterile hum and flickering lights of Dulce Base's command center, the Paranormal Military Squad team stood as humanity's vanguard, verging on the brim of an intergalactic abyss. Dr. Jordan Hayes, analytical edges sharp, deciphered extraterrestrial patterns that bled across screens in enigmatic cascades—a daunting mosaic of potential threats and untapped wisdom.\\n\\nAgent Alex Mercer, the embodiment of focus and a steadfast nerve, observed the unfolding digital drama with the gravitas due a historic first contact. \\\"Let the data weave its narrative, Jordan,\\\" he instructed\", 2500), \"73011d975a4700a15ab8e3a0df2c50ca\":(\", the sentinel within them ever alert.\\n\\nAlex nodded, a gesture that carried the weight of responsibility and a silent command: proceed, but with circumspection. They were not merely decoding a message; they were interpreting a dialogue across the celestial divide.\\n\\nThe room fell into a rhythm akin to a well-conducted ensemble. Each member's expertise proved a critical note in the unfolding symphony. Their actions were now more than mere research or defense; they were the tentative overtures of humankind reaching out to grasp the vast unknown.\\n\\nTextures of sound meshed with the light from countless computations, the palpable anticipation of the agents at the edge of discovery cresting with an awareness that their work would reshape future chronicles. And when the response finally came—a signal piercing the deafening silence of uncertainty—all within Dulce's confines understood: the dawn of an interstellar continuum had just begun to break.\\n\\n\\*\\n\\nIn the sterile hum and flickering lights of Dulce Base's command center, the Paranormal Military Squad team stood as humanity's vanguard, verging on the brim of an intergalactic abyss. Dr. Jordan Hayes, analytical edges sharp, deciphered extraterrestrial patterns that bled across screens in enigmatic cascades—a daunting mosaic of potential threats and untapped wisdom.\\n\\nAgent Alex Mercer, the embodiment of focus and a steadfast nerve, observed the unfolding digital drama with the gravitas due a historic first contact. \\\"Let the data weave its narrative, Jordan,\\\" he instructed, a moderate undertone of exhilaration within his command. \\\"It's encoding more than information—it's outlining civilization.\\\"\\n\\nJordan absorbed the directive, their gaze unflinching from the screens, feeling the weight of their next move. \\\"The nuances here are extraordinary,\\\" they acknowledged. \\\"It paints a picture of a culture steeped in complexities we're only starting to fathom.”\\n\\nTaylor Cruz, stoicism personified yet not immune to the situation's gravity, chimed in. \\\"Understand it, but guard against it,\\\" they cautioned, bringing a sober prudence to the room. \\\"This culture, however advanced, remains an unknown quantity—an ocean of wonders and darkness with uncertain tides.\\\"\\n\\nSam Rivera, a visual contrast with wide eyes and restless hands, represented the other side of the room — intrigue and optimism against the drawn swords of precaution. “Think of it,” they proposed, voice bouncing with a rebellious upbeat timbre, “as the first act of a play written in constellations. We're setting the stage for a galactic narrative.”\\n\\nEach team member, in their way, was both actor and scribe in this moment of tense pageantry. Heavy with the presence of risk, the command center had become not just a room of computers and glass panels but a theater for performing the elaborate choreography of contact.\\n\\nBound by resolve and curiosity, they proceeded, each data entry a trembling step onto the cosmic stage. And like all cautious pioneers edging into fertile but unnavigated lands, they understood: as they mapped the heavens, they were simultaneously mapping the furthest reaches of their own existential horizons.\\n\\n\", 629);\u001b[0m\n",
      "Loaded 12 of 12 vertices\n",
      "\u001b[1;3;38;2;0;135;107m[INFO] Successfully loaded 12 vertices 'ms_paper' for tag '__Chunk'\u001b[0m\n"
     ]
    }
   ],
   "source": [
    "%ng_load --header --source data/CHUNK_WITH_ENTITY.csv --edge CHUNK_WITH_ENTITY --src 0 --dst 1 --space ms_paper\n",
    "%ng_load --header --source https://github.com/microsoft/graphrag/raw/main/examples_notebooks/inputs/operation%20dulce/create_final_text_units.parquet --tag __Chunk --vid 0 --props 1:text,2:n_tokens --space ms_paper"
   ]
  },
  {
   "cell_type": "code",
   "execution_count": 30,
   "id": "4123c3e5",
   "metadata": {},
   "outputs": [
    {
     "name": "stdout",
     "output_type": "stream",
     "text": [
      "\u001b[1;3;38;2;249;93;106m[ERROR]:\n",
      " Query Failed:\n",
      " SemanticError: `CHUNK_WITH_ENTITY': Unknown edge type\n",
      " Query:\n",
      " \n",
      "\n",
      "MATCH (m)-[e:CHUNK_WITH_ENTITY]->(n)\n",
      "RETURN substring(properties(m).text, 0, 13) + \"...\" AS Text_Unit_Snippet,\n",
      "    tags(m)[0] AS TAG_of_Text_Unit,\n",
      "    type(e) AS Edge_Type,\n",
      "    properties(n).name AS Entity_Name,\n",
      "    tags(n)[0] AS TAG_of_Entity\n",
      "    LIMIT 10\u001b[0m\n"
     ]
    },
    {
     "data": {
      "text/html": [
       "<div>\n",
       "<style scoped>\n",
       "    .dataframe tbody tr th:only-of-type {\n",
       "        vertical-align: middle;\n",
       "    }\n",
       "\n",
       "    .dataframe tbody tr th {\n",
       "        vertical-align: top;\n",
       "    }\n",
       "\n",
       "    .dataframe thead th {\n",
       "        text-align: right;\n",
       "    }\n",
       "</style>\n",
       "<table border=\"1\" class=\"dataframe\">\n",
       "  <thead>\n",
       "    <tr style=\"text-align: right;\">\n",
       "      <th></th>\n",
       "    </tr>\n",
       "  </thead>\n",
       "  <tbody>\n",
       "  </tbody>\n",
       "</table>\n",
       "</div>"
      ],
      "text/plain": [
       "Empty DataFrame\n",
       "Columns: []\n",
       "Index: []"
      ]
     },
     "execution_count": 30,
     "metadata": {},
     "output_type": "execute_result"
    }
   ],
   "source": [
    "%%ngql \n",
    "\n",
    "MATCH (m)-[e:CHUNK_WITH_ENTITY]->(n)\n",
    "RETURN substring(properties(m).text, 0, 13) + \"...\" AS Text_Unit_Snippet,\n",
    "    tags(m)[0] AS TAG_of_Text_Unit,\n",
    "    type(e) AS Edge_Type,\n",
    "    properties(n).name AS Entity_Name,\n",
    "    tags(n)[0] AS TAG_of_Entity\n",
    "    LIMIT 10"
   ]
  },
  {
   "cell_type": "code",
   "execution_count": 31,
   "id": "5fea4fc0",
   "metadata": {},
   "outputs": [
    {
     "ename": "SyntaxError",
     "evalue": "invalid syntax (2965131485.py, line 4)",
     "output_type": "error",
     "traceback": [
      "\u001b[0;36m  Cell \u001b[0;32mIn[31], line 4\u001b[0;36m\u001b[0m\n\u001b[0;31m    MATCH p=(m)-[e:CHUNK_WITH_ENTITY]->(n)\u001b[0m\n\u001b[0m          ^\u001b[0m\n\u001b[0;31mSyntaxError\u001b[0m\u001b[0;31m:\u001b[0m invalid syntax\n"
     ]
    }
   ],
   "source": [
    "# We could also draw the graph to see the relationship\n",
    "\n",
    "%%ng_draw \n",
    "MATCH p=(m)-[e:CHUNK_WITH_ENTITY]->(n)\n",
    "\n",
    "RETURN p\n",
    "    LIMIT 10"
   ]
  },
  {
   "cell_type": "markdown",
   "id": "08ba3d95",
   "metadata": {},
   "source": [
    "### Community Reports\n",
    "\n",
    "We could see the community reports are the summary of the document, and the community is the group of entities that are related to the report.\n",
    "\n",
    "> df_community_reports\n",
    "\n",
    "```\n",
    "<class 'pandas.core.frame.DataFrame'>\n",
    "RangeIndex: 6 entries, 0 to 5\n",
    "Data columns (total 10 columns):\n",
    " #   Column             Non-Null Count  Dtype  \n",
    "---  ------             --------------  -----  \n",
    " 0   community          6 non-null      object \n",
    " 1   full_content       6 non-null      object \n",
    " 2   level              6 non-null      int64  \n",
    " 3   rank               6 non-null      float64\n",
    " 4   title              6 non-null      object \n",
    " 5   rank_explanation   6 non-null      object \n",
    " 6   summary            6 non-null      object \n",
    " 7   findings           6 non-null      object \n",
    " 8   full_content_json  6 non-null      object \n",
    " 9   id                 6 non-null      object \n",
    "dtypes: float64(1), int64(1), object(8)\n",
    "memory usage: 612.0+ bytes\n",
    "```\n"
   ]
  },
  {
   "cell_type": "code",
   "execution_count": 32,
   "id": "2822788f",
   "metadata": {},
   "outputs": [],
   "source": [
    "df_community_reports = pd.read_parquet(\n",
    "    \"https://github.com/microsoft/graphrag/raw/main/examples_notebooks/inputs/operation%20dulce/create_final_community_reports.parquet\"\n",
    ")"
   ]
  },
  {
   "cell_type": "code",
   "execution_count": 33,
   "id": "ac41ef01",
   "metadata": {},
   "outputs": [
    {
     "data": {
      "text/html": [
       "<div>\n",
       "<style scoped>\n",
       "    .dataframe tbody tr th:only-of-type {\n",
       "        vertical-align: middle;\n",
       "    }\n",
       "\n",
       "    .dataframe tbody tr th {\n",
       "        vertical-align: top;\n",
       "    }\n",
       "\n",
       "    .dataframe thead th {\n",
       "        text-align: right;\n",
       "    }\n",
       "</style>\n",
       "<table border=\"1\" class=\"dataframe\">\n",
       "  <thead>\n",
       "    <tr style=\"text-align: right;\">\n",
       "      <th></th>\n",
       "      <th>community</th>\n",
       "      <th>full_content</th>\n",
       "      <th>level</th>\n",
       "      <th>rank</th>\n",
       "      <th>title</th>\n",
       "      <th>rank_explanation</th>\n",
       "      <th>findings</th>\n",
       "      <th>id</th>\n",
       "    </tr>\n",
       "  </thead>\n",
       "  <tbody>\n",
       "    <tr>\n",
       "      <th>0</th>\n",
       "      <td>4</td>\n",
       "      <td># Dulce Base and the Paranorma</td>\n",
       "      <td>1</td>\n",
       "      <td>8.5</td>\n",
       "      <td>Dulce Base and the Paranormal Military Squad: Interstellar Communication Efforts</td>\n",
       "      <td>The impact severity rating is high due to the potential implications of establishing interstellar communication and the sensitive nature of the Paranormal Military Squad's operations.</td>\n",
       "      <td>[{'explanation': \"Dulce Base is..., {'explanation': \"Taylor Cruz i..., {'explanation': \"Dr. Jordan Ha..., {'explanation': \"Alex Mercer i..., {'explanation': \"The Paranorma...]</td>\n",
       "      <td>6f8ba6b6-506e-46c1-83ce-982d59622554</td>\n",
       "    </tr>\n",
       "  </tbody>\n",
       "</table>\n",
       "</div>"
      ],
      "text/plain": [
       "  community                    full_content  level  rank                                                                             title                                                                                                                                                                         rank_explanation                                                                                                                                                                         findings                                    id\n",
       "0         4  # Dulce Base and the Paranorma      1   8.5  Dulce Base and the Paranormal Military Squad: Interstellar Communication Efforts  The impact severity rating is high due to the potential implications of establishing interstellar communication and the sensitive nature of the Paranormal Military Squad's operations.  [{'explanation': \"Dulce Base is..., {'explanation': \"Taylor Cruz i..., {'explanation': \"Dr. Jordan Ha..., {'explanation': \"Alex Mercer i..., {'explanation': \"The Paranorma...]  6f8ba6b6-506e-46c1-83ce-982d59622554"
      ]
     },
     "execution_count": 33,
     "metadata": {},
     "output_type": "execute_result"
    }
   ],
   "source": [
    "# inspect the data\n",
    "df_community_reports[\n",
    "    [\n",
    "        \"community\",\n",
    "        \"full_content\",\n",
    "        \"level\",\n",
    "        \"rank\",\n",
    "        \"title\",\n",
    "        \"rank_explanation\",\n",
    "        \"findings\",\n",
    "        \"id\",\n",
    "    ]\n",
    "].head(1).apply(\n",
    "    lambda x: x.str[:30]\n",
    "    if isinstance(x, pd.Series) and x.name == \"full_content\"\n",
    "    else (\n",
    "        x.apply(lambda y: [str(item)[:30] + \"...\" for item in y])\n",
    "        if x.name == \"findings\"\n",
    "        else x\n",
    "    )\n",
    ")"
   ]
  },
  {
   "cell_type": "code",
   "execution_count": 34,
   "id": "7203f175-07d1-401d-bd43-634ec39fd8b5",
   "metadata": {},
   "outputs": [
    {
     "data": {
      "text/html": [
       "<div>\n",
       "<style scoped>\n",
       "    .dataframe tbody tr th:only-of-type {\n",
       "        vertical-align: middle;\n",
       "    }\n",
       "\n",
       "    .dataframe tbody tr th {\n",
       "        vertical-align: top;\n",
       "    }\n",
       "\n",
       "    .dataframe thead th {\n",
       "        text-align: right;\n",
       "    }\n",
       "</style>\n",
       "<table border=\"1\" class=\"dataframe\">\n",
       "  <thead>\n",
       "    <tr style=\"text-align: right;\">\n",
       "      <th></th>\n",
       "      <th>Type</th>\n",
       "      <th>Name</th>\n",
       "      <th>Count</th>\n",
       "    </tr>\n",
       "  </thead>\n",
       "  <tbody>\n",
       "    <tr>\n",
       "      <th>0</th>\n",
       "      <td>Tag</td>\n",
       "      <td>ACTIVITY</td>\n",
       "      <td>1</td>\n",
       "    </tr>\n",
       "    <tr>\n",
       "      <th>1</th>\n",
       "      <td>Tag</td>\n",
       "      <td>ATTRIBUTE</td>\n",
       "      <td>3</td>\n",
       "    </tr>\n",
       "    <tr>\n",
       "      <th>2</th>\n",
       "      <td>Tag</td>\n",
       "      <td>CONCEPT</td>\n",
       "      <td>90</td>\n",
       "    </tr>\n",
       "    <tr>\n",
       "      <th>3</th>\n",
       "      <td>Tag</td>\n",
       "      <td>EVENT</td>\n",
       "      <td>4</td>\n",
       "    </tr>\n",
       "    <tr>\n",
       "      <th>4</th>\n",
       "      <td>Tag</td>\n",
       "      <td>EXTRATERRESTRIAL_COMMUNICATION</td>\n",
       "      <td>1</td>\n",
       "    </tr>\n",
       "    <tr>\n",
       "      <th>5</th>\n",
       "      <td>Tag</td>\n",
       "      <td>FACILITY</td>\n",
       "      <td>1</td>\n",
       "    </tr>\n",
       "    <tr>\n",
       "      <th>6</th>\n",
       "      <td>Tag</td>\n",
       "      <td>GEO</td>\n",
       "      <td>4</td>\n",
       "    </tr>\n",
       "    <tr>\n",
       "      <th>7</th>\n",
       "      <td>Tag</td>\n",
       "      <td>MISCELLANEOUS</td>\n",
       "      <td>4</td>\n",
       "    </tr>\n",
       "    <tr>\n",
       "      <th>8</th>\n",
       "      <td>Tag</td>\n",
       "      <td>OBJECT</td>\n",
       "      <td>2</td>\n",
       "    </tr>\n",
       "    <tr>\n",
       "      <th>9</th>\n",
       "      <td>Tag</td>\n",
       "      <td>ORGANIZATION</td>\n",
       "      <td>1</td>\n",
       "    </tr>\n",
       "    <tr>\n",
       "      <th>10</th>\n",
       "      <td>Tag</td>\n",
       "      <td>PERSON</td>\n",
       "      <td>98</td>\n",
       "    </tr>\n",
       "    <tr>\n",
       "      <th>11</th>\n",
       "      <td>Tag</td>\n",
       "      <td>PHENOMENON</td>\n",
       "      <td>1</td>\n",
       "    </tr>\n",
       "    <tr>\n",
       "      <th>12</th>\n",
       "      <td>Tag</td>\n",
       "      <td>PLACE</td>\n",
       "      <td>1</td>\n",
       "    </tr>\n",
       "    <tr>\n",
       "      <th>13</th>\n",
       "      <td>Tag</td>\n",
       "      <td>PROJECT</td>\n",
       "      <td>1</td>\n",
       "    </tr>\n",
       "    <tr>\n",
       "      <th>14</th>\n",
       "      <td>Tag</td>\n",
       "      <td>ROLE</td>\n",
       "      <td>1</td>\n",
       "    </tr>\n",
       "    <tr>\n",
       "      <th>15</th>\n",
       "      <td>Tag</td>\n",
       "      <td>SKILL</td>\n",
       "      <td>1</td>\n",
       "    </tr>\n",
       "    <tr>\n",
       "      <th>16</th>\n",
       "      <td>Tag</td>\n",
       "      <td>STRATEGY</td>\n",
       "      <td>1</td>\n",
       "    </tr>\n",
       "    <tr>\n",
       "      <th>17</th>\n",
       "      <td>Tag</td>\n",
       "      <td>TASK</td>\n",
       "      <td>1</td>\n",
       "    </tr>\n",
       "    <tr>\n",
       "      <th>18</th>\n",
       "      <td>Tag</td>\n",
       "      <td>TRAIT</td>\n",
       "      <td>1</td>\n",
       "    </tr>\n",
       "    <tr>\n",
       "      <th>19</th>\n",
       "      <td>Tag</td>\n",
       "      <td>__Entity</td>\n",
       "      <td>217</td>\n",
       "    </tr>\n",
       "    <tr>\n",
       "      <th>20</th>\n",
       "      <td>Edge</td>\n",
       "      <td>RELATED_TO</td>\n",
       "      <td>69</td>\n",
       "    </tr>\n",
       "    <tr>\n",
       "      <th>21</th>\n",
       "      <td>Space</td>\n",
       "      <td>vertices</td>\n",
       "      <td>217</td>\n",
       "    </tr>\n",
       "    <tr>\n",
       "      <th>22</th>\n",
       "      <td>Space</td>\n",
       "      <td>edges</td>\n",
       "      <td>69</td>\n",
       "    </tr>\n",
       "  </tbody>\n",
       "</table>\n",
       "</div>"
      ],
      "text/plain": [
       "     Type                            Name  Count\n",
       "0     Tag                        ACTIVITY      1\n",
       "1     Tag                       ATTRIBUTE      3\n",
       "2     Tag                         CONCEPT     90\n",
       "3     Tag                           EVENT      4\n",
       "4     Tag  EXTRATERRESTRIAL_COMMUNICATION      1\n",
       "5     Tag                        FACILITY      1\n",
       "6     Tag                             GEO      4\n",
       "7     Tag                   MISCELLANEOUS      4\n",
       "8     Tag                          OBJECT      2\n",
       "9     Tag                    ORGANIZATION      1\n",
       "10    Tag                          PERSON     98\n",
       "11    Tag                      PHENOMENON      1\n",
       "12    Tag                           PLACE      1\n",
       "13    Tag                         PROJECT      1\n",
       "14    Tag                            ROLE      1\n",
       "15    Tag                           SKILL      1\n",
       "16    Tag                        STRATEGY      1\n",
       "17    Tag                            TASK      1\n",
       "18    Tag                           TRAIT      1\n",
       "19    Tag                        __Entity    217\n",
       "20   Edge                      RELATED_TO     69\n",
       "21  Space                        vertices    217\n",
       "22  Space                           edges     69"
      ]
     },
     "execution_count": 34,
     "metadata": {},
     "output_type": "execute_result"
    }
   ],
   "source": [
    "%ngql SHOW STATS;"
   ]
  },
  {
   "cell_type": "code",
   "execution_count": 35,
   "id": "21b1f281",
   "metadata": {},
   "outputs": [
    {
     "name": "stdout",
     "output_type": "stream",
     "text": [
      "{'explanation': \"Dulce Base is the primary location for the Paranormal Military Squad's \"\n",
      "                'operations, serving as the central hub for their efforts in interstellar '\n",
      "                'communication with extraterrestrial intelligence. The base facilitates the '\n",
      "                'exchange of information and is the site of significant technological and '\n",
      "                \"strategic activities related to the squad's mission [Data: Entities (4); \"\n",
      "                'Relationships (46, 56, +more)]. The presence of key team members at the base, '\n",
      "                'including Taylor Cruz, Dr. Jordan Hayes, and Alex Mercer, underscores its '\n",
      "                \"importance as the operational headquarters for the squad's clandestine activities \"\n",
      "                '[Data: Relationships (16, 24, 8)].',\n",
      " 'summary': 'Dulce Base as the central hub for interstellar communication'}\n"
     ]
    }
   ],
   "source": [
    "# inspect a finding\n",
    "import json\n",
    "from pprint import pprint\n",
    "\n",
    "finding = df_community_reports[\"findings\"].iloc[0][0]\n",
    "pprint(finding, width=100, compact=True)"
   ]
  },
  {
   "cell_type": "markdown",
   "id": "03809425",
   "metadata": {},
   "source": [
    "Thus, we'll have:\n",
    "\n",
    "- TAG: `__Community`:\n",
    "    - Vertex ID: `id`\n",
    "    - properties `community`, `full_content`, `level`, `rank`, `title`, `rank_explanation`, `summary`\n",
    "- TAG: `__Finding`:\n",
    "    - Vertex ID: f\"finding_{community}_{finding_index}\"\n",
    "    - properties `summary`, `explanation`\n",
    "- EDGE: `COMMUNITY_WITH_FINDING`\n",
    "    - src: Vertex ID of __Community\n",
    "    - dst: Vertex ID of __Finding\n",
    "    - properties `summary`, `explanation`\n",
    "\n",
    "For `__Finding`, we need to iterate the `findings` in df_community_reports, and build a CSV file for `COMMUNITY_WITH_FINDING` EDGE like:\n",
    "\n",
    "```CSV\n",
    "community_hash_id,community_number_id,finding_index,finding_vertex_id,summary,explanation\n",
    "fdfdsfdsdfdf,1,0,finding_1_0,This is a summary of the finding,This is the explanation of the finding\n",
    "```\n"
   ]
  },
  {
   "cell_type": "code",
   "execution_count": 36,
   "id": "b4b90b08",
   "metadata": {},
   "outputs": [
    {
     "name": "stdout",
     "output_type": "stream",
     "text": [
      "CSV file has been generated at: data/COMMUNITY_WITH_FINDINGS.csv\n",
      "Total number of findings: 31\n"
     ]
    }
   ],
   "source": [
    "# Create a list to store the data for the CSV\n",
    "community_with_findings = []\n",
    "\n",
    "# Iterate through each row in df_community_reports\n",
    "for _, row in df_community_reports.iterrows():\n",
    "    community_id = row[\"id\"]\n",
    "    community_number = row[\"community\"]\n",
    "    # Iterate through the findings for each community\n",
    "    for finding_index, finding in enumerate(row[\"findings\"]):\n",
    "        community_with_findings.append(\n",
    "            {\n",
    "                \"community_hash_id\": community_id,\n",
    "                \"community_number_id\": community_number,\n",
    "                \"finding_index\": finding_index,\n",
    "                \"finding_vertex_id\": f\"finding_{community_number}_{finding_index}\",\n",
    "                \"summary\": finding[\"summary\"],\n",
    "                \"explanation\": finding[\"explanation\"],\n",
    "            }\n",
    "        )\n",
    "\n",
    "# Create a DataFrame from the list\n",
    "df_community_with_findings = pd.DataFrame(community_with_findings)\n",
    "\n",
    "# Write the DataFrame to a CSV file\n",
    "output_path = \"data/COMMUNITY_WITH_FINDINGS.csv\"\n",
    "df_community_with_findings.to_csv(output_path, index=False)\n",
    "\n",
    "print(f\"CSV file has been generated at: {output_path}\")\n",
    "print(f\"Total number of findings: {len(df_community_with_findings)}\")\n",
    "\n",
    "#!head data/COMMUNITY_WITH_FINDINGS.csv -n 3"
   ]
  },
  {
   "cell_type": "markdown",
   "id": "544dcd4a",
   "metadata": {},
   "source": [
    "#### Load the data into NebulaGraph"
   ]
  },
  {
   "cell_type": "code",
   "execution_count": 37,
   "id": "442cf5d4",
   "metadata": {},
   "outputs": [
    {
     "data": {
      "text/html": [
       "<div>\n",
       "<style scoped>\n",
       "    .dataframe tbody tr th:only-of-type {\n",
       "        vertical-align: middle;\n",
       "    }\n",
       "\n",
       "    .dataframe tbody tr th {\n",
       "        vertical-align: top;\n",
       "    }\n",
       "\n",
       "    .dataframe thead th {\n",
       "        text-align: right;\n",
       "    }\n",
       "</style>\n",
       "<table border=\"1\" class=\"dataframe\">\n",
       "  <thead>\n",
       "    <tr style=\"text-align: right;\">\n",
       "      <th></th>\n",
       "    </tr>\n",
       "  </thead>\n",
       "  <tbody>\n",
       "  </tbody>\n",
       "</table>\n",
       "</div>"
      ],
      "text/plain": [
       "Empty DataFrame\n",
       "Columns: []\n",
       "Index: []"
      ]
     },
     "execution_count": 37,
     "metadata": {},
     "output_type": "execute_result"
    }
   ],
   "source": [
    "%%ngql \n",
    "CREATE EDGE IF NOT EXISTS `COMMUNITY_WITH_FINDING` ();\n",
    "CREATE TAG IF NOT EXISTS `__Finding` (\n",
    "    `id` string NULL,\n",
    "    `summary` string NULL,\n",
    "    `explanation` string NULL\n",
    ");\n",
    "CREATE TAG IF NOT EXISTS `__Community` (\n",
    "    `id` string NULL,\n",
    "    `community` int NULL,\n",
    "    `full_content` string NULL,\n",
    "    `level` int NULL,\n",
    "    `rank` double NULL,\n",
    "    `title` string NULL,\n",
    "    `rank_explanation` string NULL,\n",
    "    `summary` string NULL\n",
    ");\n"
   ]
  },
  {
   "cell_type": "code",
   "execution_count": 38,
   "id": "b5bc41ce-73d9-4b4b-b9bc-a4a965b16390",
   "metadata": {},
   "outputs": [
    {
     "data": {
      "text/html": [
       "<div>\n",
       "<style scoped>\n",
       "    .dataframe tbody tr th:only-of-type {\n",
       "        vertical-align: middle;\n",
       "    }\n",
       "\n",
       "    .dataframe tbody tr th {\n",
       "        vertical-align: top;\n",
       "    }\n",
       "\n",
       "    .dataframe thead th {\n",
       "        text-align: right;\n",
       "    }\n",
       "</style>\n",
       "<table border=\"1\" class=\"dataframe\">\n",
       "  <thead>\n",
       "    <tr style=\"text-align: right;\">\n",
       "      <th></th>\n",
       "    </tr>\n",
       "  </thead>\n",
       "  <tbody>\n",
       "  </tbody>\n",
       "</table>\n",
       "</div>"
      ],
      "text/plain": [
       "Empty DataFrame\n",
       "Columns: []\n",
       "Index: []"
      ]
     },
     "execution_count": 38,
     "metadata": {},
     "output_type": "execute_result"
    }
   ],
   "source": [
    "# We could create an index of tag `__Community` on `level` to later get global community data by filtering level\n",
    "\n",
    "%ngql CREATE TAG INDEX IF NOT EXISTS community_level_index ON `__Community`(`level`);"
   ]
  },
  {
   "cell_type": "code",
   "execution_count": 39,
   "id": "88f12459",
   "metadata": {},
   "outputs": [
    {
     "data": {
      "text/html": [
       "<div>\n",
       "<style scoped>\n",
       "    .dataframe tbody tr th:only-of-type {\n",
       "        vertical-align: middle;\n",
       "    }\n",
       "\n",
       "    .dataframe tbody tr th {\n",
       "        vertical-align: top;\n",
       "    }\n",
       "\n",
       "    .dataframe thead th {\n",
       "        text-align: right;\n",
       "    }\n",
       "</style>\n",
       "<table border=\"1\" class=\"dataframe\">\n",
       "  <thead>\n",
       "    <tr style=\"text-align: right;\">\n",
       "      <th></th>\n",
       "      <th>Edge</th>\n",
       "      <th>Create Edge</th>\n",
       "    </tr>\n",
       "  </thead>\n",
       "  <tbody>\n",
       "    <tr>\n",
       "      <th>0</th>\n",
       "      <td>COMMUNITY_WITH_FINDING</td>\n",
       "      <td>CREATE EDGE `COMMUNITY_WITH_FINDING` (\\n) ttl_duration = 0, ttl_col = \"\"</td>\n",
       "    </tr>\n",
       "  </tbody>\n",
       "</table>\n",
       "</div>"
      ],
      "text/plain": [
       "                     Edge                                                               Create Edge\n",
       "0  COMMUNITY_WITH_FINDING  CREATE EDGE `COMMUNITY_WITH_FINDING` (\\n) ttl_duration = 0, ttl_col = \"\""
      ]
     },
     "execution_count": 39,
     "metadata": {},
     "output_type": "execute_result"
    }
   ],
   "source": [
    "!sleep 20\n",
    "%ngql SHOW CREATE EDGE COMMUNITY_WITH_FINDING;"
   ]
  },
  {
   "cell_type": "code",
   "execution_count": 40,
   "id": "e1af72b0",
   "metadata": {},
   "outputs": [
    {
     "name": "stdout",
     "output_type": "stream",
     "text": [
      "\u001b[1;3;38;2;0;120;215m[INFO] Parsed 31 edges 'ms_paper' for edge type 'COMMUNITY_WITH_FINDING' in memory\u001b[0m\n"
     ]
    },
    {
     "data": {
      "application/vnd.jupyter.widget-view+json": {
       "model_id": "22e62b41c679418baa7f1b4658c0328d",
       "version_major": 2,
       "version_minor": 0
      },
      "text/plain": [
       "Loading Edges:   0%|          | 0/1 [00:00<?, ?it/s]"
      ]
     },
     "metadata": {},
     "output_type": "display_data"
    },
    {
     "name": "stdout",
     "output_type": "stream",
     "text": [
      "Loaded 31 of 31 edges\n",
      "\u001b[1;3;38;2;0;135;107m[INFO] Successfully loaded 31 edges 'ms_paper' for edge type 'COMMUNITY_WITH_FINDING'\u001b[0m\n",
      "\u001b[1;3;38;2;0;120;215m[INFO] Parsed 6 vertices 'ms_paper' for tag '__Community' in memory\u001b[0m\n"
     ]
    },
    {
     "data": {
      "application/vnd.jupyter.widget-view+json": {
       "model_id": "57489d835ea743e69cf75a02f45f5338",
       "version_major": 2,
       "version_minor": 0
      },
      "text/plain": [
       "Loading Vertices:   0%|          | 0/1 [00:00<?, ?it/s]"
      ]
     },
     "metadata": {},
     "output_type": "display_data"
    },
    {
     "name": "stdout",
     "output_type": "stream",
     "text": [
      "Loaded 6 of 6 vertices\n",
      "\u001b[1;3;38;2;0;135;107m[INFO] Successfully loaded 6 vertices 'ms_paper' for tag '__Community'\u001b[0m\n",
      "\u001b[1;3;38;2;0;120;215m[INFO] Parsed 31 vertices 'ms_paper' for tag '__Finding' in memory\u001b[0m\n"
     ]
    },
    {
     "data": {
      "application/vnd.jupyter.widget-view+json": {
       "model_id": "be9134b127e549a38949632f373d500f",
       "version_major": 2,
       "version_minor": 0
      },
      "text/plain": [
       "Loading Vertices:   0%|          | 0/1 [00:00<?, ?it/s]"
      ]
     },
     "metadata": {},
     "output_type": "display_data"
    },
    {
     "name": "stdout",
     "output_type": "stream",
     "text": [
      "Loaded 31 of 31 vertices\n",
      "\u001b[1;3;38;2;0;135;107m[INFO] Successfully loaded 31 vertices 'ms_paper' for tag '__Finding'\u001b[0m\n"
     ]
    }
   ],
   "source": [
    "%ng_load --header --source data/COMMUNITY_WITH_FINDINGS.csv --edge COMMUNITY_WITH_FINDING --src 0 --dst 3 --space ms_paper\n",
    "%ng_load --header --source https://github.com/microsoft/graphrag/raw/main/examples_notebooks/inputs/operation%20dulce/create_final_community_reports.parquet --tag __Community --vid 9 --props 0:community,1:full_content,2:level,3:rank,4:title,5:rank_explanation,6:summary --space ms_paper\n",
    "%ng_load --header --source data/COMMUNITY_WITH_FINDINGS.csv --tag __Finding --vid 3 --props 4:summary,5:explanation --space ms_paper"
   ]
  },
  {
   "cell_type": "code",
   "execution_count": 41,
   "id": "46e7acdc",
   "metadata": {},
   "outputs": [
    {
     "ename": "SyntaxError",
     "evalue": "invalid syntax (2845327163.py, line 5)",
     "output_type": "error",
     "traceback": [
      "\u001b[0;36m  Cell \u001b[0;32mIn[41], line 5\u001b[0;36m\u001b[0m\n\u001b[0;31m    MATCH (m)-[e:COMMUNITY_WITH_FINDING]->(n)\u001b[0m\n\u001b[0m                ^\u001b[0m\n\u001b[0;31mSyntaxError\u001b[0m\u001b[0;31m:\u001b[0m invalid syntax\n"
     ]
    }
   ],
   "source": [
    "# Let's see the data in the graph!\n",
    "\n",
    "%%ngql \n",
    "\n",
    "MATCH (m)-[e:COMMUNITY_WITH_FINDING]->(n)\n",
    "RETURN substring(properties(m).title, 0, 23) + \"...\" AS Community_Title,\n",
    "    type(e) AS Edge_Type,\n",
    "    substring(properties(n).summary, 0, 45) + \"...\" AS Finding_Summary\n",
    "    LIMIT 10"
   ]
  },
  {
   "cell_type": "markdown",
   "id": "5082a611-821e-4494-944b-4929a8b22e9a",
   "metadata": {},
   "source": [
    "### Community `--` Entity\n",
    "\n",
    "Finally, let's wire the Community to the Entities they were generated from, we can get this info from `create_final_nodes`."
   ]
  },
  {
   "cell_type": "code",
   "execution_count": 42,
   "id": "15a47038-101d-4a12-987f-a06d8ceb3d01",
   "metadata": {},
   "outputs": [],
   "source": [
    "df_nodes = pd.read_parquet(\n",
    "    \"https://github.com/microsoft/graphrag/raw/main/examples_notebooks/inputs/operation%20dulce/create_final_nodes.parquet\"\n",
    ")\n",
    "\n",
    "df_entities = pd.read_parquet(\n",
    "    \"https://github.com/microsoft/graphrag/raw/main/examples_notebooks/inputs/operation%20dulce/create_final_entities.parquet\"\n",
    ")\n",
    "\n",
    "df_community_reports = pd.read_parquet(\n",
    "    \"https://github.com/microsoft/graphrag/raw/main/examples_notebooks/inputs/operation%20dulce/create_final_community_reports.parquet\"\n",
    ")"
   ]
  },
  {
   "cell_type": "code",
   "execution_count": 43,
   "id": "aa622f33-c976-4434-aaea-e0338e243e3b",
   "metadata": {},
   "outputs": [
    {
     "name": "stdout",
     "output_type": "stream",
     "text": [
      "Columns in df_entities: Index(['id', 'name', 'type', 'description', 'human_readable_id',\n",
      "       'graph_embedding', 'text_unit_ids', 'description_embedding'],\n",
      "      dtype='object')\n",
      "Columns in df_nodes: Index(['level', 'title', 'type', 'description', 'source_id', 'community',\n",
      "       'degree', 'human_readable_id', 'id', 'size', 'graph_embedding',\n",
      "       'entity_type', 'top_level_node_id', 'x', 'y'],\n",
      "      dtype='object')\n",
      "Columns in df_community_reports: Index(['community', 'full_content', 'level', 'rank', 'title',\n",
      "       'rank_explanation', 'summary', 'findings', 'full_content_json', 'id'],\n",
      "      dtype='object')\n",
      "Columns in df_joined: Index(['level', 'title', 'type', 'description', 'source_id', 'community',\n",
      "       'degree', 'human_readable_id_node', 'id', 'size', 'graph_embedding',\n",
      "       'entity_type', 'top_level_node_id', 'x', 'y', 'name',\n",
      "       'human_readable_id_entity'],\n",
      "      dtype='object')\n"
     ]
    },
    {
     "data": {
      "text/html": [
       "<div>\n",
       "<style scoped>\n",
       "    .dataframe tbody tr th:only-of-type {\n",
       "        vertical-align: middle;\n",
       "    }\n",
       "\n",
       "    .dataframe tbody tr th {\n",
       "        vertical-align: top;\n",
       "    }\n",
       "\n",
       "    .dataframe thead th {\n",
       "        text-align: right;\n",
       "    }\n",
       "</style>\n",
       "<table border=\"1\" class=\"dataframe\">\n",
       "  <thead>\n",
       "    <tr style=\"text-align: right;\">\n",
       "      <th></th>\n",
       "      <th>name</th>\n",
       "      <th>community</th>\n",
       "      <th>human_readable_id_entity</th>\n",
       "      <th>id_community</th>\n",
       "      <th>level</th>\n",
       "    </tr>\n",
       "  </thead>\n",
       "  <tbody>\n",
       "    <tr>\n",
       "      <th>0</th>\n",
       "      <td>ALEX MERCER</td>\n",
       "      <td>1</td>\n",
       "      <td>0</td>\n",
       "      <td>6e536385-8056-4a82-8670-c0ccaf007fb4</td>\n",
       "      <td>0</td>\n",
       "    </tr>\n",
       "    <tr>\n",
       "      <th>1</th>\n",
       "      <td>TAYLOR CRUZ</td>\n",
       "      <td>1</td>\n",
       "      <td>1</td>\n",
       "      <td>6e536385-8056-4a82-8670-c0ccaf007fb4</td>\n",
       "      <td>0</td>\n",
       "    </tr>\n",
       "    <tr>\n",
       "      <th>2</th>\n",
       "      <td>JORDAN HAYES</td>\n",
       "      <td>1</td>\n",
       "      <td>2</td>\n",
       "      <td>6e536385-8056-4a82-8670-c0ccaf007fb4</td>\n",
       "      <td>0</td>\n",
       "    </tr>\n",
       "    <tr>\n",
       "      <th>3</th>\n",
       "      <td>SAM RIVERA</td>\n",
       "      <td>1</td>\n",
       "      <td>3</td>\n",
       "      <td>6e536385-8056-4a82-8670-c0ccaf007fb4</td>\n",
       "      <td>0</td>\n",
       "    </tr>\n",
       "    <tr>\n",
       "      <th>4</th>\n",
       "      <td>PARANORMAL MILITARY SQUAD</td>\n",
       "      <td>1</td>\n",
       "      <td>4</td>\n",
       "      <td>6e536385-8056-4a82-8670-c0ccaf007fb4</td>\n",
       "      <td>0</td>\n",
       "    </tr>\n",
       "    <tr>\n",
       "      <th>5</th>\n",
       "      <td>OPERATION: DULCE</td>\n",
       "      <td>3</td>\n",
       "      <td>5</td>\n",
       "      <td>3440e649-a379-4c3e-8f4f-1a309096df20</td>\n",
       "      <td>0</td>\n",
       "    </tr>\n",
       "    <tr>\n",
       "      <th>6</th>\n",
       "      <td>EXTRATERRESTRIAL RESEARCH</td>\n",
       "      <td>2</td>\n",
       "      <td>96</td>\n",
       "      <td>660c8fba-b65f-4fcd-9c98-203600cf1981</td>\n",
       "      <td>0</td>\n",
       "    </tr>\n",
       "    <tr>\n",
       "      <th>7</th>\n",
       "      <td>FIRST CONTACT DATA</td>\n",
       "      <td>0</td>\n",
       "      <td>97</td>\n",
       "      <td>251df57e-fd49-49a7-b262-ccaff95d7a51</td>\n",
       "      <td>0</td>\n",
       "    </tr>\n",
       "    <tr>\n",
       "      <th>8</th>\n",
       "      <td>EXTRATERRESTRIAL PATTERNS</td>\n",
       "      <td>0</td>\n",
       "      <td>98</td>\n",
       "      <td>251df57e-fd49-49a7-b262-ccaff95d7a51</td>\n",
       "      <td>0</td>\n",
       "    </tr>\n",
       "    <tr>\n",
       "      <th>9</th>\n",
       "      <td>CAUTIOUS PERSPECTIVE</td>\n",
       "      <td>1</td>\n",
       "      <td>99</td>\n",
       "      <td>6e536385-8056-4a82-8670-c0ccaf007fb4</td>\n",
       "      <td>0</td>\n",
       "    </tr>\n",
       "  </tbody>\n",
       "</table>\n",
       "</div>"
      ],
      "text/plain": [
       "                        name community  human_readable_id_entity                          id_community  level\n",
       "0                ALEX MERCER         1                         0  6e536385-8056-4a82-8670-c0ccaf007fb4      0\n",
       "1                TAYLOR CRUZ         1                         1  6e536385-8056-4a82-8670-c0ccaf007fb4      0\n",
       "2               JORDAN HAYES         1                         2  6e536385-8056-4a82-8670-c0ccaf007fb4      0\n",
       "3                 SAM RIVERA         1                         3  6e536385-8056-4a82-8670-c0ccaf007fb4      0\n",
       "4  PARANORMAL MILITARY SQUAD         1                         4  6e536385-8056-4a82-8670-c0ccaf007fb4      0\n",
       "5           OPERATION: DULCE         3                         5  3440e649-a379-4c3e-8f4f-1a309096df20      0\n",
       "6  EXTRATERRESTRIAL RESEARCH         2                        96  660c8fba-b65f-4fcd-9c98-203600cf1981      0\n",
       "7         FIRST CONTACT DATA         0                        97  251df57e-fd49-49a7-b262-ccaff95d7a51      0\n",
       "8  EXTRATERRESTRIAL PATTERNS         0                        98  251df57e-fd49-49a7-b262-ccaff95d7a51      0\n",
       "9       CAUTIOUS PERSPECTIVE         1                        99  6e536385-8056-4a82-8670-c0ccaf007fb4      0"
      ]
     },
     "execution_count": 43,
     "metadata": {},
     "output_type": "execute_result"
    }
   ],
   "source": [
    "# Check the columns\n",
    "print(\"Columns in df_entities:\", df_entities.columns)\n",
    "print(\"Columns in df_nodes:\", df_nodes.columns)\n",
    "print(\"Columns in df_community_reports:\", df_community_reports.columns)\n",
    "\n",
    "df_joined = df_nodes[df_nodes[\"community\"].notna()].merge(\n",
    "    df_entities[[\"name\", \"human_readable_id\"]],\n",
    "    left_on=\"title\",  # Use 'title' from df_nodes\n",
    "    right_on=\"name\",  # Use 'name' from df_entities\n",
    "    how=\"left\",\n",
    "    suffixes=(\"_node\", \"_entity\"),  # Add suffixes to distinguish common column names\n",
    ")\n",
    "\n",
    "print(\"Columns in df_joined:\", df_joined.columns)\n",
    "\n",
    "# Join community's id from df_community_reports\n",
    "df_joined = df_joined.merge(\n",
    "    df_community_reports[[\"community\", \"id\"]],\n",
    "    on=\"community\",\n",
    "    how=\"left\",\n",
    "    suffixes=(\"_node\", \"_community\"),\n",
    ")\n",
    "\n",
    "df_joined[\n",
    "    [\"name\", \"community\", \"human_readable_id_entity\", \"id_community\", \"level\"]\n",
    "].head(10)"
   ]
  },
  {
   "cell_type": "markdown",
   "id": "cfbe32d9",
   "metadata": {},
   "source": [
    "Then, let's generate the data in table shape with fields: entity_id, entity_name, community_id, community_hash_id, community_level, like:\n",
    "\n",
    "| entity_id | entity_name | community_id | community_hash_id                    | community_level | \n",
    "| --------- | ----------- | ------------ | ------------------------------------ | --------------- |\n",
    "| entity_0  | ALEX MERCER | 1            | 6e536385-8056-4a82-8670-c0ccaf007fb4 | 0               |\n",
    "\n",
    "Thus we could load the data into NebulaGraph with ease."
   ]
  },
  {
   "cell_type": "code",
   "execution_count": 44,
   "id": "f48e5ab4",
   "metadata": {},
   "outputs": [
    {
     "name": "stdout",
     "output_type": "stream",
     "text": [
      "Data saved to DATA/ENTITY_WITHIN_COMMUNITY.csv\n",
      "  entity_id                entity_name community_id                     community_hash_id  community_level\n",
      "0  entity_0                ALEX MERCER            1  6e536385-8056-4a82-8670-c0ccaf007fb4                0\n",
      "1  entity_1                TAYLOR CRUZ            1  6e536385-8056-4a82-8670-c0ccaf007fb4                0\n",
      "2  entity_2               JORDAN HAYES            1  6e536385-8056-4a82-8670-c0ccaf007fb4                0\n",
      "3  entity_3                 SAM RIVERA            1  6e536385-8056-4a82-8670-c0ccaf007fb4                0\n",
      "4  entity_4  PARANORMAL MILITARY SQUAD            1  6e536385-8056-4a82-8670-c0ccaf007fb4                0\n"
     ]
    }
   ],
   "source": [
    "# Prepare data for ENTITY_WITHIN_COMMUNITY\n",
    "df_entity_within_community = df_joined[\n",
    "    [\"human_readable_id_entity\", \"name\", \"community\", \"id_community\", \"level\"]\n",
    "].copy()\n",
    "\n",
    "# Add prefix 'entity_' to entity_id\n",
    "df_entity_within_community[\"entity_id\"] = \"entity_\" + df_entity_within_community[\n",
    "    \"human_readable_id_entity\"\n",
    "].astype(str)\n",
    "\n",
    "# Rename columns to match desired output\n",
    "df_entity_within_community = df_entity_within_community.rename(\n",
    "    columns={\n",
    "        \"name\": \"entity_name\",\n",
    "        \"community\": \"community_id\",\n",
    "        \"id_community\": \"community_hash_id\",\n",
    "        \"level\": \"community_level\",\n",
    "    }\n",
    ")\n",
    "\n",
    "# Reorder columns\n",
    "df_entity_within_community = df_entity_within_community[\n",
    "    [\"entity_id\", \"entity_name\", \"community_id\", \"community_hash_id\", \"community_level\"]\n",
    "]\n",
    "\n",
    "# Ensure the DATA directory exists\n",
    "import os\n",
    "\n",
    "os.makedirs(\"DATA\", exist_ok=True)\n",
    "\n",
    "# Save to CSV\n",
    "csv_path = \"DATA/ENTITY_WITHIN_COMMUNITY.csv\"\n",
    "df_entity_within_community.to_csv(csv_path, index=False)\n",
    "\n",
    "print(f\"Data saved to {csv_path}\")\n",
    "print(df_entity_within_community.head())"
   ]
  },
  {
   "cell_type": "markdown",
   "id": "2b3e61a1",
   "metadata": {},
   "source": [
    "#### Load the data into NebulaGraph\n",
    "\n",
    "Let's create the EDGE `ENTITY_WITHIN_COMMUNITY` and load the data into NebulaGraph, we put the level into the EDGE properties, too.\n",
    "\n",
    "```\n",
    "CREATE EDGE IF NOT EXISTS `ENTITY_WITHIN_COMMUNITY` (level int);\n",
    "```"
   ]
  },
  {
   "cell_type": "code",
   "execution_count": 45,
   "id": "088429a6",
   "metadata": {},
   "outputs": [],
   "source": [
    "%ngql CREATE EDGE IF NOT EXISTS `ENTITY_WITHIN_COMMUNITY` (level int);\n",
    "\n",
    "!sleep 20"
   ]
  },
  {
   "cell_type": "code",
   "execution_count": 46,
   "id": "819bf0a3",
   "metadata": {},
   "outputs": [
    {
     "name": "stdout",
     "output_type": "stream",
     "text": [
      "\u001b[1;3;38;2;0;120;215m[INFO] Parsed 46 edges 'ms_paper' for edge type 'ENTITY_WITHIN_COMMUNITY' in memory\u001b[0m\n"
     ]
    },
    {
     "data": {
      "application/vnd.jupyter.widget-view+json": {
       "model_id": "4d683105b5884b34bd5a612e098374a2",
       "version_major": 2,
       "version_minor": 0
      },
      "text/plain": [
       "Loading Edges:   0%|          | 0/1 [00:00<?, ?it/s]"
      ]
     },
     "metadata": {},
     "output_type": "display_data"
    },
    {
     "name": "stdout",
     "output_type": "stream",
     "text": [
      "Loaded 46 of 46 edges\n",
      "\u001b[1;3;38;2;0;135;107m[INFO] Successfully loaded 46 edges 'ms_paper' for edge type 'ENTITY_WITHIN_COMMUNITY'\u001b[0m\n"
     ]
    }
   ],
   "source": [
    "%ng_load --header --source DATA/ENTITY_WITHIN_COMMUNITY.csv --edge ENTITY_WITHIN_COMMUNITY --src 0 --dst 3 --props 4:level --space ms_paper"
   ]
  },
  {
   "cell_type": "markdown",
   "id": "f20d6669",
   "metadata": {},
   "source": [
    "### Covariates\n",
    "\n",
    "The covariates are structure metadata of the entities, in case we would like to maximize the quality of GraphRAG Indexing.\n",
    "\n",
    "For instance, we could inspect the covariates of our sample dataset:"
   ]
  },
  {
   "cell_type": "code",
   "execution_count": 47,
   "id": "53e95121-c3b8-4afb-bec7-8225bd62a896",
   "metadata": {},
   "outputs": [],
   "source": [
    "df_covariates = pd.read_parquet(\n",
    "    \"https://github.com/microsoft/graphrag/raw/main/examples_notebooks/inputs/operation%20dulce/create_final_covariates.parquet\"\n",
    ")"
   ]
  },
  {
   "cell_type": "code",
   "execution_count": 48,
   "id": "a68bcc71",
   "metadata": {},
   "outputs": [
    {
     "data": {
      "text/html": [
       "<div>\n",
       "<style scoped>\n",
       "    .dataframe tbody tr th:only-of-type {\n",
       "        vertical-align: middle;\n",
       "    }\n",
       "\n",
       "    .dataframe tbody tr th {\n",
       "        vertical-align: top;\n",
       "    }\n",
       "\n",
       "    .dataframe thead th {\n",
       "        text-align: right;\n",
       "    }\n",
       "</style>\n",
       "<table border=\"1\" class=\"dataframe\">\n",
       "  <thead>\n",
       "    <tr style=\"text-align: right;\">\n",
       "      <th></th>\n",
       "      <th>id</th>\n",
       "      <th>human_readable_id</th>\n",
       "      <th>covariate_type</th>\n",
       "      <th>type</th>\n",
       "      <th>description</th>\n",
       "      <th>subject_id</th>\n",
       "      <th>subject_type</th>\n",
       "      <th>object_id</th>\n",
       "      <th>object_type</th>\n",
       "      <th>status</th>\n",
       "      <th>start_date</th>\n",
       "      <th>end_date</th>\n",
       "      <th>source_text</th>\n",
       "      <th>text_unit_id</th>\n",
       "      <th>document_ids</th>\n",
       "      <th>n_tokens</th>\n",
       "    </tr>\n",
       "  </thead>\n",
       "  <tbody>\n",
       "    <tr>\n",
       "      <th>0</th>\n",
       "      <td>ad5a2020-cdec-4982-acdf-dbe5ee530066</td>\n",
       "      <td>1</td>\n",
       "      <td>claim</td>\n",
       "      <td>MISSION INVOLVEMENT</td>\n",
       "      <td>Agent Alex Mercer's compliance in the briefing room was unsettling, suggesting he might have unspoken complexities or reservations about Operation: Dulce</td>\n",
       "      <td>AGENT ALEX MERCER</td>\n",
       "      <td>None</td>\n",
       "      <td>NONE</td>\n",
       "      <td>None</td>\n",
       "      <td>SUSPECTED</td>\n",
       "      <td>NONE</td>\n",
       "      <td>NONE</td>\n",
       "      <td>\"With dulled eyes, he scanned the projectors outlining their impending odyssey into Operation: Dulce.\" \"The compliance in his tone was unsettling, even to himself.\"</td>\n",
       "      <td>2cf7a230c367a2dfaf0fc3c903eb8948</td>\n",
       "      <td>[958fdd043f17ade63cb13570b59df295]</td>\n",
       "      <td>2500</td>\n",
       "    </tr>\n",
       "    <tr>\n",
       "      <th>1</th>\n",
       "      <td>9d8a0fe5-07b7-4b1a-b5be-1317d0fac005</td>\n",
       "      <td>2</td>\n",
       "      <td>claim</td>\n",
       "      <td>AUTHORITY EXERCISE</td>\n",
       "      <td>Agent Taylor Cruz exercises authority and demands attention in the briefing room, dismissing speculation as counter-productive</td>\n",
       "      <td>AGENT TAYLOR CRUZ</td>\n",
       "      <td>None</td>\n",
       "      <td>NONE</td>\n",
       "      <td>None</td>\n",
       "      <td>TRUE</td>\n",
       "      <td>NONE</td>\n",
       "      <td>NONE</td>\n",
       "      <td>\"It was Taylor Cruz’s voice, laced with an edge that demanded attention.\" \"Taylor snorted dismissively. “Focus, people. We have protocols for a reason. Speculation is counter-productive.”\"</td>\n",
       "      <td>2cf7a230c367a2dfaf0fc3c903eb8948</td>\n",
       "      <td>[958fdd043f17ade63cb13570b59df295]</td>\n",
       "      <td>2500</td>\n",
       "    </tr>\n",
       "    <tr>\n",
       "      <th>2</th>\n",
       "      <td>a5fafdca-b138-4e91-bc85-7cd3472c7093</td>\n",
       "      <td>3</td>\n",
       "      <td>claim</td>\n",
       "      <td>SUPPORTIVE ROLE</td>\n",
       "      <td>Agent Jordan Hayes offers support and emphasizes the importance of details and clear-headedness for Operation: Dulce</td>\n",
       "      <td>AGENT JORDAN HAYES</td>\n",
       "      <td>None</td>\n",
       "      <td>NONE</td>\n",
       "      <td>None</td>\n",
       "      <td>TRUE</td>\n",
       "      <td>NONE</td>\n",
       "      <td>NONE</td>\n",
       "      <td>\"Jordan Hayes, perched on the opposite side of the table, narrowed their eyes but offered a supportive nod. \"Details are imperative. We’ll need your clear-headedness down there, Mercer.\"\"</td>\n",
       "      <td>2cf7a230c367a2dfaf0fc3c903eb8948</td>\n",
       "      <td>[958fdd043f17ade63cb13570b59df295]</td>\n",
       "      <td>2500</td>\n",
       "    </tr>\n",
       "  </tbody>\n",
       "</table>\n",
       "</div>"
      ],
      "text/plain": [
       "                                     id human_readable_id covariate_type                 type                                                                                                                                                description          subject_id subject_type object_id object_type     status start_date end_date                                                                                                                                                                                   source_text                      text_unit_id                        document_ids  n_tokens\n",
       "0  ad5a2020-cdec-4982-acdf-dbe5ee530066                 1          claim  MISSION INVOLVEMENT  Agent Alex Mercer's compliance in the briefing room was unsettling, suggesting he might have unspoken complexities or reservations about Operation: Dulce   AGENT ALEX MERCER         None      NONE        None  SUSPECTED       NONE     NONE                          \"With dulled eyes, he scanned the projectors outlining their impending odyssey into Operation: Dulce.\" \"The compliance in his tone was unsettling, even to himself.\"  2cf7a230c367a2dfaf0fc3c903eb8948  [958fdd043f17ade63cb13570b59df295]      2500\n",
       "1  9d8a0fe5-07b7-4b1a-b5be-1317d0fac005                 2          claim   AUTHORITY EXERCISE                             Agent Taylor Cruz exercises authority and demands attention in the briefing room, dismissing speculation as counter-productive   AGENT TAYLOR CRUZ         None      NONE        None       TRUE       NONE     NONE  \"It was Taylor Cruz’s voice, laced with an edge that demanded attention.\" \"Taylor snorted dismissively. “Focus, people. We have protocols for a reason. Speculation is counter-productive.”\"  2cf7a230c367a2dfaf0fc3c903eb8948  [958fdd043f17ade63cb13570b59df295]      2500\n",
       "2  a5fafdca-b138-4e91-bc85-7cd3472c7093                 3          claim      SUPPORTIVE ROLE                                       Agent Jordan Hayes offers support and emphasizes the importance of details and clear-headedness for Operation: Dulce  AGENT JORDAN HAYES         None      NONE        None       TRUE       NONE     NONE   \"Jordan Hayes, perched on the opposite side of the table, narrowed their eyes but offered a supportive nod. \"Details are imperative. We’ll need your clear-headedness down there, Mercer.\"\"  2cf7a230c367a2dfaf0fc3c903eb8948  [958fdd043f17ade63cb13570b59df295]      2500"
      ]
     },
     "execution_count": 48,
     "metadata": {},
     "output_type": "execute_result"
    }
   ],
   "source": [
    "df_covariates.head(3)"
   ]
  },
  {
   "cell_type": "markdown",
   "id": "97896bc6-414e-441d-bf65-d499613ee7eb",
   "metadata": {},
   "source": [
    "Most of the time, we don't have to leverage covariates info during the retrieval phase, so we don't ingest it into NebulaGraph."
   ]
  },
  {
   "cell_type": "markdown",
   "id": "16f92c2d",
   "metadata": {},
   "source": [
    "## Inspect the graph\n",
    "\n",
    "We firstly connect to NebulaGraph with [Jupyter-NebulaGraph](https://jupyter-nebulagraph.readthedocs.io/en/stable/) which enables use Query, Render Graph in Jupyter in an elegant way."
   ]
  },
  {
   "cell_type": "code",
   "execution_count": 49,
   "id": "8ea093b7-e5d2-4a95-92ef-18d807d13f80",
   "metadata": {},
   "outputs": [
    {
     "name": "stdout",
     "output_type": "stream",
     "text": [
      "The ngql extension is already loaded. To reload it, use:\n",
      "  %reload_ext ngql\n",
      "\u001b[1;3;38;2;0;135;107m[OK] Connection Pool Created\u001b[0m\n"
     ]
    },
    {
     "data": {
      "text/html": [
       "<div>\n",
       "<style scoped>\n",
       "    .dataframe tbody tr th:only-of-type {\n",
       "        vertical-align: middle;\n",
       "    }\n",
       "\n",
       "    .dataframe tbody tr th {\n",
       "        vertical-align: top;\n",
       "    }\n",
       "\n",
       "    .dataframe thead th {\n",
       "        text-align: right;\n",
       "    }\n",
       "</style>\n",
       "<table border=\"1\" class=\"dataframe\">\n",
       "  <thead>\n",
       "    <tr style=\"text-align: right;\">\n",
       "      <th></th>\n",
       "    </tr>\n",
       "  </thead>\n",
       "  <tbody>\n",
       "  </tbody>\n",
       "</table>\n",
       "</div>"
      ],
      "text/plain": [
       "Empty DataFrame\n",
       "Columns: []\n",
       "Index: []"
      ]
     },
     "execution_count": 49,
     "metadata": {},
     "output_type": "execute_result"
    }
   ],
   "source": [
    "%load_ext ngql\n",
    "%ngql --address 127.0.0.1 --port 9669 --user root --password nebula\n",
    "\n",
    "%ngql USE ms_paper"
   ]
  },
  {
   "cell_type": "markdown",
   "id": "597c5904-c4fd-4f5d-84bd-bd71203300e9",
   "metadata": {},
   "source": [
    "For instance, we could see the most connected entities:"
   ]
  },
  {
   "cell_type": "code",
   "execution_count": 50,
   "id": "6c1b0850",
   "metadata": {},
   "outputs": [
    {
     "data": {
      "text/html": [
       "<div>\n",
       "<style scoped>\n",
       "    .dataframe tbody tr th:only-of-type {\n",
       "        vertical-align: middle;\n",
       "    }\n",
       "\n",
       "    .dataframe tbody tr th {\n",
       "        vertical-align: top;\n",
       "    }\n",
       "\n",
       "    .dataframe thead th {\n",
       "        text-align: right;\n",
       "    }\n",
       "</style>\n",
       "<table border=\"1\" class=\"dataframe\">\n",
       "  <thead>\n",
       "    <tr style=\"text-align: right;\">\n",
       "      <th></th>\n",
       "      <th>Entity</th>\n",
       "      <th>Entity Tag</th>\n",
       "      <th>Degree</th>\n",
       "    </tr>\n",
       "  </thead>\n",
       "  <tbody>\n",
       "    <tr>\n",
       "      <th>0</th>\n",
       "      <td>DULCE BASE</td>\n",
       "      <td>MISCELLANEOUS</td>\n",
       "      <td>17</td>\n",
       "    </tr>\n",
       "    <tr>\n",
       "      <th>1</th>\n",
       "      <td>SAM RIVERA</td>\n",
       "      <td>PERSON</td>\n",
       "      <td>15</td>\n",
       "    </tr>\n",
       "    <tr>\n",
       "      <th>2</th>\n",
       "      <td>PARANORMAL MILITARY SQUAD</td>\n",
       "      <td>ORGANIZATION</td>\n",
       "      <td>14</td>\n",
       "    </tr>\n",
       "    <tr>\n",
       "      <th>3</th>\n",
       "      <td>TAYLOR CRUZ</td>\n",
       "      <td>PERSON</td>\n",
       "      <td>12</td>\n",
       "    </tr>\n",
       "    <tr>\n",
       "      <th>4</th>\n",
       "      <td>JORDAN HAYES</td>\n",
       "      <td>PERSON</td>\n",
       "      <td>9</td>\n",
       "    </tr>\n",
       "  </tbody>\n",
       "</table>\n",
       "</div>"
      ],
      "text/plain": [
       "                      Entity     Entity Tag  Degree\n",
       "0                 DULCE BASE  MISCELLANEOUS      17\n",
       "1                 SAM RIVERA         PERSON      15\n",
       "2  PARANORMAL MILITARY SQUAD   ORGANIZATION      14\n",
       "3                TAYLOR CRUZ         PERSON      12\n",
       "4               JORDAN HAYES         PERSON       9"
      ]
     },
     "execution_count": 50,
     "metadata": {},
     "output_type": "execute_result"
    }
   ],
   "source": [
    "%%ngql\n",
    "MATCH (e:`__Entity`)-[r:`RELATED_TO`]-()\n",
    "WITH e, count(r) AS Degree\n",
    "RETURN properties(e).name AS Entity, properties(e).type AS `Entity Tag`, Degree AS Degree\n",
    "ORDER BY Degree DESC\n",
    "LIMIT 5"
   ]
  },
  {
   "cell_type": "markdown",
   "id": "55f5b3be-8e9e-4eb9-93e1-3799c96a47f6",
   "metadata": {},
   "source": [
    "All TAGs:"
   ]
  },
  {
   "cell_type": "code",
   "execution_count": 51,
   "id": "d4133de9",
   "metadata": {},
   "outputs": [
    {
     "data": {
      "text/html": [
       "<div>\n",
       "<style scoped>\n",
       "    .dataframe tbody tr th:only-of-type {\n",
       "        vertical-align: middle;\n",
       "    }\n",
       "\n",
       "    .dataframe tbody tr th {\n",
       "        vertical-align: top;\n",
       "    }\n",
       "\n",
       "    .dataframe thead th {\n",
       "        text-align: right;\n",
       "    }\n",
       "</style>\n",
       "<table border=\"1\" class=\"dataframe\">\n",
       "  <thead>\n",
       "    <tr style=\"text-align: right;\">\n",
       "      <th></th>\n",
       "      <th>Name</th>\n",
       "    </tr>\n",
       "  </thead>\n",
       "  <tbody>\n",
       "    <tr>\n",
       "      <th>0</th>\n",
       "      <td>ACTIVITY</td>\n",
       "    </tr>\n",
       "    <tr>\n",
       "      <th>1</th>\n",
       "      <td>ATTRIBUTE</td>\n",
       "    </tr>\n",
       "    <tr>\n",
       "      <th>2</th>\n",
       "      <td>CONCEPT</td>\n",
       "    </tr>\n",
       "    <tr>\n",
       "      <th>3</th>\n",
       "      <td>EVENT</td>\n",
       "    </tr>\n",
       "    <tr>\n",
       "      <th>4</th>\n",
       "      <td>EXTRATERRESTRIAL_COMMUNICATION</td>\n",
       "    </tr>\n",
       "    <tr>\n",
       "      <th>5</th>\n",
       "      <td>FACILITY</td>\n",
       "    </tr>\n",
       "    <tr>\n",
       "      <th>6</th>\n",
       "      <td>GEO</td>\n",
       "    </tr>\n",
       "    <tr>\n",
       "      <th>7</th>\n",
       "      <td>MISCELLANEOUS</td>\n",
       "    </tr>\n",
       "    <tr>\n",
       "      <th>8</th>\n",
       "      <td>OBJECT</td>\n",
       "    </tr>\n",
       "    <tr>\n",
       "      <th>9</th>\n",
       "      <td>ORGANIZATION</td>\n",
       "    </tr>\n",
       "    <tr>\n",
       "      <th>10</th>\n",
       "      <td>PERSON</td>\n",
       "    </tr>\n",
       "    <tr>\n",
       "      <th>11</th>\n",
       "      <td>PHENOMENON</td>\n",
       "    </tr>\n",
       "    <tr>\n",
       "      <th>12</th>\n",
       "      <td>PLACE</td>\n",
       "    </tr>\n",
       "    <tr>\n",
       "      <th>13</th>\n",
       "      <td>PROJECT</td>\n",
       "    </tr>\n",
       "    <tr>\n",
       "      <th>14</th>\n",
       "      <td>ROLE</td>\n",
       "    </tr>\n",
       "    <tr>\n",
       "      <th>15</th>\n",
       "      <td>SKILL</td>\n",
       "    </tr>\n",
       "    <tr>\n",
       "      <th>16</th>\n",
       "      <td>STRATEGY</td>\n",
       "    </tr>\n",
       "    <tr>\n",
       "      <th>17</th>\n",
       "      <td>TASK</td>\n",
       "    </tr>\n",
       "    <tr>\n",
       "      <th>18</th>\n",
       "      <td>TRAIT</td>\n",
       "    </tr>\n",
       "    <tr>\n",
       "      <th>19</th>\n",
       "      <td>__Chunk</td>\n",
       "    </tr>\n",
       "    <tr>\n",
       "      <th>20</th>\n",
       "      <td>__Community</td>\n",
       "    </tr>\n",
       "    <tr>\n",
       "      <th>21</th>\n",
       "      <td>__Entity</td>\n",
       "    </tr>\n",
       "    <tr>\n",
       "      <th>22</th>\n",
       "      <td>__Finding</td>\n",
       "    </tr>\n",
       "  </tbody>\n",
       "</table>\n",
       "</div>"
      ],
      "text/plain": [
       "                              Name\n",
       "0                         ACTIVITY\n",
       "1                        ATTRIBUTE\n",
       "2                          CONCEPT\n",
       "3                            EVENT\n",
       "4   EXTRATERRESTRIAL_COMMUNICATION\n",
       "5                         FACILITY\n",
       "6                              GEO\n",
       "7                    MISCELLANEOUS\n",
       "8                           OBJECT\n",
       "9                     ORGANIZATION\n",
       "10                          PERSON\n",
       "11                      PHENOMENON\n",
       "12                           PLACE\n",
       "13                         PROJECT\n",
       "14                            ROLE\n",
       "15                           SKILL\n",
       "16                        STRATEGY\n",
       "17                            TASK\n",
       "18                           TRAIT\n",
       "19                         __Chunk\n",
       "20                     __Community\n",
       "21                        __Entity\n",
       "22                       __Finding"
      ]
     },
     "execution_count": 51,
     "metadata": {},
     "output_type": "execute_result"
    }
   ],
   "source": [
    "%ngql SHOW TAGS;"
   ]
  },
  {
   "cell_type": "markdown",
   "id": "6d05f761-8076-4e46-97ad-f2d8abf27f1c",
   "metadata": {},
   "source": [
    "ALL EDGE Types:"
   ]
  },
  {
   "cell_type": "code",
   "execution_count": 52,
   "id": "b903647d-2942-4c6d-a790-a9fad6e7ccab",
   "metadata": {},
   "outputs": [
    {
     "data": {
      "text/html": [
       "<div>\n",
       "<style scoped>\n",
       "    .dataframe tbody tr th:only-of-type {\n",
       "        vertical-align: middle;\n",
       "    }\n",
       "\n",
       "    .dataframe tbody tr th {\n",
       "        vertical-align: top;\n",
       "    }\n",
       "\n",
       "    .dataframe thead th {\n",
       "        text-align: right;\n",
       "    }\n",
       "</style>\n",
       "<table border=\"1\" class=\"dataframe\">\n",
       "  <thead>\n",
       "    <tr style=\"text-align: right;\">\n",
       "      <th></th>\n",
       "      <th>Name</th>\n",
       "    </tr>\n",
       "  </thead>\n",
       "  <tbody>\n",
       "    <tr>\n",
       "      <th>0</th>\n",
       "      <td>CHUNK_WITH_ENTITY</td>\n",
       "    </tr>\n",
       "    <tr>\n",
       "      <th>1</th>\n",
       "      <td>COMMUNITY_WITH_FINDING</td>\n",
       "    </tr>\n",
       "    <tr>\n",
       "      <th>2</th>\n",
       "      <td>ENTITY_WITHIN_COMMUNITY</td>\n",
       "    </tr>\n",
       "    <tr>\n",
       "      <th>3</th>\n",
       "      <td>RELATED_TO</td>\n",
       "    </tr>\n",
       "  </tbody>\n",
       "</table>\n",
       "</div>"
      ],
      "text/plain": [
       "                      Name\n",
       "0        CHUNK_WITH_ENTITY\n",
       "1   COMMUNITY_WITH_FINDING\n",
       "2  ENTITY_WITHIN_COMMUNITY\n",
       "3               RELATED_TO"
      ]
     },
     "execution_count": 52,
     "metadata": {},
     "output_type": "execute_result"
    }
   ],
   "source": [
    "%ngql SHOW EDGES;"
   ]
  },
  {
   "cell_type": "markdown",
   "id": "96abb789-b84e-4c74-b11c-b212de5e8f42",
   "metadata": {},
   "source": [
    "Stats of the Graph:"
   ]
  },
  {
   "cell_type": "code",
   "execution_count": 53,
   "id": "ef80409a-9d83-46ba-a434-c906a82e472a",
   "metadata": {},
   "outputs": [
    {
     "data": {
      "text/html": [
       "<div>\n",
       "<style scoped>\n",
       "    .dataframe tbody tr th:only-of-type {\n",
       "        vertical-align: middle;\n",
       "    }\n",
       "\n",
       "    .dataframe tbody tr th {\n",
       "        vertical-align: top;\n",
       "    }\n",
       "\n",
       "    .dataframe thead th {\n",
       "        text-align: right;\n",
       "    }\n",
       "</style>\n",
       "<table border=\"1\" class=\"dataframe\">\n",
       "  <thead>\n",
       "    <tr style=\"text-align: right;\">\n",
       "      <th></th>\n",
       "      <th>Type</th>\n",
       "      <th>Name</th>\n",
       "      <th>Count</th>\n",
       "    </tr>\n",
       "  </thead>\n",
       "  <tbody>\n",
       "    <tr>\n",
       "      <th>0</th>\n",
       "      <td>Tag</td>\n",
       "      <td>ACTIVITY</td>\n",
       "      <td>1</td>\n",
       "    </tr>\n",
       "    <tr>\n",
       "      <th>1</th>\n",
       "      <td>Tag</td>\n",
       "      <td>ATTRIBUTE</td>\n",
       "      <td>3</td>\n",
       "    </tr>\n",
       "    <tr>\n",
       "      <th>2</th>\n",
       "      <td>Tag</td>\n",
       "      <td>CONCEPT</td>\n",
       "      <td>90</td>\n",
       "    </tr>\n",
       "    <tr>\n",
       "      <th>3</th>\n",
       "      <td>Tag</td>\n",
       "      <td>EVENT</td>\n",
       "      <td>4</td>\n",
       "    </tr>\n",
       "    <tr>\n",
       "      <th>4</th>\n",
       "      <td>Tag</td>\n",
       "      <td>EXTRATERRESTRIAL_COMMUNICATION</td>\n",
       "      <td>1</td>\n",
       "    </tr>\n",
       "    <tr>\n",
       "      <th>5</th>\n",
       "      <td>Tag</td>\n",
       "      <td>FACILITY</td>\n",
       "      <td>1</td>\n",
       "    </tr>\n",
       "    <tr>\n",
       "      <th>6</th>\n",
       "      <td>Tag</td>\n",
       "      <td>GEO</td>\n",
       "      <td>4</td>\n",
       "    </tr>\n",
       "    <tr>\n",
       "      <th>7</th>\n",
       "      <td>Tag</td>\n",
       "      <td>MISCELLANEOUS</td>\n",
       "      <td>4</td>\n",
       "    </tr>\n",
       "    <tr>\n",
       "      <th>8</th>\n",
       "      <td>Tag</td>\n",
       "      <td>OBJECT</td>\n",
       "      <td>2</td>\n",
       "    </tr>\n",
       "    <tr>\n",
       "      <th>9</th>\n",
       "      <td>Tag</td>\n",
       "      <td>ORGANIZATION</td>\n",
       "      <td>1</td>\n",
       "    </tr>\n",
       "    <tr>\n",
       "      <th>10</th>\n",
       "      <td>Tag</td>\n",
       "      <td>PERSON</td>\n",
       "      <td>98</td>\n",
       "    </tr>\n",
       "    <tr>\n",
       "      <th>11</th>\n",
       "      <td>Tag</td>\n",
       "      <td>PHENOMENON</td>\n",
       "      <td>1</td>\n",
       "    </tr>\n",
       "    <tr>\n",
       "      <th>12</th>\n",
       "      <td>Tag</td>\n",
       "      <td>PLACE</td>\n",
       "      <td>1</td>\n",
       "    </tr>\n",
       "    <tr>\n",
       "      <th>13</th>\n",
       "      <td>Tag</td>\n",
       "      <td>PROJECT</td>\n",
       "      <td>1</td>\n",
       "    </tr>\n",
       "    <tr>\n",
       "      <th>14</th>\n",
       "      <td>Tag</td>\n",
       "      <td>ROLE</td>\n",
       "      <td>1</td>\n",
       "    </tr>\n",
       "    <tr>\n",
       "      <th>15</th>\n",
       "      <td>Tag</td>\n",
       "      <td>SKILL</td>\n",
       "      <td>1</td>\n",
       "    </tr>\n",
       "    <tr>\n",
       "      <th>16</th>\n",
       "      <td>Tag</td>\n",
       "      <td>STRATEGY</td>\n",
       "      <td>1</td>\n",
       "    </tr>\n",
       "    <tr>\n",
       "      <th>17</th>\n",
       "      <td>Tag</td>\n",
       "      <td>TASK</td>\n",
       "      <td>1</td>\n",
       "    </tr>\n",
       "    <tr>\n",
       "      <th>18</th>\n",
       "      <td>Tag</td>\n",
       "      <td>TRAIT</td>\n",
       "      <td>1</td>\n",
       "    </tr>\n",
       "    <tr>\n",
       "      <th>19</th>\n",
       "      <td>Tag</td>\n",
       "      <td>__Chunk</td>\n",
       "      <td>0</td>\n",
       "    </tr>\n",
       "    <tr>\n",
       "      <th>20</th>\n",
       "      <td>Tag</td>\n",
       "      <td>__Community</td>\n",
       "      <td>6</td>\n",
       "    </tr>\n",
       "    <tr>\n",
       "      <th>21</th>\n",
       "      <td>Tag</td>\n",
       "      <td>__Entity</td>\n",
       "      <td>217</td>\n",
       "    </tr>\n",
       "    <tr>\n",
       "      <th>22</th>\n",
       "      <td>Tag</td>\n",
       "      <td>__Finding</td>\n",
       "      <td>31</td>\n",
       "    </tr>\n",
       "    <tr>\n",
       "      <th>23</th>\n",
       "      <td>Edge</td>\n",
       "      <td>CHUNK_WITH_ENTITY</td>\n",
       "      <td>0</td>\n",
       "    </tr>\n",
       "    <tr>\n",
       "      <th>24</th>\n",
       "      <td>Edge</td>\n",
       "      <td>COMMUNITY_WITH_FINDING</td>\n",
       "      <td>31</td>\n",
       "    </tr>\n",
       "    <tr>\n",
       "      <th>25</th>\n",
       "      <td>Edge</td>\n",
       "      <td>ENTITY_WITHIN_COMMUNITY</td>\n",
       "      <td>46</td>\n",
       "    </tr>\n",
       "    <tr>\n",
       "      <th>26</th>\n",
       "      <td>Edge</td>\n",
       "      <td>RELATED_TO</td>\n",
       "      <td>69</td>\n",
       "    </tr>\n",
       "    <tr>\n",
       "      <th>27</th>\n",
       "      <td>Space</td>\n",
       "      <td>vertices</td>\n",
       "      <td>254</td>\n",
       "    </tr>\n",
       "    <tr>\n",
       "      <th>28</th>\n",
       "      <td>Space</td>\n",
       "      <td>edges</td>\n",
       "      <td>146</td>\n",
       "    </tr>\n",
       "  </tbody>\n",
       "</table>\n",
       "</div>"
      ],
      "text/plain": [
       "     Type                            Name  Count\n",
       "0     Tag                        ACTIVITY      1\n",
       "1     Tag                       ATTRIBUTE      3\n",
       "2     Tag                         CONCEPT     90\n",
       "3     Tag                           EVENT      4\n",
       "4     Tag  EXTRATERRESTRIAL_COMMUNICATION      1\n",
       "5     Tag                        FACILITY      1\n",
       "6     Tag                             GEO      4\n",
       "7     Tag                   MISCELLANEOUS      4\n",
       "8     Tag                          OBJECT      2\n",
       "9     Tag                    ORGANIZATION      1\n",
       "10    Tag                          PERSON     98\n",
       "11    Tag                      PHENOMENON      1\n",
       "12    Tag                           PLACE      1\n",
       "13    Tag                         PROJECT      1\n",
       "14    Tag                            ROLE      1\n",
       "15    Tag                           SKILL      1\n",
       "16    Tag                        STRATEGY      1\n",
       "17    Tag                            TASK      1\n",
       "18    Tag                           TRAIT      1\n",
       "19    Tag                         __Chunk      0\n",
       "20    Tag                     __Community      6\n",
       "21    Tag                        __Entity    217\n",
       "22    Tag                       __Finding     31\n",
       "23   Edge               CHUNK_WITH_ENTITY      0\n",
       "24   Edge          COMMUNITY_WITH_FINDING     31\n",
       "25   Edge         ENTITY_WITHIN_COMMUNITY     46\n",
       "26   Edge                      RELATED_TO     69\n",
       "27  Space                        vertices    254\n",
       "28  Space                           edges    146"
      ]
     },
     "execution_count": 53,
     "metadata": {},
     "output_type": "execute_result"
    }
   ],
   "source": [
    "%ngql SUBMIT JOB STATS;\n",
    "\n",
    "!sleep 5\n",
    "\n",
    "%ngql SHOW STATS;"
   ]
  },
  {
   "cell_type": "markdown",
   "id": "2a2b83c4-757c-4b31-9510-fb9a1e29719a",
   "metadata": {},
   "source": [
    "How the Graph Schema looks like.\n",
    "\n",
    "Due to we leveraged the multi-TAG feature of NebulaGraph, we could see all tags shared tag with `__Entity` are not connected here, which is as expected, as `RELATED_TO` EDGE is between `__Entity` in such case."
   ]
  },
  {
   "cell_type": "code",
   "execution_count": 54,
   "id": "1a1d3e04-81c7-4e8b-8ff0-84dd250c28ea",
   "metadata": {},
   "outputs": [
    {
     "data": {
      "text/html": [
       "\n",
       "        <iframe\n",
       "            width=\"100%\"\n",
       "            height=\"500px\"\n",
       "            src=\"nebulagraph_schema_cell_54_ms_paper.html\"\n",
       "            frameborder=\"0\"\n",
       "            allowfullscreen\n",
       "            \n",
       "        ></iframe>\n",
       "        "
      ],
      "text/plain": [
       "<IPython.lib.display.IFrame at 0x148b7d760>"
      ]
     },
     "metadata": {},
     "output_type": "display_data"
    },
    {
     "data": {
      "text/plain": [
       "<class 'pyvis.network.Network'> |N|=25 |E|=4"
      ]
     },
     "execution_count": 54,
     "metadata": {},
     "output_type": "execute_result"
    }
   ],
   "source": [
    "%ng_draw_schema"
   ]
  },
  {
   "cell_type": "markdown",
   "id": "b147ec33-ccdb-4743-b274-cf144e707d9b",
   "metadata": {},
   "source": [
    "And we could query and draw some data, too! with `%%ngql` or `%%ng_draw`\n",
    "\n",
    "> NOTE: `%ngql` or `%ng_draw` is for single line query and `%%ngql` or `%%ng_draw` for multiple-line queries.\n"
   ]
  },
  {
   "cell_type": "code",
   "execution_count": 55,
   "id": "aca6ef4e-bf5d-4ca2-9670-a5e34176af3a",
   "metadata": {},
   "outputs": [
    {
     "data": {
      "text/html": [
       "<div>\n",
       "<style scoped>\n",
       "    .dataframe tbody tr th:only-of-type {\n",
       "        vertical-align: middle;\n",
       "    }\n",
       "\n",
       "    .dataframe tbody tr th {\n",
       "        vertical-align: top;\n",
       "    }\n",
       "\n",
       "    .dataframe thead th {\n",
       "        text-align: right;\n",
       "    }\n",
       "</style>\n",
       "<table border=\"1\" class=\"dataframe\">\n",
       "  <thead>\n",
       "    <tr style=\"text-align: right;\">\n",
       "      <th></th>\n",
       "      <th>id(m)</th>\n",
       "      <th>properties(m).name</th>\n",
       "      <th>properties(m).description</th>\n",
       "      <th>tags(m)</th>\n",
       "    </tr>\n",
       "  </thead>\n",
       "  <tbody>\n",
       "    <tr>\n",
       "      <th>0</th>\n",
       "      <td>entity_0</td>\n",
       "      <td>ALEX MERCER</td>\n",
       "      <td>Alex Mercer is a character with a military background who holds a leadership role within the Paranormal Military Squad. He is deeply involved in overseeing operations and making critical decisions during a potential first contact scenario at Dulce Base. As an agent, Mercer exhibits a mix of concern and anticipation, indicative of his experience and the gravity of the mission at hand. His responsibilities include ensuring a cautious approach to interspecies communication, unraveling galactic mysteries, and engaging with an alien signal.\\n\\nMercer is central to the mission's hypothesis and decision-making processes, reflecting his significant involvement in Operation: Dulce. His efforts are not only focused on overseeing the team but also on interspecies communication and decryption efforts. He acknowledges the analytical skills of his colleague, Jordan Hayes, suggesting a respect for his team's abilities and possibly a shared history of facing the unknown together. As the leader of the team at Dulce Base, Alex Mercer is responsible for guiding the team's response to extraterrestrial contact, ensuring that the engagement with extraterrestrial intelligence is handled with the utmost care and strategic foresight.</td>\n",
       "      <td>[__Entity, PERSON]</td>\n",
       "    </tr>\n",
       "  </tbody>\n",
       "</table>\n",
       "</div>"
      ],
      "text/plain": [
       "      id(m) properties(m).name                                                                                                                                                                                                                                                                                                                                                                                                                                                                                                                                                                                                                                                                                                                                                                                                                                                                                                                                                                                                                                                                                                                                                                                                                                                     properties(m).description             tags(m)\n",
       "0  entity_0        ALEX MERCER  Alex Mercer is a character with a military background who holds a leadership role within the Paranormal Military Squad. He is deeply involved in overseeing operations and making critical decisions during a potential first contact scenario at Dulce Base. As an agent, Mercer exhibits a mix of concern and anticipation, indicative of his experience and the gravity of the mission at hand. His responsibilities include ensuring a cautious approach to interspecies communication, unraveling galactic mysteries, and engaging with an alien signal.\\n\\nMercer is central to the mission's hypothesis and decision-making processes, reflecting his significant involvement in Operation: Dulce. His efforts are not only focused on overseeing the team but also on interspecies communication and decryption efforts. He acknowledges the analytical skills of his colleague, Jordan Hayes, suggesting a respect for his team's abilities and possibly a shared history of facing the unknown together. As the leader of the team at Dulce Base, Alex Mercer is responsible for guiding the team's response to extraterrestrial contact, ensuring that the engagement with extraterrestrial intelligence is handled with the utmost care and strategic foresight.  [__Entity, PERSON]"
      ]
     },
     "execution_count": 55,
     "metadata": {},
     "output_type": "execute_result"
    }
   ],
   "source": [
    "%ngql MATCH (m:`__Entity`) RETURN id(m), properties(m).name, properties(m).description, tags(m) LIMIT 1"
   ]
  },
  {
   "cell_type": "code",
   "execution_count": 56,
   "id": "36a44e11-e514-4d91-86f5-903b9a1a0240",
   "metadata": {},
   "outputs": [
    {
     "data": {
      "text/html": [
       "\n",
       "        <iframe\n",
       "            width=\"100%\"\n",
       "            height=\"500px\"\n",
       "            src=\"nebulagraph_cell_56.html\"\n",
       "            frameborder=\"0\"\n",
       "            allowfullscreen\n",
       "            \n",
       "        ></iframe>\n",
       "        "
      ],
      "text/plain": [
       "<IPython.lib.display.IFrame at 0x148b7d820>"
      ]
     },
     "metadata": {},
     "output_type": "display_data"
    },
    {
     "data": {
      "text/plain": [
       "<class 'pyvis.network.Network'> |N|=44 |E|=49"
      ]
     },
     "execution_count": 56,
     "metadata": {},
     "output_type": "execute_result"
    }
   ],
   "source": [
    "%%ng_draw \n",
    "\n",
    "MATCH p=()--() RETURN p\n",
    "LIMIT 50"
   ]
  },
  {
   "cell_type": "markdown",
   "id": "1a820594",
   "metadata": {},
   "source": [
    "## Vector Indexing"
   ]
  },
  {
   "cell_type": "markdown",
   "id": "ba8a66b3",
   "metadata": {},
   "source": [
    "Now we have Graph Data ingested in NebulaGraph, while to enable GraphRAG, we need Semantic Indexes over graph Data.\n",
    "\n",
    "Now, let's create a Vector Embedding Semantic Index for all Graph Data with Nebula-GenAI-Suite."
   ]
  },
  {
   "cell_type": "markdown",
   "id": "8e37bb3d-b112-49d3-a605-60269a3e2659",
   "metadata": {},
   "source": [
    "### Connect to our Graph"
   ]
  },
  {
   "cell_type": "code",
   "execution_count": 57,
   "id": "07317225-9610-4aa4-a7f1-11a464d66195",
   "metadata": {},
   "outputs": [
    {
     "ename": "ModuleNotFoundError",
     "evalue": "No module named 'nebula_llm'",
     "output_type": "error",
     "traceback": [
      "\u001b[0;31m---------------------------------------------------------------------------\u001b[0m",
      "\u001b[0;31mModuleNotFoundError\u001b[0m                       Traceback (most recent call last)",
      "Cell \u001b[0;32mIn[57], line 1\u001b[0m\n\u001b[0;32m----> 1\u001b[0m \u001b[38;5;28;01mfrom\u001b[39;00m \u001b[38;5;21;01mnebula_llm\u001b[39;00m\u001b[38;5;21;01m.\u001b[39;00m\u001b[38;5;21;01mstores\u001b[39;00m \u001b[38;5;28;01mimport\u001b[39;00m (\n\u001b[1;32m      2\u001b[0m     KnowledgeGraphStore,\n\u001b[1;32m      3\u001b[0m     NebulaGraphStore,\n\u001b[1;32m      4\u001b[0m     LlamaIndexVectorStore,\n\u001b[1;32m      5\u001b[0m )\n\u001b[1;32m      6\u001b[0m \u001b[38;5;28;01mfrom\u001b[39;00m \u001b[38;5;21;01mnebula_llm\u001b[39;00m\u001b[38;5;21;01m.\u001b[39;00m\u001b[38;5;21;01memb_models\u001b[39;00m \u001b[38;5;28;01mimport\u001b[39;00m SimpleOpenAIEmbModel\n\u001b[1;32m      7\u001b[0m \u001b[38;5;28;01mfrom\u001b[39;00m \u001b[38;5;21;01mllama_index\u001b[39;00m\u001b[38;5;21;01m.\u001b[39;00m\u001b[38;5;21;01mvector_stores\u001b[39;00m\u001b[38;5;21;01m.\u001b[39;00m\u001b[38;5;21;01mmilvus\u001b[39;00m \u001b[38;5;28;01mimport\u001b[39;00m MilvusVectorStore\n",
      "\u001b[0;31mModuleNotFoundError\u001b[0m: No module named 'nebula_llm'"
     ]
    }
   ],
   "source": [
    "from nebula_llm.stores import (\n",
    "    KnowledgeGraphStore,\n",
    "    NebulaGraphStore,\n",
    "    LlamaIndexVectorStore,\n",
    ")\n",
    "from nebula_llm.emb_models import SimpleOpenAIEmbModel\n",
    "from llama_index.vector_stores.milvus import MilvusVectorStore\n",
    "from llama_index.core.vector_stores.simple import SimpleVectorStore\n",
    "from llama_index.core.base.llms.types import ChatMessage, MessageRole\n",
    "from dotenv import load_dotenv\n",
    "import os\n",
    "\n",
    "# Set up NebulaGraph environment variables\n",
    "\n",
    "# load_dotenv()\n",
    "\n",
    "# Or set up NebulaGraph environment variables manually\n",
    "os.environ[\"NEBULA_USER\"] = \"root\"\n",
    "os.environ[\"NEBULA_PASSWORD\"] = \"nebula\"\n",
    "os.environ[\"NEBULA_ADDRESS\"] = \"localhost:9669\"\n",
    "\n",
    "graph_store = NebulaGraphStore(space=\"ms_paper\")"
   ]
  },
  {
   "cell_type": "code",
   "execution_count": 3,
   "id": "6397dc72-05ce-4345-949f-f16ba1a718ba",
   "metadata": {},
   "outputs": [
    {
     "data": {
      "text/plain": [
       "{'Name': ['ACTIVITY',\n",
       "  'ATTRIBUTE',\n",
       "  'CONCEPT',\n",
       "  'EVENT',\n",
       "  'EXTRATERRESTRIAL_COMMUNICATION',\n",
       "  'FACILITY',\n",
       "  'GEO',\n",
       "  'MISCELLANEOUS',\n",
       "  'OBJECT',\n",
       "  'ORGANIZATION',\n",
       "  'PERSON',\n",
       "  'PHENOMENON',\n",
       "  'PLACE',\n",
       "  'PROJECT',\n",
       "  'ROLE',\n",
       "  'SKILL',\n",
       "  'STRATEGY',\n",
       "  'TASK',\n",
       "  'TRAIT',\n",
       "  '__Chunk',\n",
       "  '__Community',\n",
       "  '__Entity',\n",
       "  '__Finding']}"
      ]
     },
     "execution_count": 3,
     "metadata": {},
     "output_type": "execute_result"
    }
   ],
   "source": [
    "# We could `query()` with graph store like:\n",
    "\n",
    "graph_store.query(\"SHOW TAGS\")"
   ]
  },
  {
   "cell_type": "markdown",
   "id": "6328f6c6-8bbe-4920-ac1b-9443aae11963",
   "metadata": {},
   "source": [
    "### Embedding Model"
   ]
  },
  {
   "cell_type": "code",
   "execution_count": 4,
   "id": "288653c1-f849-4031-91bd-fc93270a85dd",
   "metadata": {},
   "outputs": [],
   "source": [
    "emb_model = SimpleOpenAIEmbModel(\n",
    "    api_base=\"http://127.0.0.1:8000\",\n",
    "    api_key=\"DUMMY\",\n",
    "    model_name=\"intfloat/multilingual-e5-large\",\n",
    ")"
   ]
  },
  {
   "cell_type": "code",
   "execution_count": 3,
   "id": "88ddbf32-f7bd-4ab7-b94d-b875fbe1fe7a",
   "metadata": {},
   "outputs": [
    {
     "name": "stdout",
     "output_type": "stream",
     "text": [
      "dim of emb model is: 1024\n"
     ]
    }
   ],
   "source": [
    "dim = len(emb_model.embed(\"Apple Inc\"))\n",
    "print(f\"dim of emb model is: {dim}\")"
   ]
  },
  {
   "cell_type": "markdown",
   "id": "e3a4cedd-36e8-4bde-8f3f-85af6f06acb0",
   "metadata": {},
   "source": [
    "### Vector Store\n",
    "\n",
    "Nebula GenAI Suite supports all Vector Stores, in this demo, we are using an in-memory Vector Store, in production, those like milvus, pinecone, etc are all supported.\n",
    "\n",
    "Example:\n",
    "\n",
    "```python\n",
    "milvus_vec_store = LlamaIndexVectorStore(\n",
    "    store=MilvusVectorStore(\n",
    "        collection_name=\"genshin\",\n",
    "        dim=len(emb_model.embed(\"hello NebulaGraph\")),\n",
    "        uri=os.environ.get(\"MILVUS_URI\", \"http://localhost:19530\"),  # Milvus URI\n",
    "        token=os.environ.get(\"MILVUS_TOKEN\", \"\"),  # Milvus token\n",
    "    ),\n",
    "    emb_model=emb_model,\n",
    ")\n",
    "```"
   ]
  },
  {
   "cell_type": "code",
   "execution_count": 5,
   "id": "394471d6-ec32-40be-aea7-ddac8aed52c1",
   "metadata": {},
   "outputs": [],
   "source": [
    "vec_store = LlamaIndexVectorStore(\n",
    "    store=SimpleVectorStore(),\n",
    "    emb_model=emb_model,\n",
    ")"
   ]
  },
  {
   "cell_type": "markdown",
   "id": "d61e6441-586b-4d9f-b075-e3c56b733faa",
   "metadata": {},
   "source": [
    "### Embedding graph nodes\n",
    "\n",
    "To semantically index all graph nodes we have for Graph RAG, Nebula GenAI Suite enables templating per graph node TAG.\n",
    "\n",
    "First, we could define how to generate the semantic string for each TAG:"
   ]
  },
  {
   "cell_type": "code",
   "execution_count": 6,
   "id": "b02863df-80ea-408d-8f64-6a5e8185b025",
   "metadata": {},
   "outputs": [],
   "source": [
    "from nebula_llm.stores.spec import SchemaSelection\n",
    "\n",
    "schema_selection = SchemaSelection(\n",
    "    tag_sementic_str_templates={\n",
    "        \"__Entity\": \"A {{ type }} named {{ name }}. \\n\\n{{ description }} \\n\\nEntity ID: {{ human_readable_id }}\",\n",
    "        # For all actual entities, we don't embed them\n",
    "        \"PERSON\": \"\",\n",
    "        \"ORGANIZATION\": \"\",\n",
    "        \"EVENT\": \"\",\n",
    "        \"EXTRATERRESTRIAL_COMMUNICATION\": \"\",\n",
    "        \"CONCEPT\": \"\",\n",
    "        \"MISCELLANEOUS\": \"\",\n",
    "        \"OBJECT\": \"\",\n",
    "        \"GEO\": \"\",\n",
    "        \"TASK\": \"\",\n",
    "        \"FACILITY\": \"\",\n",
    "        \"ATTRIBUTE\": \"\",\n",
    "        \"STRATEGY\": \"\",\n",
    "        \"ROLE\": \"\",\n",
    "        \"PROJECT\": \"\",\n",
    "        \"ACTIVITY\": \"\",\n",
    "        \"PLACE\": \"\",\n",
    "        \"SKILL\": \"\",\n",
    "        \"TRAIT\": \"\",\n",
    "        \"PHENOMENON\": \"\",\n",
    "        # other Meta Tags\n",
    "        \"__Chunk\": \"{{ text }}\",\n",
    "        \"__Community\": \"{{ summary }}\",\n",
    "        \"__Finding\": \"{{ summary }}\",\n",
    "        # docs, we didn't take docs into account in this demo\n",
    "        # \"__Document\": \"{{ text }}\",\n",
    "    }\n",
    ")\n",
    "\n",
    "kg = KnowledgeGraphStore(\n",
    "    nebula_store=graph_store,\n",
    "    vec_store=vec_store,\n",
    "    schema_selection=schema_selection,  # Without this, all nodes with all Properties will be vector indexed\n",
    ")"
   ]
  },
  {
   "cell_type": "markdown",
   "id": "da9cc494",
   "metadata": {},
   "source": [
    "Then we'll call `kg.emb_graph()` to generate the vector embeddings for all nodes in the graph."
   ]
  },
  {
   "cell_type": "code",
   "execution_count": 7,
   "id": "feb30f73",
   "metadata": {},
   "outputs": [],
   "source": [
    "kg.emb_graph()"
   ]
  },
  {
   "cell_type": "markdown",
   "id": "d6fd6c63-404c-42f5-96de-23e3319335c9",
   "metadata": {},
   "source": [
    "With the semantic vector index, we could semanticly retrieve entities with `retrieve_semantic()`, which is underlying used in almost all GraphRAG retrievers:"
   ]
  },
  {
   "cell_type": "code",
   "execution_count": 10,
   "id": "83045341-076d-4004-ac0e-f455d2f32392",
   "metadata": {},
   "outputs": [
    {
     "data": {
      "text/plain": [
       "[VertexObject(tags=[TagObject(id='finding_3_3', label='__Finding', properties={'explanation': \"The Paranormal Military Squad is a specialized unit with a mandate to engage in activities related to the paranormal. Their involvement in Operation: Dulce indicates the mission's extraordinary nature and the need for specialized knowledge and skills. The squad's operations within the Dulce Military Base highlight the base's role as a strategic and secure location for conducting sensitive missions [Data: Relationships (39, 45)].\", 'summary': \"The Paranormal Military Squad's expertise\", 'id': None})]),\n",
       " VertexObject(tags=[TagObject(id='finding_0_0', label='__Finding', properties={'explanation': \"The Paranormal Military Squad Team at Dulce Base has undergone a mission transformation from mere observation to active engagement and preparation for communal outreach beyond the stars [Data: Claims (46)]. This shift indicates a proactive approach in establishing humanity's presence in the interstellar narrative [Data: Claims (58, 59)]. The team's engagement in extraterrestrial communication is a historic effort that could mark the beginning of a new era in human-alien relations [Data: Claims (83)]. Their role as humanity's vanguard on the brink of intergalactic exploration underscores the significance of their work [Data: Claims (88)].\", 'summary': \"The Paranormal Military Squad Team's evolving mission\", 'id': None})]),\n",
       " VertexObject(tags=[TagObject(id='finding_2_1', label='__Finding', properties={'explanation': 'The Paranormal Military Squad operates out of Dulce Base, conducting covert missions related to extraterrestrial activity. The secrecy surrounding these operations suggests a high level of importance and sensitivity, with potential national and global security implications [Data: Entities (162); Relationships (46, 47)].', 'summary': 'Covert operations and the role of the Paranormal Military Squad', 'id': None})])]"
      ]
     },
     "execution_count": 10,
     "metadata": {},
     "output_type": "execute_result"
    }
   ],
   "source": [
    "kg.retrieve_semantic(\"超自然军事小队\", max_results=3)"
   ]
  },
  {
   "cell_type": "markdown",
   "id": "8ab6a560",
   "metadata": {},
   "source": [
    "## Graph Search\n",
    "\n",
    "The Global Search is the task we have to in theory perform in-context learning over all the RAG-indexed Knowledge like: `What are the most odd topics they talked about in all podcast episodes`.\n",
    "\n",
    "The hierarchy Graph shape index with Community Summary here works as a mind-graph-like note we could look up to/go through, where each node in the mind-map is summaries not done via chunking but how knowledge items are connected(Graph Community Detection), a global-context aware, connection-oriented smart way of summarization.\n",
    "\n",
    "This \"mind graph\" enables efficient yet high-quality global questions answering\n",
    "\n",
    "ref: https://microsoft.github.io/graphrag/posts/query/0-global_search/\n",
    "\n",
    "The way to implement Global Search from MS Paper was to:\n",
    "\n",
    "**MAP**: Walk through all communities' summaries on a given task, and ask LLM to generate partial answers with a score of importance.\n",
    "\n",
    "**REDUCE**: Generate questions and overall partial answers ranked by the scoring.\n",
    "\n",
    "Below is the code to fetch those prompts and inspect the slot/variables of the prompt:"
   ]
  },
  {
   "cell_type": "code",
   "execution_count": 16,
   "id": "7b87c302",
   "metadata": {},
   "outputs": [
    {
     "name": "stdout",
     "output_type": "stream",
     "text": [
      "Format variables in MAP_SYSTEM_PROMPT:\n",
      "- context_data\n",
      "Format variables in REDUCE_SYSTEM_PROMPT:\n",
      "- response_type\n",
      "- report_data\n"
     ]
    }
   ],
   "source": [
    "import requests\n",
    "import re\n",
    "\n",
    "# Fetch MAP and REDUCE prompts\n",
    "map_prompt_url = \"https://raw.githubusercontent.com/microsoft/graphrag/main/graphrag/query/structured_search/global_search/map_system_prompt.py\"\n",
    "reduce_prompt_url = \"https://raw.githubusercontent.com/microsoft/graphrag/main/graphrag/query/structured_search/global_search/reduce_system_prompt.py\"\n",
    "map_response = requests.get(map_prompt_url)\n",
    "map_system_prompt_dot_py = map_response.text\n",
    "reduce_response = requests.get(reduce_prompt_url)\n",
    "reduce_system_prompt_dot_py = reduce_response.text\n",
    "\n",
    "MAP_SYSTEM_PROMPT: str\n",
    "REDUCE_SYSTEM_PROMPT: str\n",
    "\n",
    "# Evaluate fetched prompt define py code\n",
    "exec(map_system_prompt_dot_py)\n",
    "exec(reduce_system_prompt_dot_py)\n",
    "\n",
    "# Find all format variables in MAP_SYSTEM_PROMPT\n",
    "format_vars = re.findall(r\"\\{(\\w+)\\}\", MAP_SYSTEM_PROMPT)\n",
    "\n",
    "# Print unique format variable names\n",
    "unique_vars = set(format_vars)\n",
    "print(\"Format variables in MAP_SYSTEM_PROMPT:\")\n",
    "for var in unique_vars:\n",
    "    print(f\"- {var}\")\n",
    "\n",
    "# Find all format variables in REDUCE_SYSTEM_PROMPT\n",
    "format_vars = re.findall(r\"\\{(\\w+)\\}\", REDUCE_SYSTEM_PROMPT)\n",
    "# Print unique format variable names\n",
    "unique_vars = set(format_vars)\n",
    "print(\"Format variables in REDUCE_SYSTEM_PROMPT:\")\n",
    "for var in unique_vars:\n",
    "    print(f\"- {var}\")"
   ]
  },
  {
   "cell_type": "markdown",
   "id": "95043587-5db3-43af-8604-824217de5dc9",
   "metadata": {},
   "source": [
    "**We could see:**\n",
    "\n",
    "Format variables in MAP_SYSTEM_PROMPT:\n",
    "- context_data\n",
    "\n",
    "Format variables in REDUCE_SYSTEM_PROMPT:\n",
    "- response_type\n",
    "- report_data\n",
    "\n",
    "Where, from [how those prompt templates were filed](https://github.com/microsoft/graphrag/blob/main/graphrag/query/structured_search/global_search/search.py), we could see the `response_type` was by default the `multiple paragraphs`\n",
    "\n",
    "And `context_data` is Community Summary, `report_data` are all MAP-ed partial answers combined."
   ]
  },
  {
   "cell_type": "markdown",
   "id": "591c46ab-a434-44cc-825f-be47d848fa13",
   "metadata": {},
   "source": [
    "For the MAP step, we could fetch all community summaries, or only filter some levels the communities.\n",
    "\n",
    "> Get all communities\n",
    "\n",
    "```cipher\n",
    "MATCH (comm:`__Community`)\n",
    "RETURN properties(comm).summary AS Summary\n",
    "```\n",
    "\n",
    "> Get with level 0 and 3\n",
    "\n",
    "\n",
    "```cypher\n",
    "MATCH (comm:`__Community`)\n",
    "    WHERE comm.`__Community`.`level` IN [0, 3]\n",
    "RETURN properties(comm).summary AS Summary\n",
    "```\n",
    "\n",
    "Let's see that we could easily retrieve them with such query:"
   ]
  },
  {
   "cell_type": "code",
   "execution_count": 54,
   "id": "30decb6e-3f38-4e60-bef7-9feba633951d",
   "metadata": {},
   "outputs": [
    {
     "data": {
      "text/plain": [
       "['Dulce Base serves as the operational hub for the Paranormal Military Squad Team, which includes key members such as Dr. Jordan Hayes and Agent Alex Mercer. The team is dedicated to analyzing extraterrestrial patterns and preparing for extraterrestrial contact, with a focus on deciphering alien code and interpreting first contact data.',\n",
       " 'This report focuses on Operation: Dulce, a secretive mission by the Paranormal Military Squad at the Dulce Military Base in New Mexico, aimed at establishing contact with extraterrestrial intelligence. The operation is characterized by its high level of secrecy and involves key team members Alex Mercer, Sam Rivera, Taylor Cruz, and Jordan Hayes.']"
      ]
     },
     "execution_count": 54,
     "metadata": {},
     "output_type": "execute_result"
    }
   ],
   "source": [
    "COMMNITY_QUERY = \"\"\"\n",
    "MATCH (comm:`__Community`)\n",
    "    WHERE comm.`__Community`.`level` IN [0, 3]\n",
    "RETURN properties(comm).summary AS Summary\n",
    "\"\"\"\n",
    "\n",
    "graph_store.query(COMMNITY_QUERY).get(\"Summary\")[:2]"
   ]
  },
  {
   "cell_type": "markdown",
   "id": "59963586-88cd-4ad8-b912-11a96aa1b230",
   "metadata": {},
   "source": [
    "### Implementation"
   ]
  },
  {
   "cell_type": "markdown",
   "id": "aedf2ae7",
   "metadata": {},
   "source": [
    "#### LLM\n",
    "\n",
    "Before we implement the Map calls and Reduce calls, let's prepare for the LLM calling code."
   ]
  },
  {
   "cell_type": "code",
   "execution_count": 8,
   "id": "c95215df-51ae-4a97-b6a0-e9e1249cbef7",
   "metadata": {},
   "outputs": [],
   "source": [
    "from llama_index.core.base.llms.types import ChatMessage, MessageRole\n",
    "from llama_index.core.llms.llm import LLM\n",
    "from nebula_llm.llms.openai import OpenAILLM\n",
    "\n",
    "llm = OpenAILLM(\n",
    "    # model=\"mixtral:8x7b-instruct-v0.1-q8_0\",\n",
    "    # model=\"qwen2:72b\",\n",
    "    model=\"gpt-4o\",\n",
    "    api_base=\"http://127.0.0.1:4000\",\n",
    "    api_key=\"sk-siwei-and-yanli-having-fun\",\n",
    ")\n",
    "\n",
    "chat_lm = llm.llama_index_llm"
   ]
  },
  {
   "cell_type": "markdown",
   "id": "61cbffeb",
   "metadata": {},
   "source": [
    "#### MAP LLM call"
   ]
  },
  {
   "cell_type": "code",
   "execution_count": 9,
   "id": "fc5f1a59",
   "metadata": {},
   "outputs": [],
   "source": [
    "def global_search_map_call(llm: LLM, context_data: str, question) -> str:\n",
    "    messages: list[ChatMessage] = [\n",
    "        ChatMessage(\n",
    "            role=MessageRole.SYSTEM,\n",
    "            content=MAP_SYSTEM_PROMPT.format(\n",
    "                context_data=context_data,\n",
    "            ),\n",
    "        ),\n",
    "        ChatMessage(\n",
    "            role=MessageRole.USER,\n",
    "            content=question,\n",
    "        ),\n",
    "    ]\n",
    "    response = llm.chat(messages)\n",
    "    return response.message.content"
   ]
  },
  {
   "cell_type": "markdown",
   "id": "4457cff6",
   "metadata": {},
   "source": [
    "#### Reduce LLM call"
   ]
  },
  {
   "cell_type": "code",
   "execution_count": 10,
   "id": "44d7e330",
   "metadata": {},
   "outputs": [],
   "source": [
    "def global_search_reduce_call(\n",
    "    llm: LLM, report_data: str, question, response_type: str = \"multiple paragraphs\"\n",
    "):\n",
    "    messages: list[ChatMessage] = [\n",
    "        ChatMessage(\n",
    "            role=MessageRole.SYSTEM,\n",
    "            content=REDUCE_SYSTEM_PROMPT.format(\n",
    "                response_type=response_type,\n",
    "                report_data=report_data,\n",
    "            ),\n",
    "        ),\n",
    "        ChatMessage(\n",
    "            role=MessageRole.USER,\n",
    "            content=question,\n",
    "        ),\n",
    "    ]\n",
    "    response = llm.chat(messages)\n",
    "    return response.message.content"
   ]
  },
  {
   "cell_type": "markdown",
   "id": "7181cfd6",
   "metadata": {},
   "source": [
    "#### Global Search Retriever"
   ]
  },
  {
   "cell_type": "code",
   "execution_count": 11,
   "id": "b1ffcf3f",
   "metadata": {},
   "outputs": [],
   "source": [
    "def global_search_query_engine(llm: LLM, question):\n",
    "    map_answers = []\n",
    "    # We didn't filter level here, but we could do so.\n",
    "    COMMNITY_QUERY = (\n",
    "        \"MATCH (comm:`__Community`) RETURN properties(comm).summary AS Summary\"\n",
    "    )\n",
    "\n",
    "    for commnity in graph_store.query(COMMNITY_QUERY).get(\"Summary\"):\n",
    "        map_answers.append(\n",
    "            global_search_map_call(llm, context_data=commnity, question=question)\n",
    "        )\n",
    "    reduce_answers = global_search_reduce_call(\n",
    "        llm, report_data=\"\\n\".join(map_answers), question=question\n",
    "    )\n",
    "    return reduce_answers"
   ]
  },
  {
   "cell_type": "markdown",
   "id": "d3ba130c-9abe-4d79-a01e-d9f471d658ce",
   "metadata": {},
   "source": [
    "### Try Global Search"
   ]
  },
  {
   "cell_type": "code",
   "execution_count": 58,
   "id": "88a2e0ab-73e1-4e76-b6f8-8f8c9d1e85b6",
   "metadata": {},
   "outputs": [
    {
     "name": "stdout",
     "output_type": "stream",
     "text": [
      "### Major Conflict\n",
      "\n",
      "The central conflict in the story revolves around the Paranormal Military Squad Team's efforts to analyze and establish communication with extraterrestrial intelligence. This mission is conducted at the highly secretive Dulce Military Base and involves deciphering alien codes, interpreting first contact data, and managing the potential risks associated with extraterrestrial engagement [Data: Reports (1, 2, 3, 4, 5, Operation: Dulce)].\n",
      "\n",
      "### Protagonists\n",
      "\n",
      "The protagonists are key members of the Paranormal Military Squad Team, specifically Dr. Jordan Hayes, Agent Alex Mercer, Sam Rivera, and Taylor Cruz. These individuals are dedicated to the mission of understanding and preparing for extraterrestrial contact, playing pivotal roles in the operations at Dulce Base [Data: Reports (1, 2, 3, 4, 5, Operation: Dulce)].\n",
      "\n",
      "### Antagonists\n",
      "\n",
      "The antagonists are implied to be the extraterrestrial entities whose patterns and codes the team is trying to decipher. The conflict arises from the unknown nature and potential threat of these extraterrestrial beings, as well as the inherent risks and challenges associated with the mission [Data: Reports (1, 2, 3, 4, 5, Operation: Dulce)].\n",
      "\n",
      "In summary, the story's major conflict centers on the Paranormal Military Squad's covert operations to establish contact with extraterrestrial intelligence, with the protagonists being the dedicated team members and the antagonists being the mysterious and potentially threatening extraterrestrial entities.\n"
     ]
    }
   ],
   "source": [
    "result = global_search_query_engine(\n",
    "    llm=chat_lm,\n",
    "    question=\"What is the major conflict in this story and who are the protagonist and antagonist?\",\n",
    ")\n",
    "\n",
    "\n",
    "print(result)"
   ]
  },
  {
   "cell_type": "markdown",
   "id": "5cc0cb51-d4e3-44c8-94b0-c28ea8be3f9a",
   "metadata": {},
   "source": [
    "## Local Search\n",
    "\n",
    "We didn't have to 100% reproduce what MS Paper proposed for Local Search, instead, we are leveraging NebulaGraph GraphRAG implementation to perform `Local Search`:\n",
    "\n",
    "First, let's prepare for LLM, too"
   ]
  },
  {
   "cell_type": "code",
   "execution_count": 12,
   "id": "d5bb521c-4fc3-4ffb-adff-ec563b491598",
   "metadata": {},
   "outputs": [],
   "source": [
    "from nebula_llm.query_engine.subgraph_engine import (\n",
    "    SubgraphEngine,  # Purely Retrival\n",
    "    SubgraphSimpleQAEngine,  # QA\n",
    ")\n",
    "\n",
    "from nebula_llm.llms.openai import OpenAILLM\n",
    "\n",
    "llm = OpenAILLM(\n",
    "    # model=\"mixtral:8x7b-instruct-v0.1-q8_0\",\n",
    "    # model=\"qwen2:72b\",\n",
    "    model=\"gpt-4o\",\n",
    "    api_base=\"http://127.0.0.1:4000\",\n",
    "    api_key=\"sk-siwei-and-yanli-having-fun\",\n",
    ")"
   ]
  },
  {
   "cell_type": "markdown",
   "id": "255badab-ca56-42d6-b267-d9c5972f5591",
   "metadata": {},
   "source": [
    "### SubGraph RAG Retrival"
   ]
  },
  {
   "cell_type": "markdown",
   "id": "8a2af0b2-6ffd-49d4-84c4-a15a7a551eec",
   "metadata": {},
   "source": [
    "We use the SubGraph RAG query engine with both R and G(QA Style) for quickly see a QA task."
   ]
  },
  {
   "cell_type": "code",
   "execution_count": 64,
   "id": "d9dec778-4de7-4fb2-8870-802e1eb6c761",
   "metadata": {},
   "outputs": [],
   "source": [
    "# QA style query\n",
    "engine = SubgraphSimpleQAEngine(\n",
    "    llm=llm,\n",
    "    graph=kg,\n",
    "    # verbose=True,\n",
    ")\n",
    "res = engine.query(\"Jordan Hayes 做了什么事情?\")"
   ]
  },
  {
   "cell_type": "code",
   "execution_count": 65,
   "id": "906261ed-6e4f-43d8-a32e-6bf70bd2ec33",
   "metadata": {},
   "outputs": [
    {
     "data": {
      "text/plain": [
       "'Jordan Hayes 在外星信号解密和分析方面发挥了关键作用。他是超自然军事小队的核心人物，领导团队解密和解释外星信号。Hayes 的分析和怀疑性格确保了团队在通信工作中的方法论。他与 Alex Mercer 的合作以及对彼此专业知识的相互尊重，表明团队依赖 Hayes 的技能来解密和分析外星信息。此外，Hayes 专注于隔离信号谐波和解密外星信息，其解密算法和分析的专业知识对任务至关重要。'"
      ]
     },
     "execution_count": 65,
     "metadata": {},
     "output_type": "execute_result"
    }
   ],
   "source": [
    "res.answer"
   ]
  },
  {
   "cell_type": "markdown",
   "id": "db633e60-ea53-43aa-a2e8-d92db5c3b7c8",
   "metadata": {},
   "source": [
    "We could see with such graph shape knowledge being queried with SubGraph RAG, simple knowledge questions could be answered well."
   ]
  },
  {
   "cell_type": "markdown",
   "id": "742ad390-d646-403e-82aa-580c03ef199e",
   "metadata": {},
   "source": [
    "### Graph Reasoning\n",
    "\n",
    "While, complex tasks cannot be performed well with such approaches, let's see this question."
   ]
  },
  {
   "cell_type": "code",
   "execution_count": 10,
   "id": "108fdfaa-8789-4b96-8ced-07a0b82d0bd7",
   "metadata": {},
   "outputs": [],
   "source": [
    "engine = SubgraphSimpleQAEngine(\n",
    "    llm=llm,\n",
    "    graph=kg,\n",
    ")\n",
    "res = engine.query(\"Alex Mercer 在面对“Dulce行动”任务时表现出了怎样的情感？他对任务的态度有何变化？\")"
   ]
  },
  {
   "cell_type": "code",
   "execution_count": 11,
   "id": "926dccaa-a8c2-41a3-852f-d216737f9689",
   "metadata": {},
   "outputs": [
    {
     "name": "stdout",
     "output_type": "stream",
     "text": [
      "Alex Mercer在面对“Dulce行动”任务时表现出了领导和外交的情感。他的态度始终保持着外交和战略规划的平衡，专注于与外星智慧建立联系。Mercer在任务中展现出指导和协作的精神，尽管任务的复杂性和潜在的风险很高，他的态度并没有明显的变化，始终保持着冷静和专业。\n"
     ]
    }
   ],
   "source": [
    "print(res.answer)"
   ]
  },
  {
   "cell_type": "markdown",
   "id": "d3c61680-1dbc-4d8f-b7f3-198d7a54fcf6",
   "metadata": {},
   "source": [
    "We don't have confidence that a normal static local search approach can answer such questions,(instead, the global search would do but it's too expensive actually)\n",
    "\n",
    "While, we could leverage the more-advanced Graph Reasoning based retrival approach as the Graph RAG retrieval strategy that balance the cost and comprehensiveness/flexibility: **Chain of Exploration**"
   ]
  },
  {
   "cell_type": "code",
   "execution_count": 14,
   "id": "d20b70ff-3d94-4db2-9d82-1596c8ec22da",
   "metadata": {},
   "outputs": [],
   "source": [
    "from nebula_llm.knowledge_accessers.chain_of_exploration import ChainOfExplorationHelper\n",
    "\n",
    "# Graph Reason\n",
    "coe = ChainOfExplorationHelper(\n",
    "    llm=llm,\n",
    "    graph=kg,\n",
    ")"
   ]
  },
  {
   "cell_type": "code",
   "execution_count": 29,
   "id": "dbf71ddd-5e81-4403-bdf8-1109de89d93e",
   "metadata": {},
   "outputs": [
    {
     "name": "stdout",
     "output_type": "stream",
     "text": [
      "在面对“Dulce行动”任务时表现出了一种混合的情感，既有担忧也有期待。这反映了他对任务的重视和对未知的谨慎态度。他的态度随着任务的进展而变化，从最初的谨慎和战略性思考，到逐渐展现出对团队成功的信心和对与外星智慧交流的期待。\n"
     ]
    }
   ],
   "source": [
    "coe_res = coe.answer(\"Alex Mercer 在面对“Dulce行动”任务时表现出了怎样的情感？他对任务的态度有何变化？\")\n",
    "print(coe_res.get(\"answer\"))"
   ]
  },
  {
   "cell_type": "markdown",
   "id": "872ebd8e-4ed7-4943-a25b-7ccb0d363208",
   "metadata": {},
   "source": [
    "--------------\n",
    "\n",
    "We asked GPT-4 with the full context of raw knowledge to judge the two results, from where, we could see the CoE approach would perform reasoning over graph based on task and schema and thus came with a slightly better answer:\n",
    "\n",
    "> 在这两个回答中，第一个回答更准确地反映了亚历克斯·默瑟（Alex Mercer）在《Operation: Dulce》任务中情感和态度的变化。\n",
    ">\n",
    "> 第一个回答提到了他在任务中的担忧和期待，并且指出了他态度的逐渐变化——从最初的谨慎和战略性思考，到逐渐展现出对任务成功的信心以及与外星智慧交流的期待。这种情感和态度的变化更符合文章中描绘的亚历克斯·默瑟在面对任务时的心理过程。\n",
    ">\n",
    "> 第二个回答虽然也正确地指出了亚历克斯·默瑟在任务中的领导和外交情感，但它忽略了他情感和态度随任务进展而产生的变化，只强调了他在任务中始终保持冷静和专业，这并未完全反映出文章中他的心理发展和对任务的态度变化。"
   ]
  },
  {
   "cell_type": "markdown",
   "id": "5fd41903-960c-4891-8ea2-33a293426667",
   "metadata": {},
   "source": [
    "## More questions to query"
   ]
  },
  {
   "cell_type": "markdown",
   "id": "da8fbba0-d4a3-4c74-80a9-a2e2a9b26238",
   "metadata": {},
   "source": [
    "----------\n",
    "\n",
    "Other question candidates:\n",
    "\n",
    "亚历克斯·默瑟（Alex Mercer）在面对“Dulce行动”任务时表现出了怎样的情感？他对任务的态度有何变化？\n",
    "\n",
    "乔丹·海耶斯博士（Dr. Jordan Hayes）在团队中的角色是什么？他是如何看待与外星智能的接触的？\n",
    "\n",
    "泰勒·克鲁兹（Taylor Cruz）如何对待任务中的未知因素？他对团队的建议体现了什么样的思维方式？\n",
    "\n",
    "团队是如何意识到他们正在与一种智能生命进行交流的？这个智能生命的表现有哪些特点？\n",
    "\n",
    "故事中提到的“音乐”或“节奏”象征着什么？它在与外星智能的交流中起到了什么作用？\n",
    "\n",
    "乔丹·海耶斯博士认为，团队在与外星智能交流时应该保持什么样的态度？这与泰勒·克鲁兹的观点有何不同？\n",
    "\n",
    "为什么团队成员认为这次任务已经超越了普通的军事任务？他们在面对这种情况时表现出了什么样的心理反应？\n",
    "\n",
    "萨姆·里维拉（Sam Rivera）在故事中表现出怎样的个性？他的乐观态度如何影响了团队的氛围？\n",
    "\n",
    "你认为故事中的外星智能对人类怀有善意、敌意还是中立？为什么？\n",
    "\n",
    "从整体来看，你认为这篇文章试图传达什么样的主题或信息？这与人类在宇宙中探索未知的过程中可能面临的挑战有何关系？\n",
    "\n",
    "----\n",
    "\n",
    "Let's try compare a global question performance over CoE and Global Result:"
   ]
  },
  {
   "cell_type": "code",
   "execution_count": 17,
   "id": "b980025d-4ea6-46d9-8520-3c171bef939f",
   "metadata": {},
   "outputs": [
    {
     "name": "stdout",
     "output_type": "stream",
     "text": [
      "Chain of exploration Local search\n",
      "\n",
      "这篇文章试图传达的主题是关于Dulce基地在解密外星信号和与外星智能交流方面的关键作用。文章强调了该基地在外星通信和研究中的重要性，以及其对全球安全和人类对宇宙理解的潜在影响。这与人类在宇宙中探索未知过程中可能面临的挑战密切相关，包括解读复杂的外星信息、处理高度机密的操作以及应对与外星智能接触带来的不确定性和风险。\n",
      "global search\n",
      "\n",
      "### 主题与信息\n",
      "\n",
      "这篇文章主要传达了人类在探索宇宙未知领域时所面临的挑战和努力。文章以Dulce基地为中心，描述了一个名为“超自然军事小队”的秘密任务，该任务旨在与外星智慧建立联系 [Data: Reports (1, 2, 3, 4, 5)]。Dulce基地位于新墨西哥州，是该小队的行动枢纽，专注于外星通信和研究 [Data: Reports (1, 2, 3, 4, 5)]。文章强调了人类对未知领域的探索和理解的渴望，以及在这一过程中所需的高度机密性和先进技术 [Data: Reports (1, 2, 3, 4, 5)]。\n",
      "\n",
      "### 关键人物与团队合作\n",
      "\n",
      "文章还突出了关键人物在这一任务中的重要性，如Dr. Jordan Hayes、Agent Alex Mercer、Sam Rivera和Taylor Cruz等，他们在解码外星信号和解释首次接触数据方面发挥了重要作用 [Data: Reports (1, 2, 3, 4, 5, +more)]。这些人物的专业技能和团队合作被认为是克服探索未知领域挑战的关键 [Data: Reports (1, 2, 3, 4, 5)]。\n",
      "\n",
      "### 挑战与不确定性\n",
      "\n",
      "探索外星智慧的过程充满了挑战和不确定性。文章提到，解码外星信号和建立通信是复杂且具有高度安全性和技术挑战的任务 [Data: Reports (1, 2, 3, 4, 5)]。此外，任务的高度机密性也反映了潜在的风险和需要保密的必要性 [Data: Reports (1, 2, 3, 4, 5)]。这些挑战不仅仅是技术上的，还包括如何在不确定的情况下进行谨慎而乐观的探索 [Data: Reports (1)]。\n",
      "\n",
      "### 人类探索的广泛意义\n",
      "\n",
      "文章还暗示了这一任务可能带来的广泛意义。与外星智慧的首次接触可能会极大地改变我们对宇宙的理解 [Data: Reports (1, 2, 3, 4, 5)]。这不仅是对未知领域的探索，更是对人类知识和技术的极大考验和推动 [Data: Reports (1, 2, 3, 4, 5)]。\n",
      "\n",
      "### 总结\n",
      "\n",
      "总体而言，这篇文章通过描述Dulce基地的秘密任务，探讨了人类在探索宇宙未知领域时所面临的多重挑战和努力。文章强调了专业技能、团队合作和高度机密性的重要性，同时也反映了人类对知识和理解的无尽追求 [Data: Reports (1, 2, 3, 4, 5, +more)]。\n"
     ]
    }
   ],
   "source": [
    "coe_res = coe.answer(\"从整体来看，你认为这篇文章试图传达什么样的主题或信息？这与人类在宇宙中探索未知的过程中可能面临的挑战有何关系？\")\n",
    "print(\"Chain of exploration Local search\\n\")\n",
    "print(coe_res.get(\"answer\"))\n",
    "\n",
    "global_result = global_search_query_engine(\n",
    "    llm=chat_lm,\n",
    "    question=\"从整体来看，你认为这篇文章试图传达什么样的主题或信息？这与人类在宇宙中探索未知的过程中可能面临的挑战有何关系？\",\n",
    ")\n",
    "print(\"global search\\n\")\n",
    "print(global_result)"
   ]
  },
  {
   "cell_type": "markdown",
   "id": "1c1acf9d-3858-495c-9129-f1f1929893b0",
   "metadata": {},
   "source": [
    "> 可以看到尽管 CoE 作为优秀的 Local Search 策略，仍然不如 Global Search 上的表现，但是至少有一个优化是可能提高 CoE 的 Global 问题的效果的：增加对全局上下文图数据 Schema 的解释，让规划时 LLM 更加理解 community, finding 意味着什么，这将是下一步在实现内置 Global Search 方法时候的工作。"
   ]
  },
  {
   "cell_type": "markdown",
   "id": "bf177ff5-d370-4c81-a1de-dce804a64c68",
   "metadata": {},
   "source": [
    "## Future Work\n",
    "\n",
    "- Make MS Paper a buildin indexing and query engine within GenAI Suite\n",
    "- Consider a CoE-like implementation with Global Search planning action\n"
   ]
  }
 ],
 "metadata": {
  "kernelspec": {
   "display_name": ".venv",
   "language": "python",
   "name": "python3"
  },
  "language_info": {
   "codemirror_mode": {
    "name": "ipython",
    "version": 3
   },
   "file_extension": ".py",
   "mimetype": "text/x-python",
   "name": "python",
   "nbconvert_exporter": "python",
   "pygments_lexer": "ipython3",
   "version": "3.12.7"
  }
 },
 "nbformat": 4,
 "nbformat_minor": 5
}
